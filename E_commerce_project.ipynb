{
 "cells": [
  {
   "cell_type": "code",
   "execution_count": 23,
   "id": "5b823971-71ee-49e3-9d24-c018d050892f",
   "metadata": {},
   "outputs": [],
   "source": [
    "#Import required libraries\n",
    "import pandas as pd\n",
    "import numpy as np\n",
    "import matplotlib.pyplot as plt\n",
    "import seaborn as sns"
   ]
  },
  {
   "cell_type": "markdown",
   "id": "a4b59a6a-40a4-401c-a308-02c9f15a2369",
   "metadata": {},
   "source": [
    "### Reading data into a dataframe named df, a copy is made later and saved as data. We will work on dataframe data leaving df untouched."
   ]
  },
  {
   "cell_type": "code",
   "execution_count": 4,
   "id": "48614f0d-5d4f-4949-913d-a21f3b59821e",
   "metadata": {},
   "outputs": [
    {
     "data": {
      "text/html": [
       "<div>\n",
       "<style scoped>\n",
       "    .dataframe tbody tr th:only-of-type {\n",
       "        vertical-align: middle;\n",
       "    }\n",
       "\n",
       "    .dataframe tbody tr th {\n",
       "        vertical-align: top;\n",
       "    }\n",
       "\n",
       "    .dataframe thead th {\n",
       "        text-align: right;\n",
       "    }\n",
       "</style>\n",
       "<table border=\"1\" class=\"dataframe\">\n",
       "  <thead>\n",
       "    <tr style=\"text-align: right;\">\n",
       "      <th></th>\n",
       "      <th>date_scraped</th>\n",
       "      <th>page_number</th>\n",
       "      <th>product_url</th>\n",
       "      <th>image</th>\n",
       "      <th>current_price</th>\n",
       "      <th>title</th>\n",
       "      <th>brand</th>\n",
       "      <th>original_price</th>\n",
       "      <th>discount</th>\n",
       "      <th>verified_ratings</th>\n",
       "      <th>rating_number</th>\n",
       "      <th>seller</th>\n",
       "      <th>main_category</th>\n",
       "    </tr>\n",
       "  </thead>\n",
       "  <tbody>\n",
       "    <tr>\n",
       "      <th>0</th>\n",
       "      <td>2025-09-14</td>\n",
       "      <td>1</td>\n",
       "      <td>https://www.jumia.co.ke/ailyons-fk-0301-stainl...</td>\n",
       "      <td>https://ke.jumia.is/unsafe/fit-in/300x300/filt...</td>\n",
       "      <td>KSh 499</td>\n",
       "      <td>AILYONS FK-0301 Stainless Steel 2.0L Electric ...</td>\n",
       "      <td>NaN</td>\n",
       "      <td>KSh 1,399</td>\n",
       "      <td>64%</td>\n",
       "      <td>(3867 verified ratings)</td>\n",
       "      <td>4.0</td>\n",
       "      <td>UR-HOME(KENYA)</td>\n",
       "      <td>Home &amp; Office</td>\n",
       "    </tr>\n",
       "    <tr>\n",
       "      <th>1</th>\n",
       "      <td>2025-09-14</td>\n",
       "      <td>1</td>\n",
       "      <td>https://www.jumia.co.ke/oking-ok310-1.7-wirele...</td>\n",
       "      <td>https://ke.jumia.is/unsafe/fit-in/300x300/filt...</td>\n",
       "      <td>KSh 719</td>\n",
       "      <td>Oking OK310 1.7\" Wireless FM, Bright Torch, 10...</td>\n",
       "      <td>NaN</td>\n",
       "      <td>KSh 1,200</td>\n",
       "      <td>40%</td>\n",
       "      <td>(557 verified ratings)</td>\n",
       "      <td>3.9</td>\n",
       "      <td>ITEL MOBILE SHOP-SUNMUM TECH LTD - AC</td>\n",
       "      <td>Phones &amp; Tablets</td>\n",
       "    </tr>\n",
       "    <tr>\n",
       "      <th>2</th>\n",
       "      <td>2025-09-14</td>\n",
       "      <td>1</td>\n",
       "      <td>https://www.jumia.co.ke/samsung-galaxy-a05-6.7...</td>\n",
       "      <td>https://ke.jumia.is/unsafe/fit-in/300x300/filt...</td>\n",
       "      <td>KSh 8,900</td>\n",
       "      <td>Samsung Galaxy A05, 6.7\", 64GB + 4GB RAM (Dual...</td>\n",
       "      <td>NaN</td>\n",
       "      <td>KSh 13,187</td>\n",
       "      <td>33%</td>\n",
       "      <td>(523 verified ratings)</td>\n",
       "      <td>4.1</td>\n",
       "      <td>LOFFEL ELECTRONICS LIMITED - AC</td>\n",
       "      <td>Phones &amp; Tablets</td>\n",
       "    </tr>\n",
       "    <tr>\n",
       "      <th>3</th>\n",
       "      <td>2025-09-14</td>\n",
       "      <td>1</td>\n",
       "      <td>https://www.jumia.co.ke/ailyons-afk-111-water-...</td>\n",
       "      <td>https://ke.jumia.is/unsafe/fit-in/300x300/filt...</td>\n",
       "      <td>KSh 2,599</td>\n",
       "      <td>AILYONS AFK-111 Water Dispenser Hot And Normal...</td>\n",
       "      <td>NaN</td>\n",
       "      <td>KSh 4,999</td>\n",
       "      <td>48%</td>\n",
       "      <td>(2092 verified ratings)</td>\n",
       "      <td>3.9</td>\n",
       "      <td>UR-HOME(KENYA)</td>\n",
       "      <td>Home &amp; Office</td>\n",
       "    </tr>\n",
       "    <tr>\n",
       "      <th>4</th>\n",
       "      <td>2025-09-14</td>\n",
       "      <td>1</td>\n",
       "      <td>https://www.jumia.co.ke/fashion-couple-canvas-...</td>\n",
       "      <td>https://ke.jumia.is/unsafe/fit-in/300x300/filt...</td>\n",
       "      <td>KSh 699 - KSh 729</td>\n",
       "      <td>Couple Canvas Low Top Lace-up Shoes Classic Ca...</td>\n",
       "      <td>NaN</td>\n",
       "      <td>KSh 1,200 - KSh 1,500</td>\n",
       "      <td>53%</td>\n",
       "      <td>(734 verified ratings)</td>\n",
       "      <td>4.2</td>\n",
       "      <td>Waanzilish</td>\n",
       "      <td>Fashion</td>\n",
       "    </tr>\n",
       "  </tbody>\n",
       "</table>\n",
       "</div>"
      ],
      "text/plain": [
       "  date_scraped  page_number  \\\n",
       "0   2025-09-14            1   \n",
       "1   2025-09-14            1   \n",
       "2   2025-09-14            1   \n",
       "3   2025-09-14            1   \n",
       "4   2025-09-14            1   \n",
       "\n",
       "                                         product_url  \\\n",
       "0  https://www.jumia.co.ke/ailyons-fk-0301-stainl...   \n",
       "1  https://www.jumia.co.ke/oking-ok310-1.7-wirele...   \n",
       "2  https://www.jumia.co.ke/samsung-galaxy-a05-6.7...   \n",
       "3  https://www.jumia.co.ke/ailyons-afk-111-water-...   \n",
       "4  https://www.jumia.co.ke/fashion-couple-canvas-...   \n",
       "\n",
       "                                               image      current_price  \\\n",
       "0  https://ke.jumia.is/unsafe/fit-in/300x300/filt...            KSh 499   \n",
       "1  https://ke.jumia.is/unsafe/fit-in/300x300/filt...            KSh 719   \n",
       "2  https://ke.jumia.is/unsafe/fit-in/300x300/filt...          KSh 8,900   \n",
       "3  https://ke.jumia.is/unsafe/fit-in/300x300/filt...          KSh 2,599   \n",
       "4  https://ke.jumia.is/unsafe/fit-in/300x300/filt...  KSh 699 - KSh 729   \n",
       "\n",
       "                                               title  brand  \\\n",
       "0  AILYONS FK-0301 Stainless Steel 2.0L Electric ...    NaN   \n",
       "1  Oking OK310 1.7\" Wireless FM, Bright Torch, 10...    NaN   \n",
       "2  Samsung Galaxy A05, 6.7\", 64GB + 4GB RAM (Dual...    NaN   \n",
       "3  AILYONS AFK-111 Water Dispenser Hot And Normal...    NaN   \n",
       "4  Couple Canvas Low Top Lace-up Shoes Classic Ca...    NaN   \n",
       "\n",
       "          original_price discount         verified_ratings  rating_number  \\\n",
       "0              KSh 1,399      64%  (3867 verified ratings)            4.0   \n",
       "1              KSh 1,200      40%   (557 verified ratings)            3.9   \n",
       "2             KSh 13,187      33%   (523 verified ratings)            4.1   \n",
       "3              KSh 4,999      48%  (2092 verified ratings)            3.9   \n",
       "4  KSh 1,200 - KSh 1,500      53%   (734 verified ratings)            4.2   \n",
       "\n",
       "                                  seller     main_category  \n",
       "0                         UR-HOME(KENYA)     Home & Office  \n",
       "1  ITEL MOBILE SHOP-SUNMUM TECH LTD - AC  Phones & Tablets  \n",
       "2        LOFFEL ELECTRONICS LIMITED - AC  Phones & Tablets  \n",
       "3                         UR-HOME(KENYA)     Home & Office  \n",
       "4                             Waanzilish           Fashion  "
      ]
     },
     "execution_count": 4,
     "metadata": {},
     "output_type": "execute_result"
    }
   ],
   "source": [
    "#Read the data and save it in a dataframe called df\n",
    "df = pd.read_csv(\"./Data/New_Price_Change_Monitoring_System.csv\")\n",
    "\n",
    "#read the first 5 rows\n",
    "df.head()"
   ]
  },
  {
   "cell_type": "code",
   "execution_count": 5,
   "id": "a671d8d5-e9bb-4c2d-bef1-95a1f1a04785",
   "metadata": {},
   "outputs": [
    {
     "data": {
      "text/html": [
       "<div>\n",
       "<style scoped>\n",
       "    .dataframe tbody tr th:only-of-type {\n",
       "        vertical-align: middle;\n",
       "    }\n",
       "\n",
       "    .dataframe tbody tr th {\n",
       "        vertical-align: top;\n",
       "    }\n",
       "\n",
       "    .dataframe thead th {\n",
       "        text-align: right;\n",
       "    }\n",
       "</style>\n",
       "<table border=\"1\" class=\"dataframe\">\n",
       "  <thead>\n",
       "    <tr style=\"text-align: right;\">\n",
       "      <th></th>\n",
       "      <th>date_scraped</th>\n",
       "      <th>page_number</th>\n",
       "      <th>product_url</th>\n",
       "      <th>image</th>\n",
       "      <th>current_price</th>\n",
       "      <th>title</th>\n",
       "      <th>brand</th>\n",
       "      <th>original_price</th>\n",
       "      <th>discount</th>\n",
       "      <th>verified_ratings</th>\n",
       "      <th>rating_number</th>\n",
       "      <th>seller</th>\n",
       "      <th>main_category</th>\n",
       "    </tr>\n",
       "  </thead>\n",
       "  <tbody>\n",
       "    <tr>\n",
       "      <th>0</th>\n",
       "      <td>2025-09-14</td>\n",
       "      <td>1</td>\n",
       "      <td>https://www.jumia.co.ke/ailyons-fk-0301-stainl...</td>\n",
       "      <td>https://ke.jumia.is/unsafe/fit-in/300x300/filt...</td>\n",
       "      <td>KSh 499</td>\n",
       "      <td>AILYONS FK-0301 Stainless Steel 2.0L Electric ...</td>\n",
       "      <td>NaN</td>\n",
       "      <td>KSh 1,399</td>\n",
       "      <td>64%</td>\n",
       "      <td>(3867 verified ratings)</td>\n",
       "      <td>4.0</td>\n",
       "      <td>UR-HOME(KENYA)</td>\n",
       "      <td>Home &amp; Office</td>\n",
       "    </tr>\n",
       "    <tr>\n",
       "      <th>1</th>\n",
       "      <td>2025-09-14</td>\n",
       "      <td>1</td>\n",
       "      <td>https://www.jumia.co.ke/oking-ok310-1.7-wirele...</td>\n",
       "      <td>https://ke.jumia.is/unsafe/fit-in/300x300/filt...</td>\n",
       "      <td>KSh 719</td>\n",
       "      <td>Oking OK310 1.7\" Wireless FM, Bright Torch, 10...</td>\n",
       "      <td>NaN</td>\n",
       "      <td>KSh 1,200</td>\n",
       "      <td>40%</td>\n",
       "      <td>(557 verified ratings)</td>\n",
       "      <td>3.9</td>\n",
       "      <td>ITEL MOBILE SHOP-SUNMUM TECH LTD - AC</td>\n",
       "      <td>Phones &amp; Tablets</td>\n",
       "    </tr>\n",
       "    <tr>\n",
       "      <th>2</th>\n",
       "      <td>2025-09-14</td>\n",
       "      <td>1</td>\n",
       "      <td>https://www.jumia.co.ke/samsung-galaxy-a05-6.7...</td>\n",
       "      <td>https://ke.jumia.is/unsafe/fit-in/300x300/filt...</td>\n",
       "      <td>KSh 8,900</td>\n",
       "      <td>Samsung Galaxy A05, 6.7\", 64GB + 4GB RAM (Dual...</td>\n",
       "      <td>NaN</td>\n",
       "      <td>KSh 13,187</td>\n",
       "      <td>33%</td>\n",
       "      <td>(523 verified ratings)</td>\n",
       "      <td>4.1</td>\n",
       "      <td>LOFFEL ELECTRONICS LIMITED - AC</td>\n",
       "      <td>Phones &amp; Tablets</td>\n",
       "    </tr>\n",
       "    <tr>\n",
       "      <th>3</th>\n",
       "      <td>2025-09-14</td>\n",
       "      <td>1</td>\n",
       "      <td>https://www.jumia.co.ke/ailyons-afk-111-water-...</td>\n",
       "      <td>https://ke.jumia.is/unsafe/fit-in/300x300/filt...</td>\n",
       "      <td>KSh 2,599</td>\n",
       "      <td>AILYONS AFK-111 Water Dispenser Hot And Normal...</td>\n",
       "      <td>NaN</td>\n",
       "      <td>KSh 4,999</td>\n",
       "      <td>48%</td>\n",
       "      <td>(2092 verified ratings)</td>\n",
       "      <td>3.9</td>\n",
       "      <td>UR-HOME(KENYA)</td>\n",
       "      <td>Home &amp; Office</td>\n",
       "    </tr>\n",
       "    <tr>\n",
       "      <th>4</th>\n",
       "      <td>2025-09-14</td>\n",
       "      <td>1</td>\n",
       "      <td>https://www.jumia.co.ke/fashion-couple-canvas-...</td>\n",
       "      <td>https://ke.jumia.is/unsafe/fit-in/300x300/filt...</td>\n",
       "      <td>KSh 699 - KSh 729</td>\n",
       "      <td>Couple Canvas Low Top Lace-up Shoes Classic Ca...</td>\n",
       "      <td>NaN</td>\n",
       "      <td>KSh 1,200 - KSh 1,500</td>\n",
       "      <td>53%</td>\n",
       "      <td>(734 verified ratings)</td>\n",
       "      <td>4.2</td>\n",
       "      <td>Waanzilish</td>\n",
       "      <td>Fashion</td>\n",
       "    </tr>\n",
       "  </tbody>\n",
       "</table>\n",
       "</div>"
      ],
      "text/plain": [
       "  date_scraped  page_number  \\\n",
       "0   2025-09-14            1   \n",
       "1   2025-09-14            1   \n",
       "2   2025-09-14            1   \n",
       "3   2025-09-14            1   \n",
       "4   2025-09-14            1   \n",
       "\n",
       "                                         product_url  \\\n",
       "0  https://www.jumia.co.ke/ailyons-fk-0301-stainl...   \n",
       "1  https://www.jumia.co.ke/oking-ok310-1.7-wirele...   \n",
       "2  https://www.jumia.co.ke/samsung-galaxy-a05-6.7...   \n",
       "3  https://www.jumia.co.ke/ailyons-afk-111-water-...   \n",
       "4  https://www.jumia.co.ke/fashion-couple-canvas-...   \n",
       "\n",
       "                                               image      current_price  \\\n",
       "0  https://ke.jumia.is/unsafe/fit-in/300x300/filt...            KSh 499   \n",
       "1  https://ke.jumia.is/unsafe/fit-in/300x300/filt...            KSh 719   \n",
       "2  https://ke.jumia.is/unsafe/fit-in/300x300/filt...          KSh 8,900   \n",
       "3  https://ke.jumia.is/unsafe/fit-in/300x300/filt...          KSh 2,599   \n",
       "4  https://ke.jumia.is/unsafe/fit-in/300x300/filt...  KSh 699 - KSh 729   \n",
       "\n",
       "                                               title  brand  \\\n",
       "0  AILYONS FK-0301 Stainless Steel 2.0L Electric ...    NaN   \n",
       "1  Oking OK310 1.7\" Wireless FM, Bright Torch, 10...    NaN   \n",
       "2  Samsung Galaxy A05, 6.7\", 64GB + 4GB RAM (Dual...    NaN   \n",
       "3  AILYONS AFK-111 Water Dispenser Hot And Normal...    NaN   \n",
       "4  Couple Canvas Low Top Lace-up Shoes Classic Ca...    NaN   \n",
       "\n",
       "          original_price discount         verified_ratings  rating_number  \\\n",
       "0              KSh 1,399      64%  (3867 verified ratings)            4.0   \n",
       "1              KSh 1,200      40%   (557 verified ratings)            3.9   \n",
       "2             KSh 13,187      33%   (523 verified ratings)            4.1   \n",
       "3              KSh 4,999      48%  (2092 verified ratings)            3.9   \n",
       "4  KSh 1,200 - KSh 1,500      53%   (734 verified ratings)            4.2   \n",
       "\n",
       "                                  seller     main_category  \n",
       "0                         UR-HOME(KENYA)     Home & Office  \n",
       "1  ITEL MOBILE SHOP-SUNMUM TECH LTD - AC  Phones & Tablets  \n",
       "2        LOFFEL ELECTRONICS LIMITED - AC  Phones & Tablets  \n",
       "3                         UR-HOME(KENYA)     Home & Office  \n",
       "4                             Waanzilish           Fashion  "
      ]
     },
     "execution_count": 5,
     "metadata": {},
     "output_type": "execute_result"
    }
   ],
   "source": [
    "#Make a copy and save it as data. we will work on data, and leave df as the original untouched dataframe.\n",
    "data=df.copy()\n",
    "data.head()"
   ]
  },
  {
   "cell_type": "code",
   "execution_count": 6,
   "id": "fbb8f899-329a-4d27-938d-a77508e59999",
   "metadata": {},
   "outputs": [
    {
     "data": {
      "text/plain": [
       "(1999, 13)"
      ]
     },
     "execution_count": 6,
     "metadata": {},
     "output_type": "execute_result"
    }
   ],
   "source": [
    "#check the number of rows and columns\n",
    "data.shape"
   ]
  },
  {
   "cell_type": "code",
   "execution_count": 7,
   "id": "974c0113-2a5b-4e59-abc5-977754eb44ea",
   "metadata": {},
   "outputs": [
    {
     "name": "stdout",
     "output_type": "stream",
     "text": [
      "<class 'pandas.core.frame.DataFrame'>\n",
      "RangeIndex: 1999 entries, 0 to 1998\n",
      "Data columns (total 13 columns):\n",
      " #   Column            Non-Null Count  Dtype  \n",
      "---  ------            --------------  -----  \n",
      " 0   date_scraped      1999 non-null   object \n",
      " 1   page_number       1999 non-null   int64  \n",
      " 2   product_url       1999 non-null   object \n",
      " 3   image             1999 non-null   object \n",
      " 4   current_price     1999 non-null   object \n",
      " 5   title             1999 non-null   object \n",
      " 6   brand             0 non-null      float64\n",
      " 7   original_price    1798 non-null   object \n",
      " 8   discount          1798 non-null   object \n",
      " 9   verified_ratings  1549 non-null   object \n",
      " 10  rating_number     1999 non-null   float64\n",
      " 11  seller            1999 non-null   object \n",
      " 12  main_category     1999 non-null   object \n",
      "dtypes: float64(2), int64(1), object(10)\n",
      "memory usage: 203.2+ KB\n"
     ]
    }
   ],
   "source": [
    "#Check for missing values, datatypes.\n",
    "data.info()"
   ]
  },
  {
   "cell_type": "code",
   "execution_count": 8,
   "id": "dcab3813-4f07-42e4-853d-7080dfc17faa",
   "metadata": {},
   "outputs": [
    {
     "data": {
      "text/plain": [
       "(1999, 12)"
      ]
     },
     "execution_count": 8,
     "metadata": {},
     "output_type": "execute_result"
    }
   ],
   "source": [
    "#Drop brand since the column is empty\n",
    "data = data.drop(columns=['brand'], errors='ignore')\n",
    "data.shape"
   ]
  },
  {
   "cell_type": "markdown",
   "id": "d1132620-4df3-4852-9a55-097576c82938",
   "metadata": {},
   "source": [
    "### Data Cleaning"
   ]
  },
  {
   "cell_type": "code",
   "execution_count": 9,
   "id": "96b24f46-9233-4616-9544-5e94742eb42a",
   "metadata": {},
   "outputs": [
    {
     "data": {
      "text/html": [
       "<div>\n",
       "<style scoped>\n",
       "    .dataframe tbody tr th:only-of-type {\n",
       "        vertical-align: middle;\n",
       "    }\n",
       "\n",
       "    .dataframe tbody tr th {\n",
       "        vertical-align: top;\n",
       "    }\n",
       "\n",
       "    .dataframe thead th {\n",
       "        text-align: right;\n",
       "    }\n",
       "</style>\n",
       "<table border=\"1\" class=\"dataframe\">\n",
       "  <thead>\n",
       "    <tr style=\"text-align: right;\">\n",
       "      <th></th>\n",
       "      <th>date_scraped</th>\n",
       "      <th>page_number</th>\n",
       "      <th>product_url</th>\n",
       "      <th>image</th>\n",
       "      <th>current_price</th>\n",
       "      <th>title</th>\n",
       "      <th>original_price</th>\n",
       "      <th>discount</th>\n",
       "      <th>verified_ratings</th>\n",
       "      <th>rating_number</th>\n",
       "      <th>seller</th>\n",
       "      <th>main_category</th>\n",
       "    </tr>\n",
       "  </thead>\n",
       "  <tbody>\n",
       "    <tr>\n",
       "      <th>0</th>\n",
       "      <td>2025-09-14</td>\n",
       "      <td>1</td>\n",
       "      <td>https://www.jumia.co.ke/ailyons-fk-0301-stainl...</td>\n",
       "      <td>https://ke.jumia.is/unsafe/fit-in/300x300/filt...</td>\n",
       "      <td>499.0</td>\n",
       "      <td>AILYONS FK-0301 Stainless Steel 2.0L Electric ...</td>\n",
       "      <td>1399.0</td>\n",
       "      <td>64%</td>\n",
       "      <td>(3867 verified ratings)</td>\n",
       "      <td>4.0</td>\n",
       "      <td>UR-HOME(KENYA)</td>\n",
       "      <td>Home &amp; Office</td>\n",
       "    </tr>\n",
       "    <tr>\n",
       "      <th>1</th>\n",
       "      <td>2025-09-14</td>\n",
       "      <td>1</td>\n",
       "      <td>https://www.jumia.co.ke/oking-ok310-1.7-wirele...</td>\n",
       "      <td>https://ke.jumia.is/unsafe/fit-in/300x300/filt...</td>\n",
       "      <td>719.0</td>\n",
       "      <td>Oking OK310 1.7\" Wireless FM, Bright Torch, 10...</td>\n",
       "      <td>1200.0</td>\n",
       "      <td>40%</td>\n",
       "      <td>(557 verified ratings)</td>\n",
       "      <td>3.9</td>\n",
       "      <td>ITEL MOBILE SHOP-SUNMUM TECH LTD - AC</td>\n",
       "      <td>Phones &amp; Tablets</td>\n",
       "    </tr>\n",
       "    <tr>\n",
       "      <th>2</th>\n",
       "      <td>2025-09-14</td>\n",
       "      <td>1</td>\n",
       "      <td>https://www.jumia.co.ke/samsung-galaxy-a05-6.7...</td>\n",
       "      <td>https://ke.jumia.is/unsafe/fit-in/300x300/filt...</td>\n",
       "      <td>8900.0</td>\n",
       "      <td>Samsung Galaxy A05, 6.7\", 64GB + 4GB RAM (Dual...</td>\n",
       "      <td>13187.0</td>\n",
       "      <td>33%</td>\n",
       "      <td>(523 verified ratings)</td>\n",
       "      <td>4.1</td>\n",
       "      <td>LOFFEL ELECTRONICS LIMITED - AC</td>\n",
       "      <td>Phones &amp; Tablets</td>\n",
       "    </tr>\n",
       "    <tr>\n",
       "      <th>3</th>\n",
       "      <td>2025-09-14</td>\n",
       "      <td>1</td>\n",
       "      <td>https://www.jumia.co.ke/ailyons-afk-111-water-...</td>\n",
       "      <td>https://ke.jumia.is/unsafe/fit-in/300x300/filt...</td>\n",
       "      <td>2599.0</td>\n",
       "      <td>AILYONS AFK-111 Water Dispenser Hot And Normal...</td>\n",
       "      <td>4999.0</td>\n",
       "      <td>48%</td>\n",
       "      <td>(2092 verified ratings)</td>\n",
       "      <td>3.9</td>\n",
       "      <td>UR-HOME(KENYA)</td>\n",
       "      <td>Home &amp; Office</td>\n",
       "    </tr>\n",
       "    <tr>\n",
       "      <th>4</th>\n",
       "      <td>2025-09-14</td>\n",
       "      <td>1</td>\n",
       "      <td>https://www.jumia.co.ke/fashion-couple-canvas-...</td>\n",
       "      <td>https://ke.jumia.is/unsafe/fit-in/300x300/filt...</td>\n",
       "      <td>714.0</td>\n",
       "      <td>Couple Canvas Low Top Lace-up Shoes Classic Ca...</td>\n",
       "      <td>1350.0</td>\n",
       "      <td>53%</td>\n",
       "      <td>(734 verified ratings)</td>\n",
       "      <td>4.2</td>\n",
       "      <td>Waanzilish</td>\n",
       "      <td>Fashion</td>\n",
       "    </tr>\n",
       "  </tbody>\n",
       "</table>\n",
       "</div>"
      ],
      "text/plain": [
       "  date_scraped  page_number  \\\n",
       "0   2025-09-14            1   \n",
       "1   2025-09-14            1   \n",
       "2   2025-09-14            1   \n",
       "3   2025-09-14            1   \n",
       "4   2025-09-14            1   \n",
       "\n",
       "                                         product_url  \\\n",
       "0  https://www.jumia.co.ke/ailyons-fk-0301-stainl...   \n",
       "1  https://www.jumia.co.ke/oking-ok310-1.7-wirele...   \n",
       "2  https://www.jumia.co.ke/samsung-galaxy-a05-6.7...   \n",
       "3  https://www.jumia.co.ke/ailyons-afk-111-water-...   \n",
       "4  https://www.jumia.co.ke/fashion-couple-canvas-...   \n",
       "\n",
       "                                               image  current_price  \\\n",
       "0  https://ke.jumia.is/unsafe/fit-in/300x300/filt...          499.0   \n",
       "1  https://ke.jumia.is/unsafe/fit-in/300x300/filt...          719.0   \n",
       "2  https://ke.jumia.is/unsafe/fit-in/300x300/filt...         8900.0   \n",
       "3  https://ke.jumia.is/unsafe/fit-in/300x300/filt...         2599.0   \n",
       "4  https://ke.jumia.is/unsafe/fit-in/300x300/filt...          714.0   \n",
       "\n",
       "                                               title  original_price discount  \\\n",
       "0  AILYONS FK-0301 Stainless Steel 2.0L Electric ...          1399.0      64%   \n",
       "1  Oking OK310 1.7\" Wireless FM, Bright Torch, 10...          1200.0      40%   \n",
       "2  Samsung Galaxy A05, 6.7\", 64GB + 4GB RAM (Dual...         13187.0      33%   \n",
       "3  AILYONS AFK-111 Water Dispenser Hot And Normal...          4999.0      48%   \n",
       "4  Couple Canvas Low Top Lace-up Shoes Classic Ca...          1350.0      53%   \n",
       "\n",
       "          verified_ratings  rating_number  \\\n",
       "0  (3867 verified ratings)            4.0   \n",
       "1   (557 verified ratings)            3.9   \n",
       "2   (523 verified ratings)            4.1   \n",
       "3  (2092 verified ratings)            3.9   \n",
       "4   (734 verified ratings)            4.2   \n",
       "\n",
       "                                  seller     main_category  \n",
       "0                         UR-HOME(KENYA)     Home & Office  \n",
       "1  ITEL MOBILE SHOP-SUNMUM TECH LTD - AC  Phones & Tablets  \n",
       "2        LOFFEL ELECTRONICS LIMITED - AC  Phones & Tablets  \n",
       "3                         UR-HOME(KENYA)     Home & Office  \n",
       "4                             Waanzilish           Fashion  "
      ]
     },
     "execution_count": 9,
     "metadata": {},
     "output_type": "execute_result"
    }
   ],
   "source": [
    "# 2. Clean current_price & original_price. make them numeric\n",
    "def clean_price(x):\n",
    "    if pd.isna(x):\n",
    "        return np.nan\n",
    "    x = str(x).replace(\"KSh\", \"\").replace(\",\", \"\").strip()\n",
    "    if \"-\" in x:  # handle ranges like \"699 - 729\" It will take the average of the two\n",
    "        parts = x.split(\"-\")\n",
    "        nums = [float(p.strip()) for p in parts if p.strip().replace('.', '', 1).isdigit()]\n",
    "        return np.mean(nums) if nums else np.nan\n",
    "    return float(x) if x.replace('.', '', 1).isdigit() else np.nan\n",
    "\n",
    "data['current_price'] = data['current_price'].apply(clean_price)\n",
    "data['original_price'] = data['original_price'].apply(clean_price)\n",
    "data.head()"
   ]
  },
  {
   "cell_type": "code",
   "execution_count": 10,
   "id": "78614ccf-7eea-4f11-9d5e-8f6b25e3d542",
   "metadata": {},
   "outputs": [
    {
     "data": {
      "text/html": [
       "<div>\n",
       "<style scoped>\n",
       "    .dataframe tbody tr th:only-of-type {\n",
       "        vertical-align: middle;\n",
       "    }\n",
       "\n",
       "    .dataframe tbody tr th {\n",
       "        vertical-align: top;\n",
       "    }\n",
       "\n",
       "    .dataframe thead th {\n",
       "        text-align: right;\n",
       "    }\n",
       "</style>\n",
       "<table border=\"1\" class=\"dataframe\">\n",
       "  <thead>\n",
       "    <tr style=\"text-align: right;\">\n",
       "      <th></th>\n",
       "      <th>date_scraped</th>\n",
       "      <th>page_number</th>\n",
       "      <th>product_url</th>\n",
       "      <th>image</th>\n",
       "      <th>current_price</th>\n",
       "      <th>title</th>\n",
       "      <th>original_price</th>\n",
       "      <th>discount</th>\n",
       "      <th>verified_ratings</th>\n",
       "      <th>rating_number</th>\n",
       "      <th>seller</th>\n",
       "      <th>main_category</th>\n",
       "    </tr>\n",
       "  </thead>\n",
       "  <tbody>\n",
       "    <tr>\n",
       "      <th>0</th>\n",
       "      <td>2025-09-14</td>\n",
       "      <td>1</td>\n",
       "      <td>https://www.jumia.co.ke/ailyons-fk-0301-stainl...</td>\n",
       "      <td>https://ke.jumia.is/unsafe/fit-in/300x300/filt...</td>\n",
       "      <td>499.0</td>\n",
       "      <td>AILYONS FK-0301 Stainless Steel 2.0L Electric ...</td>\n",
       "      <td>1399.0</td>\n",
       "      <td>64</td>\n",
       "      <td>(3867 verified ratings)</td>\n",
       "      <td>4.0</td>\n",
       "      <td>UR-HOME(KENYA)</td>\n",
       "      <td>Home &amp; Office</td>\n",
       "    </tr>\n",
       "    <tr>\n",
       "      <th>1</th>\n",
       "      <td>2025-09-14</td>\n",
       "      <td>1</td>\n",
       "      <td>https://www.jumia.co.ke/oking-ok310-1.7-wirele...</td>\n",
       "      <td>https://ke.jumia.is/unsafe/fit-in/300x300/filt...</td>\n",
       "      <td>719.0</td>\n",
       "      <td>Oking OK310 1.7\" Wireless FM, Bright Torch, 10...</td>\n",
       "      <td>1200.0</td>\n",
       "      <td>40</td>\n",
       "      <td>(557 verified ratings)</td>\n",
       "      <td>3.9</td>\n",
       "      <td>ITEL MOBILE SHOP-SUNMUM TECH LTD - AC</td>\n",
       "      <td>Phones &amp; Tablets</td>\n",
       "    </tr>\n",
       "  </tbody>\n",
       "</table>\n",
       "</div>"
      ],
      "text/plain": [
       "  date_scraped  page_number  \\\n",
       "0   2025-09-14            1   \n",
       "1   2025-09-14            1   \n",
       "\n",
       "                                         product_url  \\\n",
       "0  https://www.jumia.co.ke/ailyons-fk-0301-stainl...   \n",
       "1  https://www.jumia.co.ke/oking-ok310-1.7-wirele...   \n",
       "\n",
       "                                               image  current_price  \\\n",
       "0  https://ke.jumia.is/unsafe/fit-in/300x300/filt...          499.0   \n",
       "1  https://ke.jumia.is/unsafe/fit-in/300x300/filt...          719.0   \n",
       "\n",
       "                                               title  original_price discount  \\\n",
       "0  AILYONS FK-0301 Stainless Steel 2.0L Electric ...          1399.0       64   \n",
       "1  Oking OK310 1.7\" Wireless FM, Bright Torch, 10...          1200.0       40   \n",
       "\n",
       "          verified_ratings  rating_number  \\\n",
       "0  (3867 verified ratings)            4.0   \n",
       "1   (557 verified ratings)            3.9   \n",
       "\n",
       "                                  seller     main_category  \n",
       "0                         UR-HOME(KENYA)     Home & Office  \n",
       "1  ITEL MOBILE SHOP-SUNMUM TECH LTD - AC  Phones & Tablets  "
      ]
     },
     "execution_count": 10,
     "metadata": {},
     "output_type": "execute_result"
    }
   ],
   "source": [
    "#Clean discount, remove %\n",
    "data['discount'] = data['discount'].str.replace('%', '', regex=False)\n",
    "data.head(2)"
   ]
  },
  {
   "cell_type": "code",
   "execution_count": 11,
   "id": "f77f28a1-6555-44fa-abba-680e04c5f76b",
   "metadata": {},
   "outputs": [
    {
     "data": {
      "text/html": [
       "<div>\n",
       "<style scoped>\n",
       "    .dataframe tbody tr th:only-of-type {\n",
       "        vertical-align: middle;\n",
       "    }\n",
       "\n",
       "    .dataframe tbody tr th {\n",
       "        vertical-align: top;\n",
       "    }\n",
       "\n",
       "    .dataframe thead th {\n",
       "        text-align: right;\n",
       "    }\n",
       "</style>\n",
       "<table border=\"1\" class=\"dataframe\">\n",
       "  <thead>\n",
       "    <tr style=\"text-align: right;\">\n",
       "      <th></th>\n",
       "      <th>date_scraped</th>\n",
       "      <th>page_number</th>\n",
       "      <th>product_url</th>\n",
       "      <th>image</th>\n",
       "      <th>current_price</th>\n",
       "      <th>title</th>\n",
       "      <th>original_price</th>\n",
       "      <th>discount</th>\n",
       "      <th>verified_ratings</th>\n",
       "      <th>rating_number</th>\n",
       "      <th>seller</th>\n",
       "      <th>main_category</th>\n",
       "    </tr>\n",
       "  </thead>\n",
       "  <tbody>\n",
       "    <tr>\n",
       "      <th>0</th>\n",
       "      <td>2025-09-14</td>\n",
       "      <td>1</td>\n",
       "      <td>https://www.jumia.co.ke/ailyons-fk-0301-stainl...</td>\n",
       "      <td>https://ke.jumia.is/unsafe/fit-in/300x300/filt...</td>\n",
       "      <td>499.0</td>\n",
       "      <td>AILYONS FK-0301 Stainless Steel 2.0L Electric ...</td>\n",
       "      <td>1399.0</td>\n",
       "      <td>64</td>\n",
       "      <td>3867.0</td>\n",
       "      <td>4.0</td>\n",
       "      <td>UR-HOME(KENYA)</td>\n",
       "      <td>Home &amp; Office</td>\n",
       "    </tr>\n",
       "    <tr>\n",
       "      <th>1</th>\n",
       "      <td>2025-09-14</td>\n",
       "      <td>1</td>\n",
       "      <td>https://www.jumia.co.ke/oking-ok310-1.7-wirele...</td>\n",
       "      <td>https://ke.jumia.is/unsafe/fit-in/300x300/filt...</td>\n",
       "      <td>719.0</td>\n",
       "      <td>Oking OK310 1.7\" Wireless FM, Bright Torch, 10...</td>\n",
       "      <td>1200.0</td>\n",
       "      <td>40</td>\n",
       "      <td>557.0</td>\n",
       "      <td>3.9</td>\n",
       "      <td>ITEL MOBILE SHOP-SUNMUM TECH LTD - AC</td>\n",
       "      <td>Phones &amp; Tablets</td>\n",
       "    </tr>\n",
       "  </tbody>\n",
       "</table>\n",
       "</div>"
      ],
      "text/plain": [
       "  date_scraped  page_number  \\\n",
       "0   2025-09-14            1   \n",
       "1   2025-09-14            1   \n",
       "\n",
       "                                         product_url  \\\n",
       "0  https://www.jumia.co.ke/ailyons-fk-0301-stainl...   \n",
       "1  https://www.jumia.co.ke/oking-ok310-1.7-wirele...   \n",
       "\n",
       "                                               image  current_price  \\\n",
       "0  https://ke.jumia.is/unsafe/fit-in/300x300/filt...          499.0   \n",
       "1  https://ke.jumia.is/unsafe/fit-in/300x300/filt...          719.0   \n",
       "\n",
       "                                               title  original_price discount  \\\n",
       "0  AILYONS FK-0301 Stainless Steel 2.0L Electric ...          1399.0       64   \n",
       "1  Oking OK310 1.7\" Wireless FM, Bright Torch, 10...          1200.0       40   \n",
       "\n",
       "   verified_ratings  rating_number                                 seller  \\\n",
       "0            3867.0            4.0                         UR-HOME(KENYA)   \n",
       "1             557.0            3.9  ITEL MOBILE SHOP-SUNMUM TECH LTD - AC   \n",
       "\n",
       "      main_category  \n",
       "0     Home & Office  \n",
       "1  Phones & Tablets  "
      ]
     },
     "execution_count": 11,
     "metadata": {},
     "output_type": "execute_result"
    }
   ],
   "source": [
    "#Clean verified_ratings. Extract numeric value from the sring.\n",
    "data['verified_ratings'] = (\n",
    "    data['verified_ratings']\n",
    "    .str.extract(r'(\\d+)')\n",
    "    .astype(float)\n",
    ")\n",
    "data.head(2)"
   ]
  },
  {
   "cell_type": "markdown",
   "id": "e4017443-ed46-4b62-8e84-e1c7600ae86a",
   "metadata": {},
   "source": [
    "### Handling Missing Values"
   ]
  },
  {
   "cell_type": "code",
   "execution_count": 12,
   "id": "82212c60-5bf1-4f0d-b492-3d6f14a3d2ac",
   "metadata": {},
   "outputs": [
    {
     "data": {
      "text/plain": [
       "date_scraped          0\n",
       "page_number           0\n",
       "product_url           0\n",
       "image                 0\n",
       "current_price         0\n",
       "title                 0\n",
       "original_price      201\n",
       "discount            201\n",
       "verified_ratings    488\n",
       "rating_number         0\n",
       "seller                0\n",
       "main_category         0\n",
       "dtype: int64"
      ]
     },
     "execution_count": 12,
     "metadata": {},
     "output_type": "execute_result"
    }
   ],
   "source": [
    "#Recheck missing values\n",
    "data.isna().sum()"
   ]
  },
  {
   "cell_type": "code",
   "execution_count": 13,
   "id": "f494c8d0-85b7-4d1f-aa19-71864e3a4179",
   "metadata": {},
   "outputs": [
    {
     "data": {
      "text/plain": [
       "date_scraped          0\n",
       "page_number           0\n",
       "product_url           0\n",
       "image                 0\n",
       "current_price         0\n",
       "title                 0\n",
       "original_price        0\n",
       "discount            201\n",
       "verified_ratings    488\n",
       "rating_number         0\n",
       "seller                0\n",
       "main_category         0\n",
       "dtype: int64"
      ]
     },
     "execution_count": 13,
     "metadata": {},
     "output_type": "execute_result"
    }
   ],
   "source": [
    "# For original_price, the missing value is set equal to current_price (assume no discount)\n",
    "data['original_price'] = data['original_price'].fillna(data['current_price'])\n",
    "data.isna().sum()"
   ]
  },
  {
   "cell_type": "code",
   "execution_count": 14,
   "id": "177a53f1-f0b6-4f0a-a336-6d44b14d9803",
   "metadata": {},
   "outputs": [
    {
     "data": {
      "text/plain": [
       "date_scraped          0\n",
       "page_number           0\n",
       "product_url           0\n",
       "image                 0\n",
       "current_price         0\n",
       "title                 0\n",
       "original_price        0\n",
       "discount              0\n",
       "verified_ratings    488\n",
       "rating_number         0\n",
       "seller                0\n",
       "main_category         0\n",
       "dtype: int64"
      ]
     },
     "execution_count": 14,
     "metadata": {},
     "output_type": "execute_result"
    }
   ],
   "source": [
    "# Discount, we filled missing values with 0\n",
    "data['discount'] = data['discount'].fillna(0)\n",
    "data.isna().sum()"
   ]
  },
  {
   "cell_type": "code",
   "execution_count": 15,
   "id": "50bd9dfd-9041-40e4-9134-973354680623",
   "metadata": {},
   "outputs": [
    {
     "data": {
      "text/plain": [
       "date_scraped        0\n",
       "page_number         0\n",
       "product_url         0\n",
       "image               0\n",
       "current_price       0\n",
       "title               0\n",
       "original_price      0\n",
       "discount            0\n",
       "verified_ratings    0\n",
       "rating_number       0\n",
       "seller              0\n",
       "main_category       0\n",
       "dtype: int64"
      ]
     },
     "execution_count": 15,
     "metadata": {},
     "output_type": "execute_result"
    }
   ],
   "source": [
    "# verified_ratings, missing = 0\n",
    "data['verified_ratings'] = data['verified_ratings'].fillna(0)\n",
    "data.isna().sum()"
   ]
  },
  {
   "cell_type": "markdown",
   "id": "9d8443be-ad7a-43f2-91ec-20e7b0b87b8f",
   "metadata": {},
   "source": [
    "### Handling Duplicates in column product_url"
   ]
  },
  {
   "cell_type": "code",
   "execution_count": 16,
   "id": "fc247689-1253-4651-bd09-473a56d4f20c",
   "metadata": {},
   "outputs": [
    {
     "name": "stdout",
     "output_type": "stream",
     "text": [
      "                                          product_url  url_count\n",
      "0   https://www.jumia.co.ke/derma-roller-for-beard...          3\n",
      "1   https://www.jumia.co.ke/home-design-14-55-rota...          2\n",
      "2   https://www.jumia.co.ke/generic-hot-sale-cloth...          2\n",
      "3   https://www.jumia.co.ke/tilecc-tilecc-air-pro-...          2\n",
      "4   https://www.jumia.co.ke/tcl-55-inch-smart-tv-u...          2\n",
      "5   https://www.jumia.co.ke/vitron-htc4388fs-43inc...          2\n",
      "6   https://www.jumia.co.ke/generic-4pcs-set-of-st...          2\n",
      "7   https://www.jumia.co.ke/tecno-spark-40-6.67-hd...          2\n",
      "8   https://www.jumia.co.ke/fashion-student-backpa...          2\n",
      "9   https://www.jumia.co.ke/xiaomi-redmi-15c-6.9up...          2\n",
      "10  https://www.jumia.co.ke/redmi-note-14-pro-256g...          2\n",
      "11  https://www.jumia.co.ke/top-fry-top-fry-vegeta...          2\n",
      "12  https://www.jumia.co.ke/nivea-radiant-beauty-a...          2\n",
      "13  https://www.jumia.co.ke/generic-led-2.4g-recha...          2\n",
      "14  https://www.jumia.co.ke/usn-micronized-creatin...          2\n",
      "15  https://www.jumia.co.ke/c-idea-cm8288-inch8gb-...          2\n",
      "16  https://www.jumia.co.ke/xiaomi-redmi-15c-6.9up...          2\n",
      "17  https://www.jumia.co.ke/nivea-radiant-beauty-e...          2\n",
      "18  https://www.jumia.co.ke/fashion-3pcs-soft-cott...          2\n",
      "19  https://www.jumia.co.ke/fashion-6pcsset-women-...          2\n"
     ]
    }
   ],
   "source": [
    "if 'product_url' in data.columns:\n",
    "    # Count product_url occurrences\n",
    "    url_counts = data['product_url'].value_counts()\n",
    "\n",
    "    # Keep only duplicates\n",
    "    dupes = url_counts[url_counts > 1]\n",
    "\n",
    "    # Convert to DataFrame for the same look as before\n",
    "    dupes_df = dupes.reset_index()\n",
    "    dupes_df.columns = ['product_url', 'url_count']\n",
    "\n",
    "    # Show top 10 duplicate products\n",
    "    print(dupes_df.head(20))"
   ]
  },
  {
   "cell_type": "code",
   "execution_count": 17,
   "id": "6c58c957-5ea7-45de-90c2-27b5cd46c691",
   "metadata": {},
   "outputs": [
    {
     "name": "stdout",
     "output_type": "stream",
     "text": [
      "94\n"
     ]
    }
   ],
   "source": [
    "# Count duplicates based on product_url\n",
    "if 'product_url' in data.columns:\n",
    "    print(data.duplicated(subset=['product_url']).sum())"
   ]
  },
  {
   "cell_type": "code",
   "execution_count": 18,
   "id": "e9158e82-48c5-4121-aeaa-930aa30e0288",
   "metadata": {},
   "outputs": [
    {
     "data": {
      "text/plain": [
       "(1905, 12)"
      ]
     },
     "execution_count": 18,
     "metadata": {},
     "output_type": "execute_result"
    }
   ],
   "source": [
    "# Drop duplicate product URLs (keep the first occurrence)\n",
    "if 'product_url' in data.columns:\n",
    "    data = data.drop_duplicates(subset=['product_url'], keep='first')\n",
    "data.shape"
   ]
  },
  {
   "cell_type": "code",
   "execution_count": 19,
   "id": "56a8772d-471c-4012-b382-97064f58f5fd",
   "metadata": {},
   "outputs": [
    {
     "data": {
      "text/html": [
       "<div>\n",
       "<style scoped>\n",
       "    .dataframe tbody tr th:only-of-type {\n",
       "        vertical-align: middle;\n",
       "    }\n",
       "\n",
       "    .dataframe tbody tr th {\n",
       "        vertical-align: top;\n",
       "    }\n",
       "\n",
       "    .dataframe thead th {\n",
       "        text-align: right;\n",
       "    }\n",
       "</style>\n",
       "<table border=\"1\" class=\"dataframe\">\n",
       "  <thead>\n",
       "    <tr style=\"text-align: right;\">\n",
       "      <th></th>\n",
       "      <th>date_scraped</th>\n",
       "      <th>page_number</th>\n",
       "      <th>product_url</th>\n",
       "      <th>image</th>\n",
       "      <th>current_price</th>\n",
       "      <th>title</th>\n",
       "      <th>original_price</th>\n",
       "      <th>discount</th>\n",
       "      <th>verified_ratings</th>\n",
       "      <th>rating_number</th>\n",
       "      <th>seller</th>\n",
       "      <th>main_category</th>\n",
       "    </tr>\n",
       "  </thead>\n",
       "  <tbody>\n",
       "    <tr>\n",
       "      <th>0</th>\n",
       "      <td>2025-09-14</td>\n",
       "      <td>1</td>\n",
       "      <td>https://www.jumia.co.ke/ailyons-fk-0301-stainl...</td>\n",
       "      <td>https://ke.jumia.is/unsafe/fit-in/300x300/filt...</td>\n",
       "      <td>499.0</td>\n",
       "      <td>AILYONS FK-0301 Stainless Steel 2.0L Electric ...</td>\n",
       "      <td>1399.0</td>\n",
       "      <td>64</td>\n",
       "      <td>3867.0</td>\n",
       "      <td>4.0</td>\n",
       "      <td>UR-HOME(KENYA)</td>\n",
       "      <td>Home &amp; Office</td>\n",
       "    </tr>\n",
       "    <tr>\n",
       "      <th>1</th>\n",
       "      <td>2025-09-14</td>\n",
       "      <td>1</td>\n",
       "      <td>https://www.jumia.co.ke/oking-ok310-1.7-wirele...</td>\n",
       "      <td>https://ke.jumia.is/unsafe/fit-in/300x300/filt...</td>\n",
       "      <td>719.0</td>\n",
       "      <td>Oking OK310 1.7\" Wireless FM, Bright Torch, 10...</td>\n",
       "      <td>1200.0</td>\n",
       "      <td>40</td>\n",
       "      <td>557.0</td>\n",
       "      <td>3.9</td>\n",
       "      <td>ITEL MOBILE SHOP-SUNMUM TECH LTD - AC</td>\n",
       "      <td>Phones &amp; Tablets</td>\n",
       "    </tr>\n",
       "    <tr>\n",
       "      <th>2</th>\n",
       "      <td>2025-09-14</td>\n",
       "      <td>1</td>\n",
       "      <td>https://www.jumia.co.ke/samsung-galaxy-a05-6.7...</td>\n",
       "      <td>https://ke.jumia.is/unsafe/fit-in/300x300/filt...</td>\n",
       "      <td>8900.0</td>\n",
       "      <td>Samsung Galaxy A05, 6.7\", 64GB + 4GB RAM (Dual...</td>\n",
       "      <td>13187.0</td>\n",
       "      <td>33</td>\n",
       "      <td>523.0</td>\n",
       "      <td>4.1</td>\n",
       "      <td>LOFFEL ELECTRONICS LIMITED - AC</td>\n",
       "      <td>Phones &amp; Tablets</td>\n",
       "    </tr>\n",
       "    <tr>\n",
       "      <th>3</th>\n",
       "      <td>2025-09-14</td>\n",
       "      <td>1</td>\n",
       "      <td>https://www.jumia.co.ke/ailyons-afk-111-water-...</td>\n",
       "      <td>https://ke.jumia.is/unsafe/fit-in/300x300/filt...</td>\n",
       "      <td>2599.0</td>\n",
       "      <td>AILYONS AFK-111 Water Dispenser Hot And Normal...</td>\n",
       "      <td>4999.0</td>\n",
       "      <td>48</td>\n",
       "      <td>2092.0</td>\n",
       "      <td>3.9</td>\n",
       "      <td>UR-HOME(KENYA)</td>\n",
       "      <td>Home &amp; Office</td>\n",
       "    </tr>\n",
       "    <tr>\n",
       "      <th>4</th>\n",
       "      <td>2025-09-14</td>\n",
       "      <td>1</td>\n",
       "      <td>https://www.jumia.co.ke/fashion-couple-canvas-...</td>\n",
       "      <td>https://ke.jumia.is/unsafe/fit-in/300x300/filt...</td>\n",
       "      <td>714.0</td>\n",
       "      <td>Couple Canvas Low Top Lace-up Shoes Classic Ca...</td>\n",
       "      <td>1350.0</td>\n",
       "      <td>53</td>\n",
       "      <td>734.0</td>\n",
       "      <td>4.2</td>\n",
       "      <td>Waanzilish</td>\n",
       "      <td>Fashion</td>\n",
       "    </tr>\n",
       "  </tbody>\n",
       "</table>\n",
       "</div>"
      ],
      "text/plain": [
       "  date_scraped  page_number  \\\n",
       "0   2025-09-14            1   \n",
       "1   2025-09-14            1   \n",
       "2   2025-09-14            1   \n",
       "3   2025-09-14            1   \n",
       "4   2025-09-14            1   \n",
       "\n",
       "                                         product_url  \\\n",
       "0  https://www.jumia.co.ke/ailyons-fk-0301-stainl...   \n",
       "1  https://www.jumia.co.ke/oking-ok310-1.7-wirele...   \n",
       "2  https://www.jumia.co.ke/samsung-galaxy-a05-6.7...   \n",
       "3  https://www.jumia.co.ke/ailyons-afk-111-water-...   \n",
       "4  https://www.jumia.co.ke/fashion-couple-canvas-...   \n",
       "\n",
       "                                               image  current_price  \\\n",
       "0  https://ke.jumia.is/unsafe/fit-in/300x300/filt...          499.0   \n",
       "1  https://ke.jumia.is/unsafe/fit-in/300x300/filt...          719.0   \n",
       "2  https://ke.jumia.is/unsafe/fit-in/300x300/filt...         8900.0   \n",
       "3  https://ke.jumia.is/unsafe/fit-in/300x300/filt...         2599.0   \n",
       "4  https://ke.jumia.is/unsafe/fit-in/300x300/filt...          714.0   \n",
       "\n",
       "                                               title  original_price discount  \\\n",
       "0  AILYONS FK-0301 Stainless Steel 2.0L Electric ...          1399.0       64   \n",
       "1  Oking OK310 1.7\" Wireless FM, Bright Torch, 10...          1200.0       40   \n",
       "2  Samsung Galaxy A05, 6.7\", 64GB + 4GB RAM (Dual...         13187.0       33   \n",
       "3  AILYONS AFK-111 Water Dispenser Hot And Normal...          4999.0       48   \n",
       "4  Couple Canvas Low Top Lace-up Shoes Classic Ca...          1350.0       53   \n",
       "\n",
       "   verified_ratings  rating_number                                 seller  \\\n",
       "0            3867.0            4.0                         UR-HOME(KENYA)   \n",
       "1             557.0            3.9  ITEL MOBILE SHOP-SUNMUM TECH LTD - AC   \n",
       "2             523.0            4.1        LOFFEL ELECTRONICS LIMITED - AC   \n",
       "3            2092.0            3.9                         UR-HOME(KENYA)   \n",
       "4             734.0            4.2                             Waanzilish   \n",
       "\n",
       "      main_category  \n",
       "0     Home & Office  \n",
       "1  Phones & Tablets  \n",
       "2  Phones & Tablets  \n",
       "3     Home & Office  \n",
       "4           Fashion  "
      ]
     },
     "execution_count": 19,
     "metadata": {},
     "output_type": "execute_result"
    }
   ],
   "source": [
    "data.head()"
   ]
  },
  {
   "cell_type": "markdown",
   "id": "d945361c",
   "metadata": {},
   "source": [
    "### Discount analysis"
   ]
  },
  {
   "cell_type": "markdown",
   "id": "6ed58889",
   "metadata": {},
   "source": [
    "### Cleaning the Price Data"
   ]
  },
  {
   "cell_type": "code",
   "execution_count": 20,
   "id": "f0bad538-a9db-4e50-adf2-4a01b44c9f45",
   "metadata": {},
   "outputs": [],
   "source": [
    "# Function to handle price ranges by calculating the average price\n",
    "def handle_price_range(price):\n",
    "    if isinstance(price, str) and '-' in price:\n",
    "        # Split the range and calculate the average\n",
    "        low, high = price.split(' - ')\n",
    "        low = pd.to_numeric(low.replace('KSh', '').replace(',', '').strip(), errors='coerce')\n",
    "        high = pd.to_numeric(high.replace('KSh', '').replace(',', '').strip(), errors='coerce')\n",
    "        return (low + high) / 2\n",
    "    return price\n",
    "\n",
    "# Clean 'current_price' and 'original_price' columns\n",
    "df['current_price_numeric'] = df['current_price'].apply(clean_price)\n",
    "df['original_price_numeric'] = df['original_price'].apply(clean_price)\n",
    "\n",
    "# Apply the function to handle price ranges\n",
    "df['current_price_numeric'] = df['current_price_numeric'].apply(handle_price_range)\n",
    "df['original_price_numeric'] = df['original_price_numeric'].apply(handle_price_range)\n"
   ]
  },
  {
   "cell_type": "markdown",
   "id": "6b36236d",
   "metadata": {},
   "source": [
    "### Cleaning the Discount Column"
   ]
  },
  {
   "cell_type": "code",
   "execution_count": 21,
   "id": "7bd6920a",
   "metadata": {},
   "outputs": [],
   "source": [
    "# Clean 'discount' column to ensure it's numeric\n",
    "df['discount_percentage'] = df['discount'].replace({'%': '', ',': ''}, regex=True).astype(float)\n"
   ]
  },
  {
   "cell_type": "markdown",
   "id": "87930674",
   "metadata": {},
   "source": [
    "### Calculating the Correlation"
   ]
  },
  {
   "cell_type": "code",
   "execution_count": 22,
   "id": "d21cf303",
   "metadata": {},
   "outputs": [
    {
     "name": "stdout",
     "output_type": "stream",
     "text": [
      "Correlation between original price and discount percentage: 0.0758396034431447\n"
     ]
    }
   ],
   "source": [
    "# Calculate the correlation between original price and discount percentage\n",
    "correlation = df['original_price_numeric'].corr(df['discount_percentage'])\n",
    "\n",
    "# Display the correlation result\n",
    "print(f\"Correlation between original price and discount percentage: {correlation}\")\n"
   ]
  },
  {
   "cell_type": "markdown",
   "id": "6d5a91cd",
   "metadata": {},
   "source": [
    "### Visualizing the Data with a Scatter Plot"
   ]
  },
  {
   "cell_type": "code",
   "execution_count": 25,
   "id": "267d7c0b",
   "metadata": {},
   "outputs": [
    {
     "data": {
      "image/png": "[encoded data removed]",
      "text/plain": [
       "<Figure size 1000x600 with 1 Axes>"
      ]
     },
     "metadata": {},
     "output_type": "display_data"
    }
   ],
   "source": [
    "# Scatter plot to visualize the relationship between original price and discount percentage\n",
    "plt.figure(figsize=(10, 6))\n",
    "sns.scatterplot(x='original_price_numeric', y='discount_percentage', data=df)\n",
    "plt.title(\"Scatter Plot: Original Price vs Discount Percentage\")\n",
    "plt.xlabel(\"Original Price (KSh)\")\n",
    "plt.ylabel(\"Discount Percentage (%)\")\n",
    "plt.show()"
   ]
  },
  {
   "cell_type": "markdown",
   "id": "45c41a72",
   "metadata": {},
   "source": [
    "The analysis of the relationship between product prices and discount percentages revealed a very weak positive correlation of 0.0758. This suggests that there is no strong linear relationship between higher product prices and the discount percentage offered. In other words, higher-priced products are not necessarily associated with higher discounts, and the discounting strategy appears to be relatively independent of product pricing in this dataset."
   ]
  },
  {
   "cell_type": "markdown",
   "id": "ba0f0f9b",
   "metadata": {},
   "source": [
    "### Discounts by Product Category"
   ]
  },
  {
   "cell_type": "code",
   "execution_count": 26,
   "id": "cb3bc76a",
   "metadata": {},
   "outputs": [
    {
     "data": {
      "image/png": "[encoded data removed]",
      "text/plain": [
       "<Figure size 1000x600 with 1 Axes>"
      ]
     },
     "metadata": {},
     "output_type": "display_data"
    }
   ],
   "source": [
    "# Grouping by 'main_category' and calculating the average discount percentage\n",
    "category_discount = df.groupby('main_category')['discount_percentage'].mean().sort_values(ascending=False)\n",
    "\n",
    "# Plotting the results\n",
    "plt.figure(figsize=(10, 6))\n",
    "category_discount.plot(kind='bar', color='skyblue')\n",
    "plt.title(\"Average Discount Percentage by Product Category\")\n",
    "plt.xlabel(\"Product Category\")\n",
    "plt.ylabel(\"Average Discount Percentage (%)\")\n",
    "plt.xticks(rotation=45, ha=\"right\")\n",
    "plt.show()"
   ]
  },
  {
   "cell_type": "markdown",
   "id": "1b04d1e0",
   "metadata": {},
   "source": [
    "Gaming and Phones & Tablets are the categories with the highest average discount percentages, both slightly above 40%. This suggests that retailers might offer higher discounts in these categories, possibly due to competition or product lifecycle considerations (e.g., clearance of older models or new releases).\n",
    "\n",
    "Grocery stands out as having a much lower discount percentage, which is typical, as grocery items generally have lower profit margins and are less likely to have significant discounts compared to electronics or fashion products.\n",
    "\n",
    "The remaining categories, such as Fashion, Computing, and Health & Beauty, all show moderate discount percentages, ranging from 20% to 40%. This suggests a similar discounting strategy across these common consumer product categories."
   ]
  },
  {
   "cell_type": "markdown",
   "id": "b0f039ef",
   "metadata": {},
   "source": [
    "### Discounts by Price Range"
   ]
  },
  {
   "cell_type": "code",
   "execution_count": 27,
   "id": "07da7e35",
   "metadata": {},
   "outputs": [
    {
     "name": "stderr",
     "output_type": "stream",
     "text": [
      "C:\\Users\\User\\AppData\\Local\\Temp\\ipykernel_10108\\2681739294.py:7: FutureWarning: The default of observed=False is deprecated and will be changed to True in a future version of pandas. Pass observed=False to retain current behavior or observed=True to adopt the future default and silence this warning.\n",
      "  price_range_discount = df.groupby('price_range')['discount_percentage'].mean()\n"
     ]
    },
    {
     "data": {
      "image/png": "[encoded data removed]",
      "text/plain": [
       "<Figure size 1000x600 with 1 Axes>"
      ]
     },
     "metadata": {},
     "output_type": "display_data"
    }
   ],
   "source": [
    "# Define price ranges (e.g., Low: < 1000, Mid: 1000-5000, High: > 5000)\n",
    "bins = [0, 1000, 5000, 10000, float('inf')]\n",
    "labels = ['Low', 'Mid', 'High', 'Very High']\n",
    "df['price_range'] = pd.cut(df['original_price_numeric'], bins=bins, labels=labels)\n",
    "\n",
    "# Grouping by price range and calculating the average discount percentage\n",
    "price_range_discount = df.groupby('price_range')['discount_percentage'].mean()\n",
    "\n",
    "# Plotting the results\n",
    "plt.figure(figsize=(10, 6))\n",
    "price_range_discount.plot(kind='bar', color='lightcoral')\n",
    "plt.title(\"Average Discount Percentage by Price Range\")\n",
    "plt.xlabel(\"Price Range\")\n",
    "plt.ylabel(\"Average Discount Percentage (%)\")\n",
    "plt.xticks(rotation=0)\n",
    "plt.show()\n"
   ]
  },
  {
   "cell_type": "markdown",
   "id": "e97203c7",
   "metadata": {},
   "source": [
    "This suggests that discounts are relatively consistent across all price ranges. In other words, products of different price levels (low, mid, high) do not show significant variation in discount percentages, which is contrary to the expectation that higher-priced products would necessarily receive higher discounts."
   ]
  },
  {
   "cell_type": "markdown",
   "id": "13a71651",
   "metadata": {},
   "source": [
    "### Discounts by Ratings"
   ]
  },
  {
   "cell_type": "code",
   "execution_count": 30,
   "id": "7aac641f",
   "metadata": {},
   "outputs": [
    {
     "data": {
      "image/png": "[encoded data removed]",
      "text/plain": [
       "<Figure size 1000x600 with 1 Axes>"
      ]
     },
     "metadata": {},
     "output_type": "display_data"
    }
   ],
   "source": [
    "# First, ensure the 'rating_number' is numeric (it may have been read as a string)\n",
    "df['rating_number'] = pd.to_numeric(df['rating_number'], errors='coerce')\n",
    "\n",
    "# Grouping by 'rating_number' and calculating the average discount percentage\n",
    "rating_discount = df.groupby('rating_number')['discount_percentage'].mean()\n",
    "\n",
    "# Plotting the results\n",
    "plt.figure(figsize=(10, 6))\n",
    "rating_discount.plot(kind='line', marker='o', color='purple')\n",
    "plt.title(\"Average Discount Percentage by Product Rating\")\n",
    "plt.xlabel(\"Rating Number\")\n",
    "plt.ylabel(\"Average Discount Percentage (%)\")\n",
    "plt.grid(True)\n",
    "plt.show()"
   ]
  },
  {
   "cell_type": "markdown",
   "id": "6ae0e21f",
   "metadata": {},
   "source": [
    "Higher ratings (4 and 5 stars) generally tend to have lower average discount percentages compared to products with lower ratings (1 to 3 stars).\n",
    "\n",
    "The pattern fluctuates quite a bit, but there’s no strong linear relationship. Specifically:\n",
    "\n",
    "Products with a rating of 0 seem to have a very high average discount, but there are very few of these products.\n",
    "\n",
    "There are noticeable spikes in the 1-star and 5-star ratings, suggesting that products with these ratings may be discounted more than those in the middle.\n",
    "\n",
    "This implies that products with higher ratings (especially 4 and 5 stars) may be offered fewer discounts, possibly because they are more desirable or in higher demand. Lower-rated products, on the other hand, may be discounted more in an effort to boost sales."
   ]
  },
  {
   "cell_type": "code",
   "execution_count": null,
   "id": "0860d5a5",
   "metadata": {},
   "outputs": [],
   "source": []
  }
 ],
 "metadata": {
  "kernelspec": {
   "display_name": "clean_env",
   "language": "python",
   "name": "python3"
  },
  "language_info": {
   "codemirror_mode": {
    "name": "ipython",
    "version": 3
   },
   "file_extension": ".py",
   "mimetype": "text/x-python",
   "name": "python",
   "nbconvert_exporter": "python",
   "pygments_lexer": "ipython3",
   "version": "3.11.13"
  }
 },
 "nbformat": 4,
 "nbformat_minor": 5
}
