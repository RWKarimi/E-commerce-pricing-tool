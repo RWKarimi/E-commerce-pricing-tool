{
 "cells": [
  {
   "cell_type": "code",
   "execution_count": 23,
   "id": "5b823971-71ee-49e3-9d24-c018d050892f",
   "metadata": {},
   "outputs": [],
   "source": [
    "#Import required libraries\n",
    "import pandas as pd\n",
    "import numpy as np\n",
    "import matplotlib.pyplot as plt\n",
    "import seaborn as sns\n",
    "import matplotlib.pyplot as plt"
   ]
  },
  {
   "cell_type": "markdown",
   "id": "a4b59a6a-40a4-401c-a308-02c9f15a2369",
   "metadata": {},
   "source": [
    "### Reading data into a dataframe named df, a copy is made later and saved as data. We will work on dataframe data leaving df untouched."
   ]
  },
  {
   "cell_type": "code",
   "execution_count": 20,
   "id": "48614f0d-5d4f-4949-913d-a21f3b59821e",
   "metadata": {},
   "outputs": [
    {
     "data": {
      "application/vnd.microsoft.datawrangler.viewer.v0+json": {
       "columns": [
        {
         "name": "index",
         "rawType": "int64",
         "type": "integer"
        },
        {
         "name": "date_scraped",
         "rawType": "object",
         "type": "string"
        },
        {
         "name": "page_number",
         "rawType": "int64",
         "type": "integer"
        },
        {
         "name": "product_url",
         "rawType": "object",
         "type": "string"
        },
        {
         "name": "image",
         "rawType": "object",
         "type": "string"
        },
        {
         "name": "current_price",
         "rawType": "object",
         "type": "string"
        },
        {
         "name": "title",
         "rawType": "object",
         "type": "string"
        },
        {
         "name": "brand",
         "rawType": "float64",
         "type": "float"
        },
        {
         "name": "original_price",
         "rawType": "object",
         "type": "string"
        },
        {
         "name": "discount",
         "rawType": "object",
         "type": "string"
        },
        {
         "name": "verified_ratings",
         "rawType": "object",
         "type": "string"
        },
        {
         "name": "rating_number",
         "rawType": "float64",
         "type": "float"
        },
        {
         "name": "seller",
         "rawType": "object",
         "type": "string"
        },
        {
         "name": "main_category",
         "rawType": "object",
         "type": "string"
        }
       ],
       "ref": "9f1e81d4-3697-49c2-a626-87d3d40ee1e2",
       "rows": [
        [
         "0",
         "2025-09-14",
         "1",
         "https://www.jumia.co.ke/ailyons-fk-0301-stainless-steel-2.0l-electric-kettle-black-34080919.html",
         "https://ke.jumia.is/unsafe/fit-in/300x300/filters:fill(white)/product/91/908043/1.jpg?2822",
         "KSh 499",
         "AILYONS FK-0301 Stainless Steel 2.0L Electric Kettle-Black",
         null,
         "KSh 1,399",
         "64%",
         "(3867 verified ratings)",
         "4.0",
         "UR-HOME(KENYA)",
         "Home & Office"
        ],
        [
         "1",
         "2025-09-14",
         "1",
         "https://www.jumia.co.ke/oking-ok310-1.7-wireless-fm-bright-torch-1000mah-tri-sim-2g-black-1yr-wrty-306394856.html",
         "https://ke.jumia.is/unsafe/fit-in/300x300/filters:fill(white)/product/65/8493603/1.jpg?0396",
         "KSh 719",
         "Oking OK310 1.7\" Wireless FM, Bright Torch, 1000mAh, Tri SIM, 2G - Black  (1YR WRTY)",
         null,
         "KSh 1,200",
         "40%",
         "(557 verified ratings)",
         "3.9",
         "ITEL MOBILE SHOP-SUNMUM TECH LTD - AC",
         "Phones & Tablets"
        ],
        [
         "2",
         "2025-09-14",
         "1",
         "https://www.jumia.co.ke/samsung-galaxy-a05-6.7-64gb-4gb-ram-dual-sim-5000mah-black-2yrs-wrty-250194934.html",
         "https://ke.jumia.is/unsafe/fit-in/300x300/filters:fill(white)/product/43/9491052/1.jpg?5057",
         "KSh 8,900",
         "Samsung Galaxy A05, 6.7\", 64GB + 4GB RAM (Dual SIM), 5000mAh, Black, (2YRs WRTY)",
         null,
         "KSh 13,187",
         "33%",
         "(523 verified ratings)",
         "4.1",
         "LOFFEL ELECTRONICS LIMITED - AC",
         "Phones & Tablets"
        ],
        [
         "3",
         "2025-09-14",
         "1",
         "https://www.jumia.co.ke/ailyons-afk-111-water-dispenser-hot-and-normal-with-storage-cabinet-1yr-wrty-118096692.html",
         "https://ke.jumia.is/unsafe/fit-in/300x300/filters:fill(white)/product/29/6690811/1.jpg?6558",
         "KSh 2,599",
         "AILYONS AFK-111 Water Dispenser Hot And Normal With Storage Cabinet (1YR WRTY)",
         null,
         "KSh 4,999",
         "48%",
         "(2092 verified ratings)",
         "3.9",
         "UR-HOME(KENYA)",
         "Home & Office"
        ],
        [
         "4",
         "2025-09-14",
         "1",
         "https://www.jumia.co.ke/fashion-couple-canvas-low-top-lace-up-shoes-classic-casual-sneakers-black-154042530.html",
         "https://ke.jumia.is/unsafe/fit-in/300x300/filters:fill(white)/product/03/5240451/1.jpg?3725",
         "KSh 699 - KSh 729",
         "Couple Canvas Low Top Lace-up Shoes Classic Casual Sneakers Black",
         null,
         "KSh 1,200 - KSh 1,500",
         "53%",
         "(734 verified ratings)",
         "4.2",
         "Waanzilish",
         "Fashion"
        ]
       ],
       "shape": {
        "columns": 13,
        "rows": 5
       }
      },
      "text/html": [
       "<div>\n",
       "<style scoped>\n",
       "    .dataframe tbody tr th:only-of-type {\n",
       "        vertical-align: middle;\n",
       "    }\n",
       "\n",
       "    .dataframe tbody tr th {\n",
       "        vertical-align: top;\n",
       "    }\n",
       "\n",
       "    .dataframe thead th {\n",
       "        text-align: right;\n",
       "    }\n",
       "</style>\n",
       "<table border=\"1\" class=\"dataframe\">\n",
       "  <thead>\n",
       "    <tr style=\"text-align: right;\">\n",
       "      <th></th>\n",
       "      <th>date_scraped</th>\n",
       "      <th>page_number</th>\n",
       "      <th>product_url</th>\n",
       "      <th>image</th>\n",
       "      <th>current_price</th>\n",
       "      <th>title</th>\n",
       "      <th>brand</th>\n",
       "      <th>original_price</th>\n",
       "      <th>discount</th>\n",
       "      <th>verified_ratings</th>\n",
       "      <th>rating_number</th>\n",
       "      <th>seller</th>\n",
       "      <th>main_category</th>\n",
       "    </tr>\n",
       "  </thead>\n",
       "  <tbody>\n",
       "    <tr>\n",
       "      <th>0</th>\n",
       "      <td>2025-09-14</td>\n",
       "      <td>1</td>\n",
       "      <td>https://www.jumia.co.ke/ailyons-fk-0301-stainl...</td>\n",
       "      <td>https://ke.jumia.is/unsafe/fit-in/300x300/filt...</td>\n",
       "      <td>KSh 499</td>\n",
       "      <td>AILYONS FK-0301 Stainless Steel 2.0L Electric ...</td>\n",
       "      <td>NaN</td>\n",
       "      <td>KSh 1,399</td>\n",
       "      <td>64%</td>\n",
       "      <td>(3867 verified ratings)</td>\n",
       "      <td>4.0</td>\n",
       "      <td>UR-HOME(KENYA)</td>\n",
       "      <td>Home &amp; Office</td>\n",
       "    </tr>\n",
       "    <tr>\n",
       "      <th>1</th>\n",
       "      <td>2025-09-14</td>\n",
       "      <td>1</td>\n",
       "      <td>https://www.jumia.co.ke/oking-ok310-1.7-wirele...</td>\n",
       "      <td>https://ke.jumia.is/unsafe/fit-in/300x300/filt...</td>\n",
       "      <td>KSh 719</td>\n",
       "      <td>Oking OK310 1.7\" Wireless FM, Bright Torch, 10...</td>\n",
       "      <td>NaN</td>\n",
       "      <td>KSh 1,200</td>\n",
       "      <td>40%</td>\n",
       "      <td>(557 verified ratings)</td>\n",
       "      <td>3.9</td>\n",
       "      <td>ITEL MOBILE SHOP-SUNMUM TECH LTD - AC</td>\n",
       "      <td>Phones &amp; Tablets</td>\n",
       "    </tr>\n",
       "    <tr>\n",
       "      <th>2</th>\n",
       "      <td>2025-09-14</td>\n",
       "      <td>1</td>\n",
       "      <td>https://www.jumia.co.ke/samsung-galaxy-a05-6.7...</td>\n",
       "      <td>https://ke.jumia.is/unsafe/fit-in/300x300/filt...</td>\n",
       "      <td>KSh 8,900</td>\n",
       "      <td>Samsung Galaxy A05, 6.7\", 64GB + 4GB RAM (Dual...</td>\n",
       "      <td>NaN</td>\n",
       "      <td>KSh 13,187</td>\n",
       "      <td>33%</td>\n",
       "      <td>(523 verified ratings)</td>\n",
       "      <td>4.1</td>\n",
       "      <td>LOFFEL ELECTRONICS LIMITED - AC</td>\n",
       "      <td>Phones &amp; Tablets</td>\n",
       "    </tr>\n",
       "    <tr>\n",
       "      <th>3</th>\n",
       "      <td>2025-09-14</td>\n",
       "      <td>1</td>\n",
       "      <td>https://www.jumia.co.ke/ailyons-afk-111-water-...</td>\n",
       "      <td>https://ke.jumia.is/unsafe/fit-in/300x300/filt...</td>\n",
       "      <td>KSh 2,599</td>\n",
       "      <td>AILYONS AFK-111 Water Dispenser Hot And Normal...</td>\n",
       "      <td>NaN</td>\n",
       "      <td>KSh 4,999</td>\n",
       "      <td>48%</td>\n",
       "      <td>(2092 verified ratings)</td>\n",
       "      <td>3.9</td>\n",
       "      <td>UR-HOME(KENYA)</td>\n",
       "      <td>Home &amp; Office</td>\n",
       "    </tr>\n",
       "    <tr>\n",
       "      <th>4</th>\n",
       "      <td>2025-09-14</td>\n",
       "      <td>1</td>\n",
       "      <td>https://www.jumia.co.ke/fashion-couple-canvas-...</td>\n",
       "      <td>https://ke.jumia.is/unsafe/fit-in/300x300/filt...</td>\n",
       "      <td>KSh 699 - KSh 729</td>\n",
       "      <td>Couple Canvas Low Top Lace-up Shoes Classic Ca...</td>\n",
       "      <td>NaN</td>\n",
       "      <td>KSh 1,200 - KSh 1,500</td>\n",
       "      <td>53%</td>\n",
       "      <td>(734 verified ratings)</td>\n",
       "      <td>4.2</td>\n",
       "      <td>Waanzilish</td>\n",
       "      <td>Fashion</td>\n",
       "    </tr>\n",
       "  </tbody>\n",
       "</table>\n",
       "</div>"
      ],
      "text/plain": [
       "  date_scraped  page_number  \\\n",
       "0   2025-09-14            1   \n",
       "1   2025-09-14            1   \n",
       "2   2025-09-14            1   \n",
       "3   2025-09-14            1   \n",
       "4   2025-09-14            1   \n",
       "\n",
       "                                         product_url  \\\n",
       "0  https://www.jumia.co.ke/ailyons-fk-0301-stainl...   \n",
       "1  https://www.jumia.co.ke/oking-ok310-1.7-wirele...   \n",
       "2  https://www.jumia.co.ke/samsung-galaxy-a05-6.7...   \n",
       "3  https://www.jumia.co.ke/ailyons-afk-111-water-...   \n",
       "4  https://www.jumia.co.ke/fashion-couple-canvas-...   \n",
       "\n",
       "                                               image      current_price  \\\n",
       "0  https://ke.jumia.is/unsafe/fit-in/300x300/filt...            KSh 499   \n",
       "1  https://ke.jumia.is/unsafe/fit-in/300x300/filt...            KSh 719   \n",
       "2  https://ke.jumia.is/unsafe/fit-in/300x300/filt...          KSh 8,900   \n",
       "3  https://ke.jumia.is/unsafe/fit-in/300x300/filt...          KSh 2,599   \n",
       "4  https://ke.jumia.is/unsafe/fit-in/300x300/filt...  KSh 699 - KSh 729   \n",
       "\n",
       "                                               title  brand  \\\n",
       "0  AILYONS FK-0301 Stainless Steel 2.0L Electric ...    NaN   \n",
       "1  Oking OK310 1.7\" Wireless FM, Bright Torch, 10...    NaN   \n",
       "2  Samsung Galaxy A05, 6.7\", 64GB + 4GB RAM (Dual...    NaN   \n",
       "3  AILYONS AFK-111 Water Dispenser Hot And Normal...    NaN   \n",
       "4  Couple Canvas Low Top Lace-up Shoes Classic Ca...    NaN   \n",
       "\n",
       "          original_price discount         verified_ratings  rating_number  \\\n",
       "0              KSh 1,399      64%  (3867 verified ratings)            4.0   \n",
       "1              KSh 1,200      40%   (557 verified ratings)            3.9   \n",
       "2             KSh 13,187      33%   (523 verified ratings)            4.1   \n",
       "3              KSh 4,999      48%  (2092 verified ratings)            3.9   \n",
       "4  KSh 1,200 - KSh 1,500      53%   (734 verified ratings)            4.2   \n",
       "\n",
       "                                  seller     main_category  \n",
       "0                         UR-HOME(KENYA)     Home & Office  \n",
       "1  ITEL MOBILE SHOP-SUNMUM TECH LTD - AC  Phones & Tablets  \n",
       "2        LOFFEL ELECTRONICS LIMITED - AC  Phones & Tablets  \n",
       "3                         UR-HOME(KENYA)     Home & Office  \n",
       "4                             Waanzilish           Fashion  "
      ]
     },
     "execution_count": 20,
     "metadata": {},
     "output_type": "execute_result"
    }
   ],
   "source": [
    "#Read the data and save it in a dataframe called df\n",
    "df = pd.read_csv(\"./Data/New_Price_Change_Monitoring_System.csv\")\n",
    "\n",
    "#read the first 5 rows\n",
    "df.head()"
   ]
  },
  {
   "cell_type": "code",
   "execution_count": 5,
   "id": "a671d8d5-e9bb-4c2d-bef1-95a1f1a04785",
   "metadata": {},
   "outputs": [
    {
     "data": {
      "application/vnd.microsoft.datawrangler.viewer.v0+json": {
       "columns": [
        {
         "name": "index",
         "rawType": "int64",
         "type": "integer"
        },
        {
         "name": "date_scraped",
         "rawType": "object",
         "type": "string"
        },
        {
         "name": "page_number",
         "rawType": "int64",
         "type": "integer"
        },
        {
         "name": "product_url",
         "rawType": "object",
         "type": "string"
        },
        {
         "name": "image",
         "rawType": "object",
         "type": "string"
        },
        {
         "name": "current_price",
         "rawType": "object",
         "type": "string"
        },
        {
         "name": "title",
         "rawType": "object",
         "type": "string"
        },
        {
         "name": "brand",
         "rawType": "float64",
         "type": "float"
        },
        {
         "name": "original_price",
         "rawType": "object",
         "type": "string"
        },
        {
         "name": "discount",
         "rawType": "object",
         "type": "string"
        },
        {
         "name": "verified_ratings",
         "rawType": "object",
         "type": "string"
        },
        {
         "name": "rating_number",
         "rawType": "float64",
         "type": "float"
        },
        {
         "name": "seller",
         "rawType": "object",
         "type": "string"
        },
        {
         "name": "main_category",
         "rawType": "object",
         "type": "string"
        }
       ],
       "ref": "a6e61ae1-b30b-4e67-b2ef-23d466c53da0",
       "rows": [
        [
         "0",
         "2025-09-14",
         "1",
         "https://www.jumia.co.ke/ailyons-fk-0301-stainless-steel-2.0l-electric-kettle-black-34080919.html",
         "https://ke.jumia.is/unsafe/fit-in/300x300/filters:fill(white)/product/91/908043/1.jpg?2822",
         "KSh 499",
         "AILYONS FK-0301 Stainless Steel 2.0L Electric Kettle-Black",
         null,
         "KSh 1,399",
         "64%",
         "(3867 verified ratings)",
         "4.0",
         "UR-HOME(KENYA)",
         "Home & Office"
        ],
        [
         "1",
         "2025-09-14",
         "1",
         "https://www.jumia.co.ke/oking-ok310-1.7-wireless-fm-bright-torch-1000mah-tri-sim-2g-black-1yr-wrty-306394856.html",
         "https://ke.jumia.is/unsafe/fit-in/300x300/filters:fill(white)/product/65/8493603/1.jpg?0396",
         "KSh 719",
         "Oking OK310 1.7\" Wireless FM, Bright Torch, 1000mAh, Tri SIM, 2G - Black  (1YR WRTY)",
         null,
         "KSh 1,200",
         "40%",
         "(557 verified ratings)",
         "3.9",
         "ITEL MOBILE SHOP-SUNMUM TECH LTD - AC",
         "Phones & Tablets"
        ],
        [
         "2",
         "2025-09-14",
         "1",
         "https://www.jumia.co.ke/samsung-galaxy-a05-6.7-64gb-4gb-ram-dual-sim-5000mah-black-2yrs-wrty-250194934.html",
         "https://ke.jumia.is/unsafe/fit-in/300x300/filters:fill(white)/product/43/9491052/1.jpg?5057",
         "KSh 8,900",
         "Samsung Galaxy A05, 6.7\", 64GB + 4GB RAM (Dual SIM), 5000mAh, Black, (2YRs WRTY)",
         null,
         "KSh 13,187",
         "33%",
         "(523 verified ratings)",
         "4.1",
         "LOFFEL ELECTRONICS LIMITED - AC",
         "Phones & Tablets"
        ],
        [
         "3",
         "2025-09-14",
         "1",
         "https://www.jumia.co.ke/ailyons-afk-111-water-dispenser-hot-and-normal-with-storage-cabinet-1yr-wrty-118096692.html",
         "https://ke.jumia.is/unsafe/fit-in/300x300/filters:fill(white)/product/29/6690811/1.jpg?6558",
         "KSh 2,599",
         "AILYONS AFK-111 Water Dispenser Hot And Normal With Storage Cabinet (1YR WRTY)",
         null,
         "KSh 4,999",
         "48%",
         "(2092 verified ratings)",
         "3.9",
         "UR-HOME(KENYA)",
         "Home & Office"
        ],
        [
         "4",
         "2025-09-14",
         "1",
         "https://www.jumia.co.ke/fashion-couple-canvas-low-top-lace-up-shoes-classic-casual-sneakers-black-154042530.html",
         "https://ke.jumia.is/unsafe/fit-in/300x300/filters:fill(white)/product/03/5240451/1.jpg?3725",
         "KSh 699 - KSh 729",
         "Couple Canvas Low Top Lace-up Shoes Classic Casual Sneakers Black",
         null,
         "KSh 1,200 - KSh 1,500",
         "53%",
         "(734 verified ratings)",
         "4.2",
         "Waanzilish",
         "Fashion"
        ]
       ],
       "shape": {
        "columns": 13,
        "rows": 5
       }
      },
      "text/html": [
       "<div>\n",
       "<style scoped>\n",
       "    .dataframe tbody tr th:only-of-type {\n",
       "        vertical-align: middle;\n",
       "    }\n",
       "\n",
       "    .dataframe tbody tr th {\n",
       "        vertical-align: top;\n",
       "    }\n",
       "\n",
       "    .dataframe thead th {\n",
       "        text-align: right;\n",
       "    }\n",
       "</style>\n",
       "<table border=\"1\" class=\"dataframe\">\n",
       "  <thead>\n",
       "    <tr style=\"text-align: right;\">\n",
       "      <th></th>\n",
       "      <th>date_scraped</th>\n",
       "      <th>page_number</th>\n",
       "      <th>product_url</th>\n",
       "      <th>image</th>\n",
       "      <th>current_price</th>\n",
       "      <th>title</th>\n",
       "      <th>brand</th>\n",
       "      <th>original_price</th>\n",
       "      <th>discount</th>\n",
       "      <th>verified_ratings</th>\n",
       "      <th>rating_number</th>\n",
       "      <th>seller</th>\n",
       "      <th>main_category</th>\n",
       "    </tr>\n",
       "  </thead>\n",
       "  <tbody>\n",
       "    <tr>\n",
       "      <th>0</th>\n",
       "      <td>2025-09-14</td>\n",
       "      <td>1</td>\n",
       "      <td>https://www.jumia.co.ke/ailyons-fk-0301-stainl...</td>\n",
       "      <td>https://ke.jumia.is/unsafe/fit-in/300x300/filt...</td>\n",
       "      <td>KSh 499</td>\n",
       "      <td>AILYONS FK-0301 Stainless Steel 2.0L Electric ...</td>\n",
       "      <td>NaN</td>\n",
       "      <td>KSh 1,399</td>\n",
       "      <td>64%</td>\n",
       "      <td>(3867 verified ratings)</td>\n",
       "      <td>4.0</td>\n",
       "      <td>UR-HOME(KENYA)</td>\n",
       "      <td>Home &amp; Office</td>\n",
       "    </tr>\n",
       "    <tr>\n",
       "      <th>1</th>\n",
       "      <td>2025-09-14</td>\n",
       "      <td>1</td>\n",
       "      <td>https://www.jumia.co.ke/oking-ok310-1.7-wirele...</td>\n",
       "      <td>https://ke.jumia.is/unsafe/fit-in/300x300/filt...</td>\n",
       "      <td>KSh 719</td>\n",
       "      <td>Oking OK310 1.7\" Wireless FM, Bright Torch, 10...</td>\n",
       "      <td>NaN</td>\n",
       "      <td>KSh 1,200</td>\n",
       "      <td>40%</td>\n",
       "      <td>(557 verified ratings)</td>\n",
       "      <td>3.9</td>\n",
       "      <td>ITEL MOBILE SHOP-SUNMUM TECH LTD - AC</td>\n",
       "      <td>Phones &amp; Tablets</td>\n",
       "    </tr>\n",
       "    <tr>\n",
       "      <th>2</th>\n",
       "      <td>2025-09-14</td>\n",
       "      <td>1</td>\n",
       "      <td>https://www.jumia.co.ke/samsung-galaxy-a05-6.7...</td>\n",
       "      <td>https://ke.jumia.is/unsafe/fit-in/300x300/filt...</td>\n",
       "      <td>KSh 8,900</td>\n",
       "      <td>Samsung Galaxy A05, 6.7\", 64GB + 4GB RAM (Dual...</td>\n",
       "      <td>NaN</td>\n",
       "      <td>KSh 13,187</td>\n",
       "      <td>33%</td>\n",
       "      <td>(523 verified ratings)</td>\n",
       "      <td>4.1</td>\n",
       "      <td>LOFFEL ELECTRONICS LIMITED - AC</td>\n",
       "      <td>Phones &amp; Tablets</td>\n",
       "    </tr>\n",
       "    <tr>\n",
       "      <th>3</th>\n",
       "      <td>2025-09-14</td>\n",
       "      <td>1</td>\n",
       "      <td>https://www.jumia.co.ke/ailyons-afk-111-water-...</td>\n",
       "      <td>https://ke.jumia.is/unsafe/fit-in/300x300/filt...</td>\n",
       "      <td>KSh 2,599</td>\n",
       "      <td>AILYONS AFK-111 Water Dispenser Hot And Normal...</td>\n",
       "      <td>NaN</td>\n",
       "      <td>KSh 4,999</td>\n",
       "      <td>48%</td>\n",
       "      <td>(2092 verified ratings)</td>\n",
       "      <td>3.9</td>\n",
       "      <td>UR-HOME(KENYA)</td>\n",
       "      <td>Home &amp; Office</td>\n",
       "    </tr>\n",
       "    <tr>\n",
       "      <th>4</th>\n",
       "      <td>2025-09-14</td>\n",
       "      <td>1</td>\n",
       "      <td>https://www.jumia.co.ke/fashion-couple-canvas-...</td>\n",
       "      <td>https://ke.jumia.is/unsafe/fit-in/300x300/filt...</td>\n",
       "      <td>KSh 699 - KSh 729</td>\n",
       "      <td>Couple Canvas Low Top Lace-up Shoes Classic Ca...</td>\n",
       "      <td>NaN</td>\n",
       "      <td>KSh 1,200 - KSh 1,500</td>\n",
       "      <td>53%</td>\n",
       "      <td>(734 verified ratings)</td>\n",
       "      <td>4.2</td>\n",
       "      <td>Waanzilish</td>\n",
       "      <td>Fashion</td>\n",
       "    </tr>\n",
       "  </tbody>\n",
       "</table>\n",
       "</div>"
      ],
      "text/plain": [
       "  date_scraped  page_number  \\\n",
       "0   2025-09-14            1   \n",
       "1   2025-09-14            1   \n",
       "2   2025-09-14            1   \n",
       "3   2025-09-14            1   \n",
       "4   2025-09-14            1   \n",
       "\n",
       "                                         product_url  \\\n",
       "0  https://www.jumia.co.ke/ailyons-fk-0301-stainl...   \n",
       "1  https://www.jumia.co.ke/oking-ok310-1.7-wirele...   \n",
       "2  https://www.jumia.co.ke/samsung-galaxy-a05-6.7...   \n",
       "3  https://www.jumia.co.ke/ailyons-afk-111-water-...   \n",
       "4  https://www.jumia.co.ke/fashion-couple-canvas-...   \n",
       "\n",
       "                                               image      current_price  \\\n",
       "0  https://ke.jumia.is/unsafe/fit-in/300x300/filt...            KSh 499   \n",
       "1  https://ke.jumia.is/unsafe/fit-in/300x300/filt...            KSh 719   \n",
       "2  https://ke.jumia.is/unsafe/fit-in/300x300/filt...          KSh 8,900   \n",
       "3  https://ke.jumia.is/unsafe/fit-in/300x300/filt...          KSh 2,599   \n",
       "4  https://ke.jumia.is/unsafe/fit-in/300x300/filt...  KSh 699 - KSh 729   \n",
       "\n",
       "                                               title  brand  \\\n",
       "0  AILYONS FK-0301 Stainless Steel 2.0L Electric ...    NaN   \n",
       "1  Oking OK310 1.7\" Wireless FM, Bright Torch, 10...    NaN   \n",
       "2  Samsung Galaxy A05, 6.7\", 64GB + 4GB RAM (Dual...    NaN   \n",
       "3  AILYONS AFK-111 Water Dispenser Hot And Normal...    NaN   \n",
       "4  Couple Canvas Low Top Lace-up Shoes Classic Ca...    NaN   \n",
       "\n",
       "          original_price discount         verified_ratings  rating_number  \\\n",
       "0              KSh 1,399      64%  (3867 verified ratings)            4.0   \n",
       "1              KSh 1,200      40%   (557 verified ratings)            3.9   \n",
       "2             KSh 13,187      33%   (523 verified ratings)            4.1   \n",
       "3              KSh 4,999      48%  (2092 verified ratings)            3.9   \n",
       "4  KSh 1,200 - KSh 1,500      53%   (734 verified ratings)            4.2   \n",
       "\n",
       "                                  seller     main_category  \n",
       "0                         UR-HOME(KENYA)     Home & Office  \n",
       "1  ITEL MOBILE SHOP-SUNMUM TECH LTD - AC  Phones & Tablets  \n",
       "2        LOFFEL ELECTRONICS LIMITED - AC  Phones & Tablets  \n",
       "3                         UR-HOME(KENYA)     Home & Office  \n",
       "4                             Waanzilish           Fashion  "
      ]
     },
     "execution_count": 5,
     "metadata": {},
     "output_type": "execute_result"
    }
   ],
   "source": [
    "#Make a copy and save it as data. we will work on data, and leave df as the original untouched dataframe.\n",
    "data=df.copy()\n",
    "data.head()"
   ]
  },
  {
   "cell_type": "code",
   "execution_count": 6,
   "id": "fbb8f899-329a-4d27-938d-a77508e59999",
   "metadata": {},
   "outputs": [
    {
     "data": {
      "text/plain": [
       "(1999, 13)"
      ]
     },
     "execution_count": 6,
     "metadata": {},
     "output_type": "execute_result"
    }
   ],
   "source": [
    "#check the number of rows and columns\n",
    "data.shape"
   ]
  },
  {
   "cell_type": "code",
   "execution_count": 7,
   "id": "974c0113-2a5b-4e59-abc5-977754eb44ea",
   "metadata": {},
   "outputs": [
    {
     "name": "stdout",
     "output_type": "stream",
     "text": [
      "<class 'pandas.core.frame.DataFrame'>\n",
      "RangeIndex: 1999 entries, 0 to 1998\n",
      "Data columns (total 13 columns):\n",
      " #   Column            Non-Null Count  Dtype  \n",
      "---  ------            --------------  -----  \n",
      " 0   date_scraped      1999 non-null   object \n",
      " 1   page_number       1999 non-null   int64  \n",
      " 2   product_url       1999 non-null   object \n",
      " 3   image             1999 non-null   object \n",
      " 4   current_price     1999 non-null   object \n",
      " 5   title             1999 non-null   object \n",
      " 6   brand             0 non-null      float64\n",
      " 7   original_price    1798 non-null   object \n",
      " 8   discount          1798 non-null   object \n",
      " 9   verified_ratings  1549 non-null   object \n",
      " 10  rating_number     1999 non-null   float64\n",
      " 11  seller            1999 non-null   object \n",
      " 12  main_category     1999 non-null   object \n",
      "dtypes: float64(2), int64(1), object(10)\n",
      "memory usage: 203.2+ KB\n"
     ]
    }
   ],
   "source": [
    "#Check for missing values, datatypes.\n",
    "data.info()"
   ]
  },
  {
   "cell_type": "code",
   "execution_count": 8,
   "id": "dcab3813-4f07-42e4-853d-7080dfc17faa",
   "metadata": {},
   "outputs": [
    {
     "data": {
      "text/plain": [
       "(1999, 12)"
      ]
     },
     "execution_count": 8,
     "metadata": {},
     "output_type": "execute_result"
    }
   ],
   "source": [
    "#Drop brand since the column is empty\n",
    "data = data.drop(columns=['brand'], errors='ignore')\n",
    "data.shape"
   ]
  },
  {
   "cell_type": "markdown",
   "id": "d1132620-4df3-4852-9a55-097576c82938",
   "metadata": {},
   "source": [
    "### Data Cleaning"
   ]
  },
  {
   "cell_type": "code",
   "execution_count": 9,
   "id": "96b24f46-9233-4616-9544-5e94742eb42a",
   "metadata": {},
   "outputs": [
    {
     "data": {
      "application/vnd.microsoft.datawrangler.viewer.v0+json": {
       "columns": [
        {
         "name": "index",
         "rawType": "int64",
         "type": "integer"
        },
        {
         "name": "date_scraped",
         "rawType": "object",
         "type": "string"
        },
        {
         "name": "page_number",
         "rawType": "int64",
         "type": "integer"
        },
        {
         "name": "product_url",
         "rawType": "object",
         "type": "string"
        },
        {
         "name": "image",
         "rawType": "object",
         "type": "string"
        },
        {
         "name": "current_price",
         "rawType": "float64",
         "type": "float"
        },
        {
         "name": "title",
         "rawType": "object",
         "type": "string"
        },
        {
         "name": "original_price",
         "rawType": "float64",
         "type": "float"
        },
        {
         "name": "discount",
         "rawType": "object",
         "type": "string"
        },
        {
         "name": "verified_ratings",
         "rawType": "object",
         "type": "string"
        },
        {
         "name": "rating_number",
         "rawType": "float64",
         "type": "float"
        },
        {
         "name": "seller",
         "rawType": "object",
         "type": "string"
        },
        {
         "name": "main_category",
         "rawType": "object",
         "type": "string"
        }
       ],
       "ref": "0a9693e9-95e6-4be3-803d-8b8b58522c11",
       "rows": [
        [
         "0",
         "2025-09-14",
         "1",
         "https://www.jumia.co.ke/ailyons-fk-0301-stainless-steel-2.0l-electric-kettle-black-34080919.html",
         "https://ke.jumia.is/unsafe/fit-in/300x300/filters:fill(white)/product/91/908043/1.jpg?2822",
         "499.0",
         "AILYONS FK-0301 Stainless Steel 2.0L Electric Kettle-Black",
         "1399.0",
         "64%",
         "(3867 verified ratings)",
         "4.0",
         "UR-HOME(KENYA)",
         "Home & Office"
        ],
        [
         "1",
         "2025-09-14",
         "1",
         "https://www.jumia.co.ke/oking-ok310-1.7-wireless-fm-bright-torch-1000mah-tri-sim-2g-black-1yr-wrty-306394856.html",
         "https://ke.jumia.is/unsafe/fit-in/300x300/filters:fill(white)/product/65/8493603/1.jpg?0396",
         "719.0",
         "Oking OK310 1.7\" Wireless FM, Bright Torch, 1000mAh, Tri SIM, 2G - Black  (1YR WRTY)",
         "1200.0",
         "40%",
         "(557 verified ratings)",
         "3.9",
         "ITEL MOBILE SHOP-SUNMUM TECH LTD - AC",
         "Phones & Tablets"
        ],
        [
         "2",
         "2025-09-14",
         "1",
         "https://www.jumia.co.ke/samsung-galaxy-a05-6.7-64gb-4gb-ram-dual-sim-5000mah-black-2yrs-wrty-250194934.html",
         "https://ke.jumia.is/unsafe/fit-in/300x300/filters:fill(white)/product/43/9491052/1.jpg?5057",
         "8900.0",
         "Samsung Galaxy A05, 6.7\", 64GB + 4GB RAM (Dual SIM), 5000mAh, Black, (2YRs WRTY)",
         "13187.0",
         "33%",
         "(523 verified ratings)",
         "4.1",
         "LOFFEL ELECTRONICS LIMITED - AC",
         "Phones & Tablets"
        ],
        [
         "3",
         "2025-09-14",
         "1",
         "https://www.jumia.co.ke/ailyons-afk-111-water-dispenser-hot-and-normal-with-storage-cabinet-1yr-wrty-118096692.html",
         "https://ke.jumia.is/unsafe/fit-in/300x300/filters:fill(white)/product/29/6690811/1.jpg?6558",
         "2599.0",
         "AILYONS AFK-111 Water Dispenser Hot And Normal With Storage Cabinet (1YR WRTY)",
         "4999.0",
         "48%",
         "(2092 verified ratings)",
         "3.9",
         "UR-HOME(KENYA)",
         "Home & Office"
        ],
        [
         "4",
         "2025-09-14",
         "1",
         "https://www.jumia.co.ke/fashion-couple-canvas-low-top-lace-up-shoes-classic-casual-sneakers-black-154042530.html",
         "https://ke.jumia.is/unsafe/fit-in/300x300/filters:fill(white)/product/03/5240451/1.jpg?3725",
         "714.0",
         "Couple Canvas Low Top Lace-up Shoes Classic Casual Sneakers Black",
         "1350.0",
         "53%",
         "(734 verified ratings)",
         "4.2",
         "Waanzilish",
         "Fashion"
        ]
       ],
       "shape": {
        "columns": 12,
        "rows": 5
       }
      },
      "text/html": [
       "<div>\n",
       "<style scoped>\n",
       "    .dataframe tbody tr th:only-of-type {\n",
       "        vertical-align: middle;\n",
       "    }\n",
       "\n",
       "    .dataframe tbody tr th {\n",
       "        vertical-align: top;\n",
       "    }\n",
       "\n",
       "    .dataframe thead th {\n",
       "        text-align: right;\n",
       "    }\n",
       "</style>\n",
       "<table border=\"1\" class=\"dataframe\">\n",
       "  <thead>\n",
       "    <tr style=\"text-align: right;\">\n",
       "      <th></th>\n",
       "      <th>date_scraped</th>\n",
       "      <th>page_number</th>\n",
       "      <th>product_url</th>\n",
       "      <th>image</th>\n",
       "      <th>current_price</th>\n",
       "      <th>title</th>\n",
       "      <th>original_price</th>\n",
       "      <th>discount</th>\n",
       "      <th>verified_ratings</th>\n",
       "      <th>rating_number</th>\n",
       "      <th>seller</th>\n",
       "      <th>main_category</th>\n",
       "    </tr>\n",
       "  </thead>\n",
       "  <tbody>\n",
       "    <tr>\n",
       "      <th>0</th>\n",
       "      <td>2025-09-14</td>\n",
       "      <td>1</td>\n",
       "      <td>https://www.jumia.co.ke/ailyons-fk-0301-stainl...</td>\n",
       "      <td>https://ke.jumia.is/unsafe/fit-in/300x300/filt...</td>\n",
       "      <td>499.0</td>\n",
       "      <td>AILYONS FK-0301 Stainless Steel 2.0L Electric ...</td>\n",
       "      <td>1399.0</td>\n",
       "      <td>64%</td>\n",
       "      <td>(3867 verified ratings)</td>\n",
       "      <td>4.0</td>\n",
       "      <td>UR-HOME(KENYA)</td>\n",
       "      <td>Home &amp; Office</td>\n",
       "    </tr>\n",
       "    <tr>\n",
       "      <th>1</th>\n",
       "      <td>2025-09-14</td>\n",
       "      <td>1</td>\n",
       "      <td>https://www.jumia.co.ke/oking-ok310-1.7-wirele...</td>\n",
       "      <td>https://ke.jumia.is/unsafe/fit-in/300x300/filt...</td>\n",
       "      <td>719.0</td>\n",
       "      <td>Oking OK310 1.7\" Wireless FM, Bright Torch, 10...</td>\n",
       "      <td>1200.0</td>\n",
       "      <td>40%</td>\n",
       "      <td>(557 verified ratings)</td>\n",
       "      <td>3.9</td>\n",
       "      <td>ITEL MOBILE SHOP-SUNMUM TECH LTD - AC</td>\n",
       "      <td>Phones &amp; Tablets</td>\n",
       "    </tr>\n",
       "    <tr>\n",
       "      <th>2</th>\n",
       "      <td>2025-09-14</td>\n",
       "      <td>1</td>\n",
       "      <td>https://www.jumia.co.ke/samsung-galaxy-a05-6.7...</td>\n",
       "      <td>https://ke.jumia.is/unsafe/fit-in/300x300/filt...</td>\n",
       "      <td>8900.0</td>\n",
       "      <td>Samsung Galaxy A05, 6.7\", 64GB + 4GB RAM (Dual...</td>\n",
       "      <td>13187.0</td>\n",
       "      <td>33%</td>\n",
       "      <td>(523 verified ratings)</td>\n",
       "      <td>4.1</td>\n",
       "      <td>LOFFEL ELECTRONICS LIMITED - AC</td>\n",
       "      <td>Phones &amp; Tablets</td>\n",
       "    </tr>\n",
       "    <tr>\n",
       "      <th>3</th>\n",
       "      <td>2025-09-14</td>\n",
       "      <td>1</td>\n",
       "      <td>https://www.jumia.co.ke/ailyons-afk-111-water-...</td>\n",
       "      <td>https://ke.jumia.is/unsafe/fit-in/300x300/filt...</td>\n",
       "      <td>2599.0</td>\n",
       "      <td>AILYONS AFK-111 Water Dispenser Hot And Normal...</td>\n",
       "      <td>4999.0</td>\n",
       "      <td>48%</td>\n",
       "      <td>(2092 verified ratings)</td>\n",
       "      <td>3.9</td>\n",
       "      <td>UR-HOME(KENYA)</td>\n",
       "      <td>Home &amp; Office</td>\n",
       "    </tr>\n",
       "    <tr>\n",
       "      <th>4</th>\n",
       "      <td>2025-09-14</td>\n",
       "      <td>1</td>\n",
       "      <td>https://www.jumia.co.ke/fashion-couple-canvas-...</td>\n",
       "      <td>https://ke.jumia.is/unsafe/fit-in/300x300/filt...</td>\n",
       "      <td>714.0</td>\n",
       "      <td>Couple Canvas Low Top Lace-up Shoes Classic Ca...</td>\n",
       "      <td>1350.0</td>\n",
       "      <td>53%</td>\n",
       "      <td>(734 verified ratings)</td>\n",
       "      <td>4.2</td>\n",
       "      <td>Waanzilish</td>\n",
       "      <td>Fashion</td>\n",
       "    </tr>\n",
       "  </tbody>\n",
       "</table>\n",
       "</div>"
      ],
      "text/plain": [
       "  date_scraped  page_number  \\\n",
       "0   2025-09-14            1   \n",
       "1   2025-09-14            1   \n",
       "2   2025-09-14            1   \n",
       "3   2025-09-14            1   \n",
       "4   2025-09-14            1   \n",
       "\n",
       "                                         product_url  \\\n",
       "0  https://www.jumia.co.ke/ailyons-fk-0301-stainl...   \n",
       "1  https://www.jumia.co.ke/oking-ok310-1.7-wirele...   \n",
       "2  https://www.jumia.co.ke/samsung-galaxy-a05-6.7...   \n",
       "3  https://www.jumia.co.ke/ailyons-afk-111-water-...   \n",
       "4  https://www.jumia.co.ke/fashion-couple-canvas-...   \n",
       "\n",
       "                                               image  current_price  \\\n",
       "0  https://ke.jumia.is/unsafe/fit-in/300x300/filt...          499.0   \n",
       "1  https://ke.jumia.is/unsafe/fit-in/300x300/filt...          719.0   \n",
       "2  https://ke.jumia.is/unsafe/fit-in/300x300/filt...         8900.0   \n",
       "3  https://ke.jumia.is/unsafe/fit-in/300x300/filt...         2599.0   \n",
       "4  https://ke.jumia.is/unsafe/fit-in/300x300/filt...          714.0   \n",
       "\n",
       "                                               title  original_price discount  \\\n",
       "0  AILYONS FK-0301 Stainless Steel 2.0L Electric ...          1399.0      64%   \n",
       "1  Oking OK310 1.7\" Wireless FM, Bright Torch, 10...          1200.0      40%   \n",
       "2  Samsung Galaxy A05, 6.7\", 64GB + 4GB RAM (Dual...         13187.0      33%   \n",
       "3  AILYONS AFK-111 Water Dispenser Hot And Normal...          4999.0      48%   \n",
       "4  Couple Canvas Low Top Lace-up Shoes Classic Ca...          1350.0      53%   \n",
       "\n",
       "          verified_ratings  rating_number  \\\n",
       "0  (3867 verified ratings)            4.0   \n",
       "1   (557 verified ratings)            3.9   \n",
       "2   (523 verified ratings)            4.1   \n",
       "3  (2092 verified ratings)            3.9   \n",
       "4   (734 verified ratings)            4.2   \n",
       "\n",
       "                                  seller     main_category  \n",
       "0                         UR-HOME(KENYA)     Home & Office  \n",
       "1  ITEL MOBILE SHOP-SUNMUM TECH LTD - AC  Phones & Tablets  \n",
       "2        LOFFEL ELECTRONICS LIMITED - AC  Phones & Tablets  \n",
       "3                         UR-HOME(KENYA)     Home & Office  \n",
       "4                             Waanzilish           Fashion  "
      ]
     },
     "execution_count": 9,
     "metadata": {},
     "output_type": "execute_result"
    }
   ],
   "source": [
    "# 2. Clean current_price & original_price. make them numeric\n",
    "def clean_price(x):\n",
    "    if pd.isna(x):\n",
    "        return np.nan\n",
    "    x = str(x).replace(\"KSh\", \"\").replace(\",\", \"\").strip()\n",
    "    if \"-\" in x:  # handle ranges like \"699 - 729\" It will take the average of the two\n",
    "        parts = x.split(\"-\")\n",
    "        nums = [float(p.strip()) for p in parts if p.strip().replace('.', '', 1).isdigit()]\n",
    "        return np.mean(nums) if nums else np.nan\n",
    "    return float(x) if x.replace('.', '', 1).isdigit() else np.nan\n",
    "\n",
    "data['current_price'] = data['current_price'].apply(clean_price)\n",
    "data['original_price'] = data['original_price'].apply(clean_price)\n",
    "data.head()"
   ]
  },
  {
   "cell_type": "code",
   "execution_count": 10,
   "id": "78614ccf-7eea-4f11-9d5e-8f6b25e3d542",
   "metadata": {},
   "outputs": [
    {
     "data": {
      "application/vnd.microsoft.datawrangler.viewer.v0+json": {
       "columns": [
        {
         "name": "index",
         "rawType": "int64",
         "type": "integer"
        },
        {
         "name": "date_scraped",
         "rawType": "object",
         "type": "string"
        },
        {
         "name": "page_number",
         "rawType": "int64",
         "type": "integer"
        },
        {
         "name": "product_url",
         "rawType": "object",
         "type": "string"
        },
        {
         "name": "image",
         "rawType": "object",
         "type": "string"
        },
        {
         "name": "current_price",
         "rawType": "float64",
         "type": "float"
        },
        {
         "name": "title",
         "rawType": "object",
         "type": "string"
        },
        {
         "name": "original_price",
         "rawType": "float64",
         "type": "float"
        },
        {
         "name": "discount",
         "rawType": "object",
         "type": "string"
        },
        {
         "name": "verified_ratings",
         "rawType": "object",
         "type": "string"
        },
        {
         "name": "rating_number",
         "rawType": "float64",
         "type": "float"
        },
        {
         "name": "seller",
         "rawType": "object",
         "type": "string"
        },
        {
         "name": "main_category",
         "rawType": "object",
         "type": "string"
        }
       ],
       "ref": "6bba3e99-efbb-4c03-85d1-625cb0f7559c",
       "rows": [
        [
         "0",
         "2025-09-14",
         "1",
         "https://www.jumia.co.ke/ailyons-fk-0301-stainless-steel-2.0l-electric-kettle-black-34080919.html",
         "https://ke.jumia.is/unsafe/fit-in/300x300/filters:fill(white)/product/91/908043/1.jpg?2822",
         "499.0",
         "AILYONS FK-0301 Stainless Steel 2.0L Electric Kettle-Black",
         "1399.0",
         "64",
         "(3867 verified ratings)",
         "4.0",
         "UR-HOME(KENYA)",
         "Home & Office"
        ],
        [
         "1",
         "2025-09-14",
         "1",
         "https://www.jumia.co.ke/oking-ok310-1.7-wireless-fm-bright-torch-1000mah-tri-sim-2g-black-1yr-wrty-306394856.html",
         "https://ke.jumia.is/unsafe/fit-in/300x300/filters:fill(white)/product/65/8493603/1.jpg?0396",
         "719.0",
         "Oking OK310 1.7\" Wireless FM, Bright Torch, 1000mAh, Tri SIM, 2G - Black  (1YR WRTY)",
         "1200.0",
         "40",
         "(557 verified ratings)",
         "3.9",
         "ITEL MOBILE SHOP-SUNMUM TECH LTD - AC",
         "Phones & Tablets"
        ]
       ],
       "shape": {
        "columns": 12,
        "rows": 2
       }
      },
      "text/html": [
       "<div>\n",
       "<style scoped>\n",
       "    .dataframe tbody tr th:only-of-type {\n",
       "        vertical-align: middle;\n",
       "    }\n",
       "\n",
       "    .dataframe tbody tr th {\n",
       "        vertical-align: top;\n",
       "    }\n",
       "\n",
       "    .dataframe thead th {\n",
       "        text-align: right;\n",
       "    }\n",
       "</style>\n",
       "<table border=\"1\" class=\"dataframe\">\n",
       "  <thead>\n",
       "    <tr style=\"text-align: right;\">\n",
       "      <th></th>\n",
       "      <th>date_scraped</th>\n",
       "      <th>page_number</th>\n",
       "      <th>product_url</th>\n",
       "      <th>image</th>\n",
       "      <th>current_price</th>\n",
       "      <th>title</th>\n",
       "      <th>original_price</th>\n",
       "      <th>discount</th>\n",
       "      <th>verified_ratings</th>\n",
       "      <th>rating_number</th>\n",
       "      <th>seller</th>\n",
       "      <th>main_category</th>\n",
       "    </tr>\n",
       "  </thead>\n",
       "  <tbody>\n",
       "    <tr>\n",
       "      <th>0</th>\n",
       "      <td>2025-09-14</td>\n",
       "      <td>1</td>\n",
       "      <td>https://www.jumia.co.ke/ailyons-fk-0301-stainl...</td>\n",
       "      <td>https://ke.jumia.is/unsafe/fit-in/300x300/filt...</td>\n",
       "      <td>499.0</td>\n",
       "      <td>AILYONS FK-0301 Stainless Steel 2.0L Electric ...</td>\n",
       "      <td>1399.0</td>\n",
       "      <td>64</td>\n",
       "      <td>(3867 verified ratings)</td>\n",
       "      <td>4.0</td>\n",
       "      <td>UR-HOME(KENYA)</td>\n",
       "      <td>Home &amp; Office</td>\n",
       "    </tr>\n",
       "    <tr>\n",
       "      <th>1</th>\n",
       "      <td>2025-09-14</td>\n",
       "      <td>1</td>\n",
       "      <td>https://www.jumia.co.ke/oking-ok310-1.7-wirele...</td>\n",
       "      <td>https://ke.jumia.is/unsafe/fit-in/300x300/filt...</td>\n",
       "      <td>719.0</td>\n",
       "      <td>Oking OK310 1.7\" Wireless FM, Bright Torch, 10...</td>\n",
       "      <td>1200.0</td>\n",
       "      <td>40</td>\n",
       "      <td>(557 verified ratings)</td>\n",
       "      <td>3.9</td>\n",
       "      <td>ITEL MOBILE SHOP-SUNMUM TECH LTD - AC</td>\n",
       "      <td>Phones &amp; Tablets</td>\n",
       "    </tr>\n",
       "  </tbody>\n",
       "</table>\n",
       "</div>"
      ],
      "text/plain": [
       "  date_scraped  page_number  \\\n",
       "0   2025-09-14            1   \n",
       "1   2025-09-14            1   \n",
       "\n",
       "                                         product_url  \\\n",
       "0  https://www.jumia.co.ke/ailyons-fk-0301-stainl...   \n",
       "1  https://www.jumia.co.ke/oking-ok310-1.7-wirele...   \n",
       "\n",
       "                                               image  current_price  \\\n",
       "0  https://ke.jumia.is/unsafe/fit-in/300x300/filt...          499.0   \n",
       "1  https://ke.jumia.is/unsafe/fit-in/300x300/filt...          719.0   \n",
       "\n",
       "                                               title  original_price discount  \\\n",
       "0  AILYONS FK-0301 Stainless Steel 2.0L Electric ...          1399.0       64   \n",
       "1  Oking OK310 1.7\" Wireless FM, Bright Torch, 10...          1200.0       40   \n",
       "\n",
       "          verified_ratings  rating_number  \\\n",
       "0  (3867 verified ratings)            4.0   \n",
       "1   (557 verified ratings)            3.9   \n",
       "\n",
       "                                  seller     main_category  \n",
       "0                         UR-HOME(KENYA)     Home & Office  \n",
       "1  ITEL MOBILE SHOP-SUNMUM TECH LTD - AC  Phones & Tablets  "
      ]
     },
     "execution_count": 10,
     "metadata": {},
     "output_type": "execute_result"
    }
   ],
   "source": [
    "#Clean discount, remove %\n",
    "data['discount'] = data['discount'].str.replace('%', '', regex=False)\n",
    "data.head(2)"
   ]
  },
  {
   "cell_type": "code",
   "execution_count": 11,
   "id": "f77f28a1-6555-44fa-abba-680e04c5f76b",
   "metadata": {},
   "outputs": [
    {
     "data": {
      "application/vnd.microsoft.datawrangler.viewer.v0+json": {
       "columns": [
        {
         "name": "index",
         "rawType": "int64",
         "type": "integer"
        },
        {
         "name": "date_scraped",
         "rawType": "object",
         "type": "string"
        },
        {
         "name": "page_number",
         "rawType": "int64",
         "type": "integer"
        },
        {
         "name": "product_url",
         "rawType": "object",
         "type": "string"
        },
        {
         "name": "image",
         "rawType": "object",
         "type": "string"
        },
        {
         "name": "current_price",
         "rawType": "float64",
         "type": "float"
        },
        {
         "name": "title",
         "rawType": "object",
         "type": "string"
        },
        {
         "name": "original_price",
         "rawType": "float64",
         "type": "float"
        },
        {
         "name": "discount",
         "rawType": "object",
         "type": "string"
        },
        {
         "name": "verified_ratings",
         "rawType": "float64",
         "type": "float"
        },
        {
         "name": "rating_number",
         "rawType": "float64",
         "type": "float"
        },
        {
         "name": "seller",
         "rawType": "object",
         "type": "string"
        },
        {
         "name": "main_category",
         "rawType": "object",
         "type": "string"
        }
       ],
       "ref": "7033c654-650a-4ebe-82c2-7c6752c5e7dd",
       "rows": [
        [
         "0",
         "2025-09-14",
         "1",
         "https://www.jumia.co.ke/ailyons-fk-0301-stainless-steel-2.0l-electric-kettle-black-34080919.html",
         "https://ke.jumia.is/unsafe/fit-in/300x300/filters:fill(white)/product/91/908043/1.jpg?2822",
         "499.0",
         "AILYONS FK-0301 Stainless Steel 2.0L Electric Kettle-Black",
         "1399.0",
         "64",
         "3867.0",
         "4.0",
         "UR-HOME(KENYA)",
         "Home & Office"
        ],
        [
         "1",
         "2025-09-14",
         "1",
         "https://www.jumia.co.ke/oking-ok310-1.7-wireless-fm-bright-torch-1000mah-tri-sim-2g-black-1yr-wrty-306394856.html",
         "https://ke.jumia.is/unsafe/fit-in/300x300/filters:fill(white)/product/65/8493603/1.jpg?0396",
         "719.0",
         "Oking OK310 1.7\" Wireless FM, Bright Torch, 1000mAh, Tri SIM, 2G - Black  (1YR WRTY)",
         "1200.0",
         "40",
         "557.0",
         "3.9",
         "ITEL MOBILE SHOP-SUNMUM TECH LTD - AC",
         "Phones & Tablets"
        ]
       ],
       "shape": {
        "columns": 12,
        "rows": 2
       }
      },
      "text/html": [
       "<div>\n",
       "<style scoped>\n",
       "    .dataframe tbody tr th:only-of-type {\n",
       "        vertical-align: middle;\n",
       "    }\n",
       "\n",
       "    .dataframe tbody tr th {\n",
       "        vertical-align: top;\n",
       "    }\n",
       "\n",
       "    .dataframe thead th {\n",
       "        text-align: right;\n",
       "    }\n",
       "</style>\n",
       "<table border=\"1\" class=\"dataframe\">\n",
       "  <thead>\n",
       "    <tr style=\"text-align: right;\">\n",
       "      <th></th>\n",
       "      <th>date_scraped</th>\n",
       "      <th>page_number</th>\n",
       "      <th>product_url</th>\n",
       "      <th>image</th>\n",
       "      <th>current_price</th>\n",
       "      <th>title</th>\n",
       "      <th>original_price</th>\n",
       "      <th>discount</th>\n",
       "      <th>verified_ratings</th>\n",
       "      <th>rating_number</th>\n",
       "      <th>seller</th>\n",
       "      <th>main_category</th>\n",
       "    </tr>\n",
       "  </thead>\n",
       "  <tbody>\n",
       "    <tr>\n",
       "      <th>0</th>\n",
       "      <td>2025-09-14</td>\n",
       "      <td>1</td>\n",
       "      <td>https://www.jumia.co.ke/ailyons-fk-0301-stainl...</td>\n",
       "      <td>https://ke.jumia.is/unsafe/fit-in/300x300/filt...</td>\n",
       "      <td>499.0</td>\n",
       "      <td>AILYONS FK-0301 Stainless Steel 2.0L Electric ...</td>\n",
       "      <td>1399.0</td>\n",
       "      <td>64</td>\n",
       "      <td>3867.0</td>\n",
       "      <td>4.0</td>\n",
       "      <td>UR-HOME(KENYA)</td>\n",
       "      <td>Home &amp; Office</td>\n",
       "    </tr>\n",
       "    <tr>\n",
       "      <th>1</th>\n",
       "      <td>2025-09-14</td>\n",
       "      <td>1</td>\n",
       "      <td>https://www.jumia.co.ke/oking-ok310-1.7-wirele...</td>\n",
       "      <td>https://ke.jumia.is/unsafe/fit-in/300x300/filt...</td>\n",
       "      <td>719.0</td>\n",
       "      <td>Oking OK310 1.7\" Wireless FM, Bright Torch, 10...</td>\n",
       "      <td>1200.0</td>\n",
       "      <td>40</td>\n",
       "      <td>557.0</td>\n",
       "      <td>3.9</td>\n",
       "      <td>ITEL MOBILE SHOP-SUNMUM TECH LTD - AC</td>\n",
       "      <td>Phones &amp; Tablets</td>\n",
       "    </tr>\n",
       "  </tbody>\n",
       "</table>\n",
       "</div>"
      ],
      "text/plain": [
       "  date_scraped  page_number  \\\n",
       "0   2025-09-14            1   \n",
       "1   2025-09-14            1   \n",
       "\n",
       "                                         product_url  \\\n",
       "0  https://www.jumia.co.ke/ailyons-fk-0301-stainl...   \n",
       "1  https://www.jumia.co.ke/oking-ok310-1.7-wirele...   \n",
       "\n",
       "                                               image  current_price  \\\n",
       "0  https://ke.jumia.is/unsafe/fit-in/300x300/filt...          499.0   \n",
       "1  https://ke.jumia.is/unsafe/fit-in/300x300/filt...          719.0   \n",
       "\n",
       "                                               title  original_price discount  \\\n",
       "0  AILYONS FK-0301 Stainless Steel 2.0L Electric ...          1399.0       64   \n",
       "1  Oking OK310 1.7\" Wireless FM, Bright Torch, 10...          1200.0       40   \n",
       "\n",
       "   verified_ratings  rating_number                                 seller  \\\n",
       "0            3867.0            4.0                         UR-HOME(KENYA)   \n",
       "1             557.0            3.9  ITEL MOBILE SHOP-SUNMUM TECH LTD - AC   \n",
       "\n",
       "      main_category  \n",
       "0     Home & Office  \n",
       "1  Phones & Tablets  "
      ]
     },
     "execution_count": 11,
     "metadata": {},
     "output_type": "execute_result"
    }
   ],
   "source": [
    "#Clean verified_ratings. Extract numeric value from the sring.\n",
    "data['verified_ratings'] = (\n",
    "    data['verified_ratings']\n",
    "    .str.extract(r'(\\d+)')\n",
    "    .astype(float)\n",
    ")\n",
    "data.head(2)"
   ]
  },
  {
   "cell_type": "markdown",
   "id": "e4017443-ed46-4b62-8e84-e1c7600ae86a",
   "metadata": {},
   "source": [
    "### Handling Missing Values"
   ]
  },
  {
   "cell_type": "code",
   "execution_count": 12,
   "id": "82212c60-5bf1-4f0d-b492-3d6f14a3d2ac",
   "metadata": {},
   "outputs": [
    {
     "data": {
      "application/vnd.microsoft.datawrangler.viewer.v0+json": {
       "columns": [
        {
         "name": "index",
         "rawType": "object",
         "type": "string"
        },
        {
         "name": "0",
         "rawType": "int64",
         "type": "integer"
        }
       ],
       "ref": "8dfe59be-a59a-4e50-8f03-4f015c4f244b",
       "rows": [
        [
         "date_scraped",
         "0"
        ],
        [
         "page_number",
         "0"
        ],
        [
         "product_url",
         "0"
        ],
        [
         "image",
         "0"
        ],
        [
         "current_price",
         "0"
        ],
        [
         "title",
         "0"
        ],
        [
         "original_price",
         "201"
        ],
        [
         "discount",
         "201"
        ],
        [
         "verified_ratings",
         "488"
        ],
        [
         "rating_number",
         "0"
        ],
        [
         "seller",
         "0"
        ],
        [
         "main_category",
         "0"
        ]
       ],
       "shape": {
        "columns": 1,
        "rows": 12
       }
      },
      "text/plain": [
       "date_scraped          0\n",
       "page_number           0\n",
       "product_url           0\n",
       "image                 0\n",
       "current_price         0\n",
       "title                 0\n",
       "original_price      201\n",
       "discount            201\n",
       "verified_ratings    488\n",
       "rating_number         0\n",
       "seller                0\n",
       "main_category         0\n",
       "dtype: int64"
      ]
     },
     "execution_count": 12,
     "metadata": {},
     "output_type": "execute_result"
    }
   ],
   "source": [
    "#Recheck missing values\n",
    "data.isna().sum()"
   ]
  },
  {
   "cell_type": "code",
   "execution_count": 13,
   "id": "f494c8d0-85b7-4d1f-aa19-71864e3a4179",
   "metadata": {},
   "outputs": [
    {
     "data": {
      "application/vnd.microsoft.datawrangler.viewer.v0+json": {
       "columns": [
        {
         "name": "index",
         "rawType": "object",
         "type": "string"
        },
        {
         "name": "0",
         "rawType": "int64",
         "type": "integer"
        }
       ],
       "ref": "08b8da00-73c0-4cc3-ad81-4eca09709ecd",
       "rows": [
        [
         "date_scraped",
         "0"
        ],
        [
         "page_number",
         "0"
        ],
        [
         "product_url",
         "0"
        ],
        [
         "image",
         "0"
        ],
        [
         "current_price",
         "0"
        ],
        [
         "title",
         "0"
        ],
        [
         "original_price",
         "0"
        ],
        [
         "discount",
         "201"
        ],
        [
         "verified_ratings",
         "488"
        ],
        [
         "rating_number",
         "0"
        ],
        [
         "seller",
         "0"
        ],
        [
         "main_category",
         "0"
        ]
       ],
       "shape": {
        "columns": 1,
        "rows": 12
       }
      },
      "text/plain": [
       "date_scraped          0\n",
       "page_number           0\n",
       "product_url           0\n",
       "image                 0\n",
       "current_price         0\n",
       "title                 0\n",
       "original_price        0\n",
       "discount            201\n",
       "verified_ratings    488\n",
       "rating_number         0\n",
       "seller                0\n",
       "main_category         0\n",
       "dtype: int64"
      ]
     },
     "execution_count": 13,
     "metadata": {},
     "output_type": "execute_result"
    }
   ],
   "source": [
    "# For original_price, the missing value is set equal to current_price (assume no discount)\n",
    "data['original_price'] = data['original_price'].fillna(data['current_price'])\n",
    "data.isna().sum()"
   ]
  },
  {
   "cell_type": "code",
   "execution_count": 14,
   "id": "177a53f1-f0b6-4f0a-a336-6d44b14d9803",
   "metadata": {},
   "outputs": [
    {
     "data": {
      "application/vnd.microsoft.datawrangler.viewer.v0+json": {
       "columns": [
        {
         "name": "index",
         "rawType": "object",
         "type": "string"
        },
        {
         "name": "0",
         "rawType": "int64",
         "type": "integer"
        }
       ],
       "ref": "2adf5c28-6d7d-40b7-9514-c6a0fc1511a3",
       "rows": [
        [
         "date_scraped",
         "0"
        ],
        [
         "page_number",
         "0"
        ],
        [
         "product_url",
         "0"
        ],
        [
         "image",
         "0"
        ],
        [
         "current_price",
         "0"
        ],
        [
         "title",
         "0"
        ],
        [
         "original_price",
         "0"
        ],
        [
         "discount",
         "0"
        ],
        [
         "verified_ratings",
         "488"
        ],
        [
         "rating_number",
         "0"
        ],
        [
         "seller",
         "0"
        ],
        [
         "main_category",
         "0"
        ]
       ],
       "shape": {
        "columns": 1,
        "rows": 12
       }
      },
      "text/plain": [
       "date_scraped          0\n",
       "page_number           0\n",
       "product_url           0\n",
       "image                 0\n",
       "current_price         0\n",
       "title                 0\n",
       "original_price        0\n",
       "discount              0\n",
       "verified_ratings    488\n",
       "rating_number         0\n",
       "seller                0\n",
       "main_category         0\n",
       "dtype: int64"
      ]
     },
     "execution_count": 14,
     "metadata": {},
     "output_type": "execute_result"
    }
   ],
   "source": [
    "# Discount, we filled missing values with 0\n",
    "data['discount'] = data['discount'].fillna(0)\n",
    "data.isna().sum()"
   ]
  },
  {
   "cell_type": "code",
   "execution_count": 15,
   "id": "50bd9dfd-9041-40e4-9134-973354680623",
   "metadata": {},
   "outputs": [
    {
     "data": {
      "application/vnd.microsoft.datawrangler.viewer.v0+json": {
       "columns": [
        {
         "name": "index",
         "rawType": "object",
         "type": "string"
        },
        {
         "name": "0",
         "rawType": "int64",
         "type": "integer"
        }
       ],
       "ref": "5d9475bc-dedb-4e45-b98a-915e25669740",
       "rows": [
        [
         "date_scraped",
         "0"
        ],
        [
         "page_number",
         "0"
        ],
        [
         "product_url",
         "0"
        ],
        [
         "image",
         "0"
        ],
        [
         "current_price",
         "0"
        ],
        [
         "title",
         "0"
        ],
        [
         "original_price",
         "0"
        ],
        [
         "discount",
         "0"
        ],
        [
         "verified_ratings",
         "0"
        ],
        [
         "rating_number",
         "0"
        ],
        [
         "seller",
         "0"
        ],
        [
         "main_category",
         "0"
        ]
       ],
       "shape": {
        "columns": 1,
        "rows": 12
       }
      },
      "text/plain": [
       "date_scraped        0\n",
       "page_number         0\n",
       "product_url         0\n",
       "image               0\n",
       "current_price       0\n",
       "title               0\n",
       "original_price      0\n",
       "discount            0\n",
       "verified_ratings    0\n",
       "rating_number       0\n",
       "seller              0\n",
       "main_category       0\n",
       "dtype: int64"
      ]
     },
     "execution_count": 15,
     "metadata": {},
     "output_type": "execute_result"
    }
   ],
   "source": [
    "# verified_ratings, missing = 0\n",
    "data['verified_ratings'] = data['verified_ratings'].fillna(0)\n",
    "data.isna().sum()"
   ]
  },
  {
   "cell_type": "markdown",
   "id": "9d8443be-ad7a-43f2-91ec-20e7b0b87b8f",
   "metadata": {},
   "source": [
    "### Handling Duplicates in column product_url"
   ]
  },
  {
   "cell_type": "code",
   "execution_count": 16,
   "id": "fc247689-1253-4651-bd09-473a56d4f20c",
   "metadata": {},
   "outputs": [
    {
     "name": "stdout",
     "output_type": "stream",
     "text": [
      "94\n"
     ]
    }
   ],
   "source": [
    "# Count duplicates based on product_url\n",
    "if 'product_url' in data.columns:\n",
    "    print(data.duplicated(subset=['product_url']).sum()) # marks the first occurrence as False and only marks subsequent repeats as True"
   ]
  },
  {
   "cell_type": "code",
   "execution_count": 33,
   "id": "361f510c",
   "metadata": {},
   "outputs": [
    {
     "name": "stdout",
     "output_type": "stream",
     "text": [
      "321     https://www.jumia.co.ke/3-in-1-rechargeable-ho...\n",
      "319     https://www.jumia.co.ke/3-in-1-rechargeable-ho...\n",
      "195     https://www.jumia.co.ke/ailyons-2.0-l-electric...\n",
      "751     https://www.jumia.co.ke/ailyons-2.0-l-electric...\n",
      "352     https://www.jumia.co.ke/airpods-pro3-bluetooth...\n",
      "                              ...                        \n",
      "980     https://www.jumia.co.ke/xiaomi-redmi-15c-6.9up...\n",
      "887     https://www.jumia.co.ke/xiaomi-redmi-15c-6.9up...\n",
      "399     https://www.jumia.co.ke/xiaomi-redmi-15c-6.9up...\n",
      "1954    https://www.jumia.co.ke/xiaomi-redmi-a3x-6.71-...\n",
      "594     https://www.jumia.co.ke/xiaomi-redmi-a3x-6.71-...\n",
      "Name: product_url, Length: 187, dtype: object\n"
     ]
    }
   ],
   "source": [
    "# Select only duplicated product_urls\n",
    "dupes = data[data['product_url'].duplicated(keep=False)]\n",
    "\n",
    "# Sort so that the same URLs appear next to each other\n",
    "dupes = dupes.sort_values(by='product_url')\n",
    "\n",
    "# Show just the product_url column\n",
    "print(dupes['product_url'])"
   ]
  },
  {
   "cell_type": "code",
   "execution_count": 34,
   "id": "718bc099",
   "metadata": {},
   "outputs": [
    {
     "name": "stdout",
     "output_type": "stream",
     "text": [
      "187\n"
     ]
    }
   ],
   "source": [
    "print(len(dupes)) # marks all duplicates as True, including the first occurrence. If a product_url appears 3 times, all 3 rows are counted."
   ]
  },
  {
   "cell_type": "code",
   "execution_count": 35,
   "id": "fc18c033",
   "metadata": {},
   "outputs": [
    {
     "name": "stdout",
     "output_type": "stream",
     "text": [
      "                                          product_url  url_count\n",
      "0   https://www.jumia.co.ke/derma-roller-for-beard...          3\n",
      "1   https://www.jumia.co.ke/sunlight-solar-200-wat...          2\n",
      "2   https://www.jumia.co.ke/fashion-3-in-1-school-...          2\n",
      "3   https://www.jumia.co.ke/kijani-organics-castor...          2\n",
      "4   https://www.jumia.co.ke/ailyons-2.0-l-electric...          2\n",
      "5   https://www.jumia.co.ke/aroamas-scar-scar-remo...          2\n",
      "6   https://www.jumia.co.ke/nice-one-yg-105-2-colu...          2\n",
      "7   https://www.jumia.co.ke/generic-36-pieces-simu...          2\n",
      "8   https://www.jumia.co.ke/top-fry-top-fry-vegeta...          2\n",
      "9   https://www.jumia.co.ke/xiaomi-redmi-15c-6.9up...          2\n",
      "10  https://www.jumia.co.ke/globalstar-32uk-32-inc...          2\n",
      "11  https://www.jumia.co.ke/generic-hdtv-hdmi-to-h...          2\n",
      "12  https://www.jumia.co.ke/oraimo-spacebox-8w-fm-...          2\n",
      "13  https://www.jumia.co.ke/the-ordinary-concentra...          2\n",
      "14  https://www.jumia.co.ke/tilecc-tilecc-air-pro-...          2\n",
      "15  https://www.jumia.co.ke/tv-guard-or-fridge-gua...          2\n",
      "16  https://www.jumia.co.ke/fashion-womens-multila...          2\n",
      "17  https://www.jumia.co.ke/dynamic-black-permanen...          2\n",
      "18  https://www.jumia.co.ke/fashion-student-backpa...          2\n",
      "19  https://www.jumia.co.ke/tecno-spark-40-6.67-hd...          2\n"
     ]
    }
   ],
   "source": [
    "if 'product_url' in data.columns:\n",
    "    # Count product_url occurrences\n",
    "    url_counts = data['product_url'].value_counts()\n",
    "\n",
    "    # Keep only duplicates\n",
    "    dupes = url_counts[url_counts > 1]\n",
    "\n",
    "    # Convert to DataFrame for the same look as before\n",
    "    dupes_df = dupes.reset_index()\n",
    "    dupes_df.columns = ['product_url', 'url_count']\n",
    "\n",
    "    # Show top 10 duplicate products\n",
    "    print(dupes_df.head(20))"
   ]
  },
  {
   "cell_type": "code",
   "execution_count": 17,
   "id": "6c58c957-5ea7-45de-90c2-27b5cd46c691",
   "metadata": {},
   "outputs": [
    {
     "name": "stdout",
     "output_type": "stream",
     "text": [
      "94\n"
     ]
    }
   ],
   "source": [
    "# Count duplicates based on product_url\n",
    "if 'product_url' in data.columns:\n",
    "    print(data.duplicated(subset=['product_url']).sum())"
   ]
  },
  {
   "cell_type": "code",
   "execution_count": 18,
   "id": "e9158e82-48c5-4121-aeaa-930aa30e0288",
   "metadata": {},
   "outputs": [
    {
     "data": {
      "text/plain": [
       "(1905, 12)"
      ]
     },
     "execution_count": 18,
     "metadata": {},
     "output_type": "execute_result"
    }
   ],
   "source": [
    "# Drop duplicate product URLs (keep the first occurrence)\n",
    "if 'product_url' in data.columns:\n",
    "    data = data.drop_duplicates(subset=['product_url'], keep='first')\n",
    "data.shape"
   ]
  },
  {
   "cell_type": "code",
   "execution_count": 19,
   "id": "56a8772d-471c-4012-b382-97064f58f5fd",
   "metadata": {},
   "outputs": [
    {
     "data": {
      "application/vnd.microsoft.datawrangler.viewer.v0+json": {
       "columns": [
        {
         "name": "index",
         "rawType": "int64",
         "type": "integer"
        },
        {
         "name": "date_scraped",
         "rawType": "object",
         "type": "string"
        },
        {
         "name": "page_number",
         "rawType": "int64",
         "type": "integer"
        },
        {
         "name": "product_url",
         "rawType": "object",
         "type": "string"
        },
        {
         "name": "image",
         "rawType": "object",
         "type": "string"
        },
        {
         "name": "current_price",
         "rawType": "float64",
         "type": "float"
        },
        {
         "name": "title",
         "rawType": "object",
         "type": "string"
        },
        {
         "name": "original_price",
         "rawType": "float64",
         "type": "float"
        },
        {
         "name": "discount",
         "rawType": "object",
         "type": "string"
        },
        {
         "name": "verified_ratings",
         "rawType": "float64",
         "type": "float"
        },
        {
         "name": "rating_number",
         "rawType": "float64",
         "type": "float"
        },
        {
         "name": "seller",
         "rawType": "object",
         "type": "string"
        },
        {
         "name": "main_category",
         "rawType": "object",
         "type": "string"
        }
       ],
       "ref": "66572293-7d25-46ad-a377-23f9f7992721",
       "rows": [
        [
         "0",
         "2025-09-14",
         "1",
         "https://www.jumia.co.ke/ailyons-fk-0301-stainless-steel-2.0l-electric-kettle-black-34080919.html",
         "https://ke.jumia.is/unsafe/fit-in/300x300/filters:fill(white)/product/91/908043/1.jpg?2822",
         "499.0",
         "AILYONS FK-0301 Stainless Steel 2.0L Electric Kettle-Black",
         "1399.0",
         "64",
         "3867.0",
         "4.0",
         "UR-HOME(KENYA)",
         "Home & Office"
        ],
        [
         "1",
         "2025-09-14",
         "1",
         "https://www.jumia.co.ke/oking-ok310-1.7-wireless-fm-bright-torch-1000mah-tri-sim-2g-black-1yr-wrty-306394856.html",
         "https://ke.jumia.is/unsafe/fit-in/300x300/filters:fill(white)/product/65/8493603/1.jpg?0396",
         "719.0",
         "Oking OK310 1.7\" Wireless FM, Bright Torch, 1000mAh, Tri SIM, 2G - Black  (1YR WRTY)",
         "1200.0",
         "40",
         "557.0",
         "3.9",
         "ITEL MOBILE SHOP-SUNMUM TECH LTD - AC",
         "Phones & Tablets"
        ],
        [
         "2",
         "2025-09-14",
         "1",
         "https://www.jumia.co.ke/samsung-galaxy-a05-6.7-64gb-4gb-ram-dual-sim-5000mah-black-2yrs-wrty-250194934.html",
         "https://ke.jumia.is/unsafe/fit-in/300x300/filters:fill(white)/product/43/9491052/1.jpg?5057",
         "8900.0",
         "Samsung Galaxy A05, 6.7\", 64GB + 4GB RAM (Dual SIM), 5000mAh, Black, (2YRs WRTY)",
         "13187.0",
         "33",
         "523.0",
         "4.1",
         "LOFFEL ELECTRONICS LIMITED - AC",
         "Phones & Tablets"
        ],
        [
         "3",
         "2025-09-14",
         "1",
         "https://www.jumia.co.ke/ailyons-afk-111-water-dispenser-hot-and-normal-with-storage-cabinet-1yr-wrty-118096692.html",
         "https://ke.jumia.is/unsafe/fit-in/300x300/filters:fill(white)/product/29/6690811/1.jpg?6558",
         "2599.0",
         "AILYONS AFK-111 Water Dispenser Hot And Normal With Storage Cabinet (1YR WRTY)",
         "4999.0",
         "48",
         "2092.0",
         "3.9",
         "UR-HOME(KENYA)",
         "Home & Office"
        ],
        [
         "4",
         "2025-09-14",
         "1",
         "https://www.jumia.co.ke/fashion-couple-canvas-low-top-lace-up-shoes-classic-casual-sneakers-black-154042530.html",
         "https://ke.jumia.is/unsafe/fit-in/300x300/filters:fill(white)/product/03/5240451/1.jpg?3725",
         "714.0",
         "Couple Canvas Low Top Lace-up Shoes Classic Casual Sneakers Black",
         "1350.0",
         "53",
         "734.0",
         "4.2",
         "Waanzilish",
         "Fashion"
        ]
       ],
       "shape": {
        "columns": 12,
        "rows": 5
       }
      },
      "text/html": [
       "<div>\n",
       "<style scoped>\n",
       "    .dataframe tbody tr th:only-of-type {\n",
       "        vertical-align: middle;\n",
       "    }\n",
       "\n",
       "    .dataframe tbody tr th {\n",
       "        vertical-align: top;\n",
       "    }\n",
       "\n",
       "    .dataframe thead th {\n",
       "        text-align: right;\n",
       "    }\n",
       "</style>\n",
       "<table border=\"1\" class=\"dataframe\">\n",
       "  <thead>\n",
       "    <tr style=\"text-align: right;\">\n",
       "      <th></th>\n",
       "      <th>date_scraped</th>\n",
       "      <th>page_number</th>\n",
       "      <th>product_url</th>\n",
       "      <th>image</th>\n",
       "      <th>current_price</th>\n",
       "      <th>title</th>\n",
       "      <th>original_price</th>\n",
       "      <th>discount</th>\n",
       "      <th>verified_ratings</th>\n",
       "      <th>rating_number</th>\n",
       "      <th>seller</th>\n",
       "      <th>main_category</th>\n",
       "    </tr>\n",
       "  </thead>\n",
       "  <tbody>\n",
       "    <tr>\n",
       "      <th>0</th>\n",
       "      <td>2025-09-14</td>\n",
       "      <td>1</td>\n",
       "      <td>https://www.jumia.co.ke/ailyons-fk-0301-stainl...</td>\n",
       "      <td>https://ke.jumia.is/unsafe/fit-in/300x300/filt...</td>\n",
       "      <td>499.0</td>\n",
       "      <td>AILYONS FK-0301 Stainless Steel 2.0L Electric ...</td>\n",
       "      <td>1399.0</td>\n",
       "      <td>64</td>\n",
       "      <td>3867.0</td>\n",
       "      <td>4.0</td>\n",
       "      <td>UR-HOME(KENYA)</td>\n",
       "      <td>Home &amp; Office</td>\n",
       "    </tr>\n",
       "    <tr>\n",
       "      <th>1</th>\n",
       "      <td>2025-09-14</td>\n",
       "      <td>1</td>\n",
       "      <td>https://www.jumia.co.ke/oking-ok310-1.7-wirele...</td>\n",
       "      <td>https://ke.jumia.is/unsafe/fit-in/300x300/filt...</td>\n",
       "      <td>719.0</td>\n",
       "      <td>Oking OK310 1.7\" Wireless FM, Bright Torch, 10...</td>\n",
       "      <td>1200.0</td>\n",
       "      <td>40</td>\n",
       "      <td>557.0</td>\n",
       "      <td>3.9</td>\n",
       "      <td>ITEL MOBILE SHOP-SUNMUM TECH LTD - AC</td>\n",
       "      <td>Phones &amp; Tablets</td>\n",
       "    </tr>\n",
       "    <tr>\n",
       "      <th>2</th>\n",
       "      <td>2025-09-14</td>\n",
       "      <td>1</td>\n",
       "      <td>https://www.jumia.co.ke/samsung-galaxy-a05-6.7...</td>\n",
       "      <td>https://ke.jumia.is/unsafe/fit-in/300x300/filt...</td>\n",
       "      <td>8900.0</td>\n",
       "      <td>Samsung Galaxy A05, 6.7\", 64GB + 4GB RAM (Dual...</td>\n",
       "      <td>13187.0</td>\n",
       "      <td>33</td>\n",
       "      <td>523.0</td>\n",
       "      <td>4.1</td>\n",
       "      <td>LOFFEL ELECTRONICS LIMITED - AC</td>\n",
       "      <td>Phones &amp; Tablets</td>\n",
       "    </tr>\n",
       "    <tr>\n",
       "      <th>3</th>\n",
       "      <td>2025-09-14</td>\n",
       "      <td>1</td>\n",
       "      <td>https://www.jumia.co.ke/ailyons-afk-111-water-...</td>\n",
       "      <td>https://ke.jumia.is/unsafe/fit-in/300x300/filt...</td>\n",
       "      <td>2599.0</td>\n",
       "      <td>AILYONS AFK-111 Water Dispenser Hot And Normal...</td>\n",
       "      <td>4999.0</td>\n",
       "      <td>48</td>\n",
       "      <td>2092.0</td>\n",
       "      <td>3.9</td>\n",
       "      <td>UR-HOME(KENYA)</td>\n",
       "      <td>Home &amp; Office</td>\n",
       "    </tr>\n",
       "    <tr>\n",
       "      <th>4</th>\n",
       "      <td>2025-09-14</td>\n",
       "      <td>1</td>\n",
       "      <td>https://www.jumia.co.ke/fashion-couple-canvas-...</td>\n",
       "      <td>https://ke.jumia.is/unsafe/fit-in/300x300/filt...</td>\n",
       "      <td>714.0</td>\n",
       "      <td>Couple Canvas Low Top Lace-up Shoes Classic Ca...</td>\n",
       "      <td>1350.0</td>\n",
       "      <td>53</td>\n",
       "      <td>734.0</td>\n",
       "      <td>4.2</td>\n",
       "      <td>Waanzilish</td>\n",
       "      <td>Fashion</td>\n",
       "    </tr>\n",
       "  </tbody>\n",
       "</table>\n",
       "</div>"
      ],
      "text/plain": [
       "  date_scraped  page_number  \\\n",
       "0   2025-09-14            1   \n",
       "1   2025-09-14            1   \n",
       "2   2025-09-14            1   \n",
       "3   2025-09-14            1   \n",
       "4   2025-09-14            1   \n",
       "\n",
       "                                         product_url  \\\n",
       "0  https://www.jumia.co.ke/ailyons-fk-0301-stainl...   \n",
       "1  https://www.jumia.co.ke/oking-ok310-1.7-wirele...   \n",
       "2  https://www.jumia.co.ke/samsung-galaxy-a05-6.7...   \n",
       "3  https://www.jumia.co.ke/ailyons-afk-111-water-...   \n",
       "4  https://www.jumia.co.ke/fashion-couple-canvas-...   \n",
       "\n",
       "                                               image  current_price  \\\n",
       "0  https://ke.jumia.is/unsafe/fit-in/300x300/filt...          499.0   \n",
       "1  https://ke.jumia.is/unsafe/fit-in/300x300/filt...          719.0   \n",
       "2  https://ke.jumia.is/unsafe/fit-in/300x300/filt...         8900.0   \n",
       "3  https://ke.jumia.is/unsafe/fit-in/300x300/filt...         2599.0   \n",
       "4  https://ke.jumia.is/unsafe/fit-in/300x300/filt...          714.0   \n",
       "\n",
       "                                               title  original_price discount  \\\n",
       "0  AILYONS FK-0301 Stainless Steel 2.0L Electric ...          1399.0       64   \n",
       "1  Oking OK310 1.7\" Wireless FM, Bright Torch, 10...          1200.0       40   \n",
       "2  Samsung Galaxy A05, 6.7\", 64GB + 4GB RAM (Dual...         13187.0       33   \n",
       "3  AILYONS AFK-111 Water Dispenser Hot And Normal...          4999.0       48   \n",
       "4  Couple Canvas Low Top Lace-up Shoes Classic Ca...          1350.0       53   \n",
       "\n",
       "   verified_ratings  rating_number                                 seller  \\\n",
       "0            3867.0            4.0                         UR-HOME(KENYA)   \n",
       "1             557.0            3.9  ITEL MOBILE SHOP-SUNMUM TECH LTD - AC   \n",
       "2             523.0            4.1        LOFFEL ELECTRONICS LIMITED - AC   \n",
       "3            2092.0            3.9                         UR-HOME(KENYA)   \n",
       "4             734.0            4.2                             Waanzilish   \n",
       "\n",
       "      main_category  \n",
       "0     Home & Office  \n",
       "1  Phones & Tablets  \n",
       "2  Phones & Tablets  \n",
       "3     Home & Office  \n",
       "4           Fashion  "
      ]
     },
     "execution_count": 19,
     "metadata": {},
     "output_type": "execute_result"
    }
   ],
   "source": [
    "data.head()"
   ]
  },
  {
   "cell_type": "markdown",
   "id": "d945361c",
   "metadata": {},
   "source": [
    "### Discount analysis"
   ]
  },
  {
   "cell_type": "markdown",
   "id": "6ed58889",
   "metadata": {},
   "source": [
    "### Cleaning the Price Data"
   ]
  },
  {
   "cell_type": "code",
   "execution_count": 20,
   "id": "f0bad538-a9db-4e50-adf2-4a01b44c9f45",
   "metadata": {},
   "outputs": [],
   "source": [
    "# Function to handle price ranges by calculating the average price\n",
    "def handle_price_range(price):\n",
    "    if isinstance(price, str) and '-' in price:\n",
    "        # Split the range and calculate the average\n",
    "        low, high = price.split(' - ')\n",
    "        low = pd.to_numeric(low.replace('KSh', '').replace(',', '').strip(), errors='coerce')\n",
    "        high = pd.to_numeric(high.replace('KSh', '').replace(',', '').strip(), errors='coerce')\n",
    "        return (low + high) / 2\n",
    "    return price\n",
    "\n",
    "# Clean 'current_price' and 'original_price' columns\n",
    "df['current_price_numeric'] = df['current_price'].apply(clean_price)\n",
    "df['original_price_numeric'] = df['original_price'].apply(clean_price)\n",
    "\n",
    "# Apply the function to handle price ranges\n",
    "df['current_price_numeric'] = df['current_price_numeric'].apply(handle_price_range)\n",
    "df['original_price_numeric'] = df['original_price_numeric'].apply(handle_price_range)\n"
   ]
  },
  {
   "cell_type": "markdown",
   "id": "6b36236d",
   "metadata": {},
   "source": [
    "### Cleaning the Discount Column"
   ]
  },
  {
   "cell_type": "code",
   "execution_count": 21,
   "id": "7bd6920a",
   "metadata": {},
   "outputs": [],
   "source": [
    "# Clean 'discount' column to ensure it's numeric\n",
    "df['discount_percentage'] = df['discount'].replace({'%': '', ',': ''}, regex=True).astype(float)\n"
   ]
  },
  {
   "cell_type": "markdown",
   "id": "87930674",
   "metadata": {},
   "source": [
    "### Calculating the Correlation"
   ]
  },
  {
   "cell_type": "code",
   "execution_count": 22,
   "id": "d21cf303",
   "metadata": {},
   "outputs": [
    {
     "name": "stdout",
     "output_type": "stream",
     "text": [
      "Correlation between original price and discount percentage: 0.0758396034431447\n"
     ]
    }
   ],
   "source": [
    "# Calculate the correlation between original price and discount percentage\n",
    "correlation = df['original_price_numeric'].corr(df['discount_percentage'])\n",
    "\n",
    "# Display the correlation result\n",
    "print(f\"Correlation between original price and discount percentage: {correlation}\")\n"
   ]
  },
  {
   "cell_type": "markdown",
   "id": "6d5a91cd",
   "metadata": {},
   "source": [
    "### Visualizing the Data with a Scatter Plot"
   ]
  },
  {
   "cell_type": "code",
   "execution_count": 25,
   "id": "267d7c0b",
   "metadata": {},
   "outputs": [
    {
     "data": {
      "image/png": "[encoded data removed]",
      "text/plain": [
       "<Figure size 1000x600 with 1 Axes>"
      ]
     },
     "metadata": {},
     "output_type": "display_data"
    }
   ],
   "source": [
    "# Scatter plot to visualize the relationship between original price and discount percentage\n",
    "plt.figure(figsize=(10, 6))\n",
    "sns.scatterplot(x='original_price_numeric', y='discount_percentage', data=df)\n",
    "plt.title(\"Scatter Plot: Original Price vs Discount Percentage\")\n",
    "plt.xlabel(\"Original Price (KSh)\")\n",
    "plt.ylabel(\"Discount Percentage (%)\")\n",
    "plt.show()"
   ]
  },
  {
   "cell_type": "markdown",
   "id": "45c41a72",
   "metadata": {},
   "source": [
    "The analysis of the relationship between product prices and discount percentages revealed a very weak positive correlation of 0.0758. This suggests that there is no strong linear relationship between higher product prices and the discount percentage offered. In other words, higher-priced products are not necessarily associated with higher discounts, and the discounting strategy appears to be relatively independent of product pricing in this dataset."
   ]
  },
  {
   "cell_type": "markdown",
   "id": "ba0f0f9b",
   "metadata": {},
   "source": [
    "### Discounts by Product Category"
   ]
  },
  {
   "cell_type": "code",
   "execution_count": 26,
   "id": "cb3bc76a",
   "metadata": {},
   "outputs": [
    {
     "data": {
      "image/png": "[encoded data removed]",
      "text/plain": [
       "<Figure size 1000x600 with 1 Axes>"
      ]
     },
     "metadata": {},
     "output_type": "display_data"
    }
   ],
   "source": [
    "# Grouping by 'main_category' and calculating the average discount percentage\n",
    "category_discount = df.groupby('main_category')['discount_percentage'].mean().sort_values(ascending=False)\n",
    "\n",
    "# Plotting the results\n",
    "plt.figure(figsize=(10, 6))\n",
    "category_discount.plot(kind='bar', color='skyblue')\n",
    "plt.title(\"Average Discount Percentage by Product Category\")\n",
    "plt.xlabel(\"Product Category\")\n",
    "plt.ylabel(\"Average Discount Percentage (%)\")\n",
    "plt.xticks(rotation=45, ha=\"right\")\n",
    "plt.show()"
   ]
  },
  {
   "cell_type": "markdown",
   "id": "1b04d1e0",
   "metadata": {},
   "source": [
    "Gaming and Phones & Tablets are the categories with the highest average discount percentages, both slightly above 40%. This suggests that retailers might offer higher discounts in these categories, possibly due to competition or product lifecycle considerations (e.g., clearance of older models or new releases).\n",
    "\n",
    "Grocery stands out as having a much lower discount percentage, which is typical, as grocery items generally have lower profit margins and are less likely to have significant discounts compared to electronics or fashion products.\n",
    "\n",
    "The remaining categories, such as Fashion, Computing, and Health & Beauty, all show moderate discount percentages, ranging from 20% to 40%. This suggests a similar discounting strategy across these common consumer product categories."
   ]
  },
  {
   "cell_type": "markdown",
   "id": "b0f039ef",
   "metadata": {},
   "source": [
    "### Discounts by Price Range"
   ]
  },
  {
   "cell_type": "code",
   "execution_count": 27,
   "id": "07da7e35",
   "metadata": {},
   "outputs": [
    {
     "name": "stderr",
     "output_type": "stream",
     "text": [
      "C:\\Users\\User\\AppData\\Local\\Temp\\ipykernel_10108\\2681739294.py:7: FutureWarning: The default of observed=False is deprecated and will be changed to True in a future version of pandas. Pass observed=False to retain current behavior or observed=True to adopt the future default and silence this warning.\n",
      "  price_range_discount = df.groupby('price_range')['discount_percentage'].mean()\n"
     ]
    },
    {
     "data": {
      "image/png": "[encoded data removed]",
      "text/plain": [
       "<Figure size 1000x600 with 1 Axes>"
      ]
     },
     "metadata": {},
     "output_type": "display_data"
    }
   ],
   "source": [
    "# Define price ranges (e.g., Low: < 1000, Mid: 1000-5000, High: > 5000)\n",
    "bins = [0, 1000, 5000, 10000, float('inf')]\n",
    "labels = ['Low', 'Mid', 'High', 'Very High']\n",
    "df['price_range'] = pd.cut(df['original_price_numeric'], bins=bins, labels=labels)\n",
    "\n",
    "# Grouping by price range and calculating the average discount percentage\n",
    "price_range_discount = df.groupby('price_range')['discount_percentage'].mean()\n",
    "\n",
    "# Plotting the results\n",
    "plt.figure(figsize=(10, 6))\n",
    "price_range_discount.plot(kind='bar', color='lightcoral')\n",
    "plt.title(\"Average Discount Percentage by Price Range\")\n",
    "plt.xlabel(\"Price Range\")\n",
    "plt.ylabel(\"Average Discount Percentage (%)\")\n",
    "plt.xticks(rotation=0)\n",
    "plt.show()\n"
   ]
  },
  {
   "cell_type": "markdown",
   "id": "e97203c7",
   "metadata": {},
   "source": [
    "This suggests that discounts are relatively consistent across all price ranges. In other words, products of different price levels (low, mid, high) do not show significant variation in discount percentages, which is contrary to the expectation that higher-priced products would necessarily receive higher discounts."
   ]
  },
  {
   "cell_type": "markdown",
   "id": "13a71651",
   "metadata": {},
   "source": [
    "### Discounts by Ratings"
   ]
  },
  {
   "cell_type": "code",
   "execution_count": 30,
   "id": "7aac641f",
   "metadata": {},
   "outputs": [
    {
     "data": {
      "image/png": "[encoded data removed]",
      "text/plain": [
       "<Figure size 1000x600 with 1 Axes>"
      ]
     },
     "metadata": {},
     "output_type": "display_data"
    }
   ],
   "source": [
    "# First, ensure the 'rating_number' is numeric (it may have been read as a string)\n",
    "df['rating_number'] = pd.to_numeric(df['rating_number'], errors='coerce')\n",
    "\n",
    "# Grouping by 'rating_number' and calculating the average discount percentage\n",
    "rating_discount = df.groupby('rating_number')['discount_percentage'].mean()\n",
    "\n",
    "# Plotting the results\n",
    "plt.figure(figsize=(10, 6))\n",
    "rating_discount.plot(kind='line', marker='o', color='purple')\n",
    "plt.title(\"Average Discount Percentage by Product Rating\")\n",
    "plt.xlabel(\"Rating Number\")\n",
    "plt.ylabel(\"Average Discount Percentage (%)\")\n",
    "plt.grid(True)\n",
    "plt.show()"
   ]
  },
 {
  "cells": [
    {
      "cell_type": "markdown",
      "metadata": {
        "id": "ada03db8",
        "language": "markdown"
      },
      "source": [
        "Higher ratings (4 and 5 stars) generally tend to have lower average discount percentages compared to products with lower ratings (1 to 3 stars).\n",
        "\n",
        "The pattern fluctuates quite a bit, but there’s no strong linear relationship. Specifically:\n",
        "\n",
        "Products with a rating of 0 seem to have a very high average discount, but there are very few of these products.\n",
        "\n",
        "There are noticeable spikes in the 1-star and 5-star ratings, suggesting that products with these ratings may be discounted more than those in the middle.\n",
        "\n",
        "This implies that products with higher ratings (especially 4 and 5 stars) may be offered fewer discounts, possibly because they are more desirable or in higher demand. Lower-rated products, on the other hand, may be discounted more in an effort to boost sales."
      ]
    },
    {
      "cell_type": "markdown",
      "metadata": {},
      "source": [
        "### Outliers Based on main_category"
      ]
    }
  ]
},
 {
   "cell_type": "code",
   "execution_count": 38,
   "id": "d5a98071",
   "metadata": {},
   "outputs": [
    {
     "name": "stdout",
     "output_type": "stream",
     "text": [
      "\n",
      "Checking outliers for column: current_price\n",
      "\n",
      "Category: Automobile, Outliers: 4\n"
     ]
    },
    {
     "data": {
      "application/vnd.microsoft.datawrangler.viewer.v0+json": {
       "columns": [
        {
         "name": "index",
         "rawType": "int64",
         "type": "integer"
        },
        {
         "name": "current_price",
         "rawType": "float64",
         "type": "float"
        },
        {
         "name": "main_category",
         "rawType": "object",
         "type": "string"
        }
       ],
       "ref": "ab85ee4c-8774-4652-b0ce-d8235fdd6243",
       "rows": [
        [
         "631",
         "36999.0",
         "Automobile"
        ],
        [
         "862",
         "24000.0",
         "Automobile"
        ],
        [
         "1091",
         "12500.0",
         "Automobile"
        ],
        [
         "1445",
         "23999.0",
         "Automobile"
        ]
       ],
       "shape": {
        "columns": 2,
        "rows": 4
       }
      },
      "text/html": [
       "<div>\n",
       "<style scoped>\n",
       "    .dataframe tbody tr th:only-of-type {\n",
       "        vertical-align: middle;\n",
       "    }\n",
       "\n",
       "    .dataframe tbody tr th {\n",
       "        vertical-align: top;\n",
       "    }\n",
       "\n",
       "    .dataframe thead th {\n",
       "        text-align: right;\n",
       "    }\n",
       "</style>\n",
       "<table border=\"1\" class=\"dataframe\">\n",
       "  <thead>\n",
       "    <tr style=\"text-align: right;\">\n",
       "      <th></th>\n",
       "      <th>current_price</th>\n",
       "      <th>main_category</th>\n",
       "    </tr>\n",
       "  </thead>\n",
       "  <tbody>\n",
       "    <tr>\n",
       "      <th>631</th>\n",
       "      <td>36999.0</td>\n",
       "      <td>Automobile</td>\n",
       "    </tr>\n",
       "    <tr>\n",
       "      <th>862</th>\n",
       "      <td>24000.0</td>\n",
       "      <td>Automobile</td>\n",
       "    </tr>\n",
       "    <tr>\n",
       "      <th>1091</th>\n",
       "      <td>12500.0</td>\n",
       "      <td>Automobile</td>\n",
       "    </tr>\n",
       "    <tr>\n",
       "      <th>1445</th>\n",
       "      <td>23999.0</td>\n",
       "      <td>Automobile</td>\n",
       "    </tr>\n",
       "  </tbody>\n",
       "</table>\n",
       "</div>"
      ],
      "text/plain": [
       "      current_price main_category\n",
       "631         36999.0    Automobile\n",
       "862         24000.0    Automobile\n",
       "1091        12500.0    Automobile\n",
       "1445        23999.0    Automobile"
      ]
     },
     "metadata": {},
     "output_type": "display_data"
    },
    {
     "name": "stdout",
     "output_type": "stream",
     "text": [
      "Category: Baby Products, Outliers: 3\n"
     ]
    },
    {
     "data": {
      "application/vnd.microsoft.datawrangler.viewer.v0+json": {
       "columns": [
        {
         "name": "index",
         "rawType": "int64",
         "type": "integer"
        },
        {
         "name": "current_price",
         "rawType": "float64",
         "type": "float"
        },
        {
         "name": "main_category",
         "rawType": "object",
         "type": "string"
        }
       ],
       "ref": "80dc7bd9-33b6-4de4-9478-dc0c80235b46",
       "rows": [
        [
         "1005",
         "7500.0",
         "Baby Products"
        ],
        [
         "1242",
         "1698.0",
         "Baby Products"
        ],
        [
         "1776",
         "2000.0",
         "Baby Products"
        ]
       ],
       "shape": {
        "columns": 2,
        "rows": 3
       }
      },
      "text/html": [
       "<div>\n",
       "<style scoped>\n",
       "    .dataframe tbody tr th:only-of-type {\n",
       "        vertical-align: middle;\n",
       "    }\n",
       "\n",
       "    .dataframe tbody tr th {\n",
       "        vertical-align: top;\n",
       "    }\n",
       "\n",
       "    .dataframe thead th {\n",
       "        text-align: right;\n",
       "    }\n",
       "</style>\n",
       "<table border=\"1\" class=\"dataframe\">\n",
       "  <thead>\n",
       "    <tr style=\"text-align: right;\">\n",
       "      <th></th>\n",
       "      <th>current_price</th>\n",
       "      <th>main_category</th>\n",
       "    </tr>\n",
       "  </thead>\n",
       "  <tbody>\n",
       "    <tr>\n",
       "      <th>1005</th>\n",
       "      <td>7500.0</td>\n",
       "      <td>Baby Products</td>\n",
       "    </tr>\n",
       "    <tr>\n",
       "      <th>1242</th>\n",
       "      <td>1698.0</td>\n",
       "      <td>Baby Products</td>\n",
       "    </tr>\n",
       "    <tr>\n",
       "      <th>1776</th>\n",
       "      <td>2000.0</td>\n",
       "      <td>Baby Products</td>\n",
       "    </tr>\n",
       "  </tbody>\n",
       "</table>\n",
       "</div>"
      ],
      "text/plain": [
       "      current_price  main_category\n",
       "1005         7500.0  Baby Products\n",
       "1242         1698.0  Baby Products\n",
       "1776         2000.0  Baby Products"
      ]
     },
     "metadata": {},
     "output_type": "display_data"
    },
    {
     "name": "stdout",
     "output_type": "stream",
     "text": [
      "Category: Books, Movies and Music, Outliers: 2\n"
     ]
    },
    {
     "data": {
      "application/vnd.microsoft.datawrangler.viewer.v0+json": {
       "columns": [
        {
         "name": "index",
         "rawType": "int64",
         "type": "integer"
        },
        {
         "name": "current_price",
         "rawType": "float64",
         "type": "float"
        },
        {
         "name": "main_category",
         "rawType": "object",
         "type": "string"
        }
       ],
       "ref": "8a843a0f-3587-4136-b143-313c2be19f33",
       "rows": [
        [
         "934",
         "12000.0",
         "Books, Movies and Music"
        ],
        [
         "976",
         "2999.0",
         "Books, Movies and Music"
        ]
       ],
       "shape": {
        "columns": 2,
        "rows": 2
       }
      },
      "text/html": [
       "<div>\n",
       "<style scoped>\n",
       "    .dataframe tbody tr th:only-of-type {\n",
       "        vertical-align: middle;\n",
       "    }\n",
       "\n",
       "    .dataframe tbody tr th {\n",
       "        vertical-align: top;\n",
       "    }\n",
       "\n",
       "    .dataframe thead th {\n",
       "        text-align: right;\n",
       "    }\n",
       "</style>\n",
       "<table border=\"1\" class=\"dataframe\">\n",
       "  <thead>\n",
       "    <tr style=\"text-align: right;\">\n",
       "      <th></th>\n",
       "      <th>current_price</th>\n",
       "      <th>main_category</th>\n",
       "    </tr>\n",
       "  </thead>\n",
       "  <tbody>\n",
       "    <tr>\n",
       "      <th>934</th>\n",
       "      <td>12000.0</td>\n",
       "      <td>Books, Movies and Music</td>\n",
       "    </tr>\n",
       "    <tr>\n",
       "      <th>976</th>\n",
       "      <td>2999.0</td>\n",
       "      <td>Books, Movies and Music</td>\n",
       "    </tr>\n",
       "  </tbody>\n",
       "</table>\n",
       "</div>"
      ],
      "text/plain": [
       "     current_price            main_category\n",
       "934        12000.0  Books, Movies and Music\n",
       "976         2999.0  Books, Movies and Music"
      ]
     },
     "metadata": {},
     "output_type": "display_data"
    },
    {
     "name": "stdout",
     "output_type": "stream",
     "text": [
      "Category: Computing, Outliers: 19\n"
     ]
    },
    {
     "data": {
      "application/vnd.microsoft.datawrangler.viewer.v0+json": {
       "columns": [
        {
         "name": "index",
         "rawType": "int64",
         "type": "integer"
        },
        {
         "name": "current_price",
         "rawType": "float64",
         "type": "float"
        },
        {
         "name": "main_category",
         "rawType": "object",
         "type": "string"
        }
       ],
       "ref": "26f33852-560f-404c-8363-488e0349b6c4",
       "rows": [
        [
         "203",
         "39999.0",
         "Computing"
        ],
        [
         "210",
         "15999.0",
         "Computing"
        ],
        [
         "233",
         "28499.0",
         "Computing"
        ],
        [
         "615",
         "67860.0",
         "Computing"
        ],
        [
         "676",
         "11470.0",
         "Computing"
        ]
       ],
       "shape": {
        "columns": 2,
        "rows": 5
       }
      },
      "text/html": [
       "<div>\n",
       "<style scoped>\n",
       "    .dataframe tbody tr th:only-of-type {\n",
       "        vertical-align: middle;\n",
       "    }\n",
       "\n",
       "    .dataframe tbody tr th {\n",
       "        vertical-align: top;\n",
       "    }\n",
       "\n",
       "    .dataframe thead th {\n",
       "        text-align: right;\n",
       "    }\n",
       "</style>\n",
       "<table border=\"1\" class=\"dataframe\">\n",
       "  <thead>\n",
       "    <tr style=\"text-align: right;\">\n",
       "      <th></th>\n",
       "      <th>current_price</th>\n",
       "      <th>main_category</th>\n",
       "    </tr>\n",
       "  </thead>\n",
       "  <tbody>\n",
       "    <tr>\n",
       "      <th>203</th>\n",
       "      <td>39999.0</td>\n",
       "      <td>Computing</td>\n",
       "    </tr>\n",
       "    <tr>\n",
       "      <th>210</th>\n",
       "      <td>15999.0</td>\n",
       "      <td>Computing</td>\n",
       "    </tr>\n",
       "    <tr>\n",
       "      <th>233</th>\n",
       "      <td>28499.0</td>\n",
       "      <td>Computing</td>\n",
       "    </tr>\n",
       "    <tr>\n",
       "      <th>615</th>\n",
       "      <td>67860.0</td>\n",
       "      <td>Computing</td>\n",
       "    </tr>\n",
       "    <tr>\n",
       "      <th>676</th>\n",
       "      <td>11470.0</td>\n",
       "      <td>Computing</td>\n",
       "    </tr>\n",
       "  </tbody>\n",
       "</table>\n",
       "</div>"
      ],
      "text/plain": [
       "     current_price main_category\n",
       "203        39999.0     Computing\n",
       "210        15999.0     Computing\n",
       "233        28499.0     Computing\n",
       "615        67860.0     Computing\n",
       "676        11470.0     Computing"
      ]
     },
     "metadata": {},
     "output_type": "display_data"
    },
    {
     "name": "stdout",
     "output_type": "stream",
     "text": [
      "Category: Electronics, Outliers: 3\n"
     ]
    },
    {
     "data": {
      "application/vnd.microsoft.datawrangler.viewer.v0+json": {
       "columns": [
        {
         "name": "index",
         "rawType": "int64",
         "type": "integer"
        },
        {
         "name": "current_price",
         "rawType": "float64",
         "type": "float"
        },
        {
         "name": "main_category",
         "rawType": "object",
         "type": "string"
        }
       ],
       "ref": "851374da-8109-4b32-a22f-9bcc7fb9c713",
       "rows": [
        [
         "928",
         "44990.0",
         "Electronics"
        ],
        [
         "1049",
         "52999.0",
         "Electronics"
        ],
        [
         "1753",
         "44890.0",
         "Electronics"
        ]
       ],
       "shape": {
        "columns": 2,
        "rows": 3
       }
      },
      "text/html": [
       "<div>\n",
       "<style scoped>\n",
       "    .dataframe tbody tr th:only-of-type {\n",
       "        vertical-align: middle;\n",
       "    }\n",
       "\n",
       "    .dataframe tbody tr th {\n",
       "        vertical-align: top;\n",
       "    }\n",
       "\n",
       "    .dataframe thead th {\n",
       "        text-align: right;\n",
       "    }\n",
       "</style>\n",
       "<table border=\"1\" class=\"dataframe\">\n",
       "  <thead>\n",
       "    <tr style=\"text-align: right;\">\n",
       "      <th></th>\n",
       "      <th>current_price</th>\n",
       "      <th>main_category</th>\n",
       "    </tr>\n",
       "  </thead>\n",
       "  <tbody>\n",
       "    <tr>\n",
       "      <th>928</th>\n",
       "      <td>44990.0</td>\n",
       "      <td>Electronics</td>\n",
       "    </tr>\n",
       "    <tr>\n",
       "      <th>1049</th>\n",
       "      <td>52999.0</td>\n",
       "      <td>Electronics</td>\n",
       "    </tr>\n",
       "    <tr>\n",
       "      <th>1753</th>\n",
       "      <td>44890.0</td>\n",
       "      <td>Electronics</td>\n",
       "    </tr>\n",
       "  </tbody>\n",
       "</table>\n",
       "</div>"
      ],
      "text/plain": [
       "      current_price main_category\n",
       "928         44990.0   Electronics\n",
       "1049        52999.0   Electronics\n",
       "1753        44890.0   Electronics"
      ]
     },
     "metadata": {},
     "output_type": "display_data"
    },
    {
     "name": "stdout",
     "output_type": "stream",
     "text": [
      "Category: Fashion, Outliers: 17\n"
     ]
    },
    {
     "data": {
      "application/vnd.microsoft.datawrangler.viewer.v0+json": {
       "columns": [
        {
         "name": "index",
         "rawType": "int64",
         "type": "integer"
        },
        {
         "name": "current_price",
         "rawType": "float64",
         "type": "float"
        },
        {
         "name": "main_category",
         "rawType": "object",
         "type": "string"
        }
       ],
       "ref": "a834a01f-a594-45f4-a10b-7ca6e460a9ce",
       "rows": [
        [
         "54",
         "3445.0",
         "Fashion"
        ],
        [
         "165",
         "2399.0",
         "Fashion"
        ],
        [
         "200",
         "5500.0",
         "Fashion"
        ],
        [
         "340",
         "2949.0",
         "Fashion"
        ],
        [
         "444",
         "3949.5",
         "Fashion"
        ]
       ],
       "shape": {
        "columns": 2,
        "rows": 5
       }
      },
      "text/html": [
       "<div>\n",
       "<style scoped>\n",
       "    .dataframe tbody tr th:only-of-type {\n",
       "        vertical-align: middle;\n",
       "    }\n",
       "\n",
       "    .dataframe tbody tr th {\n",
       "        vertical-align: top;\n",
       "    }\n",
       "\n",
       "    .dataframe thead th {\n",
       "        text-align: right;\n",
       "    }\n",
       "</style>\n",
       "<table border=\"1\" class=\"dataframe\">\n",
       "  <thead>\n",
       "    <tr style=\"text-align: right;\">\n",
       "      <th></th>\n",
       "      <th>current_price</th>\n",
       "      <th>main_category</th>\n",
       "    </tr>\n",
       "  </thead>\n",
       "  <tbody>\n",
       "    <tr>\n",
       "      <th>54</th>\n",
       "      <td>3445.0</td>\n",
       "      <td>Fashion</td>\n",
       "    </tr>\n",
       "    <tr>\n",
       "      <th>165</th>\n",
       "      <td>2399.0</td>\n",
       "      <td>Fashion</td>\n",
       "    </tr>\n",
       "    <tr>\n",
       "      <th>200</th>\n",
       "      <td>5500.0</td>\n",
       "      <td>Fashion</td>\n",
       "    </tr>\n",
       "    <tr>\n",
       "      <th>340</th>\n",
       "      <td>2949.0</td>\n",
       "      <td>Fashion</td>\n",
       "    </tr>\n",
       "    <tr>\n",
       "      <th>444</th>\n",
       "      <td>3949.5</td>\n",
       "      <td>Fashion</td>\n",
       "    </tr>\n",
       "  </tbody>\n",
       "</table>\n",
       "</div>"
      ],
      "text/plain": [
       "     current_price main_category\n",
       "54          3445.0       Fashion\n",
       "165         2399.0       Fashion\n",
       "200         5500.0       Fashion\n",
       "340         2949.0       Fashion\n",
       "444         3949.5       Fashion"
      ]
     },
     "metadata": {},
     "output_type": "display_data"
    },
    {
     "name": "stdout",
     "output_type": "stream",
     "text": [
      "Category: Gaming, Outliers: 1\n"
     ]
    },
    {
     "data": {
      "application/vnd.microsoft.datawrangler.viewer.v0+json": {
       "columns": [
        {
         "name": "index",
         "rawType": "int64",
         "type": "integer"
        },
        {
         "name": "current_price",
         "rawType": "float64",
         "type": "float"
        },
        {
         "name": "main_category",
         "rawType": "object",
         "type": "string"
        }
       ],
       "ref": "21321420-864d-4b31-8432-9bf676bbfa19",
       "rows": [
        [
         "949",
         "3750.0",
         "Gaming"
        ]
       ],
       "shape": {
        "columns": 2,
        "rows": 1
       }
      },
      "text/html": [
       "<div>\n",
       "<style scoped>\n",
       "    .dataframe tbody tr th:only-of-type {\n",
       "        vertical-align: middle;\n",
       "    }\n",
       "\n",
       "    .dataframe tbody tr th {\n",
       "        vertical-align: top;\n",
       "    }\n",
       "\n",
       "    .dataframe thead th {\n",
       "        text-align: right;\n",
       "    }\n",
       "</style>\n",
       "<table border=\"1\" class=\"dataframe\">\n",
       "  <thead>\n",
       "    <tr style=\"text-align: right;\">\n",
       "      <th></th>\n",
       "      <th>current_price</th>\n",
       "      <th>main_category</th>\n",
       "    </tr>\n",
       "  </thead>\n",
       "  <tbody>\n",
       "    <tr>\n",
       "      <th>949</th>\n",
       "      <td>3750.0</td>\n",
       "      <td>Gaming</td>\n",
       "    </tr>\n",
       "  </tbody>\n",
       "</table>\n",
       "</div>"
      ],
      "text/plain": [
       "     current_price main_category\n",
       "949         3750.0        Gaming"
      ]
     },
     "metadata": {},
     "output_type": "display_data"
    },
    {
     "name": "stdout",
     "output_type": "stream",
     "text": [
      "Category: Garden & Outdoors, Outliers: 2\n"
     ]
    },
    {
     "data": {
      "application/vnd.microsoft.datawrangler.viewer.v0+json": {
       "columns": [
        {
         "name": "index",
         "rawType": "int64",
         "type": "integer"
        },
        {
         "name": "current_price",
         "rawType": "float64",
         "type": "float"
        },
        {
         "name": "main_category",
         "rawType": "object",
         "type": "string"
        }
       ],
       "ref": "d0c1301b-e43e-4a6e-9b7a-d4d5975b643f",
       "rows": [
        [
         "538",
         "40000.0",
         "Garden & Outdoors"
        ],
        [
         "739",
         "29299.0",
         "Garden & Outdoors"
        ]
       ],
       "shape": {
        "columns": 2,
        "rows": 2
       }
      },
      "text/html": [
       "<div>\n",
       "<style scoped>\n",
       "    .dataframe tbody tr th:only-of-type {\n",
       "        vertical-align: middle;\n",
       "    }\n",
       "\n",
       "    .dataframe tbody tr th {\n",
       "        vertical-align: top;\n",
       "    }\n",
       "\n",
       "    .dataframe thead th {\n",
       "        text-align: right;\n",
       "    }\n",
       "</style>\n",
       "<table border=\"1\" class=\"dataframe\">\n",
       "  <thead>\n",
       "    <tr style=\"text-align: right;\">\n",
       "      <th></th>\n",
       "      <th>current_price</th>\n",
       "      <th>main_category</th>\n",
       "    </tr>\n",
       "  </thead>\n",
       "  <tbody>\n",
       "    <tr>\n",
       "      <th>538</th>\n",
       "      <td>40000.0</td>\n",
       "      <td>Garden &amp; Outdoors</td>\n",
       "    </tr>\n",
       "    <tr>\n",
       "      <th>739</th>\n",
       "      <td>29299.0</td>\n",
       "      <td>Garden &amp; Outdoors</td>\n",
       "    </tr>\n",
       "  </tbody>\n",
       "</table>\n",
       "</div>"
      ],
      "text/plain": [
       "     current_price      main_category\n",
       "538        40000.0  Garden & Outdoors\n",
       "739        29299.0  Garden & Outdoors"
      ]
     },
     "metadata": {},
     "output_type": "display_data"
    },
    {
     "name": "stdout",
     "output_type": "stream",
     "text": [
      "Category: Grocery, Outliers: 1\n"
     ]
    },
    {
     "data": {
      "application/vnd.microsoft.datawrangler.viewer.v0+json": {
       "columns": [
        {
         "name": "index",
         "rawType": "int64",
         "type": "integer"
        },
        {
         "name": "current_price",
         "rawType": "float64",
         "type": "float"
        },
        {
         "name": "main_category",
         "rawType": "object",
         "type": "string"
        }
       ],
       "ref": "224a2cac-6522-4ca0-a3f4-5625d258d287",
       "rows": [
        [
         "1875",
         "3499.0",
         "Grocery"
        ]
       ],
       "shape": {
        "columns": 2,
        "rows": 1
       }
      },
      "text/html": [
       "<div>\n",
       "<style scoped>\n",
       "    .dataframe tbody tr th:only-of-type {\n",
       "        vertical-align: middle;\n",
       "    }\n",
       "\n",
       "    .dataframe tbody tr th {\n",
       "        vertical-align: top;\n",
       "    }\n",
       "\n",
       "    .dataframe thead th {\n",
       "        text-align: right;\n",
       "    }\n",
       "</style>\n",
       "<table border=\"1\" class=\"dataframe\">\n",
       "  <thead>\n",
       "    <tr style=\"text-align: right;\">\n",
       "      <th></th>\n",
       "      <th>current_price</th>\n",
       "      <th>main_category</th>\n",
       "    </tr>\n",
       "  </thead>\n",
       "  <tbody>\n",
       "    <tr>\n",
       "      <th>1875</th>\n",
       "      <td>3499.0</td>\n",
       "      <td>Grocery</td>\n",
       "    </tr>\n",
       "  </tbody>\n",
       "</table>\n",
       "</div>"
      ],
      "text/plain": [
       "      current_price main_category\n",
       "1875         3499.0       Grocery"
      ]
     },
     "metadata": {},
     "output_type": "display_data"
    },
    {
     "name": "stdout",
     "output_type": "stream",
     "text": [
      "Category: Health & Beauty, Outliers: 30\n"
     ]
    },
    {
     "data": {
      "application/vnd.microsoft.datawrangler.viewer.v0+json": {
       "columns": [
        {
         "name": "index",
         "rawType": "int64",
         "type": "integer"
        },
        {
         "name": "current_price",
         "rawType": "float64",
         "type": "float"
        },
        {
         "name": "main_category",
         "rawType": "object",
         "type": "string"
        }
       ],
       "ref": "a20ef27b-80f3-4cf9-a3e6-15461a8e16c4",
       "rows": [
        [
         "43",
         "3647.0",
         "Health & Beauty"
        ],
        [
         "167",
         "2873.0",
         "Health & Beauty"
        ],
        [
         "217",
         "5200.0",
         "Health & Beauty"
        ],
        [
         "300",
         "2824.0",
         "Health & Beauty"
        ],
        [
         "427",
         "3300.0",
         "Health & Beauty"
        ]
       ],
       "shape": {
        "columns": 2,
        "rows": 5
       }
      },
      "text/html": [
       "<div>\n",
       "<style scoped>\n",
       "    .dataframe tbody tr th:only-of-type {\n",
       "        vertical-align: middle;\n",
       "    }\n",
       "\n",
       "    .dataframe tbody tr th {\n",
       "        vertical-align: top;\n",
       "    }\n",
       "\n",
       "    .dataframe thead th {\n",
       "        text-align: right;\n",
       "    }\n",
       "</style>\n",
       "<table border=\"1\" class=\"dataframe\">\n",
       "  <thead>\n",
       "    <tr style=\"text-align: right;\">\n",
       "      <th></th>\n",
       "      <th>current_price</th>\n",
       "      <th>main_category</th>\n",
       "    </tr>\n",
       "  </thead>\n",
       "  <tbody>\n",
       "    <tr>\n",
       "      <th>43</th>\n",
       "      <td>3647.0</td>\n",
       "      <td>Health &amp; Beauty</td>\n",
       "    </tr>\n",
       "    <tr>\n",
       "      <th>167</th>\n",
       "      <td>2873.0</td>\n",
       "      <td>Health &amp; Beauty</td>\n",
       "    </tr>\n",
       "    <tr>\n",
       "      <th>217</th>\n",
       "      <td>5200.0</td>\n",
       "      <td>Health &amp; Beauty</td>\n",
       "    </tr>\n",
       "    <tr>\n",
       "      <th>300</th>\n",
       "      <td>2824.0</td>\n",
       "      <td>Health &amp; Beauty</td>\n",
       "    </tr>\n",
       "    <tr>\n",
       "      <th>427</th>\n",
       "      <td>3300.0</td>\n",
       "      <td>Health &amp; Beauty</td>\n",
       "    </tr>\n",
       "  </tbody>\n",
       "</table>\n",
       "</div>"
      ],
      "text/plain": [
       "     current_price    main_category\n",
       "43          3647.0  Health & Beauty\n",
       "167         2873.0  Health & Beauty\n",
       "217         5200.0  Health & Beauty\n",
       "300         2824.0  Health & Beauty\n",
       "427         3300.0  Health & Beauty"
      ]
     },
     "metadata": {},
     "output_type": "display_data"
    },
    {
     "name": "stdout",
     "output_type": "stream",
     "text": [
      "Category: Home & Office, Outliers: 58\n"
     ]
    },
    {
     "data": {
      "application/vnd.microsoft.datawrangler.viewer.v0+json": {
       "columns": [
        {
         "name": "index",
         "rawType": "int64",
         "type": "integer"
        },
        {
         "name": "current_price",
         "rawType": "float64",
         "type": "float"
        },
        {
         "name": "main_category",
         "rawType": "object",
         "type": "string"
        }
       ],
       "ref": "831f897e-91a4-4e18-a212-4594a1efc921",
       "rows": [
        [
         "12",
         "6999.0",
         "Home & Office"
        ],
        [
         "16",
         "8799.0",
         "Home & Office"
        ],
        [
         "36",
         "16999.0",
         "Home & Office"
        ],
        [
         "39",
         "17499.0",
         "Home & Office"
        ],
        [
         "55",
         "23599.0",
         "Home & Office"
        ]
       ],
       "shape": {
        "columns": 2,
        "rows": 5
       }
      },
      "text/html": [
       "<div>\n",
       "<style scoped>\n",
       "    .dataframe tbody tr th:only-of-type {\n",
       "        vertical-align: middle;\n",
       "    }\n",
       "\n",
       "    .dataframe tbody tr th {\n",
       "        vertical-align: top;\n",
       "    }\n",
       "\n",
       "    .dataframe thead th {\n",
       "        text-align: right;\n",
       "    }\n",
       "</style>\n",
       "<table border=\"1\" class=\"dataframe\">\n",
       "  <thead>\n",
       "    <tr style=\"text-align: right;\">\n",
       "      <th></th>\n",
       "      <th>current_price</th>\n",
       "      <th>main_category</th>\n",
       "    </tr>\n",
       "  </thead>\n",
       "  <tbody>\n",
       "    <tr>\n",
       "      <th>12</th>\n",
       "      <td>6999.0</td>\n",
       "      <td>Home &amp; Office</td>\n",
       "    </tr>\n",
       "    <tr>\n",
       "      <th>16</th>\n",
       "      <td>8799.0</td>\n",
       "      <td>Home &amp; Office</td>\n",
       "    </tr>\n",
       "    <tr>\n",
       "      <th>36</th>\n",
       "      <td>16999.0</td>\n",
       "      <td>Home &amp; Office</td>\n",
       "    </tr>\n",
       "    <tr>\n",
       "      <th>39</th>\n",
       "      <td>17499.0</td>\n",
       "      <td>Home &amp; Office</td>\n",
       "    </tr>\n",
       "    <tr>\n",
       "      <th>55</th>\n",
       "      <td>23599.0</td>\n",
       "      <td>Home &amp; Office</td>\n",
       "    </tr>\n",
       "  </tbody>\n",
       "</table>\n",
       "</div>"
      ],
      "text/plain": [
       "    current_price  main_category\n",
       "12         6999.0  Home & Office\n",
       "16         8799.0  Home & Office\n",
       "36        16999.0  Home & Office\n",
       "39        17499.0  Home & Office\n",
       "55        23599.0  Home & Office"
      ]
     },
     "metadata": {},
     "output_type": "display_data"
    },
    {
     "name": "stdout",
     "output_type": "stream",
     "text": [
      "Category: Industrial & Scientific, Outliers: 2\n"
     ]
    },
    {
     "data": {
      "application/vnd.microsoft.datawrangler.viewer.v0+json": {
       "columns": [
        {
         "name": "index",
         "rawType": "int64",
         "type": "integer"
        },
        {
         "name": "current_price",
         "rawType": "float64",
         "type": "float"
        },
        {
         "name": "main_category",
         "rawType": "object",
         "type": "string"
        }
       ],
       "ref": "ffc806d4-04c4-4b13-8d9c-64e9e44d1053",
       "rows": [
        [
         "239",
         "14999.0",
         "Industrial & Scientific"
        ],
        [
         "699",
         "21199.0",
         "Industrial & Scientific"
        ]
       ],
       "shape": {
        "columns": 2,
        "rows": 2
       }
      },
      "text/html": [
       "<div>\n",
       "<style scoped>\n",
       "    .dataframe tbody tr th:only-of-type {\n",
       "        vertical-align: middle;\n",
       "    }\n",
       "\n",
       "    .dataframe tbody tr th {\n",
       "        vertical-align: top;\n",
       "    }\n",
       "\n",
       "    .dataframe thead th {\n",
       "        text-align: right;\n",
       "    }\n",
       "</style>\n",
       "<table border=\"1\" class=\"dataframe\">\n",
       "  <thead>\n",
       "    <tr style=\"text-align: right;\">\n",
       "      <th></th>\n",
       "      <th>current_price</th>\n",
       "      <th>main_category</th>\n",
       "    </tr>\n",
       "  </thead>\n",
       "  <tbody>\n",
       "    <tr>\n",
       "      <th>239</th>\n",
       "      <td>14999.0</td>\n",
       "      <td>Industrial &amp; Scientific</td>\n",
       "    </tr>\n",
       "    <tr>\n",
       "      <th>699</th>\n",
       "      <td>21199.0</td>\n",
       "      <td>Industrial &amp; Scientific</td>\n",
       "    </tr>\n",
       "  </tbody>\n",
       "</table>\n",
       "</div>"
      ],
      "text/plain": [
       "     current_price            main_category\n",
       "239        14999.0  Industrial & Scientific\n",
       "699        21199.0  Industrial & Scientific"
      ]
     },
     "metadata": {},
     "output_type": "display_data"
    },
    {
     "name": "stdout",
     "output_type": "stream",
     "text": [
      "Category: Musical Instruments, Outliers: 1\n"
     ]
    },
    {
     "data": {
      "application/vnd.microsoft.datawrangler.viewer.v0+json": {
       "columns": [
        {
         "name": "index",
         "rawType": "int64",
         "type": "integer"
        },
        {
         "name": "current_price",
         "rawType": "float64",
         "type": "float"
        },
        {
         "name": "main_category",
         "rawType": "object",
         "type": "string"
        }
       ],
       "ref": "812a4ff6-40b6-428c-8598-90c1c538a00a",
       "rows": [
        [
         "1066",
         "30990.0",
         "Musical Instruments"
        ]
       ],
       "shape": {
        "columns": 2,
        "rows": 1
       }
      },
      "text/html": [
       "<div>\n",
       "<style scoped>\n",
       "    .dataframe tbody tr th:only-of-type {\n",
       "        vertical-align: middle;\n",
       "    }\n",
       "\n",
       "    .dataframe tbody tr th {\n",
       "        vertical-align: top;\n",
       "    }\n",
       "\n",
       "    .dataframe thead th {\n",
       "        text-align: right;\n",
       "    }\n",
       "</style>\n",
       "<table border=\"1\" class=\"dataframe\">\n",
       "  <thead>\n",
       "    <tr style=\"text-align: right;\">\n",
       "      <th></th>\n",
       "      <th>current_price</th>\n",
       "      <th>main_category</th>\n",
       "    </tr>\n",
       "  </thead>\n",
       "  <tbody>\n",
       "    <tr>\n",
       "      <th>1066</th>\n",
       "      <td>30990.0</td>\n",
       "      <td>Musical Instruments</td>\n",
       "    </tr>\n",
       "  </tbody>\n",
       "</table>\n",
       "</div>"
      ],
      "text/plain": [
       "      current_price        main_category\n",
       "1066        30990.0  Musical Instruments"
      ]
     },
     "metadata": {},
     "output_type": "display_data"
    },
    {
     "name": "stdout",
     "output_type": "stream",
     "text": [
      "Category: Pet Supplies, Outliers: 2\n"
     ]
    },
    {
     "data": {
      "application/vnd.microsoft.datawrangler.viewer.v0+json": {
       "columns": [
        {
         "name": "index",
         "rawType": "int64",
         "type": "integer"
        },
        {
         "name": "current_price",
         "rawType": "float64",
         "type": "float"
        },
        {
         "name": "main_category",
         "rawType": "object",
         "type": "string"
        }
       ],
       "ref": "76ef6541-3f81-41ba-9a9d-a27bee3064fd",
       "rows": [
        [
         "915",
         "3780.0",
         "Pet Supplies"
        ],
        [
         "1680",
         "5900.0",
         "Pet Supplies"
        ]
       ],
       "shape": {
        "columns": 2,
        "rows": 2
       }
      },
      "text/html": [
       "<div>\n",
       "<style scoped>\n",
       "    .dataframe tbody tr th:only-of-type {\n",
       "        vertical-align: middle;\n",
       "    }\n",
       "\n",
       "    .dataframe tbody tr th {\n",
       "        vertical-align: top;\n",
       "    }\n",
       "\n",
       "    .dataframe thead th {\n",
       "        text-align: right;\n",
       "    }\n",
       "</style>\n",
       "<table border=\"1\" class=\"dataframe\">\n",
       "  <thead>\n",
       "    <tr style=\"text-align: right;\">\n",
       "      <th></th>\n",
       "      <th>current_price</th>\n",
       "      <th>main_category</th>\n",
       "    </tr>\n",
       "  </thead>\n",
       "  <tbody>\n",
       "    <tr>\n",
       "      <th>915</th>\n",
       "      <td>3780.0</td>\n",
       "      <td>Pet Supplies</td>\n",
       "    </tr>\n",
       "    <tr>\n",
       "      <th>1680</th>\n",
       "      <td>5900.0</td>\n",
       "      <td>Pet Supplies</td>\n",
       "    </tr>\n",
       "  </tbody>\n",
       "</table>\n",
       "</div>"
      ],
      "text/plain": [
       "      current_price main_category\n",
       "915          3780.0  Pet Supplies\n",
       "1680         5900.0  Pet Supplies"
      ]
     },
     "metadata": {},
     "output_type": "display_data"
    },
    {
     "name": "stdout",
     "output_type": "stream",
     "text": [
      "Category: Phones & Tablets, Outliers: 8\n"
     ]
    },
    {
     "data": {
      "application/vnd.microsoft.datawrangler.viewer.v0+json": {
       "columns": [
        {
         "name": "index",
         "rawType": "int64",
         "type": "integer"
        },
        {
         "name": "current_price",
         "rawType": "float64",
         "type": "float"
        },
        {
         "name": "main_category",
         "rawType": "object",
         "type": "string"
        }
       ],
       "ref": "afd28ed6-e99e-4ba7-8bed-2cb0a1669ebd",
       "rows": [
        [
         "916",
         "33190.0",
         "Phones & Tablets"
        ],
        [
         "1162",
         "32399.0",
         "Phones & Tablets"
        ],
        [
         "1228",
         "32489.0",
         "Phones & Tablets"
        ],
        [
         "1460",
         "45599.0",
         "Phones & Tablets"
        ],
        [
         "1552",
         "32585.0",
         "Phones & Tablets"
        ]
       ],
       "shape": {
        "columns": 2,
        "rows": 5
       }
      },
      "text/html": [
       "<div>\n",
       "<style scoped>\n",
       "    .dataframe tbody tr th:only-of-type {\n",
       "        vertical-align: middle;\n",
       "    }\n",
       "\n",
       "    .dataframe tbody tr th {\n",
       "        vertical-align: top;\n",
       "    }\n",
       "\n",
       "    .dataframe thead th {\n",
       "        text-align: right;\n",
       "    }\n",
       "</style>\n",
       "<table border=\"1\" class=\"dataframe\">\n",
       "  <thead>\n",
       "    <tr style=\"text-align: right;\">\n",
       "      <th></th>\n",
       "      <th>current_price</th>\n",
       "      <th>main_category</th>\n",
       "    </tr>\n",
       "  </thead>\n",
       "  <tbody>\n",
       "    <tr>\n",
       "      <th>916</th>\n",
       "      <td>33190.0</td>\n",
       "      <td>Phones &amp; Tablets</td>\n",
       "    </tr>\n",
       "    <tr>\n",
       "      <th>1162</th>\n",
       "      <td>32399.0</td>\n",
       "      <td>Phones &amp; Tablets</td>\n",
       "    </tr>\n",
       "    <tr>\n",
       "      <th>1228</th>\n",
       "      <td>32489.0</td>\n",
       "      <td>Phones &amp; Tablets</td>\n",
       "    </tr>\n",
       "    <tr>\n",
       "      <th>1460</th>\n",
       "      <td>45599.0</td>\n",
       "      <td>Phones &amp; Tablets</td>\n",
       "    </tr>\n",
       "    <tr>\n",
       "      <th>1552</th>\n",
       "      <td>32585.0</td>\n",
       "      <td>Phones &amp; Tablets</td>\n",
       "    </tr>\n",
       "  </tbody>\n",
       "</table>\n",
       "</div>"
      ],
      "text/plain": [
       "      current_price     main_category\n",
       "916         33190.0  Phones & Tablets\n",
       "1162        32399.0  Phones & Tablets\n",
       "1228        32489.0  Phones & Tablets\n",
       "1460        45599.0  Phones & Tablets\n",
       "1552        32585.0  Phones & Tablets"
      ]
     },
     "metadata": {},
     "output_type": "display_data"
    },
    {
     "name": "stdout",
     "output_type": "stream",
     "text": [
      "Category: Sporting Goods, Outliers: 4\n"
     ]
    },
    {
     "data": {
      "application/vnd.microsoft.datawrangler.viewer.v0+json": {
       "columns": [
        {
         "name": "index",
         "rawType": "int64",
         "type": "integer"
        },
        {
         "name": "current_price",
         "rawType": "float64",
         "type": "float"
        },
        {
         "name": "main_category",
         "rawType": "object",
         "type": "string"
        }
       ],
       "ref": "3e72b3ea-3270-4226-8d26-26ef98739ce6",
       "rows": [
        [
         "601",
         "98999.0",
         "Sporting Goods"
        ],
        [
         "659",
         "9990.0",
         "Sporting Goods"
        ],
        [
         "701",
         "11999.0",
         "Sporting Goods"
        ],
        [
         "1092",
         "12299.0",
         "Sporting Goods"
        ]
       ],
       "shape": {
        "columns": 2,
        "rows": 4
       }
      },
      "text/html": [
       "<div>\n",
       "<style scoped>\n",
       "    .dataframe tbody tr th:only-of-type {\n",
       "        vertical-align: middle;\n",
       "    }\n",
       "\n",
       "    .dataframe tbody tr th {\n",
       "        vertical-align: top;\n",
       "    }\n",
       "\n",
       "    .dataframe thead th {\n",
       "        text-align: right;\n",
       "    }\n",
       "</style>\n",
       "<table border=\"1\" class=\"dataframe\">\n",
       "  <thead>\n",
       "    <tr style=\"text-align: right;\">\n",
       "      <th></th>\n",
       "      <th>current_price</th>\n",
       "      <th>main_category</th>\n",
       "    </tr>\n",
       "  </thead>\n",
       "  <tbody>\n",
       "    <tr>\n",
       "      <th>601</th>\n",
       "      <td>98999.0</td>\n",
       "      <td>Sporting Goods</td>\n",
       "    </tr>\n",
       "    <tr>\n",
       "      <th>659</th>\n",
       "      <td>9990.0</td>\n",
       "      <td>Sporting Goods</td>\n",
       "    </tr>\n",
       "    <tr>\n",
       "      <th>701</th>\n",
       "      <td>11999.0</td>\n",
       "      <td>Sporting Goods</td>\n",
       "    </tr>\n",
       "    <tr>\n",
       "      <th>1092</th>\n",
       "      <td>12299.0</td>\n",
       "      <td>Sporting Goods</td>\n",
       "    </tr>\n",
       "  </tbody>\n",
       "</table>\n",
       "</div>"
      ],
      "text/plain": [
       "      current_price   main_category\n",
       "601         98999.0  Sporting Goods\n",
       "659          9990.0  Sporting Goods\n",
       "701         11999.0  Sporting Goods\n",
       "1092        12299.0  Sporting Goods"
      ]
     },
     "metadata": {},
     "output_type": "display_data"
    },
    {
     "name": "stdout",
     "output_type": "stream",
     "text": [
      "Category: Toys & Games, Outliers: 7\n"
     ]
    },
    {
     "data": {
      "application/vnd.microsoft.datawrangler.viewer.v0+json": {
       "columns": [
        {
         "name": "index",
         "rawType": "int64",
         "type": "integer"
        },
        {
         "name": "current_price",
         "rawType": "float64",
         "type": "float"
        },
        {
         "name": "main_category",
         "rawType": "object",
         "type": "string"
        }
       ],
       "ref": "98fda39a-14b8-41a4-a42f-232abfcc4631",
       "rows": [
        [
         "657",
         "16199.0",
         "Toys & Games"
        ],
        [
         "672",
         "8999.0",
         "Toys & Games"
        ],
        [
         "929",
         "37999.0",
         "Toys & Games"
        ],
        [
         "1360",
         "13000.0",
         "Toys & Games"
        ],
        [
         "1646",
         "6999.0",
         "Toys & Games"
        ]
       ],
       "shape": {
        "columns": 2,
        "rows": 5
       }
      },
      "text/html": [
       "<div>\n",
       "<style scoped>\n",
       "    .dataframe tbody tr th:only-of-type {\n",
       "        vertical-align: middle;\n",
       "    }\n",
       "\n",
       "    .dataframe tbody tr th {\n",
       "        vertical-align: top;\n",
       "    }\n",
       "\n",
       "    .dataframe thead th {\n",
       "        text-align: right;\n",
       "    }\n",
       "</style>\n",
       "<table border=\"1\" class=\"dataframe\">\n",
       "  <thead>\n",
       "    <tr style=\"text-align: right;\">\n",
       "      <th></th>\n",
       "      <th>current_price</th>\n",
       "      <th>main_category</th>\n",
       "    </tr>\n",
       "  </thead>\n",
       "  <tbody>\n",
       "    <tr>\n",
       "      <th>657</th>\n",
       "      <td>16199.0</td>\n",
       "      <td>Toys &amp; Games</td>\n",
       "    </tr>\n",
       "    <tr>\n",
       "      <th>672</th>\n",
       "      <td>8999.0</td>\n",
       "      <td>Toys &amp; Games</td>\n",
       "    </tr>\n",
       "    <tr>\n",
       "      <th>929</th>\n",
       "      <td>37999.0</td>\n",
       "      <td>Toys &amp; Games</td>\n",
       "    </tr>\n",
       "    <tr>\n",
       "      <th>1360</th>\n",
       "      <td>13000.0</td>\n",
       "      <td>Toys &amp; Games</td>\n",
       "    </tr>\n",
       "    <tr>\n",
       "      <th>1646</th>\n",
       "      <td>6999.0</td>\n",
       "      <td>Toys &amp; Games</td>\n",
       "    </tr>\n",
       "  </tbody>\n",
       "</table>\n",
       "</div>"
      ],
      "text/plain": [
       "      current_price main_category\n",
       "657         16199.0  Toys & Games\n",
       "672          8999.0  Toys & Games\n",
       "929         37999.0  Toys & Games\n",
       "1360        13000.0  Toys & Games\n",
       "1646         6999.0  Toys & Games"
      ]
     },
     "metadata": {},
     "output_type": "display_data"
    },
    {
     "name": "stdout",
     "output_type": "stream",
     "text": [
      "\n",
      "Checking outliers for column: original_price\n",
      "\n",
      "Category: Automobile, Outliers: 3\n"
     ]
    },
    {
     "data": {
      "application/vnd.microsoft.datawrangler.viewer.v0+json": {
       "columns": [
        {
         "name": "index",
         "rawType": "int64",
         "type": "integer"
        },
        {
         "name": "original_price",
         "rawType": "float64",
         "type": "float"
        },
        {
         "name": "main_category",
         "rawType": "object",
         "type": "string"
        }
       ],
       "ref": "80975d9a-8055-4b72-9a41-48d3fc30877d",
       "rows": [
        [
         "631",
         "85810.0",
         "Automobile"
        ],
        [
         "862",
         "32000.0",
         "Automobile"
        ],
        [
         "1445",
         "35000.0",
         "Automobile"
        ]
       ],
       "shape": {
        "columns": 2,
        "rows": 3
       }
      },
      "text/html": [
       "<div>\n",
       "<style scoped>\n",
       "    .dataframe tbody tr th:only-of-type {\n",
       "        vertical-align: middle;\n",
       "    }\n",
       "\n",
       "    .dataframe tbody tr th {\n",
       "        vertical-align: top;\n",
       "    }\n",
       "\n",
       "    .dataframe thead th {\n",
       "        text-align: right;\n",
       "    }\n",
       "</style>\n",
       "<table border=\"1\" class=\"dataframe\">\n",
       "  <thead>\n",
       "    <tr style=\"text-align: right;\">\n",
       "      <th></th>\n",
       "      <th>original_price</th>\n",
       "      <th>main_category</th>\n",
       "    </tr>\n",
       "  </thead>\n",
       "  <tbody>\n",
       "    <tr>\n",
       "      <th>631</th>\n",
       "      <td>85810.0</td>\n",
       "      <td>Automobile</td>\n",
       "    </tr>\n",
       "    <tr>\n",
       "      <th>862</th>\n",
       "      <td>32000.0</td>\n",
       "      <td>Automobile</td>\n",
       "    </tr>\n",
       "    <tr>\n",
       "      <th>1445</th>\n",
       "      <td>35000.0</td>\n",
       "      <td>Automobile</td>\n",
       "    </tr>\n",
       "  </tbody>\n",
       "</table>\n",
       "</div>"
      ],
      "text/plain": [
       "      original_price main_category\n",
       "631          85810.0    Automobile\n",
       "862          32000.0    Automobile\n",
       "1445         35000.0    Automobile"
      ]
     },
     "metadata": {},
     "output_type": "display_data"
    },
    {
     "name": "stdout",
     "output_type": "stream",
     "text": [
      "Category: Baby Products, Outliers: 1\n"
     ]
    },
    {
     "data": {
      "application/vnd.microsoft.datawrangler.viewer.v0+json": {
       "columns": [
        {
         "name": "index",
         "rawType": "int64",
         "type": "integer"
        },
        {
         "name": "original_price",
         "rawType": "float64",
         "type": "float"
        },
        {
         "name": "main_category",
         "rawType": "object",
         "type": "string"
        }
       ],
       "ref": "01063181-1049-4915-82cc-4f60d313e380",
       "rows": [
        [
         "1005",
         "8500.0",
         "Baby Products"
        ]
       ],
       "shape": {
        "columns": 2,
        "rows": 1
       }
      },
      "text/html": [
       "<div>\n",
       "<style scoped>\n",
       "    .dataframe tbody tr th:only-of-type {\n",
       "        vertical-align: middle;\n",
       "    }\n",
       "\n",
       "    .dataframe tbody tr th {\n",
       "        vertical-align: top;\n",
       "    }\n",
       "\n",
       "    .dataframe thead th {\n",
       "        text-align: right;\n",
       "    }\n",
       "</style>\n",
       "<table border=\"1\" class=\"dataframe\">\n",
       "  <thead>\n",
       "    <tr style=\"text-align: right;\">\n",
       "      <th></th>\n",
       "      <th>original_price</th>\n",
       "      <th>main_category</th>\n",
       "    </tr>\n",
       "  </thead>\n",
       "  <tbody>\n",
       "    <tr>\n",
       "      <th>1005</th>\n",
       "      <td>8500.0</td>\n",
       "      <td>Baby Products</td>\n",
       "    </tr>\n",
       "  </tbody>\n",
       "</table>\n",
       "</div>"
      ],
      "text/plain": [
       "      original_price  main_category\n",
       "1005          8500.0  Baby Products"
      ]
     },
     "metadata": {},
     "output_type": "display_data"
    },
    {
     "name": "stdout",
     "output_type": "stream",
     "text": [
      "Category: Books, Movies and Music, Outliers: 2\n"
     ]
    },
    {
     "data": {
      "application/vnd.microsoft.datawrangler.viewer.v0+json": {
       "columns": [
        {
         "name": "index",
         "rawType": "int64",
         "type": "integer"
        },
        {
         "name": "original_price",
         "rawType": "float64",
         "type": "float"
        },
        {
         "name": "main_category",
         "rawType": "object",
         "type": "string"
        }
       ],
       "ref": "9467fc3b-e60b-467d-9bf1-5cab1a372239",
       "rows": [
        [
         "934",
         "12000.0",
         "Books, Movies and Music"
        ],
        [
         "976",
         "2999.0",
         "Books, Movies and Music"
        ]
       ],
       "shape": {
        "columns": 2,
        "rows": 2
       }
      },
      "text/html": [
       "<div>\n",
       "<style scoped>\n",
       "    .dataframe tbody tr th:only-of-type {\n",
       "        vertical-align: middle;\n",
       "    }\n",
       "\n",
       "    .dataframe tbody tr th {\n",
       "        vertical-align: top;\n",
       "    }\n",
       "\n",
       "    .dataframe thead th {\n",
       "        text-align: right;\n",
       "    }\n",
       "</style>\n",
       "<table border=\"1\" class=\"dataframe\">\n",
       "  <thead>\n",
       "    <tr style=\"text-align: right;\">\n",
       "      <th></th>\n",
       "      <th>original_price</th>\n",
       "      <th>main_category</th>\n",
       "    </tr>\n",
       "  </thead>\n",
       "  <tbody>\n",
       "    <tr>\n",
       "      <th>934</th>\n",
       "      <td>12000.0</td>\n",
       "      <td>Books, Movies and Music</td>\n",
       "    </tr>\n",
       "    <tr>\n",
       "      <th>976</th>\n",
       "      <td>2999.0</td>\n",
       "      <td>Books, Movies and Music</td>\n",
       "    </tr>\n",
       "  </tbody>\n",
       "</table>\n",
       "</div>"
      ],
      "text/plain": [
       "     original_price            main_category\n",
       "934         12000.0  Books, Movies and Music\n",
       "976          2999.0  Books, Movies and Music"
      ]
     },
     "metadata": {},
     "output_type": "display_data"
    },
    {
     "name": "stdout",
     "output_type": "stream",
     "text": [
      "Category: Computing, Outliers: 20\n"
     ]
    },
    {
     "data": {
      "application/vnd.microsoft.datawrangler.viewer.v0+json": {
       "columns": [
        {
         "name": "index",
         "rawType": "int64",
         "type": "integer"
        },
        {
         "name": "original_price",
         "rawType": "float64",
         "type": "float"
        },
        {
         "name": "main_category",
         "rawType": "object",
         "type": "string"
        }
       ],
       "ref": "bebf4ca2-e5fd-4557-a759-ac748608f891",
       "rows": [
        [
         "121",
         "19000.0",
         "Computing"
        ],
        [
         "203",
         "45000.0",
         "Computing"
        ],
        [
         "210",
         "25000.0",
         "Computing"
        ],
        [
         "233",
         "35000.0",
         "Computing"
        ],
        [
         "615",
         "135720.0",
         "Computing"
        ]
       ],
       "shape": {
        "columns": 2,
        "rows": 5
       }
      },
      "text/html": [
       "<div>\n",
       "<style scoped>\n",
       "    .dataframe tbody tr th:only-of-type {\n",
       "        vertical-align: middle;\n",
       "    }\n",
       "\n",
       "    .dataframe tbody tr th {\n",
       "        vertical-align: top;\n",
       "    }\n",
       "\n",
       "    .dataframe thead th {\n",
       "        text-align: right;\n",
       "    }\n",
       "</style>\n",
       "<table border=\"1\" class=\"dataframe\">\n",
       "  <thead>\n",
       "    <tr style=\"text-align: right;\">\n",
       "      <th></th>\n",
       "      <th>original_price</th>\n",
       "      <th>main_category</th>\n",
       "    </tr>\n",
       "  </thead>\n",
       "  <tbody>\n",
       "    <tr>\n",
       "      <th>121</th>\n",
       "      <td>19000.0</td>\n",
       "      <td>Computing</td>\n",
       "    </tr>\n",
       "    <tr>\n",
       "      <th>203</th>\n",
       "      <td>45000.0</td>\n",
       "      <td>Computing</td>\n",
       "    </tr>\n",
       "    <tr>\n",
       "      <th>210</th>\n",
       "      <td>25000.0</td>\n",
       "      <td>Computing</td>\n",
       "    </tr>\n",
       "    <tr>\n",
       "      <th>233</th>\n",
       "      <td>35000.0</td>\n",
       "      <td>Computing</td>\n",
       "    </tr>\n",
       "    <tr>\n",
       "      <th>615</th>\n",
       "      <td>135720.0</td>\n",
       "      <td>Computing</td>\n",
       "    </tr>\n",
       "  </tbody>\n",
       "</table>\n",
       "</div>"
      ],
      "text/plain": [
       "     original_price main_category\n",
       "121         19000.0     Computing\n",
       "203         45000.0     Computing\n",
       "210         25000.0     Computing\n",
       "233         35000.0     Computing\n",
       "615        135720.0     Computing"
      ]
     },
     "metadata": {},
     "output_type": "display_data"
    },
    {
     "name": "stdout",
     "output_type": "stream",
     "text": [
      "Category: Electronics, Outliers: 9\n"
     ]
    },
    {
     "data": {
      "application/vnd.microsoft.datawrangler.viewer.v0+json": {
       "columns": [
        {
         "name": "index",
         "rawType": "int64",
         "type": "integer"
        },
        {
         "name": "original_price",
         "rawType": "float64",
         "type": "float"
        },
        {
         "name": "main_category",
         "rawType": "object",
         "type": "string"
        }
       ],
       "ref": "1c53e965-0e72-4263-b16b-d334f40d4111",
       "rows": [
        [
         "559",
         "100000.0",
         "Electronics"
        ],
        [
         "667",
         "110000.0",
         "Electronics"
        ],
        [
         "733",
         "100000.0",
         "Electronics"
        ],
        [
         "737",
         "80000.0",
         "Electronics"
        ],
        [
         "928",
         "110000.0",
         "Electronics"
        ]
       ],
       "shape": {
        "columns": 2,
        "rows": 5
       }
      },
      "text/html": [
       "<div>\n",
       "<style scoped>\n",
       "    .dataframe tbody tr th:only-of-type {\n",
       "        vertical-align: middle;\n",
       "    }\n",
       "\n",
       "    .dataframe tbody tr th {\n",
       "        vertical-align: top;\n",
       "    }\n",
       "\n",
       "    .dataframe thead th {\n",
       "        text-align: right;\n",
       "    }\n",
       "</style>\n",
       "<table border=\"1\" class=\"dataframe\">\n",
       "  <thead>\n",
       "    <tr style=\"text-align: right;\">\n",
       "      <th></th>\n",
       "      <th>original_price</th>\n",
       "      <th>main_category</th>\n",
       "    </tr>\n",
       "  </thead>\n",
       "  <tbody>\n",
       "    <tr>\n",
       "      <th>559</th>\n",
       "      <td>100000.0</td>\n",
       "      <td>Electronics</td>\n",
       "    </tr>\n",
       "    <tr>\n",
       "      <th>667</th>\n",
       "      <td>110000.0</td>\n",
       "      <td>Electronics</td>\n",
       "    </tr>\n",
       "    <tr>\n",
       "      <th>733</th>\n",
       "      <td>100000.0</td>\n",
       "      <td>Electronics</td>\n",
       "    </tr>\n",
       "    <tr>\n",
       "      <th>737</th>\n",
       "      <td>80000.0</td>\n",
       "      <td>Electronics</td>\n",
       "    </tr>\n",
       "    <tr>\n",
       "      <th>928</th>\n",
       "      <td>110000.0</td>\n",
       "      <td>Electronics</td>\n",
       "    </tr>\n",
       "  </tbody>\n",
       "</table>\n",
       "</div>"
      ],
      "text/plain": [
       "     original_price main_category\n",
       "559        100000.0   Electronics\n",
       "667        110000.0   Electronics\n",
       "733        100000.0   Electronics\n",
       "737         80000.0   Electronics\n",
       "928        110000.0   Electronics"
      ]
     },
     "metadata": {},
     "output_type": "display_data"
    },
    {
     "name": "stdout",
     "output_type": "stream",
     "text": [
      "Category: Fashion, Outliers: 16\n"
     ]
    },
    {
     "data": {
      "application/vnd.microsoft.datawrangler.viewer.v0+json": {
       "columns": [
        {
         "name": "index",
         "rawType": "int64",
         "type": "integer"
        },
        {
         "name": "original_price",
         "rawType": "float64",
         "type": "float"
        },
        {
         "name": "main_category",
         "rawType": "object",
         "type": "string"
        }
       ],
       "ref": "d8fe8f86-ace1-4bbe-8db2-9a46655dbd7c",
       "rows": [
        [
         "165",
         "4449.0",
         "Fashion"
        ],
        [
         "200",
         "7500.0",
         "Fashion"
        ],
        [
         "261",
         "4124.0",
         "Fashion"
        ],
        [
         "303",
         "3600.0",
         "Fashion"
        ],
        [
         "340",
         "4849.0",
         "Fashion"
        ]
       ],
       "shape": {
        "columns": 2,
        "rows": 5
       }
      },
      "text/html": [
       "<div>\n",
       "<style scoped>\n",
       "    .dataframe tbody tr th:only-of-type {\n",
       "        vertical-align: middle;\n",
       "    }\n",
       "\n",
       "    .dataframe tbody tr th {\n",
       "        vertical-align: top;\n",
       "    }\n",
       "\n",
       "    .dataframe thead th {\n",
       "        text-align: right;\n",
       "    }\n",
       "</style>\n",
       "<table border=\"1\" class=\"dataframe\">\n",
       "  <thead>\n",
       "    <tr style=\"text-align: right;\">\n",
       "      <th></th>\n",
       "      <th>original_price</th>\n",
       "      <th>main_category</th>\n",
       "    </tr>\n",
       "  </thead>\n",
       "  <tbody>\n",
       "    <tr>\n",
       "      <th>165</th>\n",
       "      <td>4449.0</td>\n",
       "      <td>Fashion</td>\n",
       "    </tr>\n",
       "    <tr>\n",
       "      <th>200</th>\n",
       "      <td>7500.0</td>\n",
       "      <td>Fashion</td>\n",
       "    </tr>\n",
       "    <tr>\n",
       "      <th>261</th>\n",
       "      <td>4124.0</td>\n",
       "      <td>Fashion</td>\n",
       "    </tr>\n",
       "    <tr>\n",
       "      <th>303</th>\n",
       "      <td>3600.0</td>\n",
       "      <td>Fashion</td>\n",
       "    </tr>\n",
       "    <tr>\n",
       "      <th>340</th>\n",
       "      <td>4849.0</td>\n",
       "      <td>Fashion</td>\n",
       "    </tr>\n",
       "  </tbody>\n",
       "</table>\n",
       "</div>"
      ],
      "text/plain": [
       "     original_price main_category\n",
       "165          4449.0       Fashion\n",
       "200          7500.0       Fashion\n",
       "261          4124.0       Fashion\n",
       "303          3600.0       Fashion\n",
       "340          4849.0       Fashion"
      ]
     },
     "metadata": {},
     "output_type": "display_data"
    },
    {
     "name": "stdout",
     "output_type": "stream",
     "text": [
      "Category: Gaming, Outliers: 1\n"
     ]
    },
    {
     "data": {
      "application/vnd.microsoft.datawrangler.viewer.v0+json": {
       "columns": [
        {
         "name": "index",
         "rawType": "int64",
         "type": "integer"
        },
        {
         "name": "original_price",
         "rawType": "float64",
         "type": "float"
        },
        {
         "name": "main_category",
         "rawType": "object",
         "type": "string"
        }
       ],
       "ref": "8d24f113-8059-417f-87e8-977b53f29757",
       "rows": [
        [
         "949",
         "7500.0",
         "Gaming"
        ]
       ],
       "shape": {
        "columns": 2,
        "rows": 1
       }
      },
      "text/html": [
       "<div>\n",
       "<style scoped>\n",
       "    .dataframe tbody tr th:only-of-type {\n",
       "        vertical-align: middle;\n",
       "    }\n",
       "\n",
       "    .dataframe tbody tr th {\n",
       "        vertical-align: top;\n",
       "    }\n",
       "\n",
       "    .dataframe thead th {\n",
       "        text-align: right;\n",
       "    }\n",
       "</style>\n",
       "<table border=\"1\" class=\"dataframe\">\n",
       "  <thead>\n",
       "    <tr style=\"text-align: right;\">\n",
       "      <th></th>\n",
       "      <th>original_price</th>\n",
       "      <th>main_category</th>\n",
       "    </tr>\n",
       "  </thead>\n",
       "  <tbody>\n",
       "    <tr>\n",
       "      <th>949</th>\n",
       "      <td>7500.0</td>\n",
       "      <td>Gaming</td>\n",
       "    </tr>\n",
       "  </tbody>\n",
       "</table>\n",
       "</div>"
      ],
      "text/plain": [
       "     original_price main_category\n",
       "949          7500.0        Gaming"
      ]
     },
     "metadata": {},
     "output_type": "display_data"
    },
    {
     "name": "stdout",
     "output_type": "stream",
     "text": [
      "Category: Garden & Outdoors, Outliers: 1\n"
     ]
    },
    {
     "data": {
      "application/vnd.microsoft.datawrangler.viewer.v0+json": {
       "columns": [
        {
         "name": "index",
         "rawType": "int64",
         "type": "integer"
        },
        {
         "name": "original_price",
         "rawType": "float64",
         "type": "float"
        },
        {
         "name": "main_category",
         "rawType": "object",
         "type": "string"
        }
       ],
       "ref": "79122a5c-05b6-4245-9f70-79d9533d8e6c",
       "rows": [
        [
         "739",
         "55000.0",
         "Garden & Outdoors"
        ]
       ],
       "shape": {
        "columns": 2,
        "rows": 1
       }
      },
      "text/html": [
       "<div>\n",
       "<style scoped>\n",
       "    .dataframe tbody tr th:only-of-type {\n",
       "        vertical-align: middle;\n",
       "    }\n",
       "\n",
       "    .dataframe tbody tr th {\n",
       "        vertical-align: top;\n",
       "    }\n",
       "\n",
       "    .dataframe thead th {\n",
       "        text-align: right;\n",
       "    }\n",
       "</style>\n",
       "<table border=\"1\" class=\"dataframe\">\n",
       "  <thead>\n",
       "    <tr style=\"text-align: right;\">\n",
       "      <th></th>\n",
       "      <th>original_price</th>\n",
       "      <th>main_category</th>\n",
       "    </tr>\n",
       "  </thead>\n",
       "  <tbody>\n",
       "    <tr>\n",
       "      <th>739</th>\n",
       "      <td>55000.0</td>\n",
       "      <td>Garden &amp; Outdoors</td>\n",
       "    </tr>\n",
       "  </tbody>\n",
       "</table>\n",
       "</div>"
      ],
      "text/plain": [
       "     original_price      main_category\n",
       "739         55000.0  Garden & Outdoors"
      ]
     },
     "metadata": {},
     "output_type": "display_data"
    },
    {
     "name": "stdout",
     "output_type": "stream",
     "text": [
      "Category: Grocery, Outliers: 2\n"
     ]
    },
    {
     "data": {
      "application/vnd.microsoft.datawrangler.viewer.v0+json": {
       "columns": [
        {
         "name": "index",
         "rawType": "int64",
         "type": "integer"
        },
        {
         "name": "original_price",
         "rawType": "float64",
         "type": "float"
        },
        {
         "name": "main_category",
         "rawType": "object",
         "type": "string"
        }
       ],
       "ref": "75bf0d16-c342-42bf-a356-096c7b7b422e",
       "rows": [
        [
         "891",
         "2599.0",
         "Grocery"
        ],
        [
         "1875",
         "5500.0",
         "Grocery"
        ]
       ],
       "shape": {
        "columns": 2,
        "rows": 2
       }
      },
      "text/html": [
       "<div>\n",
       "<style scoped>\n",
       "    .dataframe tbody tr th:only-of-type {\n",
       "        vertical-align: middle;\n",
       "    }\n",
       "\n",
       "    .dataframe tbody tr th {\n",
       "        vertical-align: top;\n",
       "    }\n",
       "\n",
       "    .dataframe thead th {\n",
       "        text-align: right;\n",
       "    }\n",
       "</style>\n",
       "<table border=\"1\" class=\"dataframe\">\n",
       "  <thead>\n",
       "    <tr style=\"text-align: right;\">\n",
       "      <th></th>\n",
       "      <th>original_price</th>\n",
       "      <th>main_category</th>\n",
       "    </tr>\n",
       "  </thead>\n",
       "  <tbody>\n",
       "    <tr>\n",
       "      <th>891</th>\n",
       "      <td>2599.0</td>\n",
       "      <td>Grocery</td>\n",
       "    </tr>\n",
       "    <tr>\n",
       "      <th>1875</th>\n",
       "      <td>5500.0</td>\n",
       "      <td>Grocery</td>\n",
       "    </tr>\n",
       "  </tbody>\n",
       "</table>\n",
       "</div>"
      ],
      "text/plain": [
       "      original_price main_category\n",
       "891           2599.0       Grocery\n",
       "1875          5500.0       Grocery"
      ]
     },
     "metadata": {},
     "output_type": "display_data"
    },
    {
     "name": "stdout",
     "output_type": "stream",
     "text": [
      "Category: Health & Beauty, Outliers: 20\n"
     ]
    },
    {
     "data": {
      "application/vnd.microsoft.datawrangler.viewer.v0+json": {
       "columns": [
        {
         "name": "index",
         "rawType": "int64",
         "type": "integer"
        },
        {
         "name": "original_price",
         "rawType": "float64",
         "type": "float"
        },
        {
         "name": "main_category",
         "rawType": "object",
         "type": "string"
        }
       ],
       "ref": "24f04ba1-bd3e-452e-99d3-dfabf7e42302",
       "rows": [
        [
         "43",
         "5610.0",
         "Health & Beauty"
        ],
        [
         "167",
         "4420.0",
         "Health & Beauty"
        ],
        [
         "217",
         "6500.0",
         "Health & Beauty"
        ],
        [
         "300",
         "4345.0",
         "Health & Beauty"
        ],
        [
         "427",
         "5500.0",
         "Health & Beauty"
        ]
       ],
       "shape": {
        "columns": 2,
        "rows": 5
       }
      },
      "text/html": [
       "<div>\n",
       "<style scoped>\n",
       "    .dataframe tbody tr th:only-of-type {\n",
       "        vertical-align: middle;\n",
       "    }\n",
       "\n",
       "    .dataframe tbody tr th {\n",
       "        vertical-align: top;\n",
       "    }\n",
       "\n",
       "    .dataframe thead th {\n",
       "        text-align: right;\n",
       "    }\n",
       "</style>\n",
       "<table border=\"1\" class=\"dataframe\">\n",
       "  <thead>\n",
       "    <tr style=\"text-align: right;\">\n",
       "      <th></th>\n",
       "      <th>original_price</th>\n",
       "      <th>main_category</th>\n",
       "    </tr>\n",
       "  </thead>\n",
       "  <tbody>\n",
       "    <tr>\n",
       "      <th>43</th>\n",
       "      <td>5610.0</td>\n",
       "      <td>Health &amp; Beauty</td>\n",
       "    </tr>\n",
       "    <tr>\n",
       "      <th>167</th>\n",
       "      <td>4420.0</td>\n",
       "      <td>Health &amp; Beauty</td>\n",
       "    </tr>\n",
       "    <tr>\n",
       "      <th>217</th>\n",
       "      <td>6500.0</td>\n",
       "      <td>Health &amp; Beauty</td>\n",
       "    </tr>\n",
       "    <tr>\n",
       "      <th>300</th>\n",
       "      <td>4345.0</td>\n",
       "      <td>Health &amp; Beauty</td>\n",
       "    </tr>\n",
       "    <tr>\n",
       "      <th>427</th>\n",
       "      <td>5500.0</td>\n",
       "      <td>Health &amp; Beauty</td>\n",
       "    </tr>\n",
       "  </tbody>\n",
       "</table>\n",
       "</div>"
      ],
      "text/plain": [
       "     original_price    main_category\n",
       "43           5610.0  Health & Beauty\n",
       "167          4420.0  Health & Beauty\n",
       "217          6500.0  Health & Beauty\n",
       "300          4345.0  Health & Beauty\n",
       "427          5500.0  Health & Beauty"
      ]
     },
     "metadata": {},
     "output_type": "display_data"
    },
    {
     "name": "stdout",
     "output_type": "stream",
     "text": [
      "Category: Home & Office, Outliers: 51\n"
     ]
    },
    {
     "data": {
      "application/vnd.microsoft.datawrangler.viewer.v0+json": {
       "columns": [
        {
         "name": "index",
         "rawType": "int64",
         "type": "integer"
        },
        {
         "name": "original_price",
         "rawType": "float64",
         "type": "float"
        },
        {
         "name": "main_category",
         "rawType": "object",
         "type": "string"
        }
       ],
       "ref": "12c240f1-8c70-44e2-99cf-141e7b8a9b28",
       "rows": [
        [
         "12",
         "11995.0",
         "Home & Office"
        ],
        [
         "16",
         "11800.0",
         "Home & Office"
        ],
        [
         "36",
         "26199.0",
         "Home & Office"
        ],
        [
         "39",
         "25399.0",
         "Home & Office"
        ],
        [
         "55",
         "23599.0",
         "Home & Office"
        ]
       ],
       "shape": {
        "columns": 2,
        "rows": 5
       }
      },
      "text/html": [
       "<div>\n",
       "<style scoped>\n",
       "    .dataframe tbody tr th:only-of-type {\n",
       "        vertical-align: middle;\n",
       "    }\n",
       "\n",
       "    .dataframe tbody tr th {\n",
       "        vertical-align: top;\n",
       "    }\n",
       "\n",
       "    .dataframe thead th {\n",
       "        text-align: right;\n",
       "    }\n",
       "</style>\n",
       "<table border=\"1\" class=\"dataframe\">\n",
       "  <thead>\n",
       "    <tr style=\"text-align: right;\">\n",
       "      <th></th>\n",
       "      <th>original_price</th>\n",
       "      <th>main_category</th>\n",
       "    </tr>\n",
       "  </thead>\n",
       "  <tbody>\n",
       "    <tr>\n",
       "      <th>12</th>\n",
       "      <td>11995.0</td>\n",
       "      <td>Home &amp; Office</td>\n",
       "    </tr>\n",
       "    <tr>\n",
       "      <th>16</th>\n",
       "      <td>11800.0</td>\n",
       "      <td>Home &amp; Office</td>\n",
       "    </tr>\n",
       "    <tr>\n",
       "      <th>36</th>\n",
       "      <td>26199.0</td>\n",
       "      <td>Home &amp; Office</td>\n",
       "    </tr>\n",
       "    <tr>\n",
       "      <th>39</th>\n",
       "      <td>25399.0</td>\n",
       "      <td>Home &amp; Office</td>\n",
       "    </tr>\n",
       "    <tr>\n",
       "      <th>55</th>\n",
       "      <td>23599.0</td>\n",
       "      <td>Home &amp; Office</td>\n",
       "    </tr>\n",
       "  </tbody>\n",
       "</table>\n",
       "</div>"
      ],
      "text/plain": [
       "    original_price  main_category\n",
       "12         11995.0  Home & Office\n",
       "16         11800.0  Home & Office\n",
       "36         26199.0  Home & Office\n",
       "39         25399.0  Home & Office\n",
       "55         23599.0  Home & Office"
      ]
     },
     "metadata": {},
     "output_type": "display_data"
    },
    {
     "name": "stdout",
     "output_type": "stream",
     "text": [
      "Category: Industrial & Scientific, Outliers: 3\n"
     ]
    },
    {
     "data": {
      "application/vnd.microsoft.datawrangler.viewer.v0+json": {
       "columns": [
        {
         "name": "index",
         "rawType": "int64",
         "type": "integer"
        },
        {
         "name": "original_price",
         "rawType": "float64",
         "type": "float"
        },
        {
         "name": "main_category",
         "rawType": "object",
         "type": "string"
        }
       ],
       "ref": "a4c4e82c-b9bf-4f6c-9190-76ca22685647",
       "rows": [
        [
         "239",
         "19000.0",
         "Industrial & Scientific"
        ],
        [
         "412",
         "11790.0",
         "Industrial & Scientific"
        ],
        [
         "699",
         "23999.0",
         "Industrial & Scientific"
        ]
       ],
       "shape": {
        "columns": 2,
        "rows": 3
       }
      },
      "text/html": [
       "<div>\n",
       "<style scoped>\n",
       "    .dataframe tbody tr th:only-of-type {\n",
       "        vertical-align: middle;\n",
       "    }\n",
       "\n",
       "    .dataframe tbody tr th {\n",
       "        vertical-align: top;\n",
       "    }\n",
       "\n",
       "    .dataframe thead th {\n",
       "        text-align: right;\n",
       "    }\n",
       "</style>\n",
       "<table border=\"1\" class=\"dataframe\">\n",
       "  <thead>\n",
       "    <tr style=\"text-align: right;\">\n",
       "      <th></th>\n",
       "      <th>original_price</th>\n",
       "      <th>main_category</th>\n",
       "    </tr>\n",
       "  </thead>\n",
       "  <tbody>\n",
       "    <tr>\n",
       "      <th>239</th>\n",
       "      <td>19000.0</td>\n",
       "      <td>Industrial &amp; Scientific</td>\n",
       "    </tr>\n",
       "    <tr>\n",
       "      <th>412</th>\n",
       "      <td>11790.0</td>\n",
       "      <td>Industrial &amp; Scientific</td>\n",
       "    </tr>\n",
       "    <tr>\n",
       "      <th>699</th>\n",
       "      <td>23999.0</td>\n",
       "      <td>Industrial &amp; Scientific</td>\n",
       "    </tr>\n",
       "  </tbody>\n",
       "</table>\n",
       "</div>"
      ],
      "text/plain": [
       "     original_price            main_category\n",
       "239         19000.0  Industrial & Scientific\n",
       "412         11790.0  Industrial & Scientific\n",
       "699         23999.0  Industrial & Scientific"
      ]
     },
     "metadata": {},
     "output_type": "display_data"
    },
    {
     "name": "stdout",
     "output_type": "stream",
     "text": [
      "Category: Musical Instruments, Outliers: 1\n"
     ]
    },
    {
     "data": {
      "application/vnd.microsoft.datawrangler.viewer.v0+json": {
       "columns": [
        {
         "name": "index",
         "rawType": "int64",
         "type": "integer"
        },
        {
         "name": "original_price",
         "rawType": "float64",
         "type": "float"
        },
        {
         "name": "main_category",
         "rawType": "object",
         "type": "string"
        }
       ],
       "ref": "448749b1-af7a-44a0-94d8-0f8e487ac459",
       "rows": [
        [
         "1066",
         "70000.0",
         "Musical Instruments"
        ]
       ],
       "shape": {
        "columns": 2,
        "rows": 1
       }
      },
      "text/html": [
       "<div>\n",
       "<style scoped>\n",
       "    .dataframe tbody tr th:only-of-type {\n",
       "        vertical-align: middle;\n",
       "    }\n",
       "\n",
       "    .dataframe tbody tr th {\n",
       "        vertical-align: top;\n",
       "    }\n",
       "\n",
       "    .dataframe thead th {\n",
       "        text-align: right;\n",
       "    }\n",
       "</style>\n",
       "<table border=\"1\" class=\"dataframe\">\n",
       "  <thead>\n",
       "    <tr style=\"text-align: right;\">\n",
       "      <th></th>\n",
       "      <th>original_price</th>\n",
       "      <th>main_category</th>\n",
       "    </tr>\n",
       "  </thead>\n",
       "  <tbody>\n",
       "    <tr>\n",
       "      <th>1066</th>\n",
       "      <td>70000.0</td>\n",
       "      <td>Musical Instruments</td>\n",
       "    </tr>\n",
       "  </tbody>\n",
       "</table>\n",
       "</div>"
      ],
      "text/plain": [
       "      original_price        main_category\n",
       "1066         70000.0  Musical Instruments"
      ]
     },
     "metadata": {},
     "output_type": "display_data"
    },
    {
     "name": "stdout",
     "output_type": "stream",
     "text": [
      "Category: Pet Supplies, Outliers: 2\n"
     ]
    },
    {
     "data": {
      "application/vnd.microsoft.datawrangler.viewer.v0+json": {
       "columns": [
        {
         "name": "index",
         "rawType": "int64",
         "type": "integer"
        },
        {
         "name": "original_price",
         "rawType": "float64",
         "type": "float"
        },
        {
         "name": "main_category",
         "rawType": "object",
         "type": "string"
        }
       ],
       "ref": "bcb2937e-3490-4b24-9cd6-119017638a5f",
       "rows": [
        [
         "915",
         "3780.0",
         "Pet Supplies"
        ],
        [
         "1680",
         "5999.0",
         "Pet Supplies"
        ]
       ],
       "shape": {
        "columns": 2,
        "rows": 2
       }
      },
      "text/html": [
       "<div>\n",
       "<style scoped>\n",
       "    .dataframe tbody tr th:only-of-type {\n",
       "        vertical-align: middle;\n",
       "    }\n",
       "\n",
       "    .dataframe tbody tr th {\n",
       "        vertical-align: top;\n",
       "    }\n",
       "\n",
       "    .dataframe thead th {\n",
       "        text-align: right;\n",
       "    }\n",
       "</style>\n",
       "<table border=\"1\" class=\"dataframe\">\n",
       "  <thead>\n",
       "    <tr style=\"text-align: right;\">\n",
       "      <th></th>\n",
       "      <th>original_price</th>\n",
       "      <th>main_category</th>\n",
       "    </tr>\n",
       "  </thead>\n",
       "  <tbody>\n",
       "    <tr>\n",
       "      <th>915</th>\n",
       "      <td>3780.0</td>\n",
       "      <td>Pet Supplies</td>\n",
       "    </tr>\n",
       "    <tr>\n",
       "      <th>1680</th>\n",
       "      <td>5999.0</td>\n",
       "      <td>Pet Supplies</td>\n",
       "    </tr>\n",
       "  </tbody>\n",
       "</table>\n",
       "</div>"
      ],
      "text/plain": [
       "      original_price main_category\n",
       "915           3780.0  Pet Supplies\n",
       "1680          5999.0  Pet Supplies"
      ]
     },
     "metadata": {},
     "output_type": "display_data"
    },
    {
     "name": "stdout",
     "output_type": "stream",
     "text": [
      "Category: Phones & Tablets, Outliers: 10\n"
     ]
    },
    {
     "data": {
      "application/vnd.microsoft.datawrangler.viewer.v0+json": {
       "columns": [
        {
         "name": "index",
         "rawType": "int64",
         "type": "integer"
        },
        {
         "name": "original_price",
         "rawType": "float64",
         "type": "float"
        },
        {
         "name": "main_category",
         "rawType": "object",
         "type": "string"
        }
       ],
       "ref": "cc233cb3-1e32-43db-9371-f4fbc15431df",
       "rows": [
        [
         "916",
         "60000.0",
         "Phones & Tablets"
        ],
        [
         "1162",
         "50000.0",
         "Phones & Tablets"
        ],
        [
         "1434",
         "50999.0",
         "Phones & Tablets"
        ],
        [
         "1460",
         "65000.0",
         "Phones & Tablets"
        ],
        [
         "1588",
         "60999.0",
         "Phones & Tablets"
        ]
       ],
       "shape": {
        "columns": 2,
        "rows": 5
       }
      },
      "text/html": [
       "<div>\n",
       "<style scoped>\n",
       "    .dataframe tbody tr th:only-of-type {\n",
       "        vertical-align: middle;\n",
       "    }\n",
       "\n",
       "    .dataframe tbody tr th {\n",
       "        vertical-align: top;\n",
       "    }\n",
       "\n",
       "    .dataframe thead th {\n",
       "        text-align: right;\n",
       "    }\n",
       "</style>\n",
       "<table border=\"1\" class=\"dataframe\">\n",
       "  <thead>\n",
       "    <tr style=\"text-align: right;\">\n",
       "      <th></th>\n",
       "      <th>original_price</th>\n",
       "      <th>main_category</th>\n",
       "    </tr>\n",
       "  </thead>\n",
       "  <tbody>\n",
       "    <tr>\n",
       "      <th>916</th>\n",
       "      <td>60000.0</td>\n",
       "      <td>Phones &amp; Tablets</td>\n",
       "    </tr>\n",
       "    <tr>\n",
       "      <th>1162</th>\n",
       "      <td>50000.0</td>\n",
       "      <td>Phones &amp; Tablets</td>\n",
       "    </tr>\n",
       "    <tr>\n",
       "      <th>1434</th>\n",
       "      <td>50999.0</td>\n",
       "      <td>Phones &amp; Tablets</td>\n",
       "    </tr>\n",
       "    <tr>\n",
       "      <th>1460</th>\n",
       "      <td>65000.0</td>\n",
       "      <td>Phones &amp; Tablets</td>\n",
       "    </tr>\n",
       "    <tr>\n",
       "      <th>1588</th>\n",
       "      <td>60999.0</td>\n",
       "      <td>Phones &amp; Tablets</td>\n",
       "    </tr>\n",
       "  </tbody>\n",
       "</table>\n",
       "</div>"
      ],
      "text/plain": [
       "      original_price     main_category\n",
       "916          60000.0  Phones & Tablets\n",
       "1162         50000.0  Phones & Tablets\n",
       "1434         50999.0  Phones & Tablets\n",
       "1460         65000.0  Phones & Tablets\n",
       "1588         60999.0  Phones & Tablets"
      ]
     },
     "metadata": {},
     "output_type": "display_data"
    },
    {
     "name": "stdout",
     "output_type": "stream",
     "text": [
      "Category: Sporting Goods, Outliers: 4\n"
     ]
    },
    {
     "data": {
      "application/vnd.microsoft.datawrangler.viewer.v0+json": {
       "columns": [
        {
         "name": "index",
         "rawType": "int64",
         "type": "integer"
        },
        {
         "name": "original_price",
         "rawType": "float64",
         "type": "float"
        },
        {
         "name": "main_category",
         "rawType": "object",
         "type": "string"
        }
       ],
       "ref": "31aa55ef-cdcd-4435-afdd-e921a5d201d8",
       "rows": [
        [
         "601",
         "170000.0",
         "Sporting Goods"
        ],
        [
         "659",
         "19000.0",
         "Sporting Goods"
        ],
        [
         "701",
         "21598.0",
         "Sporting Goods"
        ],
        [
         "1092",
         "21998.0",
         "Sporting Goods"
        ]
       ],
       "shape": {
        "columns": 2,
        "rows": 4
       }
      },
      "text/html": [
       "<div>\n",
       "<style scoped>\n",
       "    .dataframe tbody tr th:only-of-type {\n",
       "        vertical-align: middle;\n",
       "    }\n",
       "\n",
       "    .dataframe tbody tr th {\n",
       "        vertical-align: top;\n",
       "    }\n",
       "\n",
       "    .dataframe thead th {\n",
       "        text-align: right;\n",
       "    }\n",
       "</style>\n",
       "<table border=\"1\" class=\"dataframe\">\n",
       "  <thead>\n",
       "    <tr style=\"text-align: right;\">\n",
       "      <th></th>\n",
       "      <th>original_price</th>\n",
       "      <th>main_category</th>\n",
       "    </tr>\n",
       "  </thead>\n",
       "  <tbody>\n",
       "    <tr>\n",
       "      <th>601</th>\n",
       "      <td>170000.0</td>\n",
       "      <td>Sporting Goods</td>\n",
       "    </tr>\n",
       "    <tr>\n",
       "      <th>659</th>\n",
       "      <td>19000.0</td>\n",
       "      <td>Sporting Goods</td>\n",
       "    </tr>\n",
       "    <tr>\n",
       "      <th>701</th>\n",
       "      <td>21598.0</td>\n",
       "      <td>Sporting Goods</td>\n",
       "    </tr>\n",
       "    <tr>\n",
       "      <th>1092</th>\n",
       "      <td>21998.0</td>\n",
       "      <td>Sporting Goods</td>\n",
       "    </tr>\n",
       "  </tbody>\n",
       "</table>\n",
       "</div>"
      ],
      "text/plain": [
       "      original_price   main_category\n",
       "601         170000.0  Sporting Goods\n",
       "659          19000.0  Sporting Goods\n",
       "701          21598.0  Sporting Goods\n",
       "1092         21998.0  Sporting Goods"
      ]
     },
     "metadata": {},
     "output_type": "display_data"
    },
    {
     "name": "stdout",
     "output_type": "stream",
     "text": [
      "Category: Toys & Games, Outliers: 7\n"
     ]
    },
    {
     "data": {
      "application/vnd.microsoft.datawrangler.viewer.v0+json": {
       "columns": [
        {
         "name": "index",
         "rawType": "int64",
         "type": "integer"
        },
        {
         "name": "original_price",
         "rawType": "float64",
         "type": "float"
        },
        {
         "name": "main_category",
         "rawType": "object",
         "type": "string"
        }
       ],
       "ref": "8e741370-00d7-46df-9117-00ae957d9fd7",
       "rows": [
        [
         "657",
         "21999.0",
         "Toys & Games"
        ],
        [
         "672",
         "11999.0",
         "Toys & Games"
        ],
        [
         "929",
         "49999.0",
         "Toys & Games"
        ],
        [
         "1360",
         "15500.0",
         "Toys & Games"
        ],
        [
         "1646",
         "14900.0",
         "Toys & Games"
        ]
       ],
       "shape": {
        "columns": 2,
        "rows": 5
       }
      },
      "text/html": [
       "<div>\n",
       "<style scoped>\n",
       "    .dataframe tbody tr th:only-of-type {\n",
       "        vertical-align: middle;\n",
       "    }\n",
       "\n",
       "    .dataframe tbody tr th {\n",
       "        vertical-align: top;\n",
       "    }\n",
       "\n",
       "    .dataframe thead th {\n",
       "        text-align: right;\n",
       "    }\n",
       "</style>\n",
       "<table border=\"1\" class=\"dataframe\">\n",
       "  <thead>\n",
       "    <tr style=\"text-align: right;\">\n",
       "      <th></th>\n",
       "      <th>original_price</th>\n",
       "      <th>main_category</th>\n",
       "    </tr>\n",
       "  </thead>\n",
       "  <tbody>\n",
       "    <tr>\n",
       "      <th>657</th>\n",
       "      <td>21999.0</td>\n",
       "      <td>Toys &amp; Games</td>\n",
       "    </tr>\n",
       "    <tr>\n",
       "      <th>672</th>\n",
       "      <td>11999.0</td>\n",
       "      <td>Toys &amp; Games</td>\n",
       "    </tr>\n",
       "    <tr>\n",
       "      <th>929</th>\n",
       "      <td>49999.0</td>\n",
       "      <td>Toys &amp; Games</td>\n",
       "    </tr>\n",
       "    <tr>\n",
       "      <th>1360</th>\n",
       "      <td>15500.0</td>\n",
       "      <td>Toys &amp; Games</td>\n",
       "    </tr>\n",
       "    <tr>\n",
       "      <th>1646</th>\n",
       "      <td>14900.0</td>\n",
       "      <td>Toys &amp; Games</td>\n",
       "    </tr>\n",
       "  </tbody>\n",
       "</table>\n",
       "</div>"
      ],
      "text/plain": [
       "      original_price main_category\n",
       "657          21999.0  Toys & Games\n",
       "672          11999.0  Toys & Games\n",
       "929          49999.0  Toys & Games\n",
       "1360         15500.0  Toys & Games\n",
       "1646         14900.0  Toys & Games"
      ]
     },
     "metadata": {},
     "output_type": "display_data"
    },
    {
     "name": "stdout",
     "output_type": "stream",
     "text": [
      "\n",
      "Checking outliers for column: verified_ratings\n",
      "\n",
      "Category: Automobile, Outliers: 7\n"
     ]
    },
    {
     "data": {
      "application/vnd.microsoft.datawrangler.viewer.v0+json": {
       "columns": [
        {
         "name": "index",
         "rawType": "int64",
         "type": "integer"
        },
        {
         "name": "verified_ratings",
         "rawType": "float64",
         "type": "float"
        },
        {
         "name": "main_category",
         "rawType": "object",
         "type": "string"
        }
       ],
       "ref": "d938a0e6-d79a-4115-b33c-bb25c49149ed",
       "rows": [
        [
         "459",
         "19.0",
         "Automobile"
        ],
        [
         "473",
         "17.0",
         "Automobile"
        ],
        [
         "1083",
         "19.0",
         "Automobile"
        ],
        [
         "1264",
         "36.0",
         "Automobile"
        ],
        [
         "1299",
         "23.0",
         "Automobile"
        ]
       ],
       "shape": {
        "columns": 2,
        "rows": 5
       }
      },
      "text/html": [
       "<div>\n",
       "<style scoped>\n",
       "    .dataframe tbody tr th:only-of-type {\n",
       "        vertical-align: middle;\n",
       "    }\n",
       "\n",
       "    .dataframe tbody tr th {\n",
       "        vertical-align: top;\n",
       "    }\n",
       "\n",
       "    .dataframe thead th {\n",
       "        text-align: right;\n",
       "    }\n",
       "</style>\n",
       "<table border=\"1\" class=\"dataframe\">\n",
       "  <thead>\n",
       "    <tr style=\"text-align: right;\">\n",
       "      <th></th>\n",
       "      <th>verified_ratings</th>\n",
       "      <th>main_category</th>\n",
       "    </tr>\n",
       "  </thead>\n",
       "  <tbody>\n",
       "    <tr>\n",
       "      <th>459</th>\n",
       "      <td>19.0</td>\n",
       "      <td>Automobile</td>\n",
       "    </tr>\n",
       "    <tr>\n",
       "      <th>473</th>\n",
       "      <td>17.0</td>\n",
       "      <td>Automobile</td>\n",
       "    </tr>\n",
       "    <tr>\n",
       "      <th>1083</th>\n",
       "      <td>19.0</td>\n",
       "      <td>Automobile</td>\n",
       "    </tr>\n",
       "    <tr>\n",
       "      <th>1264</th>\n",
       "      <td>36.0</td>\n",
       "      <td>Automobile</td>\n",
       "    </tr>\n",
       "    <tr>\n",
       "      <th>1299</th>\n",
       "      <td>23.0</td>\n",
       "      <td>Automobile</td>\n",
       "    </tr>\n",
       "  </tbody>\n",
       "</table>\n",
       "</div>"
      ],
      "text/plain": [
       "      verified_ratings main_category\n",
       "459               19.0    Automobile\n",
       "473               17.0    Automobile\n",
       "1083              19.0    Automobile\n",
       "1264              36.0    Automobile\n",
       "1299              23.0    Automobile"
      ]
     },
     "metadata": {},
     "output_type": "display_data"
    },
    {
     "name": "stdout",
     "output_type": "stream",
     "text": [
      "Category: Baby Products, Outliers: 2\n"
     ]
    },
    {
     "data": {
      "application/vnd.microsoft.datawrangler.viewer.v0+json": {
       "columns": [
        {
         "name": "index",
         "rawType": "int64",
         "type": "integer"
        },
        {
         "name": "verified_ratings",
         "rawType": "float64",
         "type": "float"
        },
        {
         "name": "main_category",
         "rawType": "object",
         "type": "string"
        }
       ],
       "ref": "c764e46f-79e0-467f-a7b4-f9422d1241cc",
       "rows": [
        [
         "59",
         "259.0",
         "Baby Products"
        ],
        [
         "1242",
         "36.0",
         "Baby Products"
        ]
       ],
       "shape": {
        "columns": 2,
        "rows": 2
       }
      },
      "text/html": [
       "<div>\n",
       "<style scoped>\n",
       "    .dataframe tbody tr th:only-of-type {\n",
       "        vertical-align: middle;\n",
       "    }\n",
       "\n",
       "    .dataframe tbody tr th {\n",
       "        vertical-align: top;\n",
       "    }\n",
       "\n",
       "    .dataframe thead th {\n",
       "        text-align: right;\n",
       "    }\n",
       "</style>\n",
       "<table border=\"1\" class=\"dataframe\">\n",
       "  <thead>\n",
       "    <tr style=\"text-align: right;\">\n",
       "      <th></th>\n",
       "      <th>verified_ratings</th>\n",
       "      <th>main_category</th>\n",
       "    </tr>\n",
       "  </thead>\n",
       "  <tbody>\n",
       "    <tr>\n",
       "      <th>59</th>\n",
       "      <td>259.0</td>\n",
       "      <td>Baby Products</td>\n",
       "    </tr>\n",
       "    <tr>\n",
       "      <th>1242</th>\n",
       "      <td>36.0</td>\n",
       "      <td>Baby Products</td>\n",
       "    </tr>\n",
       "  </tbody>\n",
       "</table>\n",
       "</div>"
      ],
      "text/plain": [
       "      verified_ratings  main_category\n",
       "59               259.0  Baby Products\n",
       "1242              36.0  Baby Products"
      ]
     },
     "metadata": {},
     "output_type": "display_data"
    },
    {
     "name": "stdout",
     "output_type": "stream",
     "text": [
      "Category: Books, Movies and Music, Outliers: 8\n"
     ]
    },
    {
     "data": {
      "application/vnd.microsoft.datawrangler.viewer.v0+json": {
       "columns": [
        {
         "name": "index",
         "rawType": "int64",
         "type": "integer"
        },
        {
         "name": "verified_ratings",
         "rawType": "float64",
         "type": "float"
        },
        {
         "name": "main_category",
         "rawType": "object",
         "type": "string"
        }
       ],
       "ref": "074ac40b-ca84-4922-8598-f540a63294d0",
       "rows": [
        [
         "514",
         "1.0",
         "Books, Movies and Music"
        ],
        [
         "649",
         "1.0",
         "Books, Movies and Music"
        ],
        [
         "749",
         "1.0",
         "Books, Movies and Music"
        ],
        [
         "885",
         "9.0",
         "Books, Movies and Music"
        ],
        [
         "946",
         "2.0",
         "Books, Movies and Music"
        ]
       ],
       "shape": {
        "columns": 2,
        "rows": 5
       }
      },
      "text/html": [
       "<div>\n",
       "<style scoped>\n",
       "    .dataframe tbody tr th:only-of-type {\n",
       "        vertical-align: middle;\n",
       "    }\n",
       "\n",
       "    .dataframe tbody tr th {\n",
       "        vertical-align: top;\n",
       "    }\n",
       "\n",
       "    .dataframe thead th {\n",
       "        text-align: right;\n",
       "    }\n",
       "</style>\n",
       "<table border=\"1\" class=\"dataframe\">\n",
       "  <thead>\n",
       "    <tr style=\"text-align: right;\">\n",
       "      <th></th>\n",
       "      <th>verified_ratings</th>\n",
       "      <th>main_category</th>\n",
       "    </tr>\n",
       "  </thead>\n",
       "  <tbody>\n",
       "    <tr>\n",
       "      <th>514</th>\n",
       "      <td>1.0</td>\n",
       "      <td>Books, Movies and Music</td>\n",
       "    </tr>\n",
       "    <tr>\n",
       "      <th>649</th>\n",
       "      <td>1.0</td>\n",
       "      <td>Books, Movies and Music</td>\n",
       "    </tr>\n",
       "    <tr>\n",
       "      <th>749</th>\n",
       "      <td>1.0</td>\n",
       "      <td>Books, Movies and Music</td>\n",
       "    </tr>\n",
       "    <tr>\n",
       "      <th>885</th>\n",
       "      <td>9.0</td>\n",
       "      <td>Books, Movies and Music</td>\n",
       "    </tr>\n",
       "    <tr>\n",
       "      <th>946</th>\n",
       "      <td>2.0</td>\n",
       "      <td>Books, Movies and Music</td>\n",
       "    </tr>\n",
       "  </tbody>\n",
       "</table>\n",
       "</div>"
      ],
      "text/plain": [
       "     verified_ratings            main_category\n",
       "514               1.0  Books, Movies and Music\n",
       "649               1.0  Books, Movies and Music\n",
       "749               1.0  Books, Movies and Music\n",
       "885               9.0  Books, Movies and Music\n",
       "946               2.0  Books, Movies and Music"
      ]
     },
     "metadata": {},
     "output_type": "display_data"
    },
    {
     "name": "stdout",
     "output_type": "stream",
     "text": [
      "Category: Computing, Outliers: 12\n"
     ]
    },
    {
     "data": {
      "application/vnd.microsoft.datawrangler.viewer.v0+json": {
       "columns": [
        {
         "name": "index",
         "rawType": "int64",
         "type": "integer"
        },
        {
         "name": "verified_ratings",
         "rawType": "float64",
         "type": "float"
        },
        {
         "name": "main_category",
         "rawType": "object",
         "type": "string"
        }
       ],
       "ref": "0fa1bd60-7471-452b-993b-3d0452ed1b06",
       "rows": [
        [
         "107",
         "2117.0",
         "Computing"
        ],
        [
         "120",
         "2190.0",
         "Computing"
        ],
        [
         "156",
         "631.0",
         "Computing"
        ],
        [
         "270",
         "434.0",
         "Computing"
        ],
        [
         "296",
         "373.0",
         "Computing"
        ]
       ],
       "shape": {
        "columns": 2,
        "rows": 5
       }
      },
      "text/html": [
       "<div>\n",
       "<style scoped>\n",
       "    .dataframe tbody tr th:only-of-type {\n",
       "        vertical-align: middle;\n",
       "    }\n",
       "\n",
       "    .dataframe tbody tr th {\n",
       "        vertical-align: top;\n",
       "    }\n",
       "\n",
       "    .dataframe thead th {\n",
       "        text-align: right;\n",
       "    }\n",
       "</style>\n",
       "<table border=\"1\" class=\"dataframe\">\n",
       "  <thead>\n",
       "    <tr style=\"text-align: right;\">\n",
       "      <th></th>\n",
       "      <th>verified_ratings</th>\n",
       "      <th>main_category</th>\n",
       "    </tr>\n",
       "  </thead>\n",
       "  <tbody>\n",
       "    <tr>\n",
       "      <th>107</th>\n",
       "      <td>2117.0</td>\n",
       "      <td>Computing</td>\n",
       "    </tr>\n",
       "    <tr>\n",
       "      <th>120</th>\n",
       "      <td>2190.0</td>\n",
       "      <td>Computing</td>\n",
       "    </tr>\n",
       "    <tr>\n",
       "      <th>156</th>\n",
       "      <td>631.0</td>\n",
       "      <td>Computing</td>\n",
       "    </tr>\n",
       "    <tr>\n",
       "      <th>270</th>\n",
       "      <td>434.0</td>\n",
       "      <td>Computing</td>\n",
       "    </tr>\n",
       "    <tr>\n",
       "      <th>296</th>\n",
       "      <td>373.0</td>\n",
       "      <td>Computing</td>\n",
       "    </tr>\n",
       "  </tbody>\n",
       "</table>\n",
       "</div>"
      ],
      "text/plain": [
       "     verified_ratings main_category\n",
       "107            2117.0     Computing\n",
       "120            2190.0     Computing\n",
       "156             631.0     Computing\n",
       "270             434.0     Computing\n",
       "296             373.0     Computing"
      ]
     },
     "metadata": {},
     "output_type": "display_data"
    },
    {
     "name": "stdout",
     "output_type": "stream",
     "text": [
      "Category: Electronics, Outliers: 24\n"
     ]
    },
    {
     "data": {
      "application/vnd.microsoft.datawrangler.viewer.v0+json": {
       "columns": [
        {
         "name": "index",
         "rawType": "int64",
         "type": "integer"
        },
        {
         "name": "verified_ratings",
         "rawType": "float64",
         "type": "float"
        },
        {
         "name": "main_category",
         "rawType": "object",
         "type": "string"
        }
       ],
       "ref": "91a05c04-9ebd-40ed-b329-9442dfb5aad1",
       "rows": [
        [
         "8",
         "1550.0",
         "Electronics"
        ],
        [
         "14",
         "501.0",
         "Electronics"
        ],
        [
         "100",
         "3700.0",
         "Electronics"
        ],
        [
         "103",
         "839.0",
         "Electronics"
        ],
        [
         "108",
         "298.0",
         "Electronics"
        ]
       ],
       "shape": {
        "columns": 2,
        "rows": 5
       }
      },
      "text/html": [
       "<div>\n",
       "<style scoped>\n",
       "    .dataframe tbody tr th:only-of-type {\n",
       "        vertical-align: middle;\n",
       "    }\n",
       "\n",
       "    .dataframe tbody tr th {\n",
       "        vertical-align: top;\n",
       "    }\n",
       "\n",
       "    .dataframe thead th {\n",
       "        text-align: right;\n",
       "    }\n",
       "</style>\n",
       "<table border=\"1\" class=\"dataframe\">\n",
       "  <thead>\n",
       "    <tr style=\"text-align: right;\">\n",
       "      <th></th>\n",
       "      <th>verified_ratings</th>\n",
       "      <th>main_category</th>\n",
       "    </tr>\n",
       "  </thead>\n",
       "  <tbody>\n",
       "    <tr>\n",
       "      <th>8</th>\n",
       "      <td>1550.0</td>\n",
       "      <td>Electronics</td>\n",
       "    </tr>\n",
       "    <tr>\n",
       "      <th>14</th>\n",
       "      <td>501.0</td>\n",
       "      <td>Electronics</td>\n",
       "    </tr>\n",
       "    <tr>\n",
       "      <th>100</th>\n",
       "      <td>3700.0</td>\n",
       "      <td>Electronics</td>\n",
       "    </tr>\n",
       "    <tr>\n",
       "      <th>103</th>\n",
       "      <td>839.0</td>\n",
       "      <td>Electronics</td>\n",
       "    </tr>\n",
       "    <tr>\n",
       "      <th>108</th>\n",
       "      <td>298.0</td>\n",
       "      <td>Electronics</td>\n",
       "    </tr>\n",
       "  </tbody>\n",
       "</table>\n",
       "</div>"
      ],
      "text/plain": [
       "     verified_ratings main_category\n",
       "8              1550.0   Electronics\n",
       "14              501.0   Electronics\n",
       "100            3700.0   Electronics\n",
       "103             839.0   Electronics\n",
       "108             298.0   Electronics"
      ]
     },
     "metadata": {},
     "output_type": "display_data"
    },
    {
     "name": "stdout",
     "output_type": "stream",
     "text": [
      "Category: Fashion, Outliers: 39\n"
     ]
    },
    {
     "data": {
      "application/vnd.microsoft.datawrangler.viewer.v0+json": {
       "columns": [
        {
         "name": "index",
         "rawType": "int64",
         "type": "integer"
        },
        {
         "name": "verified_ratings",
         "rawType": "float64",
         "type": "float"
        },
        {
         "name": "main_category",
         "rawType": "object",
         "type": "string"
        }
       ],
       "ref": "953572ae-31b7-4f3f-8680-39f52dab73d9",
       "rows": [
        [
         "4",
         "734.0",
         "Fashion"
        ],
        [
         "13",
         "1679.0",
         "Fashion"
        ],
        [
         "18",
         "410.0",
         "Fashion"
        ],
        [
         "20",
         "520.0",
         "Fashion"
        ],
        [
         "21",
         "884.0",
         "Fashion"
        ]
       ],
       "shape": {
        "columns": 2,
        "rows": 5
       }
      },
      "text/html": [
       "<div>\n",
       "<style scoped>\n",
       "    .dataframe tbody tr th:only-of-type {\n",
       "        vertical-align: middle;\n",
       "    }\n",
       "\n",
       "    .dataframe tbody tr th {\n",
       "        vertical-align: top;\n",
       "    }\n",
       "\n",
       "    .dataframe thead th {\n",
       "        text-align: right;\n",
       "    }\n",
       "</style>\n",
       "<table border=\"1\" class=\"dataframe\">\n",
       "  <thead>\n",
       "    <tr style=\"text-align: right;\">\n",
       "      <th></th>\n",
       "      <th>verified_ratings</th>\n",
       "      <th>main_category</th>\n",
       "    </tr>\n",
       "  </thead>\n",
       "  <tbody>\n",
       "    <tr>\n",
       "      <th>4</th>\n",
       "      <td>734.0</td>\n",
       "      <td>Fashion</td>\n",
       "    </tr>\n",
       "    <tr>\n",
       "      <th>13</th>\n",
       "      <td>1679.0</td>\n",
       "      <td>Fashion</td>\n",
       "    </tr>\n",
       "    <tr>\n",
       "      <th>18</th>\n",
       "      <td>410.0</td>\n",
       "      <td>Fashion</td>\n",
       "    </tr>\n",
       "    <tr>\n",
       "      <th>20</th>\n",
       "      <td>520.0</td>\n",
       "      <td>Fashion</td>\n",
       "    </tr>\n",
       "    <tr>\n",
       "      <th>21</th>\n",
       "      <td>884.0</td>\n",
       "      <td>Fashion</td>\n",
       "    </tr>\n",
       "  </tbody>\n",
       "</table>\n",
       "</div>"
      ],
      "text/plain": [
       "    verified_ratings main_category\n",
       "4              734.0       Fashion\n",
       "13            1679.0       Fashion\n",
       "18             410.0       Fashion\n",
       "20             520.0       Fashion\n",
       "21             884.0       Fashion"
      ]
     },
     "metadata": {},
     "output_type": "display_data"
    },
    {
     "name": "stdout",
     "output_type": "stream",
     "text": [
      "Category: Gaming, Outliers: 1\n"
     ]
    },
    {
     "data": {
      "application/vnd.microsoft.datawrangler.viewer.v0+json": {
       "columns": [
        {
         "name": "index",
         "rawType": "int64",
         "type": "integer"
        },
        {
         "name": "verified_ratings",
         "rawType": "float64",
         "type": "float"
        },
        {
         "name": "main_category",
         "rawType": "object",
         "type": "string"
        }
       ],
       "ref": "2a193a19-6054-48be-a7b0-457cb7ea74b9",
       "rows": [
        [
         "1836",
         "69.0",
         "Gaming"
        ]
       ],
       "shape": {
        "columns": 2,
        "rows": 1
       }
      },
      "text/html": [
       "<div>\n",
       "<style scoped>\n",
       "    .dataframe tbody tr th:only-of-type {\n",
       "        vertical-align: middle;\n",
       "    }\n",
       "\n",
       "    .dataframe tbody tr th {\n",
       "        vertical-align: top;\n",
       "    }\n",
       "\n",
       "    .dataframe thead th {\n",
       "        text-align: right;\n",
       "    }\n",
       "</style>\n",
       "<table border=\"1\" class=\"dataframe\">\n",
       "  <thead>\n",
       "    <tr style=\"text-align: right;\">\n",
       "      <th></th>\n",
       "      <th>verified_ratings</th>\n",
       "      <th>main_category</th>\n",
       "    </tr>\n",
       "  </thead>\n",
       "  <tbody>\n",
       "    <tr>\n",
       "      <th>1836</th>\n",
       "      <td>69.0</td>\n",
       "      <td>Gaming</td>\n",
       "    </tr>\n",
       "  </tbody>\n",
       "</table>\n",
       "</div>"
      ],
      "text/plain": [
       "      verified_ratings main_category\n",
       "1836              69.0        Gaming"
      ]
     },
     "metadata": {},
     "output_type": "display_data"
    },
    {
     "name": "stdout",
     "output_type": "stream",
     "text": [
      "Category: Garden & Outdoors, Outliers: 5\n"
     ]
    },
    {
     "data": {
      "application/vnd.microsoft.datawrangler.viewer.v0+json": {
       "columns": [
        {
         "name": "index",
         "rawType": "int64",
         "type": "integer"
        },
        {
         "name": "verified_ratings",
         "rawType": "float64",
         "type": "float"
        },
        {
         "name": "main_category",
         "rawType": "object",
         "type": "string"
        }
       ],
       "ref": "652ccd2e-634a-469c-aaa9-4b9fa2373c8d",
       "rows": [
        [
         "1153",
         "42.0",
         "Garden & Outdoors"
        ],
        [
         "1222",
         "35.0",
         "Garden & Outdoors"
        ],
        [
         "1542",
         "37.0",
         "Garden & Outdoors"
        ],
        [
         "1666",
         "49.0",
         "Garden & Outdoors"
        ],
        [
         "1910",
         "31.0",
         "Garden & Outdoors"
        ]
       ],
       "shape": {
        "columns": 2,
        "rows": 5
       }
      },
      "text/html": [
       "<div>\n",
       "<style scoped>\n",
       "    .dataframe tbody tr th:only-of-type {\n",
       "        vertical-align: middle;\n",
       "    }\n",
       "\n",
       "    .dataframe tbody tr th {\n",
       "        vertical-align: top;\n",
       "    }\n",
       "\n",
       "    .dataframe thead th {\n",
       "        text-align: right;\n",
       "    }\n",
       "</style>\n",
       "<table border=\"1\" class=\"dataframe\">\n",
       "  <thead>\n",
       "    <tr style=\"text-align: right;\">\n",
       "      <th></th>\n",
       "      <th>verified_ratings</th>\n",
       "      <th>main_category</th>\n",
       "    </tr>\n",
       "  </thead>\n",
       "  <tbody>\n",
       "    <tr>\n",
       "      <th>1153</th>\n",
       "      <td>42.0</td>\n",
       "      <td>Garden &amp; Outdoors</td>\n",
       "    </tr>\n",
       "    <tr>\n",
       "      <th>1222</th>\n",
       "      <td>35.0</td>\n",
       "      <td>Garden &amp; Outdoors</td>\n",
       "    </tr>\n",
       "    <tr>\n",
       "      <th>1542</th>\n",
       "      <td>37.0</td>\n",
       "      <td>Garden &amp; Outdoors</td>\n",
       "    </tr>\n",
       "    <tr>\n",
       "      <th>1666</th>\n",
       "      <td>49.0</td>\n",
       "      <td>Garden &amp; Outdoors</td>\n",
       "    </tr>\n",
       "    <tr>\n",
       "      <th>1910</th>\n",
       "      <td>31.0</td>\n",
       "      <td>Garden &amp; Outdoors</td>\n",
       "    </tr>\n",
       "  </tbody>\n",
       "</table>\n",
       "</div>"
      ],
      "text/plain": [
       "      verified_ratings      main_category\n",
       "1153              42.0  Garden & Outdoors\n",
       "1222              35.0  Garden & Outdoors\n",
       "1542              37.0  Garden & Outdoors\n",
       "1666              49.0  Garden & Outdoors\n",
       "1910              31.0  Garden & Outdoors"
      ]
     },
     "metadata": {},
     "output_type": "display_data"
    },
    {
     "name": "stdout",
     "output_type": "stream",
     "text": [
      "Category: Grocery, Outliers: 2\n"
     ]
    },
    {
     "data": {
      "application/vnd.microsoft.datawrangler.viewer.v0+json": {
       "columns": [
        {
         "name": "index",
         "rawType": "int64",
         "type": "integer"
        },
        {
         "name": "verified_ratings",
         "rawType": "float64",
         "type": "float"
        },
        {
         "name": "main_category",
         "rawType": "object",
         "type": "string"
        }
       ],
       "ref": "df4273b0-9dea-42f9-9de9-83fe2927f1eb",
       "rows": [
        [
         "198",
         "1587.0",
         "Grocery"
        ],
        [
         "1224",
         "1711.0",
         "Grocery"
        ]
       ],
       "shape": {
        "columns": 2,
        "rows": 2
       }
      },
      "text/html": [
       "<div>\n",
       "<style scoped>\n",
       "    .dataframe tbody tr th:only-of-type {\n",
       "        vertical-align: middle;\n",
       "    }\n",
       "\n",
       "    .dataframe tbody tr th {\n",
       "        vertical-align: top;\n",
       "    }\n",
       "\n",
       "    .dataframe thead th {\n",
       "        text-align: right;\n",
       "    }\n",
       "</style>\n",
       "<table border=\"1\" class=\"dataframe\">\n",
       "  <thead>\n",
       "    <tr style=\"text-align: right;\">\n",
       "      <th></th>\n",
       "      <th>verified_ratings</th>\n",
       "      <th>main_category</th>\n",
       "    </tr>\n",
       "  </thead>\n",
       "  <tbody>\n",
       "    <tr>\n",
       "      <th>198</th>\n",
       "      <td>1587.0</td>\n",
       "      <td>Grocery</td>\n",
       "    </tr>\n",
       "    <tr>\n",
       "      <th>1224</th>\n",
       "      <td>1711.0</td>\n",
       "      <td>Grocery</td>\n",
       "    </tr>\n",
       "  </tbody>\n",
       "</table>\n",
       "</div>"
      ],
      "text/plain": [
       "      verified_ratings main_category\n",
       "198             1587.0       Grocery\n",
       "1224            1711.0       Grocery"
      ]
     },
     "metadata": {},
     "output_type": "display_data"
    },
    {
     "name": "stdout",
     "output_type": "stream",
     "text": [
      "Category: Health & Beauty, Outliers: 59\n"
     ]
    },
    {
     "data": {
      "application/vnd.microsoft.datawrangler.viewer.v0+json": {
       "columns": [
        {
         "name": "index",
         "rawType": "int64",
         "type": "integer"
        },
        {
         "name": "verified_ratings",
         "rawType": "float64",
         "type": "float"
        },
        {
         "name": "main_category",
         "rawType": "object",
         "type": "string"
        }
       ],
       "ref": "3b6ed6ea-8956-4538-a5fc-7e6699b2a6b5",
       "rows": [
        [
         "6",
         "1312.0",
         "Health & Beauty"
        ],
        [
         "10",
         "1082.0",
         "Health & Beauty"
        ],
        [
         "11",
         "2165.0",
         "Health & Beauty"
        ],
        [
         "15",
         "3255.0",
         "Health & Beauty"
        ],
        [
         "17",
         "419.0",
         "Health & Beauty"
        ]
       ],
       "shape": {
        "columns": 2,
        "rows": 5
       }
      },
      "text/html": [
       "<div>\n",
       "<style scoped>\n",
       "    .dataframe tbody tr th:only-of-type {\n",
       "        vertical-align: middle;\n",
       "    }\n",
       "\n",
       "    .dataframe tbody tr th {\n",
       "        vertical-align: top;\n",
       "    }\n",
       "\n",
       "    .dataframe thead th {\n",
       "        text-align: right;\n",
       "    }\n",
       "</style>\n",
       "<table border=\"1\" class=\"dataframe\">\n",
       "  <thead>\n",
       "    <tr style=\"text-align: right;\">\n",
       "      <th></th>\n",
       "      <th>verified_ratings</th>\n",
       "      <th>main_category</th>\n",
       "    </tr>\n",
       "  </thead>\n",
       "  <tbody>\n",
       "    <tr>\n",
       "      <th>6</th>\n",
       "      <td>1312.0</td>\n",
       "      <td>Health &amp; Beauty</td>\n",
       "    </tr>\n",
       "    <tr>\n",
       "      <th>10</th>\n",
       "      <td>1082.0</td>\n",
       "      <td>Health &amp; Beauty</td>\n",
       "    </tr>\n",
       "    <tr>\n",
       "      <th>11</th>\n",
       "      <td>2165.0</td>\n",
       "      <td>Health &amp; Beauty</td>\n",
       "    </tr>\n",
       "    <tr>\n",
       "      <th>15</th>\n",
       "      <td>3255.0</td>\n",
       "      <td>Health &amp; Beauty</td>\n",
       "    </tr>\n",
       "    <tr>\n",
       "      <th>17</th>\n",
       "      <td>419.0</td>\n",
       "      <td>Health &amp; Beauty</td>\n",
       "    </tr>\n",
       "  </tbody>\n",
       "</table>\n",
       "</div>"
      ],
      "text/plain": [
       "    verified_ratings    main_category\n",
       "6             1312.0  Health & Beauty\n",
       "10            1082.0  Health & Beauty\n",
       "11            2165.0  Health & Beauty\n",
       "15            3255.0  Health & Beauty\n",
       "17             419.0  Health & Beauty"
      ]
     },
     "metadata": {},
     "output_type": "display_data"
    },
    {
     "name": "stdout",
     "output_type": "stream",
     "text": [
      "Category: Home & Office, Outliers: 60\n"
     ]
    },
    {
     "data": {
      "application/vnd.microsoft.datawrangler.viewer.v0+json": {
       "columns": [
        {
         "name": "index",
         "rawType": "int64",
         "type": "integer"
        },
        {
         "name": "verified_ratings",
         "rawType": "float64",
         "type": "float"
        },
        {
         "name": "main_category",
         "rawType": "object",
         "type": "string"
        }
       ],
       "ref": "87525936-c06e-4b01-8a38-9bcad4313b00",
       "rows": [
        [
         "0",
         "3867.0",
         "Home & Office"
        ],
        [
         "3",
         "2092.0",
         "Home & Office"
        ],
        [
         "5",
         "3891.0",
         "Home & Office"
        ],
        [
         "7",
         "1164.0",
         "Home & Office"
        ],
        [
         "9",
         "1919.0",
         "Home & Office"
        ]
       ],
       "shape": {
        "columns": 2,
        "rows": 5
       }
      },
      "text/html": [
       "<div>\n",
       "<style scoped>\n",
       "    .dataframe tbody tr th:only-of-type {\n",
       "        vertical-align: middle;\n",
       "    }\n",
       "\n",
       "    .dataframe tbody tr th {\n",
       "        vertical-align: top;\n",
       "    }\n",
       "\n",
       "    .dataframe thead th {\n",
       "        text-align: right;\n",
       "    }\n",
       "</style>\n",
       "<table border=\"1\" class=\"dataframe\">\n",
       "  <thead>\n",
       "    <tr style=\"text-align: right;\">\n",
       "      <th></th>\n",
       "      <th>verified_ratings</th>\n",
       "      <th>main_category</th>\n",
       "    </tr>\n",
       "  </thead>\n",
       "  <tbody>\n",
       "    <tr>\n",
       "      <th>0</th>\n",
       "      <td>3867.0</td>\n",
       "      <td>Home &amp; Office</td>\n",
       "    </tr>\n",
       "    <tr>\n",
       "      <th>3</th>\n",
       "      <td>2092.0</td>\n",
       "      <td>Home &amp; Office</td>\n",
       "    </tr>\n",
       "    <tr>\n",
       "      <th>5</th>\n",
       "      <td>3891.0</td>\n",
       "      <td>Home &amp; Office</td>\n",
       "    </tr>\n",
       "    <tr>\n",
       "      <th>7</th>\n",
       "      <td>1164.0</td>\n",
       "      <td>Home &amp; Office</td>\n",
       "    </tr>\n",
       "    <tr>\n",
       "      <th>9</th>\n",
       "      <td>1919.0</td>\n",
       "      <td>Home &amp; Office</td>\n",
       "    </tr>\n",
       "  </tbody>\n",
       "</table>\n",
       "</div>"
      ],
      "text/plain": [
       "   verified_ratings  main_category\n",
       "0            3867.0  Home & Office\n",
       "3            2092.0  Home & Office\n",
       "5            3891.0  Home & Office\n",
       "7            1164.0  Home & Office\n",
       "9            1919.0  Home & Office"
      ]
     },
     "metadata": {},
     "output_type": "display_data"
    },
    {
     "name": "stdout",
     "output_type": "stream",
     "text": [
      "Category: Industrial & Scientific, Outliers: 3\n"
     ]
    },
    {
     "data": {
      "application/vnd.microsoft.datawrangler.viewer.v0+json": {
       "columns": [
        {
         "name": "index",
         "rawType": "int64",
         "type": "integer"
        },
        {
         "name": "verified_ratings",
         "rawType": "float64",
         "type": "float"
        },
        {
         "name": "main_category",
         "rawType": "object",
         "type": "string"
        }
       ],
       "ref": "eb47f823-c6a5-49c8-bbef-60220d0b74b1",
       "rows": [
        [
         "565",
         "494.0",
         "Industrial & Scientific"
        ],
        [
         "754",
         "19.0",
         "Industrial & Scientific"
        ],
        [
         "1485",
         "64.0",
         "Industrial & Scientific"
        ]
       ],
       "shape": {
        "columns": 2,
        "rows": 3
       }
      },
      "text/html": [
       "<div>\n",
       "<style scoped>\n",
       "    .dataframe tbody tr th:only-of-type {\n",
       "        vertical-align: middle;\n",
       "    }\n",
       "\n",
       "    .dataframe tbody tr th {\n",
       "        vertical-align: top;\n",
       "    }\n",
       "\n",
       "    .dataframe thead th {\n",
       "        text-align: right;\n",
       "    }\n",
       "</style>\n",
       "<table border=\"1\" class=\"dataframe\">\n",
       "  <thead>\n",
       "    <tr style=\"text-align: right;\">\n",
       "      <th></th>\n",
       "      <th>verified_ratings</th>\n",
       "      <th>main_category</th>\n",
       "    </tr>\n",
       "  </thead>\n",
       "  <tbody>\n",
       "    <tr>\n",
       "      <th>565</th>\n",
       "      <td>494.0</td>\n",
       "      <td>Industrial &amp; Scientific</td>\n",
       "    </tr>\n",
       "    <tr>\n",
       "      <th>754</th>\n",
       "      <td>19.0</td>\n",
       "      <td>Industrial &amp; Scientific</td>\n",
       "    </tr>\n",
       "    <tr>\n",
       "      <th>1485</th>\n",
       "      <td>64.0</td>\n",
       "      <td>Industrial &amp; Scientific</td>\n",
       "    </tr>\n",
       "  </tbody>\n",
       "</table>\n",
       "</div>"
      ],
      "text/plain": [
       "      verified_ratings            main_category\n",
       "565              494.0  Industrial & Scientific\n",
       "754               19.0  Industrial & Scientific\n",
       "1485              64.0  Industrial & Scientific"
      ]
     },
     "metadata": {},
     "output_type": "display_data"
    },
    {
     "name": "stdout",
     "output_type": "stream",
     "text": [
      "Category: Musical Instruments, Outliers: 2\n"
     ]
    },
    {
     "data": {
      "application/vnd.microsoft.datawrangler.viewer.v0+json": {
       "columns": [
        {
         "name": "index",
         "rawType": "int64",
         "type": "integer"
        },
        {
         "name": "verified_ratings",
         "rawType": "float64",
         "type": "float"
        },
        {
         "name": "main_category",
         "rawType": "object",
         "type": "string"
        }
       ],
       "ref": "bbad20fc-2909-4b92-9bc9-7b97b85a75d8",
       "rows": [
        [
         "1947",
         "36.0",
         "Musical Instruments"
        ],
        [
         "1986",
         "50.0",
         "Musical Instruments"
        ]
       ],
       "shape": {
        "columns": 2,
        "rows": 2
       }
      },
      "text/html": [
       "<div>\n",
       "<style scoped>\n",
       "    .dataframe tbody tr th:only-of-type {\n",
       "        vertical-align: middle;\n",
       "    }\n",
       "\n",
       "    .dataframe tbody tr th {\n",
       "        vertical-align: top;\n",
       "    }\n",
       "\n",
       "    .dataframe thead th {\n",
       "        text-align: right;\n",
       "    }\n",
       "</style>\n",
       "<table border=\"1\" class=\"dataframe\">\n",
       "  <thead>\n",
       "    <tr style=\"text-align: right;\">\n",
       "      <th></th>\n",
       "      <th>verified_ratings</th>\n",
       "      <th>main_category</th>\n",
       "    </tr>\n",
       "  </thead>\n",
       "  <tbody>\n",
       "    <tr>\n",
       "      <th>1947</th>\n",
       "      <td>36.0</td>\n",
       "      <td>Musical Instruments</td>\n",
       "    </tr>\n",
       "    <tr>\n",
       "      <th>1986</th>\n",
       "      <td>50.0</td>\n",
       "      <td>Musical Instruments</td>\n",
       "    </tr>\n",
       "  </tbody>\n",
       "</table>\n",
       "</div>"
      ],
      "text/plain": [
       "      verified_ratings        main_category\n",
       "1947              36.0  Musical Instruments\n",
       "1986              50.0  Musical Instruments"
      ]
     },
     "metadata": {},
     "output_type": "display_data"
    },
    {
     "name": "stdout",
     "output_type": "stream",
     "text": [
      "Category: Pet Supplies, Outliers: 2\n"
     ]
    },
    {
     "data": {
      "application/vnd.microsoft.datawrangler.viewer.v0+json": {
       "columns": [
        {
         "name": "index",
         "rawType": "int64",
         "type": "integer"
        },
        {
         "name": "verified_ratings",
         "rawType": "float64",
         "type": "float"
        },
        {
         "name": "main_category",
         "rawType": "object",
         "type": "string"
        }
       ],
       "ref": "07626bf9-1ccb-4385-8e1b-497d4e2feb0b",
       "rows": [
        [
         "1388",
         "27.0",
         "Pet Supplies"
        ],
        [
         "1752",
         "17.0",
         "Pet Supplies"
        ]
       ],
       "shape": {
        "columns": 2,
        "rows": 2
       }
      },
      "text/html": [
       "<div>\n",
       "<style scoped>\n",
       "    .dataframe tbody tr th:only-of-type {\n",
       "        vertical-align: middle;\n",
       "    }\n",
       "\n",
       "    .dataframe tbody tr th {\n",
       "        vertical-align: top;\n",
       "    }\n",
       "\n",
       "    .dataframe thead th {\n",
       "        text-align: right;\n",
       "    }\n",
       "</style>\n",
       "<table border=\"1\" class=\"dataframe\">\n",
       "  <thead>\n",
       "    <tr style=\"text-align: right;\">\n",
       "      <th></th>\n",
       "      <th>verified_ratings</th>\n",
       "      <th>main_category</th>\n",
       "    </tr>\n",
       "  </thead>\n",
       "  <tbody>\n",
       "    <tr>\n",
       "      <th>1388</th>\n",
       "      <td>27.0</td>\n",
       "      <td>Pet Supplies</td>\n",
       "    </tr>\n",
       "    <tr>\n",
       "      <th>1752</th>\n",
       "      <td>17.0</td>\n",
       "      <td>Pet Supplies</td>\n",
       "    </tr>\n",
       "  </tbody>\n",
       "</table>\n",
       "</div>"
      ],
      "text/plain": [
       "      verified_ratings main_category\n",
       "1388              27.0  Pet Supplies\n",
       "1752              17.0  Pet Supplies"
      ]
     },
     "metadata": {},
     "output_type": "display_data"
    },
    {
     "name": "stdout",
     "output_type": "stream",
     "text": [
      "Category: Phones & Tablets, Outliers: 48\n"
     ]
    },
    {
     "data": {
      "application/vnd.microsoft.datawrangler.viewer.v0+json": {
       "columns": [
        {
         "name": "index",
         "rawType": "int64",
         "type": "integer"
        },
        {
         "name": "verified_ratings",
         "rawType": "float64",
         "type": "float"
        },
        {
         "name": "main_category",
         "rawType": "object",
         "type": "string"
        }
       ],
       "ref": "e239ca59-fd7f-45a1-a6b7-d93541e6527a",
       "rows": [
        [
         "1",
         "557.0",
         "Phones & Tablets"
        ],
        [
         "2",
         "523.0",
         "Phones & Tablets"
        ],
        [
         "99",
         "4080.0",
         "Phones & Tablets"
        ],
        [
         "101",
         "2866.0",
         "Phones & Tablets"
        ],
        [
         "104",
         "296.0",
         "Phones & Tablets"
        ]
       ],
       "shape": {
        "columns": 2,
        "rows": 5
       }
      },
      "text/html": [
       "<div>\n",
       "<style scoped>\n",
       "    .dataframe tbody tr th:only-of-type {\n",
       "        vertical-align: middle;\n",
       "    }\n",
       "\n",
       "    .dataframe tbody tr th {\n",
       "        vertical-align: top;\n",
       "    }\n",
       "\n",
       "    .dataframe thead th {\n",
       "        text-align: right;\n",
       "    }\n",
       "</style>\n",
       "<table border=\"1\" class=\"dataframe\">\n",
       "  <thead>\n",
       "    <tr style=\"text-align: right;\">\n",
       "      <th></th>\n",
       "      <th>verified_ratings</th>\n",
       "      <th>main_category</th>\n",
       "    </tr>\n",
       "  </thead>\n",
       "  <tbody>\n",
       "    <tr>\n",
       "      <th>1</th>\n",
       "      <td>557.0</td>\n",
       "      <td>Phones &amp; Tablets</td>\n",
       "    </tr>\n",
       "    <tr>\n",
       "      <th>2</th>\n",
       "      <td>523.0</td>\n",
       "      <td>Phones &amp; Tablets</td>\n",
       "    </tr>\n",
       "    <tr>\n",
       "      <th>99</th>\n",
       "      <td>4080.0</td>\n",
       "      <td>Phones &amp; Tablets</td>\n",
       "    </tr>\n",
       "    <tr>\n",
       "      <th>101</th>\n",
       "      <td>2866.0</td>\n",
       "      <td>Phones &amp; Tablets</td>\n",
       "    </tr>\n",
       "    <tr>\n",
       "      <th>104</th>\n",
       "      <td>296.0</td>\n",
       "      <td>Phones &amp; Tablets</td>\n",
       "    </tr>\n",
       "  </tbody>\n",
       "</table>\n",
       "</div>"
      ],
      "text/plain": [
       "     verified_ratings     main_category\n",
       "1               557.0  Phones & Tablets\n",
       "2               523.0  Phones & Tablets\n",
       "99             4080.0  Phones & Tablets\n",
       "101            2866.0  Phones & Tablets\n",
       "104             296.0  Phones & Tablets"
      ]
     },
     "metadata": {},
     "output_type": "display_data"
    },
    {
     "name": "stdout",
     "output_type": "stream",
     "text": [
      "Category: Sporting Goods, Outliers: 1\n"
     ]
    },
    {
     "data": {
      "application/vnd.microsoft.datawrangler.viewer.v0+json": {
       "columns": [
        {
         "name": "index",
         "rawType": "int64",
         "type": "integer"
        },
        {
         "name": "verified_ratings",
         "rawType": "float64",
         "type": "float"
        },
        {
         "name": "main_category",
         "rawType": "object",
         "type": "string"
        }
       ],
       "ref": "c3a0e568-4862-4ef8-ac81-8c4c39e18d91",
       "rows": [
        [
         "1209",
         "195.0",
         "Sporting Goods"
        ]
       ],
       "shape": {
        "columns": 2,
        "rows": 1
       }
      },
      "text/html": [
       "<div>\n",
       "<style scoped>\n",
       "    .dataframe tbody tr th:only-of-type {\n",
       "        vertical-align: middle;\n",
       "    }\n",
       "\n",
       "    .dataframe tbody tr th {\n",
       "        vertical-align: top;\n",
       "    }\n",
       "\n",
       "    .dataframe thead th {\n",
       "        text-align: right;\n",
       "    }\n",
       "</style>\n",
       "<table border=\"1\" class=\"dataframe\">\n",
       "  <thead>\n",
       "    <tr style=\"text-align: right;\">\n",
       "      <th></th>\n",
       "      <th>verified_ratings</th>\n",
       "      <th>main_category</th>\n",
       "    </tr>\n",
       "  </thead>\n",
       "  <tbody>\n",
       "    <tr>\n",
       "      <th>1209</th>\n",
       "      <td>195.0</td>\n",
       "      <td>Sporting Goods</td>\n",
       "    </tr>\n",
       "  </tbody>\n",
       "</table>\n",
       "</div>"
      ],
      "text/plain": [
       "      verified_ratings   main_category\n",
       "1209             195.0  Sporting Goods"
      ]
     },
     "metadata": {},
     "output_type": "display_data"
    },
    {
     "name": "stdout",
     "output_type": "stream",
     "text": [
      "Category: Toys & Games, Outliers: 4\n"
     ]
    },
    {
     "data": {
      "application/vnd.microsoft.datawrangler.viewer.v0+json": {
       "columns": [
        {
         "name": "index",
         "rawType": "int64",
         "type": "integer"
        },
        {
         "name": "verified_ratings",
         "rawType": "float64",
         "type": "float"
        },
        {
         "name": "main_category",
         "rawType": "object",
         "type": "string"
        }
       ],
       "ref": "5eebe7f5-25b8-426e-ac52-4b71feeb1631",
       "rows": [
        [
         "58",
         "104.0",
         "Toys & Games"
        ],
        [
         "348",
         "50.0",
         "Toys & Games"
        ],
        [
         "541",
         "8.0",
         "Toys & Games"
        ],
        [
         "748",
         "8.0",
         "Toys & Games"
        ]
       ],
       "shape": {
        "columns": 2,
        "rows": 4
       }
      },
      "text/html": [
       "<div>\n",
       "<style scoped>\n",
       "    .dataframe tbody tr th:only-of-type {\n",
       "        vertical-align: middle;\n",
       "    }\n",
       "\n",
       "    .dataframe tbody tr th {\n",
       "        vertical-align: top;\n",
       "    }\n",
       "\n",
       "    .dataframe thead th {\n",
       "        text-align: right;\n",
       "    }\n",
       "</style>\n",
       "<table border=\"1\" class=\"dataframe\">\n",
       "  <thead>\n",
       "    <tr style=\"text-align: right;\">\n",
       "      <th></th>\n",
       "      <th>verified_ratings</th>\n",
       "      <th>main_category</th>\n",
       "    </tr>\n",
       "  </thead>\n",
       "  <tbody>\n",
       "    <tr>\n",
       "      <th>58</th>\n",
       "      <td>104.0</td>\n",
       "      <td>Toys &amp; Games</td>\n",
       "    </tr>\n",
       "    <tr>\n",
       "      <th>348</th>\n",
       "      <td>50.0</td>\n",
       "      <td>Toys &amp; Games</td>\n",
       "    </tr>\n",
       "    <tr>\n",
       "      <th>541</th>\n",
       "      <td>8.0</td>\n",
       "      <td>Toys &amp; Games</td>\n",
       "    </tr>\n",
       "    <tr>\n",
       "      <th>748</th>\n",
       "      <td>8.0</td>\n",
       "      <td>Toys &amp; Games</td>\n",
       "    </tr>\n",
       "  </tbody>\n",
       "</table>\n",
       "</div>"
      ],
      "text/plain": [
       "     verified_ratings main_category\n",
       "58              104.0  Toys & Games\n",
       "348              50.0  Toys & Games\n",
       "541               8.0  Toys & Games\n",
       "748               8.0  Toys & Games"
      ]
     },
     "metadata": {},
     "output_type": "display_data"
    }
   ],
   "source": [
    "numeric_cols = ['current_price', 'original_price', 'verified_ratings']\n",
    "\n",
    "# Loop through numeric columns and detect outliers within each main_category\n",
    "for col in numeric_cols:\n",
    "    print(f\"\\nChecking outliers for column: {col}\\n\")\n",
    "    for category, group in data.groupby('main_category'):\n",
    "        Q1 = group[col].quantile(0.25)\n",
    "        Q3 = group[col].quantile(0.75)\n",
    "        IQR = Q3 - Q1\n",
    "        lower = Q1 - 1.5 * IQR\n",
    "        upper = Q3 + 1.5 * IQR\n",
    "        \n",
    "        outliers = group[(group[col] < lower) | (group[col] > upper)]\n",
    "        \n",
    "        if not outliers.empty:\n",
    "            print(f\"Category: {category}, Outliers: {outliers.shape[0]}\")\n",
    "            display(outliers[[col, 'main_category']].head(5))  # show 5 sample rows\n"
   ]
  },
  {
   "cell_type": "markdown",
   "id": "aa272451",
   "metadata": {},
   "source": [
    "## Expolatory Data Analysis"
   ]
  },
  {
   "cell_type": "markdown",
   "id": "921445bb",
   "metadata": {},
   "source": [
    "### Numeric columns & Correlations computation"
   ]
  },
  {
   "cell_type": "code",
   "execution_count": 39,
   "id": "99e63515",
   "metadata": {},
   "outputs": [
    {
     "data": {
      "image/png": "[encoded data removed]",
      "text/plain": [
       "<Figure size 800x600 with 2 Axes>"
      ]
     },
     "metadata": {},
     "output_type": "display_data"
    }
   ],
   "source": [
    "# Select relevant numeric columns\n",
    "num_cols = ['current_price', 'original_price', 'discount', 'rating_number', 'verified_ratings']\n",
    "\n",
    "corr = data[num_cols].corr()\n",
    "\n",
    "# Heatmap\n",
    "plt.figure(figsize=(8,6))\n",
    "sns.heatmap(corr, annot=True, cmap=\"coolwarm\", center=0, fmt=\".2f\")\n",
    "plt.title(\"Correlation Between Price, Discount, Ratings, and Reviews\")\n",
    "plt.show()\n"
   ]
  },
  {
   "cell_type": "markdown",
   "id": "88770e1a",
   "metadata": {},
   "source": [
    "#### This shows which features are positively/negatively correlated with current_price.\n",
    "\n",
    "- High positive correlation with original_price : current price is usually derived from the original price (discounted).\n",
    "\n",
    "- Correlation with discount : Discounts don’t strongly drive prices. This matches what we saw in scatterplots — discounts are more about marketing than actual price level.\n",
    "\n",
    "- Correlations with ratings or reviews : More expensive products don’t necessarily get higher ratings or more reviews. In fact, popularity tends to be for cheaper items, confirming what we saw earlier.\n",
    "\n",
    "- Discount vs Ratings / Reviews : Slight tendency for discounted products to attract more ratings, but the effect is very small.\n",
    "\n",
    "- Ratings vs Reviews : Makes sense, products with many reviews tend to also have higher rating averages, though not strongly."
   ]
  },
  {
   "cell_type": "markdown",
   "id": "47e25316",
   "metadata": {},
   "source": [
    "### % of Competitive Products per Category"
   ]
  },
  {
   "cell_type": "code",
   "execution_count": 40,
   "id": "f26be1e4",
   "metadata": {},
   "outputs": [],
   "source": [
    "# Compute median price per category\n",
    "category_medians = data.groupby('main_category')['current_price'].median()\n",
    "\n",
    "# Define competitive product\n",
    "data['competitive'] = data.apply(\n",
    "    lambda row: 1 if (row['current_price'] <= category_medians[row['main_category']]) \n",
    "                   and (row['rating_number'] >= 4.0) \n",
    "                else 0, axis=1\n",
    ")\n"
   ]
  },
  {
   "cell_type": "code",
   "execution_count": 41,
   "id": "893e1219",
   "metadata": {},
   "outputs": [
    {
     "name": "stdout",
     "output_type": "stream",
     "text": [
      "main_category\n",
      "Grocery                    47.058824\n",
      "Computing                  32.673267\n",
      "Sporting Goods             31.250000\n",
      "Automobile                 29.729730\n",
      "Gaming                     28.571429\n",
      "Home & Office              28.165375\n",
      "Health & Beauty            26.506024\n",
      "Industrial & Scientific    26.086957\n",
      "Baby Products              23.076923\n",
      "Toys & Games               19.512195\n",
      "Electronics                18.539326\n",
      "Pet Supplies               18.181818\n",
      "Garden & Outdoors          16.279070\n",
      "Fashion                    14.245014\n",
      "Phones & Tablets           13.636364\n",
      "Books, Movies and Music    12.280702\n",
      "Musical Instruments         0.000000\n",
      "Name: competitive, dtype: float64\n"
     ]
    }
   ],
   "source": [
    "competitive_summary = data.groupby('main_category')['competitive'].mean() * 100\n",
    "print(competitive_summary.sort_values(ascending=False))"
   ]
  },
  {
   "cell_type": "markdown",
   "id": "86119279",
   "metadata": {},
   "source": [
    "We needed to know how products are well priced and rated compared to others in the same category.\n",
    "- For the price, median is a good measure of a “typical” price in each category. Using category-specific medians allows us to normalize comparisons across categories.\n",
    "- For rating we choose a high rate (≥ 4.0) to count as competitive.\n",
    "This combination balances **value for money** and **customer satisfaction.**\n",
    "\n",
    "### This is what the results mean for Grocery, Phones & Tablets, and Musical Instruments:\n",
    "**Grocery (47%)**\n",
    "- Nearly half of grocery items meet the competitive criteria.\n",
    "- This reflects a price-sensitive, crowded market where many sellers offer affordable, well-rated items.\n",
    "\n",
    "**Phones & Tablets (14%)**\n",
    "- Very few products are competitive.\n",
    "- This market is premium-driven: many devices are above median price, and only a small fraction combine affordability with strong ratings.\n",
    "  \n",
    "**Musical Instruments (0%)**\n",
    "- No products met the competitive definition.\n",
    "- Likely because this is a specialized niche market with high prices and fewer ratings."
   ]
  },
  {
   "cell_type": "markdown",
   "id": "c9af2e0c",
   "metadata": {},
   "source": [
    "### Relationship Between Price and  Discount, Ratings, & Reviews Using Graph"
   ]
  },
  {
   "cell_type": "code",
   "execution_count": 42,
   "id": "a50cf2d8",
   "metadata": {},
   "outputs": [
    {
     "data": {
      "image/png": "[encoded data removed]",
      "text/plain": [
       "<Figure size 1800x500 with 3 Axes>"
      ]
     },
     "metadata": {},
     "output_type": "display_data"
    }
   ],
   "source": [
    "# Ensure numeric types\n",
    "data['discount'] = pd.to_numeric(data['discount'], errors='coerce')\n",
    "data['current_price'] = pd.to_numeric(data['current_price'], errors='coerce')\n",
    "data['verified_ratings'] = pd.to_numeric(data['verified_ratings'], errors='coerce')\n",
    "data['rating_number'] = pd.to_numeric(data['rating_number'], errors='coerce')\n",
    "\n",
    "import matplotlib.pyplot as plt\n",
    "import seaborn as sns\n",
    "\n",
    "plt.figure(figsize=(18,5))\n",
    "\n",
    "# 1. Price vs Discount\n",
    "plt.subplot(1,3,1)\n",
    "sns.scatterplot(data=data, x='discount', y='current_price', alpha=0.5)\n",
    "plt.title(\"Price vs Discount\")\n",
    "plt.xlabel(\"Discount (%)\")\n",
    "plt.ylabel(\"Current Price (KSh)\")\n",
    "\n",
    "# 2. Price vs Ratings\n",
    "plt.subplot(1,3,2)\n",
    "sns.boxplot(data=data, x='rating_number', y='current_price')\n",
    "plt.title(\"Price vs Ratings\")\n",
    "plt.xlabel(\"Rating\")\n",
    "plt.ylabel(\"Current Price (KSh)\")\n",
    "\n",
    "# 3. Price vs Reviews\n",
    "plt.subplot(1,3,3)\n",
    "sns.scatterplot(data=data, x='verified_ratings', y='current_price', alpha=0.5)\n",
    "plt.xscale(\"log\")   # reviews are often skewed\n",
    "plt.title(\"Price vs Reviews (log scale)\")\n",
    "plt.xlabel(\"Verified Ratings\")\n",
    "plt.ylabel(\"Current Price (KSh)\")\n",
    "\n",
    "plt.tight_layout()\n",
    "plt.show()\n"
   ]
  },
  {
   "cell_type": "markdown",
   "id": "d58f2f3d",
   "metadata": {},
   "source": [
    "We did the visualizations because we wanted to understand the relationships between Price and other key factors:\n",
    "\n",
    "- Discount (% off from original price)\n",
    "- Ratings (quality perception from customers)\n",
    "- Reviews (Verified Ratings) (popularity or trust from customer activity)\n",
    "The relationship help us know if:\n",
    "- bigger discounts actually lower prices.\n",
    "- higher-rated products are priced differently\n",
    "- popular items with many reviews sell at higher or lower prices\n",
    "This is critical for modeling & business insights, since price is central to competitiveness.\n",
    "### Interpretation of the graphs\n",
    "- Discounts are mostly applied to low/mid-priced products; discounts don’t directly correlate with higher prices.\n",
    "- Price doesn’t strongly depend on the rating score. A highly rated product isn’t necessarily more expensive; cheap products can also get high ratings.\n",
    "- Products with many reviews are usually affordable and accessible items, not premium/high-price ones. Popularity tends to go hand-in-hand with affordability."
   ]
  },
  {
   "cell_type": "markdown",
   "id": "e39d415e",
   "metadata": {},
   "source": [
    "### Pricing vs Ratings.\n",
    "\n",
    "Why it matters.\n",
    "\n",
    "It is crucial because it shows whether higher prices actually translate into higher customer satisfaction. In E-commerce, this insight helps sellers balance competitive pricing with perceived value — proving that success isn’t just about lowering prices, but about finding the sweet spot where customers feel they’re getting both quality and affordability."
   ]
  },
  {
   "cell_type": "code",
   "execution_count": 43,
   "id": "e159d981",
   "metadata": {},
   "outputs": [
    {
     "name": "stdout",
     "output_type": "stream",
     "text": [
      "Correlation between price and rating: -0.04\n"
     ]
    },
    {
     "name": "stderr",
     "output_type": "stream",
     "text": [
      "C:\\Users\\user\\AppData\\Local\\Temp\\ipykernel_33748\\1790915775.py:40: FutureWarning: \n",
      "\n",
      "Passing `palette` without assigning `hue` is deprecated and will be removed in v0.14.0. Assign the `x` variable to `hue` and set `legend=False` for the same effect.\n",
      "\n",
      "  sns.boxplot(\n"
     ]
    },
    {
     "data": {
      "image/png": "[encoded data removed]",
      "text/plain": [
       "<Figure size 2100x600 with 3 Axes>"
      ]
     },
     "metadata": {},
     "output_type": "display_data"
    }
   ],
   "source": [
    "import seaborn as sns\n",
    "import matplotlib.pyplot as plt\n",
    "\n",
    "# --- Correlation ---\n",
    "correlation = data[\"current_price\"].corr(data[\"rating_number\"])\n",
    "print(f\"Correlation between price and rating: {correlation:.2f}\")\n",
    "\n",
    "# --- Create price quartiles ---\n",
    "data[\"price_quartile\"] = pd.qcut(\n",
    "    data[\"current_price\"], \n",
    "    q=4, \n",
    "    labels=[\"Low\", \"Mid-Low\", \"Mid-High\", \"High\"]\n",
    ")\n",
    "\n",
    "# --- Setup subplots (3 side by side) ---\n",
    "fig, axes = plt.subplots(1, 3, figsize=(21,6))\n",
    "\n",
    "# 1️⃣ Scatter only all products\n",
    "axes[0].scatter(data[\"current_price\"], data[\"rating_number\"], alpha=0.6, color=\"blue\")\n",
    "axes[0].set_title(\"Scatter: Price vs Rating\")\n",
    "axes[0].set_xlabel(\"Current Price (KES)\")\n",
    "axes[0].set_ylabel(\"Average Rating (out of 5)\")\n",
    "axes[0].grid(True, linestyle=\"--\", alpha=0.7)\n",
    "\n",
    "# 2️⃣ Scatter + Regression Line\n",
    "sns.regplot(\n",
    "    x=\"current_price\", \n",
    "    y=\"rating_number\", \n",
    "    data=data, \n",
    "    scatter_kws={\"alpha\":0.6, \"color\":\"blue\"}, \n",
    "    line_kws={\"color\":\"red\"},\n",
    "    ax=axes[1]\n",
    ")\n",
    "axes[1].set_title(\"Scatter + Trendline\")\n",
    "axes[1].set_xlabel(\"Current Price (KES)\")\n",
    "axes[1].set_ylabel(\"Average Rating (out of 5)\")\n",
    "axes[1].grid(True, linestyle=\"--\", alpha=0.7)\n",
    "\n",
    "# 3️⃣ Boxplot by Price Quartiles\n",
    "sns.boxplot(\n",
    "    x=\"price_quartile\", \n",
    "    y=\"rating_number\", \n",
    "    data=data, \n",
    "    palette=\"Blues\", \n",
    "    ax=axes[2]\n",
    ")\n",
    "axes[2].set_title(\"Ratings Across Price Quartiles\")\n",
    "axes[2].set_xlabel(\"Price Quartile\")\n",
    "axes[2].set_ylabel(\"Average Rating (out of 5)\")\n",
    "axes[2].grid(axis=\"y\", linestyle=\"--\", alpha=0.7)\n",
    "\n",
    "plt.tight_layout()\n",
    "plt.show()\n"
   ]
  },
  {
   "cell_type": "markdown",
   "id": "b34df829",
   "metadata": {},
   "source": [
    "\n",
    "\n",
    "## Findings: Price vs Ratings\n",
    "\n",
    "* The **correlation is near zero (\\~-0.04)**, showing that **price and ratings have almost no meaningful relationship** in our dataset.\n",
    "* **Premium products** (e.g., smartphones) do earn solid ratings, but this isn’t consistent enough to prove that higher prices guarantee better reviews.\n",
    "* **Budget products** (like fashion items) also perform well in ratings, proving that affordability and value-for-money matter just as much as price.\n",
    "* **Mid-range items** still hover around average ratings, suggesting that shoppers can be more critical in this tier.\n",
    "\n",
    "The scatter showed **no clear upward or downward trend** → ratings are spread across all price points, meaning customers do not base their satisfaction primarily on price. From our data set, 5-star products cluster more in the **mid and lower price ranges** rather than at the very top. Premium products can get good ratings, but affordable items often achieve 5 stars too, since buyers love value-for-money.\n",
    "\n",
    "---\n",
    "\n",
    "## Recommendations\n",
    "\n",
    "* **Do not rely on pricing alone** as a driver for higher ratings — quality, durability, and user experience matter more.\n",
    "* **Invest in product quality and customer service** across all tiers, as both budget and premium buyers reward value-for-money.\n",
    "* **Highlight customer value in marketing** for affordable and mid-range items, since they have strong potential to earn top ratings.\n",
    "* **For premium products**, focus on showcasing unique features and after-sales support, which could justify higher prices and improve satisfaction.\n",
    "\n",
    "---\n",
    "\n",
    "## Conclusion\n",
    "\n",
    "The analysis shows that **price has little to no influence on customer ratings**. While higher-end products can receive good reviews, **affordable and mid-range items are just as likely to achieve 5-star ratings** when they deliver strong value. This suggests that to boost customer satisfaction and ratings, the company should prioritize **quality, perceived value, and customer experience** over pricing strategies alone.\n",
    "\n",
    "---"
   ]
  }
 ],
 "metadata": {
  "kernelspec": {
   "display_name": "clean_env",
   "language": "python",
   "name": "python3"
  },
  "language_info": {
   "codemirror_mode": {
    "name": "ipython",
    "version": 3
   },
   "file_extension": ".py",
   "mimetype": "text/x-python",
   "name": "python",
   "nbconvert_exporter": "python",
   "pygments_lexer": "ipython3",
   "version": "3.13.1"
  }
 },
 "nbformat": 4,
 "nbformat_minor": 5
}
