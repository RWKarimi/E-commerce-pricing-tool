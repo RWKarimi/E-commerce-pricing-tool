{
 "cells": [
  {
   "cell_type": "code",
   "execution_count": 1,
   "id": "5b823971-71ee-49e3-9d24-c018d050892f",
   "metadata": {},
   "outputs": [],
   "source": [
    "#Import required libraries\n",
    "import pandas as pd\n",
    "import numpy as np\n",
    "import seaborn as sns\n",
    "import matplotlib.pyplot as plt"
   ]
  },
  {
   "cell_type": "markdown",
   "id": "a4b59a6a-40a4-401c-a308-02c9f15a2369",
   "metadata": {},
   "source": [
    "### Reading data into a dataframe named df, a copy is made later and saved as data. We will work on dataframe data leaving df untouched."
   ]
  },
  {
   "cell_type": "code",
   "execution_count": 2,
   "id": "48614f0d-5d4f-4949-913d-a21f3b59821e",
   "metadata": {},
   "outputs": [
    {
     "data": {
      "application/vnd.microsoft.datawrangler.viewer.v0+json": {
       "columns": [
        {
         "name": "index",
         "rawType": "int64",
         "type": "integer"
        },
        {
         "name": "date_scraped",
         "rawType": "object",
         "type": "string"
        },
        {
         "name": "page_number",
         "rawType": "int64",
         "type": "integer"
        },
        {
         "name": "product_url",
         "rawType": "object",
         "type": "string"
        },
        {
         "name": "image",
         "rawType": "object",
         "type": "string"
        },
        {
         "name": "current_price",
         "rawType": "object",
         "type": "string"
        },
        {
         "name": "title",
         "rawType": "object",
         "type": "string"
        },
        {
         "name": "brand",
         "rawType": "float64",
         "type": "float"
        },
        {
         "name": "original_price",
         "rawType": "object",
         "type": "string"
        },
        {
         "name": "discount",
         "rawType": "object",
         "type": "string"
        },
        {
         "name": "verified_ratings",
         "rawType": "object",
         "type": "string"
        },
        {
         "name": "rating_number",
         "rawType": "float64",
         "type": "float"
        },
        {
         "name": "seller",
         "rawType": "object",
         "type": "string"
        },
        {
         "name": "main_category",
         "rawType": "object",
         "type": "string"
        }
       ],
       "ref": "487808d4-d38a-46d9-b36e-9958a68c4e73",
       "rows": [
        [
         "0",
         "2025-09-14",
         "1",
         "https://www.jumia.co.ke/ailyons-fk-0301-stainless-steel-2.0l-electric-kettle-black-34080919.html",
         "https://ke.jumia.is/unsafe/fit-in/300x300/filters:fill(white)/product/91/908043/1.jpg?2822",
         "KSh 499",
         "AILYONS FK-0301 Stainless Steel 2.0L Electric Kettle-Black",
         null,
         "KSh 1,399",
         "64%",
         "(3867 verified ratings)",
         "4.0",
         "UR-HOME(KENYA)",
         "Home & Office"
        ],
        [
         "1",
         "2025-09-14",
         "1",
         "https://www.jumia.co.ke/oking-ok310-1.7-wireless-fm-bright-torch-1000mah-tri-sim-2g-black-1yr-wrty-306394856.html",
         "https://ke.jumia.is/unsafe/fit-in/300x300/filters:fill(white)/product/65/8493603/1.jpg?0396",
         "KSh 719",
         "Oking OK310 1.7\" Wireless FM, Bright Torch, 1000mAh, Tri SIM, 2G - Black  (1YR WRTY)",
         null,
         "KSh 1,200",
         "40%",
         "(557 verified ratings)",
         "3.9",
         "ITEL MOBILE SHOP-SUNMUM TECH LTD - AC",
         "Phones & Tablets"
        ],
        [
         "2",
         "2025-09-14",
         "1",
         "https://www.jumia.co.ke/samsung-galaxy-a05-6.7-64gb-4gb-ram-dual-sim-5000mah-black-2yrs-wrty-250194934.html",
         "https://ke.jumia.is/unsafe/fit-in/300x300/filters:fill(white)/product/43/9491052/1.jpg?5057",
         "KSh 8,900",
         "Samsung Galaxy A05, 6.7\", 64GB + 4GB RAM (Dual SIM), 5000mAh, Black, (2YRs WRTY)",
         null,
         "KSh 13,187",
         "33%",
         "(523 verified ratings)",
         "4.1",
         "LOFFEL ELECTRONICS LIMITED - AC",
         "Phones & Tablets"
        ],
        [
         "3",
         "2025-09-14",
         "1",
         "https://www.jumia.co.ke/ailyons-afk-111-water-dispenser-hot-and-normal-with-storage-cabinet-1yr-wrty-118096692.html",
         "https://ke.jumia.is/unsafe/fit-in/300x300/filters:fill(white)/product/29/6690811/1.jpg?6558",
         "KSh 2,599",
         "AILYONS AFK-111 Water Dispenser Hot And Normal With Storage Cabinet (1YR WRTY)",
         null,
         "KSh 4,999",
         "48%",
         "(2092 verified ratings)",
         "3.9",
         "UR-HOME(KENYA)",
         "Home & Office"
        ],
        [
         "4",
         "2025-09-14",
         "1",
         "https://www.jumia.co.ke/fashion-couple-canvas-low-top-lace-up-shoes-classic-casual-sneakers-black-154042530.html",
         "https://ke.jumia.is/unsafe/fit-in/300x300/filters:fill(white)/product/03/5240451/1.jpg?3725",
         "KSh 699 - KSh 729",
         "Couple Canvas Low Top Lace-up Shoes Classic Casual Sneakers Black",
         null,
         "KSh 1,200 - KSh 1,500",
         "53%",
         "(734 verified ratings)",
         "4.2",
         "Waanzilish",
         "Fashion"
        ]
       ],
       "shape": {
        "columns": 13,
        "rows": 5
       }
      },
      "text/html": [
       "<div>\n",
       "<style scoped>\n",
       "    .dataframe tbody tr th:only-of-type {\n",
       "        vertical-align: middle;\n",
       "    }\n",
       "\n",
       "    .dataframe tbody tr th {\n",
       "        vertical-align: top;\n",
       "    }\n",
       "\n",
       "    .dataframe thead th {\n",
       "        text-align: right;\n",
       "    }\n",
       "</style>\n",
       "<table border=\"1\" class=\"dataframe\">\n",
       "  <thead>\n",
       "    <tr style=\"text-align: right;\">\n",
       "      <th></th>\n",
       "      <th>date_scraped</th>\n",
       "      <th>page_number</th>\n",
       "      <th>product_url</th>\n",
       "      <th>image</th>\n",
       "      <th>current_price</th>\n",
       "      <th>title</th>\n",
       "      <th>brand</th>\n",
       "      <th>original_price</th>\n",
       "      <th>discount</th>\n",
       "      <th>verified_ratings</th>\n",
       "      <th>rating_number</th>\n",
       "      <th>seller</th>\n",
       "      <th>main_category</th>\n",
       "    </tr>\n",
       "  </thead>\n",
       "  <tbody>\n",
       "    <tr>\n",
       "      <th>0</th>\n",
       "      <td>2025-09-14</td>\n",
       "      <td>1</td>\n",
       "      <td>https://www.jumia.co.ke/ailyons-fk-0301-stainl...</td>\n",
       "      <td>https://ke.jumia.is/unsafe/fit-in/300x300/filt...</td>\n",
       "      <td>KSh 499</td>\n",
       "      <td>AILYONS FK-0301 Stainless Steel 2.0L Electric ...</td>\n",
       "      <td>NaN</td>\n",
       "      <td>KSh 1,399</td>\n",
       "      <td>64%</td>\n",
       "      <td>(3867 verified ratings)</td>\n",
       "      <td>4.0</td>\n",
       "      <td>UR-HOME(KENYA)</td>\n",
       "      <td>Home &amp; Office</td>\n",
       "    </tr>\n",
       "    <tr>\n",
       "      <th>1</th>\n",
       "      <td>2025-09-14</td>\n",
       "      <td>1</td>\n",
       "      <td>https://www.jumia.co.ke/oking-ok310-1.7-wirele...</td>\n",
       "      <td>https://ke.jumia.is/unsafe/fit-in/300x300/filt...</td>\n",
       "      <td>KSh 719</td>\n",
       "      <td>Oking OK310 1.7\" Wireless FM, Bright Torch, 10...</td>\n",
       "      <td>NaN</td>\n",
       "      <td>KSh 1,200</td>\n",
       "      <td>40%</td>\n",
       "      <td>(557 verified ratings)</td>\n",
       "      <td>3.9</td>\n",
       "      <td>ITEL MOBILE SHOP-SUNMUM TECH LTD - AC</td>\n",
       "      <td>Phones &amp; Tablets</td>\n",
       "    </tr>\n",
       "    <tr>\n",
       "      <th>2</th>\n",
       "      <td>2025-09-14</td>\n",
       "      <td>1</td>\n",
       "      <td>https://www.jumia.co.ke/samsung-galaxy-a05-6.7...</td>\n",
       "      <td>https://ke.jumia.is/unsafe/fit-in/300x300/filt...</td>\n",
       "      <td>KSh 8,900</td>\n",
       "      <td>Samsung Galaxy A05, 6.7\", 64GB + 4GB RAM (Dual...</td>\n",
       "      <td>NaN</td>\n",
       "      <td>KSh 13,187</td>\n",
       "      <td>33%</td>\n",
       "      <td>(523 verified ratings)</td>\n",
       "      <td>4.1</td>\n",
       "      <td>LOFFEL ELECTRONICS LIMITED - AC</td>\n",
       "      <td>Phones &amp; Tablets</td>\n",
       "    </tr>\n",
       "    <tr>\n",
       "      <th>3</th>\n",
       "      <td>2025-09-14</td>\n",
       "      <td>1</td>\n",
       "      <td>https://www.jumia.co.ke/ailyons-afk-111-water-...</td>\n",
       "      <td>https://ke.jumia.is/unsafe/fit-in/300x300/filt...</td>\n",
       "      <td>KSh 2,599</td>\n",
       "      <td>AILYONS AFK-111 Water Dispenser Hot And Normal...</td>\n",
       "      <td>NaN</td>\n",
       "      <td>KSh 4,999</td>\n",
       "      <td>48%</td>\n",
       "      <td>(2092 verified ratings)</td>\n",
       "      <td>3.9</td>\n",
       "      <td>UR-HOME(KENYA)</td>\n",
       "      <td>Home &amp; Office</td>\n",
       "    </tr>\n",
       "    <tr>\n",
       "      <th>4</th>\n",
       "      <td>2025-09-14</td>\n",
       "      <td>1</td>\n",
       "      <td>https://www.jumia.co.ke/fashion-couple-canvas-...</td>\n",
       "      <td>https://ke.jumia.is/unsafe/fit-in/300x300/filt...</td>\n",
       "      <td>KSh 699 - KSh 729</td>\n",
       "      <td>Couple Canvas Low Top Lace-up Shoes Classic Ca...</td>\n",
       "      <td>NaN</td>\n",
       "      <td>KSh 1,200 - KSh 1,500</td>\n",
       "      <td>53%</td>\n",
       "      <td>(734 verified ratings)</td>\n",
       "      <td>4.2</td>\n",
       "      <td>Waanzilish</td>\n",
       "      <td>Fashion</td>\n",
       "    </tr>\n",
       "  </tbody>\n",
       "</table>\n",
       "</div>"
      ],
      "text/plain": [
       "  date_scraped  page_number  \\\n",
       "0   2025-09-14            1   \n",
       "1   2025-09-14            1   \n",
       "2   2025-09-14            1   \n",
       "3   2025-09-14            1   \n",
       "4   2025-09-14            1   \n",
       "\n",
       "                                         product_url  \\\n",
       "0  https://www.jumia.co.ke/ailyons-fk-0301-stainl...   \n",
       "1  https://www.jumia.co.ke/oking-ok310-1.7-wirele...   \n",
       "2  https://www.jumia.co.ke/samsung-galaxy-a05-6.7...   \n",
       "3  https://www.jumia.co.ke/ailyons-afk-111-water-...   \n",
       "4  https://www.jumia.co.ke/fashion-couple-canvas-...   \n",
       "\n",
       "                                               image      current_price  \\\n",
       "0  https://ke.jumia.is/unsafe/fit-in/300x300/filt...            KSh 499   \n",
       "1  https://ke.jumia.is/unsafe/fit-in/300x300/filt...            KSh 719   \n",
       "2  https://ke.jumia.is/unsafe/fit-in/300x300/filt...          KSh 8,900   \n",
       "3  https://ke.jumia.is/unsafe/fit-in/300x300/filt...          KSh 2,599   \n",
       "4  https://ke.jumia.is/unsafe/fit-in/300x300/filt...  KSh 699 - KSh 729   \n",
       "\n",
       "                                               title  brand  \\\n",
       "0  AILYONS FK-0301 Stainless Steel 2.0L Electric ...    NaN   \n",
       "1  Oking OK310 1.7\" Wireless FM, Bright Torch, 10...    NaN   \n",
       "2  Samsung Galaxy A05, 6.7\", 64GB + 4GB RAM (Dual...    NaN   \n",
       "3  AILYONS AFK-111 Water Dispenser Hot And Normal...    NaN   \n",
       "4  Couple Canvas Low Top Lace-up Shoes Classic Ca...    NaN   \n",
       "\n",
       "          original_price discount         verified_ratings  rating_number  \\\n",
       "0              KSh 1,399      64%  (3867 verified ratings)            4.0   \n",
       "1              KSh 1,200      40%   (557 verified ratings)            3.9   \n",
       "2             KSh 13,187      33%   (523 verified ratings)            4.1   \n",
       "3              KSh 4,999      48%  (2092 verified ratings)            3.9   \n",
       "4  KSh 1,200 - KSh 1,500      53%   (734 verified ratings)            4.2   \n",
       "\n",
       "                                  seller     main_category  \n",
       "0                         UR-HOME(KENYA)     Home & Office  \n",
       "1  ITEL MOBILE SHOP-SUNMUM TECH LTD - AC  Phones & Tablets  \n",
       "2        LOFFEL ELECTRONICS LIMITED - AC  Phones & Tablets  \n",
       "3                         UR-HOME(KENYA)     Home & Office  \n",
       "4                             Waanzilish           Fashion  "
      ]
     },
     "execution_count": 2,
     "metadata": {},
     "output_type": "execute_result"
    }
   ],
   "source": [
    "#Read the data and save it in a dataframe called df\n",
    "df = pd.read_csv(\"./Data/New_Price_Change_Monitoring_System.csv\")\n",
    "\n",
    "#read the first 5 rows\n",
    "df.head()"
   ]
  },
  {
   "cell_type": "code",
   "execution_count": 3,
   "id": "a671d8d5-e9bb-4c2d-bef1-95a1f1a04785",
   "metadata": {},
   "outputs": [
    {
     "data": {
      "application/vnd.microsoft.datawrangler.viewer.v0+json": {
       "columns": [
        {
         "name": "index",
         "rawType": "int64",
         "type": "integer"
        },
        {
         "name": "date_scraped",
         "rawType": "object",
         "type": "string"
        },
        {
         "name": "page_number",
         "rawType": "int64",
         "type": "integer"
        },
        {
         "name": "product_url",
         "rawType": "object",
         "type": "string"
        },
        {
         "name": "image",
         "rawType": "object",
         "type": "string"
        },
        {
         "name": "current_price",
         "rawType": "object",
         "type": "string"
        },
        {
         "name": "title",
         "rawType": "object",
         "type": "string"
        },
        {
         "name": "brand",
         "rawType": "float64",
         "type": "float"
        },
        {
         "name": "original_price",
         "rawType": "object",
         "type": "string"
        },
        {
         "name": "discount",
         "rawType": "object",
         "type": "string"
        },
        {
         "name": "verified_ratings",
         "rawType": "object",
         "type": "string"
        },
        {
         "name": "rating_number",
         "rawType": "float64",
         "type": "float"
        },
        {
         "name": "seller",
         "rawType": "object",
         "type": "string"
        },
        {
         "name": "main_category",
         "rawType": "object",
         "type": "string"
        }
       ],
       "ref": "f7f481ee-251f-4970-a3b9-af5ba70dc317",
       "rows": [
        [
         "0",
         "2025-09-14",
         "1",
         "https://www.jumia.co.ke/ailyons-fk-0301-stainless-steel-2.0l-electric-kettle-black-34080919.html",
         "https://ke.jumia.is/unsafe/fit-in/300x300/filters:fill(white)/product/91/908043/1.jpg?2822",
         "KSh 499",
         "AILYONS FK-0301 Stainless Steel 2.0L Electric Kettle-Black",
         null,
         "KSh 1,399",
         "64%",
         "(3867 verified ratings)",
         "4.0",
         "UR-HOME(KENYA)",
         "Home & Office"
        ],
        [
         "1",
         "2025-09-14",
         "1",
         "https://www.jumia.co.ke/oking-ok310-1.7-wireless-fm-bright-torch-1000mah-tri-sim-2g-black-1yr-wrty-306394856.html",
         "https://ke.jumia.is/unsafe/fit-in/300x300/filters:fill(white)/product/65/8493603/1.jpg?0396",
         "KSh 719",
         "Oking OK310 1.7\" Wireless FM, Bright Torch, 1000mAh, Tri SIM, 2G - Black  (1YR WRTY)",
         null,
         "KSh 1,200",
         "40%",
         "(557 verified ratings)",
         "3.9",
         "ITEL MOBILE SHOP-SUNMUM TECH LTD - AC",
         "Phones & Tablets"
        ],
        [
         "2",
         "2025-09-14",
         "1",
         "https://www.jumia.co.ke/samsung-galaxy-a05-6.7-64gb-4gb-ram-dual-sim-5000mah-black-2yrs-wrty-250194934.html",
         "https://ke.jumia.is/unsafe/fit-in/300x300/filters:fill(white)/product/43/9491052/1.jpg?5057",
         "KSh 8,900",
         "Samsung Galaxy A05, 6.7\", 64GB + 4GB RAM (Dual SIM), 5000mAh, Black, (2YRs WRTY)",
         null,
         "KSh 13,187",
         "33%",
         "(523 verified ratings)",
         "4.1",
         "LOFFEL ELECTRONICS LIMITED - AC",
         "Phones & Tablets"
        ],
        [
         "3",
         "2025-09-14",
         "1",
         "https://www.jumia.co.ke/ailyons-afk-111-water-dispenser-hot-and-normal-with-storage-cabinet-1yr-wrty-118096692.html",
         "https://ke.jumia.is/unsafe/fit-in/300x300/filters:fill(white)/product/29/6690811/1.jpg?6558",
         "KSh 2,599",
         "AILYONS AFK-111 Water Dispenser Hot And Normal With Storage Cabinet (1YR WRTY)",
         null,
         "KSh 4,999",
         "48%",
         "(2092 verified ratings)",
         "3.9",
         "UR-HOME(KENYA)",
         "Home & Office"
        ],
        [
         "4",
         "2025-09-14",
         "1",
         "https://www.jumia.co.ke/fashion-couple-canvas-low-top-lace-up-shoes-classic-casual-sneakers-black-154042530.html",
         "https://ke.jumia.is/unsafe/fit-in/300x300/filters:fill(white)/product/03/5240451/1.jpg?3725",
         "KSh 699 - KSh 729",
         "Couple Canvas Low Top Lace-up Shoes Classic Casual Sneakers Black",
         null,
         "KSh 1,200 - KSh 1,500",
         "53%",
         "(734 verified ratings)",
         "4.2",
         "Waanzilish",
         "Fashion"
        ]
       ],
       "shape": {
        "columns": 13,
        "rows": 5
       }
      },
      "text/html": [
       "<div>\n",
       "<style scoped>\n",
       "    .dataframe tbody tr th:only-of-type {\n",
       "        vertical-align: middle;\n",
       "    }\n",
       "\n",
       "    .dataframe tbody tr th {\n",
       "        vertical-align: top;\n",
       "    }\n",
       "\n",
       "    .dataframe thead th {\n",
       "        text-align: right;\n",
       "    }\n",
       "</style>\n",
       "<table border=\"1\" class=\"dataframe\">\n",
       "  <thead>\n",
       "    <tr style=\"text-align: right;\">\n",
       "      <th></th>\n",
       "      <th>date_scraped</th>\n",
       "      <th>page_number</th>\n",
       "      <th>product_url</th>\n",
       "      <th>image</th>\n",
       "      <th>current_price</th>\n",
       "      <th>title</th>\n",
       "      <th>brand</th>\n",
       "      <th>original_price</th>\n",
       "      <th>discount</th>\n",
       "      <th>verified_ratings</th>\n",
       "      <th>rating_number</th>\n",
       "      <th>seller</th>\n",
       "      <th>main_category</th>\n",
       "    </tr>\n",
       "  </thead>\n",
       "  <tbody>\n",
       "    <tr>\n",
       "      <th>0</th>\n",
       "      <td>2025-09-14</td>\n",
       "      <td>1</td>\n",
       "      <td>https://www.jumia.co.ke/ailyons-fk-0301-stainl...</td>\n",
       "      <td>https://ke.jumia.is/unsafe/fit-in/300x300/filt...</td>\n",
       "      <td>KSh 499</td>\n",
       "      <td>AILYONS FK-0301 Stainless Steel 2.0L Electric ...</td>\n",
       "      <td>NaN</td>\n",
       "      <td>KSh 1,399</td>\n",
       "      <td>64%</td>\n",
       "      <td>(3867 verified ratings)</td>\n",
       "      <td>4.0</td>\n",
       "      <td>UR-HOME(KENYA)</td>\n",
       "      <td>Home &amp; Office</td>\n",
       "    </tr>\n",
       "    <tr>\n",
       "      <th>1</th>\n",
       "      <td>2025-09-14</td>\n",
       "      <td>1</td>\n",
       "      <td>https://www.jumia.co.ke/oking-ok310-1.7-wirele...</td>\n",
       "      <td>https://ke.jumia.is/unsafe/fit-in/300x300/filt...</td>\n",
       "      <td>KSh 719</td>\n",
       "      <td>Oking OK310 1.7\" Wireless FM, Bright Torch, 10...</td>\n",
       "      <td>NaN</td>\n",
       "      <td>KSh 1,200</td>\n",
       "      <td>40%</td>\n",
       "      <td>(557 verified ratings)</td>\n",
       "      <td>3.9</td>\n",
       "      <td>ITEL MOBILE SHOP-SUNMUM TECH LTD - AC</td>\n",
       "      <td>Phones &amp; Tablets</td>\n",
       "    </tr>\n",
       "    <tr>\n",
       "      <th>2</th>\n",
       "      <td>2025-09-14</td>\n",
       "      <td>1</td>\n",
       "      <td>https://www.jumia.co.ke/samsung-galaxy-a05-6.7...</td>\n",
       "      <td>https://ke.jumia.is/unsafe/fit-in/300x300/filt...</td>\n",
       "      <td>KSh 8,900</td>\n",
       "      <td>Samsung Galaxy A05, 6.7\", 64GB + 4GB RAM (Dual...</td>\n",
       "      <td>NaN</td>\n",
       "      <td>KSh 13,187</td>\n",
       "      <td>33%</td>\n",
       "      <td>(523 verified ratings)</td>\n",
       "      <td>4.1</td>\n",
       "      <td>LOFFEL ELECTRONICS LIMITED - AC</td>\n",
       "      <td>Phones &amp; Tablets</td>\n",
       "    </tr>\n",
       "    <tr>\n",
       "      <th>3</th>\n",
       "      <td>2025-09-14</td>\n",
       "      <td>1</td>\n",
       "      <td>https://www.jumia.co.ke/ailyons-afk-111-water-...</td>\n",
       "      <td>https://ke.jumia.is/unsafe/fit-in/300x300/filt...</td>\n",
       "      <td>KSh 2,599</td>\n",
       "      <td>AILYONS AFK-111 Water Dispenser Hot And Normal...</td>\n",
       "      <td>NaN</td>\n",
       "      <td>KSh 4,999</td>\n",
       "      <td>48%</td>\n",
       "      <td>(2092 verified ratings)</td>\n",
       "      <td>3.9</td>\n",
       "      <td>UR-HOME(KENYA)</td>\n",
       "      <td>Home &amp; Office</td>\n",
       "    </tr>\n",
       "    <tr>\n",
       "      <th>4</th>\n",
       "      <td>2025-09-14</td>\n",
       "      <td>1</td>\n",
       "      <td>https://www.jumia.co.ke/fashion-couple-canvas-...</td>\n",
       "      <td>https://ke.jumia.is/unsafe/fit-in/300x300/filt...</td>\n",
       "      <td>KSh 699 - KSh 729</td>\n",
       "      <td>Couple Canvas Low Top Lace-up Shoes Classic Ca...</td>\n",
       "      <td>NaN</td>\n",
       "      <td>KSh 1,200 - KSh 1,500</td>\n",
       "      <td>53%</td>\n",
       "      <td>(734 verified ratings)</td>\n",
       "      <td>4.2</td>\n",
       "      <td>Waanzilish</td>\n",
       "      <td>Fashion</td>\n",
       "    </tr>\n",
       "  </tbody>\n",
       "</table>\n",
       "</div>"
      ],
      "text/plain": [
       "  date_scraped  page_number  \\\n",
       "0   2025-09-14            1   \n",
       "1   2025-09-14            1   \n",
       "2   2025-09-14            1   \n",
       "3   2025-09-14            1   \n",
       "4   2025-09-14            1   \n",
       "\n",
       "                                         product_url  \\\n",
       "0  https://www.jumia.co.ke/ailyons-fk-0301-stainl...   \n",
       "1  https://www.jumia.co.ke/oking-ok310-1.7-wirele...   \n",
       "2  https://www.jumia.co.ke/samsung-galaxy-a05-6.7...   \n",
       "3  https://www.jumia.co.ke/ailyons-afk-111-water-...   \n",
       "4  https://www.jumia.co.ke/fashion-couple-canvas-...   \n",
       "\n",
       "                                               image      current_price  \\\n",
       "0  https://ke.jumia.is/unsafe/fit-in/300x300/filt...            KSh 499   \n",
       "1  https://ke.jumia.is/unsafe/fit-in/300x300/filt...            KSh 719   \n",
       "2  https://ke.jumia.is/unsafe/fit-in/300x300/filt...          KSh 8,900   \n",
       "3  https://ke.jumia.is/unsafe/fit-in/300x300/filt...          KSh 2,599   \n",
       "4  https://ke.jumia.is/unsafe/fit-in/300x300/filt...  KSh 699 - KSh 729   \n",
       "\n",
       "                                               title  brand  \\\n",
       "0  AILYONS FK-0301 Stainless Steel 2.0L Electric ...    NaN   \n",
       "1  Oking OK310 1.7\" Wireless FM, Bright Torch, 10...    NaN   \n",
       "2  Samsung Galaxy A05, 6.7\", 64GB + 4GB RAM (Dual...    NaN   \n",
       "3  AILYONS AFK-111 Water Dispenser Hot And Normal...    NaN   \n",
       "4  Couple Canvas Low Top Lace-up Shoes Classic Ca...    NaN   \n",
       "\n",
       "          original_price discount         verified_ratings  rating_number  \\\n",
       "0              KSh 1,399      64%  (3867 verified ratings)            4.0   \n",
       "1              KSh 1,200      40%   (557 verified ratings)            3.9   \n",
       "2             KSh 13,187      33%   (523 verified ratings)            4.1   \n",
       "3              KSh 4,999      48%  (2092 verified ratings)            3.9   \n",
       "4  KSh 1,200 - KSh 1,500      53%   (734 verified ratings)            4.2   \n",
       "\n",
       "                                  seller     main_category  \n",
       "0                         UR-HOME(KENYA)     Home & Office  \n",
       "1  ITEL MOBILE SHOP-SUNMUM TECH LTD - AC  Phones & Tablets  \n",
       "2        LOFFEL ELECTRONICS LIMITED - AC  Phones & Tablets  \n",
       "3                         UR-HOME(KENYA)     Home & Office  \n",
       "4                             Waanzilish           Fashion  "
      ]
     },
     "execution_count": 3,
     "metadata": {},
     "output_type": "execute_result"
    }
   ],
   "source": [
    "#Make a copy and save it as data. we will work on data, and leave df as the original untouched dataframe.\n",
    "data=df.copy()\n",
    "data.head()"
   ]
  },
  {
   "cell_type": "code",
   "execution_count": 4,
   "id": "fbb8f899-329a-4d27-938d-a77508e59999",
   "metadata": {},
   "outputs": [
    {
     "data": {
      "text/plain": [
       "(1999, 13)"
      ]
     },
     "execution_count": 4,
     "metadata": {},
     "output_type": "execute_result"
    }
   ],
   "source": [
    "#check the number of rows and columns\n",
    "data.shape"
   ]
  },
  {
   "cell_type": "code",
   "execution_count": 5,
   "id": "974c0113-2a5b-4e59-abc5-977754eb44ea",
   "metadata": {},
   "outputs": [
    {
     "name": "stdout",
     "output_type": "stream",
     "text": [
      "<class 'pandas.core.frame.DataFrame'>\n",
      "RangeIndex: 1999 entries, 0 to 1998\n",
      "Data columns (total 13 columns):\n",
      " #   Column            Non-Null Count  Dtype  \n",
      "---  ------            --------------  -----  \n",
      " 0   date_scraped      1999 non-null   object \n",
      " 1   page_number       1999 non-null   int64  \n",
      " 2   product_url       1999 non-null   object \n",
      " 3   image             1999 non-null   object \n",
      " 4   current_price     1999 non-null   object \n",
      " 5   title             1999 non-null   object \n",
      " 6   brand             0 non-null      float64\n",
      " 7   original_price    1798 non-null   object \n",
      " 8   discount          1798 non-null   object \n",
      " 9   verified_ratings  1549 non-null   object \n",
      " 10  rating_number     1999 non-null   float64\n",
      " 11  seller            1999 non-null   object \n",
      " 12  main_category     1999 non-null   object \n",
      "dtypes: float64(2), int64(1), object(10)\n",
      "memory usage: 203.2+ KB\n"
     ]
    }
   ],
   "source": [
    "#Check for missing values, datatypes.\n",
    "data.info()"
   ]
  },
  {
   "cell_type": "code",
   "execution_count": 6,
   "id": "dcab3813-4f07-42e4-853d-7080dfc17faa",
   "metadata": {},
   "outputs": [
    {
     "data": {
      "text/plain": [
       "(1999, 12)"
      ]
     },
     "execution_count": 6,
     "metadata": {},
     "output_type": "execute_result"
    }
   ],
   "source": [
    "#Drop brand since the column is empty\n",
    "data = data.drop(columns=['brand'], errors='ignore')\n",
    "data.shape"
   ]
  },
  {
   "cell_type": "markdown",
   "id": "d1132620-4df3-4852-9a55-097576c82938",
   "metadata": {},
   "source": [
    "### Data Cleaning"
   ]
  },
  {
   "cell_type": "code",
   "execution_count": 7,
   "id": "96b24f46-9233-4616-9544-5e94742eb42a",
   "metadata": {},
   "outputs": [
    {
     "data": {
      "application/vnd.microsoft.datawrangler.viewer.v0+json": {
       "columns": [
        {
         "name": "index",
         "rawType": "int64",
         "type": "integer"
        },
        {
         "name": "date_scraped",
         "rawType": "object",
         "type": "string"
        },
        {
         "name": "page_number",
         "rawType": "int64",
         "type": "integer"
        },
        {
         "name": "product_url",
         "rawType": "object",
         "type": "string"
        },
        {
         "name": "image",
         "rawType": "object",
         "type": "string"
        },
        {
         "name": "current_price",
         "rawType": "float64",
         "type": "float"
        },
        {
         "name": "title",
         "rawType": "object",
         "type": "string"
        },
        {
         "name": "original_price",
         "rawType": "float64",
         "type": "float"
        },
        {
         "name": "discount",
         "rawType": "object",
         "type": "string"
        },
        {
         "name": "verified_ratings",
         "rawType": "object",
         "type": "string"
        },
        {
         "name": "rating_number",
         "rawType": "float64",
         "type": "float"
        },
        {
         "name": "seller",
         "rawType": "object",
         "type": "string"
        },
        {
         "name": "main_category",
         "rawType": "object",
         "type": "string"
        }
       ],
       "ref": "3216b8f6-a2b7-4bc1-afc2-9c36fe857f4b",
       "rows": [
        [
         "0",
         "2025-09-14",
         "1",
         "https://www.jumia.co.ke/ailyons-fk-0301-stainless-steel-2.0l-electric-kettle-black-34080919.html",
         "https://ke.jumia.is/unsafe/fit-in/300x300/filters:fill(white)/product/91/908043/1.jpg?2822",
         "499.0",
         "AILYONS FK-0301 Stainless Steel 2.0L Electric Kettle-Black",
         "1399.0",
         "64%",
         "(3867 verified ratings)",
         "4.0",
         "UR-HOME(KENYA)",
         "Home & Office"
        ],
        [
         "1",
         "2025-09-14",
         "1",
         "https://www.jumia.co.ke/oking-ok310-1.7-wireless-fm-bright-torch-1000mah-tri-sim-2g-black-1yr-wrty-306394856.html",
         "https://ke.jumia.is/unsafe/fit-in/300x300/filters:fill(white)/product/65/8493603/1.jpg?0396",
         "719.0",
         "Oking OK310 1.7\" Wireless FM, Bright Torch, 1000mAh, Tri SIM, 2G - Black  (1YR WRTY)",
         "1200.0",
         "40%",
         "(557 verified ratings)",
         "3.9",
         "ITEL MOBILE SHOP-SUNMUM TECH LTD - AC",
         "Phones & Tablets"
        ],
        [
         "2",
         "2025-09-14",
         "1",
         "https://www.jumia.co.ke/samsung-galaxy-a05-6.7-64gb-4gb-ram-dual-sim-5000mah-black-2yrs-wrty-250194934.html",
         "https://ke.jumia.is/unsafe/fit-in/300x300/filters:fill(white)/product/43/9491052/1.jpg?5057",
         "8900.0",
         "Samsung Galaxy A05, 6.7\", 64GB + 4GB RAM (Dual SIM), 5000mAh, Black, (2YRs WRTY)",
         "13187.0",
         "33%",
         "(523 verified ratings)",
         "4.1",
         "LOFFEL ELECTRONICS LIMITED - AC",
         "Phones & Tablets"
        ],
        [
         "3",
         "2025-09-14",
         "1",
         "https://www.jumia.co.ke/ailyons-afk-111-water-dispenser-hot-and-normal-with-storage-cabinet-1yr-wrty-118096692.html",
         "https://ke.jumia.is/unsafe/fit-in/300x300/filters:fill(white)/product/29/6690811/1.jpg?6558",
         "2599.0",
         "AILYONS AFK-111 Water Dispenser Hot And Normal With Storage Cabinet (1YR WRTY)",
         "4999.0",
         "48%",
         "(2092 verified ratings)",
         "3.9",
         "UR-HOME(KENYA)",
         "Home & Office"
        ],
        [
         "4",
         "2025-09-14",
         "1",
         "https://www.jumia.co.ke/fashion-couple-canvas-low-top-lace-up-shoes-classic-casual-sneakers-black-154042530.html",
         "https://ke.jumia.is/unsafe/fit-in/300x300/filters:fill(white)/product/03/5240451/1.jpg?3725",
         "714.0",
         "Couple Canvas Low Top Lace-up Shoes Classic Casual Sneakers Black",
         "1350.0",
         "53%",
         "(734 verified ratings)",
         "4.2",
         "Waanzilish",
         "Fashion"
        ]
       ],
       "shape": {
        "columns": 12,
        "rows": 5
       }
      },
      "text/html": [
       "<div>\n",
       "<style scoped>\n",
       "    .dataframe tbody tr th:only-of-type {\n",
       "        vertical-align: middle;\n",
       "    }\n",
       "\n",
       "    .dataframe tbody tr th {\n",
       "        vertical-align: top;\n",
       "    }\n",
       "\n",
       "    .dataframe thead th {\n",
       "        text-align: right;\n",
       "    }\n",
       "</style>\n",
       "<table border=\"1\" class=\"dataframe\">\n",
       "  <thead>\n",
       "    <tr style=\"text-align: right;\">\n",
       "      <th></th>\n",
       "      <th>date_scraped</th>\n",
       "      <th>page_number</th>\n",
       "      <th>product_url</th>\n",
       "      <th>image</th>\n",
       "      <th>current_price</th>\n",
       "      <th>title</th>\n",
       "      <th>original_price</th>\n",
       "      <th>discount</th>\n",
       "      <th>verified_ratings</th>\n",
       "      <th>rating_number</th>\n",
       "      <th>seller</th>\n",
       "      <th>main_category</th>\n",
       "    </tr>\n",
       "  </thead>\n",
       "  <tbody>\n",
       "    <tr>\n",
       "      <th>0</th>\n",
       "      <td>2025-09-14</td>\n",
       "      <td>1</td>\n",
       "      <td>https://www.jumia.co.ke/ailyons-fk-0301-stainl...</td>\n",
       "      <td>https://ke.jumia.is/unsafe/fit-in/300x300/filt...</td>\n",
       "      <td>499.0</td>\n",
       "      <td>AILYONS FK-0301 Stainless Steel 2.0L Electric ...</td>\n",
       "      <td>1399.0</td>\n",
       "      <td>64%</td>\n",
       "      <td>(3867 verified ratings)</td>\n",
       "      <td>4.0</td>\n",
       "      <td>UR-HOME(KENYA)</td>\n",
       "      <td>Home &amp; Office</td>\n",
       "    </tr>\n",
       "    <tr>\n",
       "      <th>1</th>\n",
       "      <td>2025-09-14</td>\n",
       "      <td>1</td>\n",
       "      <td>https://www.jumia.co.ke/oking-ok310-1.7-wirele...</td>\n",
       "      <td>https://ke.jumia.is/unsafe/fit-in/300x300/filt...</td>\n",
       "      <td>719.0</td>\n",
       "      <td>Oking OK310 1.7\" Wireless FM, Bright Torch, 10...</td>\n",
       "      <td>1200.0</td>\n",
       "      <td>40%</td>\n",
       "      <td>(557 verified ratings)</td>\n",
       "      <td>3.9</td>\n",
       "      <td>ITEL MOBILE SHOP-SUNMUM TECH LTD - AC</td>\n",
       "      <td>Phones &amp; Tablets</td>\n",
       "    </tr>\n",
       "    <tr>\n",
       "      <th>2</th>\n",
       "      <td>2025-09-14</td>\n",
       "      <td>1</td>\n",
       "      <td>https://www.jumia.co.ke/samsung-galaxy-a05-6.7...</td>\n",
       "      <td>https://ke.jumia.is/unsafe/fit-in/300x300/filt...</td>\n",
       "      <td>8900.0</td>\n",
       "      <td>Samsung Galaxy A05, 6.7\", 64GB + 4GB RAM (Dual...</td>\n",
       "      <td>13187.0</td>\n",
       "      <td>33%</td>\n",
       "      <td>(523 verified ratings)</td>\n",
       "      <td>4.1</td>\n",
       "      <td>LOFFEL ELECTRONICS LIMITED - AC</td>\n",
       "      <td>Phones &amp; Tablets</td>\n",
       "    </tr>\n",
       "    <tr>\n",
       "      <th>3</th>\n",
       "      <td>2025-09-14</td>\n",
       "      <td>1</td>\n",
       "      <td>https://www.jumia.co.ke/ailyons-afk-111-water-...</td>\n",
       "      <td>https://ke.jumia.is/unsafe/fit-in/300x300/filt...</td>\n",
       "      <td>2599.0</td>\n",
       "      <td>AILYONS AFK-111 Water Dispenser Hot And Normal...</td>\n",
       "      <td>4999.0</td>\n",
       "      <td>48%</td>\n",
       "      <td>(2092 verified ratings)</td>\n",
       "      <td>3.9</td>\n",
       "      <td>UR-HOME(KENYA)</td>\n",
       "      <td>Home &amp; Office</td>\n",
       "    </tr>\n",
       "    <tr>\n",
       "      <th>4</th>\n",
       "      <td>2025-09-14</td>\n",
       "      <td>1</td>\n",
       "      <td>https://www.jumia.co.ke/fashion-couple-canvas-...</td>\n",
       "      <td>https://ke.jumia.is/unsafe/fit-in/300x300/filt...</td>\n",
       "      <td>714.0</td>\n",
       "      <td>Couple Canvas Low Top Lace-up Shoes Classic Ca...</td>\n",
       "      <td>1350.0</td>\n",
       "      <td>53%</td>\n",
       "      <td>(734 verified ratings)</td>\n",
       "      <td>4.2</td>\n",
       "      <td>Waanzilish</td>\n",
       "      <td>Fashion</td>\n",
       "    </tr>\n",
       "  </tbody>\n",
       "</table>\n",
       "</div>"
      ],
      "text/plain": [
       "  date_scraped  page_number  \\\n",
       "0   2025-09-14            1   \n",
       "1   2025-09-14            1   \n",
       "2   2025-09-14            1   \n",
       "3   2025-09-14            1   \n",
       "4   2025-09-14            1   \n",
       "\n",
       "                                         product_url  \\\n",
       "0  https://www.jumia.co.ke/ailyons-fk-0301-stainl...   \n",
       "1  https://www.jumia.co.ke/oking-ok310-1.7-wirele...   \n",
       "2  https://www.jumia.co.ke/samsung-galaxy-a05-6.7...   \n",
       "3  https://www.jumia.co.ke/ailyons-afk-111-water-...   \n",
       "4  https://www.jumia.co.ke/fashion-couple-canvas-...   \n",
       "\n",
       "                                               image  current_price  \\\n",
       "0  https://ke.jumia.is/unsafe/fit-in/300x300/filt...          499.0   \n",
       "1  https://ke.jumia.is/unsafe/fit-in/300x300/filt...          719.0   \n",
       "2  https://ke.jumia.is/unsafe/fit-in/300x300/filt...         8900.0   \n",
       "3  https://ke.jumia.is/unsafe/fit-in/300x300/filt...         2599.0   \n",
       "4  https://ke.jumia.is/unsafe/fit-in/300x300/filt...          714.0   \n",
       "\n",
       "                                               title  original_price discount  \\\n",
       "0  AILYONS FK-0301 Stainless Steel 2.0L Electric ...          1399.0      64%   \n",
       "1  Oking OK310 1.7\" Wireless FM, Bright Torch, 10...          1200.0      40%   \n",
       "2  Samsung Galaxy A05, 6.7\", 64GB + 4GB RAM (Dual...         13187.0      33%   \n",
       "3  AILYONS AFK-111 Water Dispenser Hot And Normal...          4999.0      48%   \n",
       "4  Couple Canvas Low Top Lace-up Shoes Classic Ca...          1350.0      53%   \n",
       "\n",
       "          verified_ratings  rating_number  \\\n",
       "0  (3867 verified ratings)            4.0   \n",
       "1   (557 verified ratings)            3.9   \n",
       "2   (523 verified ratings)            4.1   \n",
       "3  (2092 verified ratings)            3.9   \n",
       "4   (734 verified ratings)            4.2   \n",
       "\n",
       "                                  seller     main_category  \n",
       "0                         UR-HOME(KENYA)     Home & Office  \n",
       "1  ITEL MOBILE SHOP-SUNMUM TECH LTD - AC  Phones & Tablets  \n",
       "2        LOFFEL ELECTRONICS LIMITED - AC  Phones & Tablets  \n",
       "3                         UR-HOME(KENYA)     Home & Office  \n",
       "4                             Waanzilish           Fashion  "
      ]
     },
     "execution_count": 7,
     "metadata": {},
     "output_type": "execute_result"
    }
   ],
   "source": [
    "# 2. Clean current_price & original_price. make them numeric\n",
    "def clean_price(x):\n",
    "    if pd.isna(x):\n",
    "        return np.nan\n",
    "    x = str(x).replace(\"KSh\", \"\").replace(\",\", \"\").strip()\n",
    "    if \"-\" in x:  # handle ranges like \"699 - 729\" It will take the average of the two\n",
    "        parts = x.split(\"-\")\n",
    "        nums = [float(p.strip()) for p in parts if p.strip().replace('.', '', 1).isdigit()]\n",
    "        return np.mean(nums) if nums else np.nan\n",
    "    return float(x) if x.replace('.', '', 1).isdigit() else np.nan\n",
    "\n",
    "data['current_price'] = data['current_price'].apply(clean_price)\n",
    "data['original_price'] = data['original_price'].apply(clean_price)\n",
    "data.head()"
   ]
  },
  {
   "cell_type": "code",
   "execution_count": 8,
   "id": "78614ccf-7eea-4f11-9d5e-8f6b25e3d542",
   "metadata": {},
   "outputs": [
    {
     "data": {
      "application/vnd.microsoft.datawrangler.viewer.v0+json": {
       "columns": [
        {
         "name": "index",
         "rawType": "int64",
         "type": "integer"
        },
        {
         "name": "date_scraped",
         "rawType": "object",
         "type": "string"
        },
        {
         "name": "page_number",
         "rawType": "int64",
         "type": "integer"
        },
        {
         "name": "product_url",
         "rawType": "object",
         "type": "string"
        },
        {
         "name": "image",
         "rawType": "object",
         "type": "string"
        },
        {
         "name": "current_price",
         "rawType": "float64",
         "type": "float"
        },
        {
         "name": "title",
         "rawType": "object",
         "type": "string"
        },
        {
         "name": "original_price",
         "rawType": "float64",
         "type": "float"
        },
        {
         "name": "discount",
         "rawType": "object",
         "type": "string"
        },
        {
         "name": "verified_ratings",
         "rawType": "object",
         "type": "string"
        },
        {
         "name": "rating_number",
         "rawType": "float64",
         "type": "float"
        },
        {
         "name": "seller",
         "rawType": "object",
         "type": "string"
        },
        {
         "name": "main_category",
         "rawType": "object",
         "type": "string"
        }
       ],
       "ref": "e1d53d8d-6ec3-4a76-a087-bade7e3e2f54",
       "rows": [
        [
         "0",
         "2025-09-14",
         "1",
         "https://www.jumia.co.ke/ailyons-fk-0301-stainless-steel-2.0l-electric-kettle-black-34080919.html",
         "https://ke.jumia.is/unsafe/fit-in/300x300/filters:fill(white)/product/91/908043/1.jpg?2822",
         "499.0",
         "AILYONS FK-0301 Stainless Steel 2.0L Electric Kettle-Black",
         "1399.0",
         "64",
         "(3867 verified ratings)",
         "4.0",
         "UR-HOME(KENYA)",
         "Home & Office"
        ],
        [
         "1",
         "2025-09-14",
         "1",
         "https://www.jumia.co.ke/oking-ok310-1.7-wireless-fm-bright-torch-1000mah-tri-sim-2g-black-1yr-wrty-306394856.html",
         "https://ke.jumia.is/unsafe/fit-in/300x300/filters:fill(white)/product/65/8493603/1.jpg?0396",
         "719.0",
         "Oking OK310 1.7\" Wireless FM, Bright Torch, 1000mAh, Tri SIM, 2G - Black  (1YR WRTY)",
         "1200.0",
         "40",
         "(557 verified ratings)",
         "3.9",
         "ITEL MOBILE SHOP-SUNMUM TECH LTD - AC",
         "Phones & Tablets"
        ]
       ],
       "shape": {
        "columns": 12,
        "rows": 2
       }
      },
      "text/html": [
       "<div>\n",
       "<style scoped>\n",
       "    .dataframe tbody tr th:only-of-type {\n",
       "        vertical-align: middle;\n",
       "    }\n",
       "\n",
       "    .dataframe tbody tr th {\n",
       "        vertical-align: top;\n",
       "    }\n",
       "\n",
       "    .dataframe thead th {\n",
       "        text-align: right;\n",
       "    }\n",
       "</style>\n",
       "<table border=\"1\" class=\"dataframe\">\n",
       "  <thead>\n",
       "    <tr style=\"text-align: right;\">\n",
       "      <th></th>\n",
       "      <th>date_scraped</th>\n",
       "      <th>page_number</th>\n",
       "      <th>product_url</th>\n",
       "      <th>image</th>\n",
       "      <th>current_price</th>\n",
       "      <th>title</th>\n",
       "      <th>original_price</th>\n",
       "      <th>discount</th>\n",
       "      <th>verified_ratings</th>\n",
       "      <th>rating_number</th>\n",
       "      <th>seller</th>\n",
       "      <th>main_category</th>\n",
       "    </tr>\n",
       "  </thead>\n",
       "  <tbody>\n",
       "    <tr>\n",
       "      <th>0</th>\n",
       "      <td>2025-09-14</td>\n",
       "      <td>1</td>\n",
       "      <td>https://www.jumia.co.ke/ailyons-fk-0301-stainl...</td>\n",
       "      <td>https://ke.jumia.is/unsafe/fit-in/300x300/filt...</td>\n",
       "      <td>499.0</td>\n",
       "      <td>AILYONS FK-0301 Stainless Steel 2.0L Electric ...</td>\n",
       "      <td>1399.0</td>\n",
       "      <td>64</td>\n",
       "      <td>(3867 verified ratings)</td>\n",
       "      <td>4.0</td>\n",
       "      <td>UR-HOME(KENYA)</td>\n",
       "      <td>Home &amp; Office</td>\n",
       "    </tr>\n",
       "    <tr>\n",
       "      <th>1</th>\n",
       "      <td>2025-09-14</td>\n",
       "      <td>1</td>\n",
       "      <td>https://www.jumia.co.ke/oking-ok310-1.7-wirele...</td>\n",
       "      <td>https://ke.jumia.is/unsafe/fit-in/300x300/filt...</td>\n",
       "      <td>719.0</td>\n",
       "      <td>Oking OK310 1.7\" Wireless FM, Bright Torch, 10...</td>\n",
       "      <td>1200.0</td>\n",
       "      <td>40</td>\n",
       "      <td>(557 verified ratings)</td>\n",
       "      <td>3.9</td>\n",
       "      <td>ITEL MOBILE SHOP-SUNMUM TECH LTD - AC</td>\n",
       "      <td>Phones &amp; Tablets</td>\n",
       "    </tr>\n",
       "  </tbody>\n",
       "</table>\n",
       "</div>"
      ],
      "text/plain": [
       "  date_scraped  page_number  \\\n",
       "0   2025-09-14            1   \n",
       "1   2025-09-14            1   \n",
       "\n",
       "                                         product_url  \\\n",
       "0  https://www.jumia.co.ke/ailyons-fk-0301-stainl...   \n",
       "1  https://www.jumia.co.ke/oking-ok310-1.7-wirele...   \n",
       "\n",
       "                                               image  current_price  \\\n",
       "0  https://ke.jumia.is/unsafe/fit-in/300x300/filt...          499.0   \n",
       "1  https://ke.jumia.is/unsafe/fit-in/300x300/filt...          719.0   \n",
       "\n",
       "                                               title  original_price discount  \\\n",
       "0  AILYONS FK-0301 Stainless Steel 2.0L Electric ...          1399.0       64   \n",
       "1  Oking OK310 1.7\" Wireless FM, Bright Torch, 10...          1200.0       40   \n",
       "\n",
       "          verified_ratings  rating_number  \\\n",
       "0  (3867 verified ratings)            4.0   \n",
       "1   (557 verified ratings)            3.9   \n",
       "\n",
       "                                  seller     main_category  \n",
       "0                         UR-HOME(KENYA)     Home & Office  \n",
       "1  ITEL MOBILE SHOP-SUNMUM TECH LTD - AC  Phones & Tablets  "
      ]
     },
     "execution_count": 8,
     "metadata": {},
     "output_type": "execute_result"
    }
   ],
   "source": [
    "#Clean discount, remove %\n",
    "data['discount'] = data['discount'].str.replace('%', '', regex=False)\n",
    "data.head(2)"
   ]
  },
  {
   "cell_type": "code",
   "execution_count": 9,
   "id": "f77f28a1-6555-44fa-abba-680e04c5f76b",
   "metadata": {},
   "outputs": [
    {
     "data": {
      "application/vnd.microsoft.datawrangler.viewer.v0+json": {
       "columns": [
        {
         "name": "index",
         "rawType": "int64",
         "type": "integer"
        },
        {
         "name": "date_scraped",
         "rawType": "object",
         "type": "string"
        },
        {
         "name": "page_number",
         "rawType": "int64",
         "type": "integer"
        },
        {
         "name": "product_url",
         "rawType": "object",
         "type": "string"
        },
        {
         "name": "image",
         "rawType": "object",
         "type": "string"
        },
        {
         "name": "current_price",
         "rawType": "float64",
         "type": "float"
        },
        {
         "name": "title",
         "rawType": "object",
         "type": "string"
        },
        {
         "name": "original_price",
         "rawType": "float64",
         "type": "float"
        },
        {
         "name": "discount",
         "rawType": "object",
         "type": "string"
        },
        {
         "name": "verified_ratings",
         "rawType": "float64",
         "type": "float"
        },
        {
         "name": "rating_number",
         "rawType": "float64",
         "type": "float"
        },
        {
         "name": "seller",
         "rawType": "object",
         "type": "string"
        },
        {
         "name": "main_category",
         "rawType": "object",
         "type": "string"
        }
       ],
       "ref": "614c35d7-b21d-4e80-95c1-5df9fb1e8653",
       "rows": [
        [
         "0",
         "2025-09-14",
         "1",
         "https://www.jumia.co.ke/ailyons-fk-0301-stainless-steel-2.0l-electric-kettle-black-34080919.html",
         "https://ke.jumia.is/unsafe/fit-in/300x300/filters:fill(white)/product/91/908043/1.jpg?2822",
         "499.0",
         "AILYONS FK-0301 Stainless Steel 2.0L Electric Kettle-Black",
         "1399.0",
         "64",
         "3867.0",
         "4.0",
         "UR-HOME(KENYA)",
         "Home & Office"
        ],
        [
         "1",
         "2025-09-14",
         "1",
         "https://www.jumia.co.ke/oking-ok310-1.7-wireless-fm-bright-torch-1000mah-tri-sim-2g-black-1yr-wrty-306394856.html",
         "https://ke.jumia.is/unsafe/fit-in/300x300/filters:fill(white)/product/65/8493603/1.jpg?0396",
         "719.0",
         "Oking OK310 1.7\" Wireless FM, Bright Torch, 1000mAh, Tri SIM, 2G - Black  (1YR WRTY)",
         "1200.0",
         "40",
         "557.0",
         "3.9",
         "ITEL MOBILE SHOP-SUNMUM TECH LTD - AC",
         "Phones & Tablets"
        ]
       ],
       "shape": {
        "columns": 12,
        "rows": 2
       }
      },
      "text/html": [
       "<div>\n",
       "<style scoped>\n",
       "    .dataframe tbody tr th:only-of-type {\n",
       "        vertical-align: middle;\n",
       "    }\n",
       "\n",
       "    .dataframe tbody tr th {\n",
       "        vertical-align: top;\n",
       "    }\n",
       "\n",
       "    .dataframe thead th {\n",
       "        text-align: right;\n",
       "    }\n",
       "</style>\n",
       "<table border=\"1\" class=\"dataframe\">\n",
       "  <thead>\n",
       "    <tr style=\"text-align: right;\">\n",
       "      <th></th>\n",
       "      <th>date_scraped</th>\n",
       "      <th>page_number</th>\n",
       "      <th>product_url</th>\n",
       "      <th>image</th>\n",
       "      <th>current_price</th>\n",
       "      <th>title</th>\n",
       "      <th>original_price</th>\n",
       "      <th>discount</th>\n",
       "      <th>verified_ratings</th>\n",
       "      <th>rating_number</th>\n",
       "      <th>seller</th>\n",
       "      <th>main_category</th>\n",
       "    </tr>\n",
       "  </thead>\n",
       "  <tbody>\n",
       "    <tr>\n",
       "      <th>0</th>\n",
       "      <td>2025-09-14</td>\n",
       "      <td>1</td>\n",
       "      <td>https://www.jumia.co.ke/ailyons-fk-0301-stainl...</td>\n",
       "      <td>https://ke.jumia.is/unsafe/fit-in/300x300/filt...</td>\n",
       "      <td>499.0</td>\n",
       "      <td>AILYONS FK-0301 Stainless Steel 2.0L Electric ...</td>\n",
       "      <td>1399.0</td>\n",
       "      <td>64</td>\n",
       "      <td>3867.0</td>\n",
       "      <td>4.0</td>\n",
       "      <td>UR-HOME(KENYA)</td>\n",
       "      <td>Home &amp; Office</td>\n",
       "    </tr>\n",
       "    <tr>\n",
       "      <th>1</th>\n",
       "      <td>2025-09-14</td>\n",
       "      <td>1</td>\n",
       "      <td>https://www.jumia.co.ke/oking-ok310-1.7-wirele...</td>\n",
       "      <td>https://ke.jumia.is/unsafe/fit-in/300x300/filt...</td>\n",
       "      <td>719.0</td>\n",
       "      <td>Oking OK310 1.7\" Wireless FM, Bright Torch, 10...</td>\n",
       "      <td>1200.0</td>\n",
       "      <td>40</td>\n",
       "      <td>557.0</td>\n",
       "      <td>3.9</td>\n",
       "      <td>ITEL MOBILE SHOP-SUNMUM TECH LTD - AC</td>\n",
       "      <td>Phones &amp; Tablets</td>\n",
       "    </tr>\n",
       "  </tbody>\n",
       "</table>\n",
       "</div>"
      ],
      "text/plain": [
       "  date_scraped  page_number  \\\n",
       "0   2025-09-14            1   \n",
       "1   2025-09-14            1   \n",
       "\n",
       "                                         product_url  \\\n",
       "0  https://www.jumia.co.ke/ailyons-fk-0301-stainl...   \n",
       "1  https://www.jumia.co.ke/oking-ok310-1.7-wirele...   \n",
       "\n",
       "                                               image  current_price  \\\n",
       "0  https://ke.jumia.is/unsafe/fit-in/300x300/filt...          499.0   \n",
       "1  https://ke.jumia.is/unsafe/fit-in/300x300/filt...          719.0   \n",
       "\n",
       "                                               title  original_price discount  \\\n",
       "0  AILYONS FK-0301 Stainless Steel 2.0L Electric ...          1399.0       64   \n",
       "1  Oking OK310 1.7\" Wireless FM, Bright Torch, 10...          1200.0       40   \n",
       "\n",
       "   verified_ratings  rating_number                                 seller  \\\n",
       "0            3867.0            4.0                         UR-HOME(KENYA)   \n",
       "1             557.0            3.9  ITEL MOBILE SHOP-SUNMUM TECH LTD - AC   \n",
       "\n",
       "      main_category  \n",
       "0     Home & Office  \n",
       "1  Phones & Tablets  "
      ]
     },
     "execution_count": 9,
     "metadata": {},
     "output_type": "execute_result"
    }
   ],
   "source": [
    "#Clean verified_ratings. Extract numeric value from the sring.\n",
    "data['verified_ratings'] = (\n",
    "    data['verified_ratings']\n",
    "    .str.extract(r'(\\d+)')\n",
    "    .astype(float)\n",
    ")\n",
    "data.head(2)"
   ]
  },
  {
   "cell_type": "markdown",
   "id": "e4017443-ed46-4b62-8e84-e1c7600ae86a",
   "metadata": {},
   "source": [
    "### Handling Missing Values"
   ]
  },
  {
   "cell_type": "code",
   "execution_count": 10,
   "id": "82212c60-5bf1-4f0d-b492-3d6f14a3d2ac",
   "metadata": {},
   "outputs": [
    {
     "data": {
      "application/vnd.microsoft.datawrangler.viewer.v0+json": {
       "columns": [
        {
         "name": "index",
         "rawType": "object",
         "type": "string"
        },
        {
         "name": "0",
         "rawType": "int64",
         "type": "integer"
        }
       ],
       "ref": "6c5367ff-f332-4d18-bf22-76768796c305",
       "rows": [
        [
         "date_scraped",
         "0"
        ],
        [
         "page_number",
         "0"
        ],
        [
         "product_url",
         "0"
        ],
        [
         "image",
         "0"
        ],
        [
         "current_price",
         "0"
        ],
        [
         "title",
         "0"
        ],
        [
         "original_price",
         "201"
        ],
        [
         "discount",
         "201"
        ],
        [
         "verified_ratings",
         "488"
        ],
        [
         "rating_number",
         "0"
        ],
        [
         "seller",
         "0"
        ],
        [
         "main_category",
         "0"
        ]
       ],
       "shape": {
        "columns": 1,
        "rows": 12
       }
      },
      "text/plain": [
       "date_scraped          0\n",
       "page_number           0\n",
       "product_url           0\n",
       "image                 0\n",
       "current_price         0\n",
       "title                 0\n",
       "original_price      201\n",
       "discount            201\n",
       "verified_ratings    488\n",
       "rating_number         0\n",
       "seller                0\n",
       "main_category         0\n",
       "dtype: int64"
      ]
     },
     "execution_count": 10,
     "metadata": {},
     "output_type": "execute_result"
    }
   ],
   "source": [
    "#Recheck missing values\n",
    "data.isna().sum()"
   ]
  },
  {
   "cell_type": "code",
   "execution_count": 11,
   "id": "f494c8d0-85b7-4d1f-aa19-71864e3a4179",
   "metadata": {},
   "outputs": [
    {
     "data": {
      "application/vnd.microsoft.datawrangler.viewer.v0+json": {
       "columns": [
        {
         "name": "index",
         "rawType": "object",
         "type": "string"
        },
        {
         "name": "0",
         "rawType": "int64",
         "type": "integer"
        }
       ],
       "ref": "b5a0af6f-6fad-4011-a367-1dcf7fe1e112",
       "rows": [
        [
         "date_scraped",
         "0"
        ],
        [
         "page_number",
         "0"
        ],
        [
         "product_url",
         "0"
        ],
        [
         "image",
         "0"
        ],
        [
         "current_price",
         "0"
        ],
        [
         "title",
         "0"
        ],
        [
         "original_price",
         "0"
        ],
        [
         "discount",
         "201"
        ],
        [
         "verified_ratings",
         "488"
        ],
        [
         "rating_number",
         "0"
        ],
        [
         "seller",
         "0"
        ],
        [
         "main_category",
         "0"
        ]
       ],
       "shape": {
        "columns": 1,
        "rows": 12
       }
      },
      "text/plain": [
       "date_scraped          0\n",
       "page_number           0\n",
       "product_url           0\n",
       "image                 0\n",
       "current_price         0\n",
       "title                 0\n",
       "original_price        0\n",
       "discount            201\n",
       "verified_ratings    488\n",
       "rating_number         0\n",
       "seller                0\n",
       "main_category         0\n",
       "dtype: int64"
      ]
     },
     "execution_count": 11,
     "metadata": {},
     "output_type": "execute_result"
    }
   ],
   "source": [
    "# For original_price, the missing value is set equal to current_price (assume no discount)\n",
    "data['original_price'] = data['original_price'].fillna(data['current_price'])\n",
    "data.isna().sum()"
   ]
  },
  {
   "cell_type": "code",
   "execution_count": 12,
   "id": "177a53f1-f0b6-4f0a-a336-6d44b14d9803",
   "metadata": {},
   "outputs": [
    {
     "data": {
      "application/vnd.microsoft.datawrangler.viewer.v0+json": {
       "columns": [
        {
         "name": "index",
         "rawType": "object",
         "type": "string"
        },
        {
         "name": "0",
         "rawType": "int64",
         "type": "integer"
        }
       ],
       "ref": "f8956b81-33dc-436b-bafe-cfecd94769c3",
       "rows": [
        [
         "date_scraped",
         "0"
        ],
        [
         "page_number",
         "0"
        ],
        [
         "product_url",
         "0"
        ],
        [
         "image",
         "0"
        ],
        [
         "current_price",
         "0"
        ],
        [
         "title",
         "0"
        ],
        [
         "original_price",
         "0"
        ],
        [
         "discount",
         "0"
        ],
        [
         "verified_ratings",
         "488"
        ],
        [
         "rating_number",
         "0"
        ],
        [
         "seller",
         "0"
        ],
        [
         "main_category",
         "0"
        ]
       ],
       "shape": {
        "columns": 1,
        "rows": 12
       }
      },
      "text/plain": [
       "date_scraped          0\n",
       "page_number           0\n",
       "product_url           0\n",
       "image                 0\n",
       "current_price         0\n",
       "title                 0\n",
       "original_price        0\n",
       "discount              0\n",
       "verified_ratings    488\n",
       "rating_number         0\n",
       "seller                0\n",
       "main_category         0\n",
       "dtype: int64"
      ]
     },
     "execution_count": 12,
     "metadata": {},
     "output_type": "execute_result"
    }
   ],
   "source": [
    "# Discount, we filled missing values with 0\n",
    "data['discount'] = data['discount'].fillna(0)\n",
    "data.isna().sum()"
   ]
  },
  {
   "cell_type": "code",
   "execution_count": 13,
   "id": "50bd9dfd-9041-40e4-9134-973354680623",
   "metadata": {},
   "outputs": [
    {
     "data": {
      "application/vnd.microsoft.datawrangler.viewer.v0+json": {
       "columns": [
        {
         "name": "index",
         "rawType": "object",
         "type": "string"
        },
        {
         "name": "0",
         "rawType": "int64",
         "type": "integer"
        }
       ],
       "ref": "2d5b792c-cbd9-4669-94bf-7978b9022876",
       "rows": [
        [
         "date_scraped",
         "0"
        ],
        [
         "page_number",
         "0"
        ],
        [
         "product_url",
         "0"
        ],
        [
         "image",
         "0"
        ],
        [
         "current_price",
         "0"
        ],
        [
         "title",
         "0"
        ],
        [
         "original_price",
         "0"
        ],
        [
         "discount",
         "0"
        ],
        [
         "verified_ratings",
         "0"
        ],
        [
         "rating_number",
         "0"
        ],
        [
         "seller",
         "0"
        ],
        [
         "main_category",
         "0"
        ]
       ],
       "shape": {
        "columns": 1,
        "rows": 12
       }
      },
      "text/plain": [
       "date_scraped        0\n",
       "page_number         0\n",
       "product_url         0\n",
       "image               0\n",
       "current_price       0\n",
       "title               0\n",
       "original_price      0\n",
       "discount            0\n",
       "verified_ratings    0\n",
       "rating_number       0\n",
       "seller              0\n",
       "main_category       0\n",
       "dtype: int64"
      ]
     },
     "execution_count": 13,
     "metadata": {},
     "output_type": "execute_result"
    }
   ],
   "source": [
    "# verified_ratings, missing = 0\n",
    "data['verified_ratings'] = data['verified_ratings'].fillna(0)\n",
    "data.isna().sum()"
   ]
  },
  {
   "cell_type": "markdown",
   "id": "9d8443be-ad7a-43f2-91ec-20e7b0b87b8f",
   "metadata": {},
   "source": [
    "### Handling Duplicates in column product_url"
   ]
  },
  {
   "cell_type": "code",
   "execution_count": 14,
   "id": "f03852e6-7838-4fb4-bd23-528a2d141f81",
   "metadata": {},
   "outputs": [
    {
     "name": "stdout",
     "output_type": "stream",
     "text": [
      "94\n"
     ]
    }
   ],
   "source": [
    "# Count duplicates based on product_url\n",
    "if 'product_url' in data.columns:\n",
    "    print(data.duplicated(subset=['product_url']).sum()) # marks the first occurrence as False and only marks subsequent repeats as True"
   ]
  },
  {
   "cell_type": "code",
   "execution_count": 15,
   "id": "66cb05d6-7b2e-45d8-a1d5-948ddeec3800",
   "metadata": {},
   "outputs": [
    {
     "name": "stdout",
     "output_type": "stream",
     "text": [
      "321     https://www.jumia.co.ke/3-in-1-rechargeable-ho...\n",
      "319     https://www.jumia.co.ke/3-in-1-rechargeable-ho...\n",
      "195     https://www.jumia.co.ke/ailyons-2.0-l-electric...\n",
      "751     https://www.jumia.co.ke/ailyons-2.0-l-electric...\n",
      "352     https://www.jumia.co.ke/airpods-pro3-bluetooth...\n",
      "                              ...                        \n",
      "980     https://www.jumia.co.ke/xiaomi-redmi-15c-6.9up...\n",
      "887     https://www.jumia.co.ke/xiaomi-redmi-15c-6.9up...\n",
      "399     https://www.jumia.co.ke/xiaomi-redmi-15c-6.9up...\n",
      "1954    https://www.jumia.co.ke/xiaomi-redmi-a3x-6.71-...\n",
      "594     https://www.jumia.co.ke/xiaomi-redmi-a3x-6.71-...\n",
      "Name: product_url, Length: 187, dtype: object\n"
     ]
    }
   ],
   "source": [
    "# Select only duplicated product_urls\n",
    "dupes = data[data['product_url'].duplicated(keep=False)]\n",
    "\n",
    "# Sort so that the same URLs appear next to each other\n",
    "dupes = dupes.sort_values(by='product_url')\n",
    "\n",
    "# Show just the product_url column\n",
    "print(dupes['product_url'])"
   ]
  },
  {
   "cell_type": "code",
   "execution_count": 16,
   "id": "6de47de5-6330-4ab9-b5a2-47dcaa2f70d9",
   "metadata": {},
   "outputs": [
    {
     "name": "stdout",
     "output_type": "stream",
     "text": [
      "187\n"
     ]
    }
   ],
   "source": [
    "print(len(dupes)) # marks all duplicates as True, including the first occurrence. If a product_url appears 3 times, all 3 rows are counted."
   ]
  },
  {
   "cell_type": "code",
   "execution_count": 17,
   "id": "fc247689-1253-4651-bd09-473a56d4f20c",
   "metadata": {},
   "outputs": [
    {
     "name": "stdout",
     "output_type": "stream",
     "text": [
      "                                          product_url  url_count\n",
      "0   https://www.jumia.co.ke/derma-roller-for-beard...          3\n",
      "1   https://www.jumia.co.ke/sunlight-solar-200-wat...          2\n",
      "2   https://www.jumia.co.ke/fashion-3-in-1-school-...          2\n",
      "3   https://www.jumia.co.ke/kijani-organics-castor...          2\n",
      "4   https://www.jumia.co.ke/ailyons-2.0-l-electric...          2\n",
      "5   https://www.jumia.co.ke/aroamas-scar-scar-remo...          2\n",
      "6   https://www.jumia.co.ke/nice-one-yg-105-2-colu...          2\n",
      "7   https://www.jumia.co.ke/generic-36-pieces-simu...          2\n",
      "8   https://www.jumia.co.ke/top-fry-top-fry-vegeta...          2\n",
      "9   https://www.jumia.co.ke/xiaomi-redmi-15c-6.9up...          2\n",
      "10  https://www.jumia.co.ke/globalstar-32uk-32-inc...          2\n",
      "11  https://www.jumia.co.ke/generic-hdtv-hdmi-to-h...          2\n",
      "12  https://www.jumia.co.ke/oraimo-spacebox-8w-fm-...          2\n",
      "13  https://www.jumia.co.ke/the-ordinary-concentra...          2\n",
      "14  https://www.jumia.co.ke/tilecc-tilecc-air-pro-...          2\n",
      "15  https://www.jumia.co.ke/tv-guard-or-fridge-gua...          2\n",
      "16  https://www.jumia.co.ke/fashion-womens-multila...          2\n",
      "17  https://www.jumia.co.ke/dynamic-black-permanen...          2\n",
      "18  https://www.jumia.co.ke/fashion-student-backpa...          2\n",
      "19  https://www.jumia.co.ke/tecno-spark-40-6.67-hd...          2\n"
     ]
    }
   ],
   "source": [
    "if 'product_url' in data.columns:\n",
    "    # Count product_url occurrences\n",
    "    url_counts = data['product_url'].value_counts()\n",
    "\n",
    "    # Keep only duplicates\n",
    "    dupes = url_counts[url_counts > 1]\n",
    "\n",
    "    # Convert to DataFrame for the same look as before\n",
    "    dupes_df = dupes.reset_index()\n",
    "    dupes_df.columns = ['product_url', 'url_count']\n",
    "\n",
    "    # Show top 10 duplicate products\n",
    "    print(dupes_df.head(20))"
   ]
  },
  {
   "cell_type": "code",
   "execution_count": 18,
   "id": "e9158e82-48c5-4121-aeaa-930aa30e0288",
   "metadata": {},
   "outputs": [
    {
     "data": {
      "text/plain": [
       "(1905, 12)"
      ]
     },
     "execution_count": 18,
     "metadata": {},
     "output_type": "execute_result"
    }
   ],
   "source": [
    "# Drop duplicate product URLs (keep the first occurrence)\n",
    "if 'product_url' in data.columns:\n",
    "    data = data.drop_duplicates(subset=['product_url'], keep='first')\n",
    "data.shape"
   ]
  },
  {
   "cell_type": "code",
   "execution_count": 19,
   "id": "56a8772d-471c-4012-b382-97064f58f5fd",
   "metadata": {},
   "outputs": [
    {
     "data": {
      "application/vnd.microsoft.datawrangler.viewer.v0+json": {
       "columns": [
        {
         "name": "index",
         "rawType": "int64",
         "type": "integer"
        },
        {
         "name": "date_scraped",
         "rawType": "object",
         "type": "string"
        },
        {
         "name": "page_number",
         "rawType": "int64",
         "type": "integer"
        },
        {
         "name": "product_url",
         "rawType": "object",
         "type": "string"
        },
        {
         "name": "image",
         "rawType": "object",
         "type": "string"
        },
        {
         "name": "current_price",
         "rawType": "float64",
         "type": "float"
        },
        {
         "name": "title",
         "rawType": "object",
         "type": "string"
        },
        {
         "name": "original_price",
         "rawType": "float64",
         "type": "float"
        },
        {
         "name": "discount",
         "rawType": "object",
         "type": "string"
        },
        {
         "name": "verified_ratings",
         "rawType": "float64",
         "type": "float"
        },
        {
         "name": "rating_number",
         "rawType": "float64",
         "type": "float"
        },
        {
         "name": "seller",
         "rawType": "object",
         "type": "string"
        },
        {
         "name": "main_category",
         "rawType": "object",
         "type": "string"
        }
       ],
       "ref": "74fa66de-cfb5-4152-9c0e-b1463cbca18c",
       "rows": [
        [
         "0",
         "2025-09-14",
         "1",
         "https://www.jumia.co.ke/ailyons-fk-0301-stainless-steel-2.0l-electric-kettle-black-34080919.html",
         "https://ke.jumia.is/unsafe/fit-in/300x300/filters:fill(white)/product/91/908043/1.jpg?2822",
         "499.0",
         "AILYONS FK-0301 Stainless Steel 2.0L Electric Kettle-Black",
         "1399.0",
         "64",
         "3867.0",
         "4.0",
         "UR-HOME(KENYA)",
         "Home & Office"
        ],
        [
         "1",
         "2025-09-14",
         "1",
         "https://www.jumia.co.ke/oking-ok310-1.7-wireless-fm-bright-torch-1000mah-tri-sim-2g-black-1yr-wrty-306394856.html",
         "https://ke.jumia.is/unsafe/fit-in/300x300/filters:fill(white)/product/65/8493603/1.jpg?0396",
         "719.0",
         "Oking OK310 1.7\" Wireless FM, Bright Torch, 1000mAh, Tri SIM, 2G - Black  (1YR WRTY)",
         "1200.0",
         "40",
         "557.0",
         "3.9",
         "ITEL MOBILE SHOP-SUNMUM TECH LTD - AC",
         "Phones & Tablets"
        ],
        [
         "2",
         "2025-09-14",
         "1",
         "https://www.jumia.co.ke/samsung-galaxy-a05-6.7-64gb-4gb-ram-dual-sim-5000mah-black-2yrs-wrty-250194934.html",
         "https://ke.jumia.is/unsafe/fit-in/300x300/filters:fill(white)/product/43/9491052/1.jpg?5057",
         "8900.0",
         "Samsung Galaxy A05, 6.7\", 64GB + 4GB RAM (Dual SIM), 5000mAh, Black, (2YRs WRTY)",
         "13187.0",
         "33",
         "523.0",
         "4.1",
         "LOFFEL ELECTRONICS LIMITED - AC",
         "Phones & Tablets"
        ],
        [
         "3",
         "2025-09-14",
         "1",
         "https://www.jumia.co.ke/ailyons-afk-111-water-dispenser-hot-and-normal-with-storage-cabinet-1yr-wrty-118096692.html",
         "https://ke.jumia.is/unsafe/fit-in/300x300/filters:fill(white)/product/29/6690811/1.jpg?6558",
         "2599.0",
         "AILYONS AFK-111 Water Dispenser Hot And Normal With Storage Cabinet (1YR WRTY)",
         "4999.0",
         "48",
         "2092.0",
         "3.9",
         "UR-HOME(KENYA)",
         "Home & Office"
        ],
        [
         "4",
         "2025-09-14",
         "1",
         "https://www.jumia.co.ke/fashion-couple-canvas-low-top-lace-up-shoes-classic-casual-sneakers-black-154042530.html",
         "https://ke.jumia.is/unsafe/fit-in/300x300/filters:fill(white)/product/03/5240451/1.jpg?3725",
         "714.0",
         "Couple Canvas Low Top Lace-up Shoes Classic Casual Sneakers Black",
         "1350.0",
         "53",
         "734.0",
         "4.2",
         "Waanzilish",
         "Fashion"
        ]
       ],
       "shape": {
        "columns": 12,
        "rows": 5
       }
      },
      "text/html": [
       "<div>\n",
       "<style scoped>\n",
       "    .dataframe tbody tr th:only-of-type {\n",
       "        vertical-align: middle;\n",
       "    }\n",
       "\n",
       "    .dataframe tbody tr th {\n",
       "        vertical-align: top;\n",
       "    }\n",
       "\n",
       "    .dataframe thead th {\n",
       "        text-align: right;\n",
       "    }\n",
       "</style>\n",
       "<table border=\"1\" class=\"dataframe\">\n",
       "  <thead>\n",
       "    <tr style=\"text-align: right;\">\n",
       "      <th></th>\n",
       "      <th>date_scraped</th>\n",
       "      <th>page_number</th>\n",
       "      <th>product_url</th>\n",
       "      <th>image</th>\n",
       "      <th>current_price</th>\n",
       "      <th>title</th>\n",
       "      <th>original_price</th>\n",
       "      <th>discount</th>\n",
       "      <th>verified_ratings</th>\n",
       "      <th>rating_number</th>\n",
       "      <th>seller</th>\n",
       "      <th>main_category</th>\n",
       "    </tr>\n",
       "  </thead>\n",
       "  <tbody>\n",
       "    <tr>\n",
       "      <th>0</th>\n",
       "      <td>2025-09-14</td>\n",
       "      <td>1</td>\n",
       "      <td>https://www.jumia.co.ke/ailyons-fk-0301-stainl...</td>\n",
       "      <td>https://ke.jumia.is/unsafe/fit-in/300x300/filt...</td>\n",
       "      <td>499.0</td>\n",
       "      <td>AILYONS FK-0301 Stainless Steel 2.0L Electric ...</td>\n",
       "      <td>1399.0</td>\n",
       "      <td>64</td>\n",
       "      <td>3867.0</td>\n",
       "      <td>4.0</td>\n",
       "      <td>UR-HOME(KENYA)</td>\n",
       "      <td>Home &amp; Office</td>\n",
       "    </tr>\n",
       "    <tr>\n",
       "      <th>1</th>\n",
       "      <td>2025-09-14</td>\n",
       "      <td>1</td>\n",
       "      <td>https://www.jumia.co.ke/oking-ok310-1.7-wirele...</td>\n",
       "      <td>https://ke.jumia.is/unsafe/fit-in/300x300/filt...</td>\n",
       "      <td>719.0</td>\n",
       "      <td>Oking OK310 1.7\" Wireless FM, Bright Torch, 10...</td>\n",
       "      <td>1200.0</td>\n",
       "      <td>40</td>\n",
       "      <td>557.0</td>\n",
       "      <td>3.9</td>\n",
       "      <td>ITEL MOBILE SHOP-SUNMUM TECH LTD - AC</td>\n",
       "      <td>Phones &amp; Tablets</td>\n",
       "    </tr>\n",
       "    <tr>\n",
       "      <th>2</th>\n",
       "      <td>2025-09-14</td>\n",
       "      <td>1</td>\n",
       "      <td>https://www.jumia.co.ke/samsung-galaxy-a05-6.7...</td>\n",
       "      <td>https://ke.jumia.is/unsafe/fit-in/300x300/filt...</td>\n",
       "      <td>8900.0</td>\n",
       "      <td>Samsung Galaxy A05, 6.7\", 64GB + 4GB RAM (Dual...</td>\n",
       "      <td>13187.0</td>\n",
       "      <td>33</td>\n",
       "      <td>523.0</td>\n",
       "      <td>4.1</td>\n",
       "      <td>LOFFEL ELECTRONICS LIMITED - AC</td>\n",
       "      <td>Phones &amp; Tablets</td>\n",
       "    </tr>\n",
       "    <tr>\n",
       "      <th>3</th>\n",
       "      <td>2025-09-14</td>\n",
       "      <td>1</td>\n",
       "      <td>https://www.jumia.co.ke/ailyons-afk-111-water-...</td>\n",
       "      <td>https://ke.jumia.is/unsafe/fit-in/300x300/filt...</td>\n",
       "      <td>2599.0</td>\n",
       "      <td>AILYONS AFK-111 Water Dispenser Hot And Normal...</td>\n",
       "      <td>4999.0</td>\n",
       "      <td>48</td>\n",
       "      <td>2092.0</td>\n",
       "      <td>3.9</td>\n",
       "      <td>UR-HOME(KENYA)</td>\n",
       "      <td>Home &amp; Office</td>\n",
       "    </tr>\n",
       "    <tr>\n",
       "      <th>4</th>\n",
       "      <td>2025-09-14</td>\n",
       "      <td>1</td>\n",
       "      <td>https://www.jumia.co.ke/fashion-couple-canvas-...</td>\n",
       "      <td>https://ke.jumia.is/unsafe/fit-in/300x300/filt...</td>\n",
       "      <td>714.0</td>\n",
       "      <td>Couple Canvas Low Top Lace-up Shoes Classic Ca...</td>\n",
       "      <td>1350.0</td>\n",
       "      <td>53</td>\n",
       "      <td>734.0</td>\n",
       "      <td>4.2</td>\n",
       "      <td>Waanzilish</td>\n",
       "      <td>Fashion</td>\n",
       "    </tr>\n",
       "  </tbody>\n",
       "</table>\n",
       "</div>"
      ],
      "text/plain": [
       "  date_scraped  page_number  \\\n",
       "0   2025-09-14            1   \n",
       "1   2025-09-14            1   \n",
       "2   2025-09-14            1   \n",
       "3   2025-09-14            1   \n",
       "4   2025-09-14            1   \n",
       "\n",
       "                                         product_url  \\\n",
       "0  https://www.jumia.co.ke/ailyons-fk-0301-stainl...   \n",
       "1  https://www.jumia.co.ke/oking-ok310-1.7-wirele...   \n",
       "2  https://www.jumia.co.ke/samsung-galaxy-a05-6.7...   \n",
       "3  https://www.jumia.co.ke/ailyons-afk-111-water-...   \n",
       "4  https://www.jumia.co.ke/fashion-couple-canvas-...   \n",
       "\n",
       "                                               image  current_price  \\\n",
       "0  https://ke.jumia.is/unsafe/fit-in/300x300/filt...          499.0   \n",
       "1  https://ke.jumia.is/unsafe/fit-in/300x300/filt...          719.0   \n",
       "2  https://ke.jumia.is/unsafe/fit-in/300x300/filt...         8900.0   \n",
       "3  https://ke.jumia.is/unsafe/fit-in/300x300/filt...         2599.0   \n",
       "4  https://ke.jumia.is/unsafe/fit-in/300x300/filt...          714.0   \n",
       "\n",
       "                                               title  original_price discount  \\\n",
       "0  AILYONS FK-0301 Stainless Steel 2.0L Electric ...          1399.0       64   \n",
       "1  Oking OK310 1.7\" Wireless FM, Bright Torch, 10...          1200.0       40   \n",
       "2  Samsung Galaxy A05, 6.7\", 64GB + 4GB RAM (Dual...         13187.0       33   \n",
       "3  AILYONS AFK-111 Water Dispenser Hot And Normal...          4999.0       48   \n",
       "4  Couple Canvas Low Top Lace-up Shoes Classic Ca...          1350.0       53   \n",
       "\n",
       "   verified_ratings  rating_number                                 seller  \\\n",
       "0            3867.0            4.0                         UR-HOME(KENYA)   \n",
       "1             557.0            3.9  ITEL MOBILE SHOP-SUNMUM TECH LTD - AC   \n",
       "2             523.0            4.1        LOFFEL ELECTRONICS LIMITED - AC   \n",
       "3            2092.0            3.9                         UR-HOME(KENYA)   \n",
       "4             734.0            4.2                             Waanzilish   \n",
       "\n",
       "      main_category  \n",
       "0     Home & Office  \n",
       "1  Phones & Tablets  \n",
       "2  Phones & Tablets  \n",
       "3     Home & Office  \n",
       "4           Fashion  "
      ]
     },
     "execution_count": 19,
     "metadata": {},
     "output_type": "execute_result"
    }
   ],
   "source": [
    "data.head()"
   ]
  },
  {
   "cell_type": "markdown",
   "id": "3e7874a6-be07-4090-a6ba-46355054a48c",
   "metadata": {},
   "source": [
    "### Outliers Based on main_category"
   ]
  },
  {
   "cell_type": "code",
   "execution_count": 20,
   "id": "b2f11785-9627-4360-915d-d98486802ca5",
   "metadata": {},
   "outputs": [
    {
     "name": "stdout",
     "output_type": "stream",
     "text": [
      "\n",
      "Checking outliers for column: current_price\n",
      "\n",
      "Category: Automobile, Outliers: 4\n"
     ]
    },
    {
     "data": {
      "application/vnd.microsoft.datawrangler.viewer.v0+json": {
       "columns": [
        {
         "name": "index",
         "rawType": "int64",
         "type": "integer"
        },
        {
         "name": "current_price",
         "rawType": "float64",
         "type": "float"
        },
        {
         "name": "main_category",
         "rawType": "object",
         "type": "string"
        }
       ],
       "ref": "04e5dccc-ea29-408d-a11a-b2b23e8d7ac5",
       "rows": [
        [
         "631",
         "36999.0",
         "Automobile"
        ],
        [
         "862",
         "24000.0",
         "Automobile"
        ],
        [
         "1091",
         "12500.0",
         "Automobile"
        ],
        [
         "1445",
         "23999.0",
         "Automobile"
        ]
       ],
       "shape": {
        "columns": 2,
        "rows": 4
       }
      },
      "text/html": [
       "<div>\n",
       "<style scoped>\n",
       "    .dataframe tbody tr th:only-of-type {\n",
       "        vertical-align: middle;\n",
       "    }\n",
       "\n",
       "    .dataframe tbody tr th {\n",
       "        vertical-align: top;\n",
       "    }\n",
       "\n",
       "    .dataframe thead th {\n",
       "        text-align: right;\n",
       "    }\n",
       "</style>\n",
       "<table border=\"1\" class=\"dataframe\">\n",
       "  <thead>\n",
       "    <tr style=\"text-align: right;\">\n",
       "      <th></th>\n",
       "      <th>current_price</th>\n",
       "      <th>main_category</th>\n",
       "    </tr>\n",
       "  </thead>\n",
       "  <tbody>\n",
       "    <tr>\n",
       "      <th>631</th>\n",
       "      <td>36999.0</td>\n",
       "      <td>Automobile</td>\n",
       "    </tr>\n",
       "    <tr>\n",
       "      <th>862</th>\n",
       "      <td>24000.0</td>\n",
       "      <td>Automobile</td>\n",
       "    </tr>\n",
       "    <tr>\n",
       "      <th>1091</th>\n",
       "      <td>12500.0</td>\n",
       "      <td>Automobile</td>\n",
       "    </tr>\n",
       "    <tr>\n",
       "      <th>1445</th>\n",
       "      <td>23999.0</td>\n",
       "      <td>Automobile</td>\n",
       "    </tr>\n",
       "  </tbody>\n",
       "</table>\n",
       "</div>"
      ],
      "text/plain": [
       "      current_price main_category\n",
       "631         36999.0    Automobile\n",
       "862         24000.0    Automobile\n",
       "1091        12500.0    Automobile\n",
       "1445        23999.0    Automobile"
      ]
     },
     "metadata": {},
     "output_type": "display_data"
    },
    {
     "name": "stdout",
     "output_type": "stream",
     "text": [
      "Category: Baby Products, Outliers: 3\n"
     ]
    },
    {
     "data": {
      "application/vnd.microsoft.datawrangler.viewer.v0+json": {
       "columns": [
        {
         "name": "index",
         "rawType": "int64",
         "type": "integer"
        },
        {
         "name": "current_price",
         "rawType": "float64",
         "type": "float"
        },
        {
         "name": "main_category",
         "rawType": "object",
         "type": "string"
        }
       ],
       "ref": "3e652aee-a349-4c0b-a33d-800f88f2f56f",
       "rows": [
        [
         "1005",
         "7500.0",
         "Baby Products"
        ],
        [
         "1242",
         "1698.0",
         "Baby Products"
        ],
        [
         "1776",
         "2000.0",
         "Baby Products"
        ]
       ],
       "shape": {
        "columns": 2,
        "rows": 3
       }
      },
      "text/html": [
       "<div>\n",
       "<style scoped>\n",
       "    .dataframe tbody tr th:only-of-type {\n",
       "        vertical-align: middle;\n",
       "    }\n",
       "\n",
       "    .dataframe tbody tr th {\n",
       "        vertical-align: top;\n",
       "    }\n",
       "\n",
       "    .dataframe thead th {\n",
       "        text-align: right;\n",
       "    }\n",
       "</style>\n",
       "<table border=\"1\" class=\"dataframe\">\n",
       "  <thead>\n",
       "    <tr style=\"text-align: right;\">\n",
       "      <th></th>\n",
       "      <th>current_price</th>\n",
       "      <th>main_category</th>\n",
       "    </tr>\n",
       "  </thead>\n",
       "  <tbody>\n",
       "    <tr>\n",
       "      <th>1005</th>\n",
       "      <td>7500.0</td>\n",
       "      <td>Baby Products</td>\n",
       "    </tr>\n",
       "    <tr>\n",
       "      <th>1242</th>\n",
       "      <td>1698.0</td>\n",
       "      <td>Baby Products</td>\n",
       "    </tr>\n",
       "    <tr>\n",
       "      <th>1776</th>\n",
       "      <td>2000.0</td>\n",
       "      <td>Baby Products</td>\n",
       "    </tr>\n",
       "  </tbody>\n",
       "</table>\n",
       "</div>"
      ],
      "text/plain": [
       "      current_price  main_category\n",
       "1005         7500.0  Baby Products\n",
       "1242         1698.0  Baby Products\n",
       "1776         2000.0  Baby Products"
      ]
     },
     "metadata": {},
     "output_type": "display_data"
    },
    {
     "name": "stdout",
     "output_type": "stream",
     "text": [
      "Category: Books, Movies and Music, Outliers: 2\n"
     ]
    },
    {
     "data": {
      "application/vnd.microsoft.datawrangler.viewer.v0+json": {
       "columns": [
        {
         "name": "index",
         "rawType": "int64",
         "type": "integer"
        },
        {
         "name": "current_price",
         "rawType": "float64",
         "type": "float"
        },
        {
         "name": "main_category",
         "rawType": "object",
         "type": "string"
        }
       ],
       "ref": "e1b358b1-dae6-488c-a306-367cc9fc0664",
       "rows": [
        [
         "934",
         "12000.0",
         "Books, Movies and Music"
        ],
        [
         "976",
         "2999.0",
         "Books, Movies and Music"
        ]
       ],
       "shape": {
        "columns": 2,
        "rows": 2
       }
      },
      "text/html": [
       "<div>\n",
       "<style scoped>\n",
       "    .dataframe tbody tr th:only-of-type {\n",
       "        vertical-align: middle;\n",
       "    }\n",
       "\n",
       "    .dataframe tbody tr th {\n",
       "        vertical-align: top;\n",
       "    }\n",
       "\n",
       "    .dataframe thead th {\n",
       "        text-align: right;\n",
       "    }\n",
       "</style>\n",
       "<table border=\"1\" class=\"dataframe\">\n",
       "  <thead>\n",
       "    <tr style=\"text-align: right;\">\n",
       "      <th></th>\n",
       "      <th>current_price</th>\n",
       "      <th>main_category</th>\n",
       "    </tr>\n",
       "  </thead>\n",
       "  <tbody>\n",
       "    <tr>\n",
       "      <th>934</th>\n",
       "      <td>12000.0</td>\n",
       "      <td>Books, Movies and Music</td>\n",
       "    </tr>\n",
       "    <tr>\n",
       "      <th>976</th>\n",
       "      <td>2999.0</td>\n",
       "      <td>Books, Movies and Music</td>\n",
       "    </tr>\n",
       "  </tbody>\n",
       "</table>\n",
       "</div>"
      ],
      "text/plain": [
       "     current_price            main_category\n",
       "934        12000.0  Books, Movies and Music\n",
       "976         2999.0  Books, Movies and Music"
      ]
     },
     "metadata": {},
     "output_type": "display_data"
    },
    {
     "name": "stdout",
     "output_type": "stream",
     "text": [
      "Category: Computing, Outliers: 19\n"
     ]
    },
    {
     "data": {
      "application/vnd.microsoft.datawrangler.viewer.v0+json": {
       "columns": [
        {
         "name": "index",
         "rawType": "int64",
         "type": "integer"
        },
        {
         "name": "current_price",
         "rawType": "float64",
         "type": "float"
        },
        {
         "name": "main_category",
         "rawType": "object",
         "type": "string"
        }
       ],
       "ref": "f78f9389-ade3-4860-96aa-3bd202abfcc1",
       "rows": [
        [
         "203",
         "39999.0",
         "Computing"
        ],
        [
         "210",
         "15999.0",
         "Computing"
        ],
        [
         "233",
         "28499.0",
         "Computing"
        ],
        [
         "615",
         "67860.0",
         "Computing"
        ],
        [
         "676",
         "11470.0",
         "Computing"
        ]
       ],
       "shape": {
        "columns": 2,
        "rows": 5
       }
      },
      "text/html": [
       "<div>\n",
       "<style scoped>\n",
       "    .dataframe tbody tr th:only-of-type {\n",
       "        vertical-align: middle;\n",
       "    }\n",
       "\n",
       "    .dataframe tbody tr th {\n",
       "        vertical-align: top;\n",
       "    }\n",
       "\n",
       "    .dataframe thead th {\n",
       "        text-align: right;\n",
       "    }\n",
       "</style>\n",
       "<table border=\"1\" class=\"dataframe\">\n",
       "  <thead>\n",
       "    <tr style=\"text-align: right;\">\n",
       "      <th></th>\n",
       "      <th>current_price</th>\n",
       "      <th>main_category</th>\n",
       "    </tr>\n",
       "  </thead>\n",
       "  <tbody>\n",
       "    <tr>\n",
       "      <th>203</th>\n",
       "      <td>39999.0</td>\n",
       "      <td>Computing</td>\n",
       "    </tr>\n",
       "    <tr>\n",
       "      <th>210</th>\n",
       "      <td>15999.0</td>\n",
       "      <td>Computing</td>\n",
       "    </tr>\n",
       "    <tr>\n",
       "      <th>233</th>\n",
       "      <td>28499.0</td>\n",
       "      <td>Computing</td>\n",
       "    </tr>\n",
       "    <tr>\n",
       "      <th>615</th>\n",
       "      <td>67860.0</td>\n",
       "      <td>Computing</td>\n",
       "    </tr>\n",
       "    <tr>\n",
       "      <th>676</th>\n",
       "      <td>11470.0</td>\n",
       "      <td>Computing</td>\n",
       "    </tr>\n",
       "  </tbody>\n",
       "</table>\n",
       "</div>"
      ],
      "text/plain": [
       "     current_price main_category\n",
       "203        39999.0     Computing\n",
       "210        15999.0     Computing\n",
       "233        28499.0     Computing\n",
       "615        67860.0     Computing\n",
       "676        11470.0     Computing"
      ]
     },
     "metadata": {},
     "output_type": "display_data"
    },
    {
     "name": "stdout",
     "output_type": "stream",
     "text": [
      "Category: Electronics, Outliers: 3\n"
     ]
    },
    {
     "data": {
      "application/vnd.microsoft.datawrangler.viewer.v0+json": {
       "columns": [
        {
         "name": "index",
         "rawType": "int64",
         "type": "integer"
        },
        {
         "name": "current_price",
         "rawType": "float64",
         "type": "float"
        },
        {
         "name": "main_category",
         "rawType": "object",
         "type": "string"
        }
       ],
       "ref": "ad47b1ba-9cea-4974-81dd-529ca337e65b",
       "rows": [
        [
         "928",
         "44990.0",
         "Electronics"
        ],
        [
         "1049",
         "52999.0",
         "Electronics"
        ],
        [
         "1753",
         "44890.0",
         "Electronics"
        ]
       ],
       "shape": {
        "columns": 2,
        "rows": 3
       }
      },
      "text/html": [
       "<div>\n",
       "<style scoped>\n",
       "    .dataframe tbody tr th:only-of-type {\n",
       "        vertical-align: middle;\n",
       "    }\n",
       "\n",
       "    .dataframe tbody tr th {\n",
       "        vertical-align: top;\n",
       "    }\n",
       "\n",
       "    .dataframe thead th {\n",
       "        text-align: right;\n",
       "    }\n",
       "</style>\n",
       "<table border=\"1\" class=\"dataframe\">\n",
       "  <thead>\n",
       "    <tr style=\"text-align: right;\">\n",
       "      <th></th>\n",
       "      <th>current_price</th>\n",
       "      <th>main_category</th>\n",
       "    </tr>\n",
       "  </thead>\n",
       "  <tbody>\n",
       "    <tr>\n",
       "      <th>928</th>\n",
       "      <td>44990.0</td>\n",
       "      <td>Electronics</td>\n",
       "    </tr>\n",
       "    <tr>\n",
       "      <th>1049</th>\n",
       "      <td>52999.0</td>\n",
       "      <td>Electronics</td>\n",
       "    </tr>\n",
       "    <tr>\n",
       "      <th>1753</th>\n",
       "      <td>44890.0</td>\n",
       "      <td>Electronics</td>\n",
       "    </tr>\n",
       "  </tbody>\n",
       "</table>\n",
       "</div>"
      ],
      "text/plain": [
       "      current_price main_category\n",
       "928         44990.0   Electronics\n",
       "1049        52999.0   Electronics\n",
       "1753        44890.0   Electronics"
      ]
     },
     "metadata": {},
     "output_type": "display_data"
    },
    {
     "name": "stdout",
     "output_type": "stream",
     "text": [
      "Category: Fashion, Outliers: 17\n"
     ]
    },
    {
     "data": {
      "application/vnd.microsoft.datawrangler.viewer.v0+json": {
       "columns": [
        {
         "name": "index",
         "rawType": "int64",
         "type": "integer"
        },
        {
         "name": "current_price",
         "rawType": "float64",
         "type": "float"
        },
        {
         "name": "main_category",
         "rawType": "object",
         "type": "string"
        }
       ],
       "ref": "65d71684-699e-40b6-a672-27fba4d0fc27",
       "rows": [
        [
         "54",
         "3445.0",
         "Fashion"
        ],
        [
         "165",
         "2399.0",
         "Fashion"
        ],
        [
         "200",
         "5500.0",
         "Fashion"
        ],
        [
         "340",
         "2949.0",
         "Fashion"
        ],
        [
         "444",
         "3949.5",
         "Fashion"
        ]
       ],
       "shape": {
        "columns": 2,
        "rows": 5
       }
      },
      "text/html": [
       "<div>\n",
       "<style scoped>\n",
       "    .dataframe tbody tr th:only-of-type {\n",
       "        vertical-align: middle;\n",
       "    }\n",
       "\n",
       "    .dataframe tbody tr th {\n",
       "        vertical-align: top;\n",
       "    }\n",
       "\n",
       "    .dataframe thead th {\n",
       "        text-align: right;\n",
       "    }\n",
       "</style>\n",
       "<table border=\"1\" class=\"dataframe\">\n",
       "  <thead>\n",
       "    <tr style=\"text-align: right;\">\n",
       "      <th></th>\n",
       "      <th>current_price</th>\n",
       "      <th>main_category</th>\n",
       "    </tr>\n",
       "  </thead>\n",
       "  <tbody>\n",
       "    <tr>\n",
       "      <th>54</th>\n",
       "      <td>3445.0</td>\n",
       "      <td>Fashion</td>\n",
       "    </tr>\n",
       "    <tr>\n",
       "      <th>165</th>\n",
       "      <td>2399.0</td>\n",
       "      <td>Fashion</td>\n",
       "    </tr>\n",
       "    <tr>\n",
       "      <th>200</th>\n",
       "      <td>5500.0</td>\n",
       "      <td>Fashion</td>\n",
       "    </tr>\n",
       "    <tr>\n",
       "      <th>340</th>\n",
       "      <td>2949.0</td>\n",
       "      <td>Fashion</td>\n",
       "    </tr>\n",
       "    <tr>\n",
       "      <th>444</th>\n",
       "      <td>3949.5</td>\n",
       "      <td>Fashion</td>\n",
       "    </tr>\n",
       "  </tbody>\n",
       "</table>\n",
       "</div>"
      ],
      "text/plain": [
       "     current_price main_category\n",
       "54          3445.0       Fashion\n",
       "165         2399.0       Fashion\n",
       "200         5500.0       Fashion\n",
       "340         2949.0       Fashion\n",
       "444         3949.5       Fashion"
      ]
     },
     "metadata": {},
     "output_type": "display_data"
    },
    {
     "name": "stdout",
     "output_type": "stream",
     "text": [
      "Category: Gaming, Outliers: 1\n"
     ]
    },
    {
     "data": {
      "application/vnd.microsoft.datawrangler.viewer.v0+json": {
       "columns": [
        {
         "name": "index",
         "rawType": "int64",
         "type": "integer"
        },
        {
         "name": "current_price",
         "rawType": "float64",
         "type": "float"
        },
        {
         "name": "main_category",
         "rawType": "object",
         "type": "string"
        }
       ],
       "ref": "ad397a38-c9ab-477a-995b-b36c886c3207",
       "rows": [
        [
         "949",
         "3750.0",
         "Gaming"
        ]
       ],
       "shape": {
        "columns": 2,
        "rows": 1
       }
      },
      "text/html": [
       "<div>\n",
       "<style scoped>\n",
       "    .dataframe tbody tr th:only-of-type {\n",
       "        vertical-align: middle;\n",
       "    }\n",
       "\n",
       "    .dataframe tbody tr th {\n",
       "        vertical-align: top;\n",
       "    }\n",
       "\n",
       "    .dataframe thead th {\n",
       "        text-align: right;\n",
       "    }\n",
       "</style>\n",
       "<table border=\"1\" class=\"dataframe\">\n",
       "  <thead>\n",
       "    <tr style=\"text-align: right;\">\n",
       "      <th></th>\n",
       "      <th>current_price</th>\n",
       "      <th>main_category</th>\n",
       "    </tr>\n",
       "  </thead>\n",
       "  <tbody>\n",
       "    <tr>\n",
       "      <th>949</th>\n",
       "      <td>3750.0</td>\n",
       "      <td>Gaming</td>\n",
       "    </tr>\n",
       "  </tbody>\n",
       "</table>\n",
       "</div>"
      ],
      "text/plain": [
       "     current_price main_category\n",
       "949         3750.0        Gaming"
      ]
     },
     "metadata": {},
     "output_type": "display_data"
    },
    {
     "name": "stdout",
     "output_type": "stream",
     "text": [
      "Category: Garden & Outdoors, Outliers: 2\n"
     ]
    },
    {
     "data": {
      "application/vnd.microsoft.datawrangler.viewer.v0+json": {
       "columns": [
        {
         "name": "index",
         "rawType": "int64",
         "type": "integer"
        },
        {
         "name": "current_price",
         "rawType": "float64",
         "type": "float"
        },
        {
         "name": "main_category",
         "rawType": "object",
         "type": "string"
        }
       ],
       "ref": "4ee5ee76-feb5-40da-9ca6-9f002fe6e37b",
       "rows": [
        [
         "538",
         "40000.0",
         "Garden & Outdoors"
        ],
        [
         "739",
         "29299.0",
         "Garden & Outdoors"
        ]
       ],
       "shape": {
        "columns": 2,
        "rows": 2
       }
      },
      "text/html": [
       "<div>\n",
       "<style scoped>\n",
       "    .dataframe tbody tr th:only-of-type {\n",
       "        vertical-align: middle;\n",
       "    }\n",
       "\n",
       "    .dataframe tbody tr th {\n",
       "        vertical-align: top;\n",
       "    }\n",
       "\n",
       "    .dataframe thead th {\n",
       "        text-align: right;\n",
       "    }\n",
       "</style>\n",
       "<table border=\"1\" class=\"dataframe\">\n",
       "  <thead>\n",
       "    <tr style=\"text-align: right;\">\n",
       "      <th></th>\n",
       "      <th>current_price</th>\n",
       "      <th>main_category</th>\n",
       "    </tr>\n",
       "  </thead>\n",
       "  <tbody>\n",
       "    <tr>\n",
       "      <th>538</th>\n",
       "      <td>40000.0</td>\n",
       "      <td>Garden &amp; Outdoors</td>\n",
       "    </tr>\n",
       "    <tr>\n",
       "      <th>739</th>\n",
       "      <td>29299.0</td>\n",
       "      <td>Garden &amp; Outdoors</td>\n",
       "    </tr>\n",
       "  </tbody>\n",
       "</table>\n",
       "</div>"
      ],
      "text/plain": [
       "     current_price      main_category\n",
       "538        40000.0  Garden & Outdoors\n",
       "739        29299.0  Garden & Outdoors"
      ]
     },
     "metadata": {},
     "output_type": "display_data"
    },
    {
     "name": "stdout",
     "output_type": "stream",
     "text": [
      "Category: Grocery, Outliers: 1\n"
     ]
    },
    {
     "data": {
      "application/vnd.microsoft.datawrangler.viewer.v0+json": {
       "columns": [
        {
         "name": "index",
         "rawType": "int64",
         "type": "integer"
        },
        {
         "name": "current_price",
         "rawType": "float64",
         "type": "float"
        },
        {
         "name": "main_category",
         "rawType": "object",
         "type": "string"
        }
       ],
       "ref": "27c3dad2-77cf-4e58-9890-970ecdd008ea",
       "rows": [
        [
         "1875",
         "3499.0",
         "Grocery"
        ]
       ],
       "shape": {
        "columns": 2,
        "rows": 1
       }
      },
      "text/html": [
       "<div>\n",
       "<style scoped>\n",
       "    .dataframe tbody tr th:only-of-type {\n",
       "        vertical-align: middle;\n",
       "    }\n",
       "\n",
       "    .dataframe tbody tr th {\n",
       "        vertical-align: top;\n",
       "    }\n",
       "\n",
       "    .dataframe thead th {\n",
       "        text-align: right;\n",
       "    }\n",
       "</style>\n",
       "<table border=\"1\" class=\"dataframe\">\n",
       "  <thead>\n",
       "    <tr style=\"text-align: right;\">\n",
       "      <th></th>\n",
       "      <th>current_price</th>\n",
       "      <th>main_category</th>\n",
       "    </tr>\n",
       "  </thead>\n",
       "  <tbody>\n",
       "    <tr>\n",
       "      <th>1875</th>\n",
       "      <td>3499.0</td>\n",
       "      <td>Grocery</td>\n",
       "    </tr>\n",
       "  </tbody>\n",
       "</table>\n",
       "</div>"
      ],
      "text/plain": [
       "      current_price main_category\n",
       "1875         3499.0       Grocery"
      ]
     },
     "metadata": {},
     "output_type": "display_data"
    },
    {
     "name": "stdout",
     "output_type": "stream",
     "text": [
      "Category: Health & Beauty, Outliers: 30\n"
     ]
    },
    {
     "data": {
      "application/vnd.microsoft.datawrangler.viewer.v0+json": {
       "columns": [
        {
         "name": "index",
         "rawType": "int64",
         "type": "integer"
        },
        {
         "name": "current_price",
         "rawType": "float64",
         "type": "float"
        },
        {
         "name": "main_category",
         "rawType": "object",
         "type": "string"
        }
       ],
       "ref": "556e9305-e18a-4008-9deb-97872834068f",
       "rows": [
        [
         "43",
         "3647.0",
         "Health & Beauty"
        ],
        [
         "167",
         "2873.0",
         "Health & Beauty"
        ],
        [
         "217",
         "5200.0",
         "Health & Beauty"
        ],
        [
         "300",
         "2824.0",
         "Health & Beauty"
        ],
        [
         "427",
         "3300.0",
         "Health & Beauty"
        ]
       ],
       "shape": {
        "columns": 2,
        "rows": 5
       }
      },
      "text/html": [
       "<div>\n",
       "<style scoped>\n",
       "    .dataframe tbody tr th:only-of-type {\n",
       "        vertical-align: middle;\n",
       "    }\n",
       "\n",
       "    .dataframe tbody tr th {\n",
       "        vertical-align: top;\n",
       "    }\n",
       "\n",
       "    .dataframe thead th {\n",
       "        text-align: right;\n",
       "    }\n",
       "</style>\n",
       "<table border=\"1\" class=\"dataframe\">\n",
       "  <thead>\n",
       "    <tr style=\"text-align: right;\">\n",
       "      <th></th>\n",
       "      <th>current_price</th>\n",
       "      <th>main_category</th>\n",
       "    </tr>\n",
       "  </thead>\n",
       "  <tbody>\n",
       "    <tr>\n",
       "      <th>43</th>\n",
       "      <td>3647.0</td>\n",
       "      <td>Health &amp; Beauty</td>\n",
       "    </tr>\n",
       "    <tr>\n",
       "      <th>167</th>\n",
       "      <td>2873.0</td>\n",
       "      <td>Health &amp; Beauty</td>\n",
       "    </tr>\n",
       "    <tr>\n",
       "      <th>217</th>\n",
       "      <td>5200.0</td>\n",
       "      <td>Health &amp; Beauty</td>\n",
       "    </tr>\n",
       "    <tr>\n",
       "      <th>300</th>\n",
       "      <td>2824.0</td>\n",
       "      <td>Health &amp; Beauty</td>\n",
       "    </tr>\n",
       "    <tr>\n",
       "      <th>427</th>\n",
       "      <td>3300.0</td>\n",
       "      <td>Health &amp; Beauty</td>\n",
       "    </tr>\n",
       "  </tbody>\n",
       "</table>\n",
       "</div>"
      ],
      "text/plain": [
       "     current_price    main_category\n",
       "43          3647.0  Health & Beauty\n",
       "167         2873.0  Health & Beauty\n",
       "217         5200.0  Health & Beauty\n",
       "300         2824.0  Health & Beauty\n",
       "427         3300.0  Health & Beauty"
      ]
     },
     "metadata": {},
     "output_type": "display_data"
    },
    {
     "name": "stdout",
     "output_type": "stream",
     "text": [
      "Category: Home & Office, Outliers: 58\n"
     ]
    },
    {
     "data": {
      "application/vnd.microsoft.datawrangler.viewer.v0+json": {
       "columns": [
        {
         "name": "index",
         "rawType": "int64",
         "type": "integer"
        },
        {
         "name": "current_price",
         "rawType": "float64",
         "type": "float"
        },
        {
         "name": "main_category",
         "rawType": "object",
         "type": "string"
        }
       ],
       "ref": "cb9f43bf-dd77-4f66-9a39-fdb877fbc9ae",
       "rows": [
        [
         "12",
         "6999.0",
         "Home & Office"
        ],
        [
         "16",
         "8799.0",
         "Home & Office"
        ],
        [
         "36",
         "16999.0",
         "Home & Office"
        ],
        [
         "39",
         "17499.0",
         "Home & Office"
        ],
        [
         "55",
         "23599.0",
         "Home & Office"
        ]
       ],
       "shape": {
        "columns": 2,
        "rows": 5
       }
      },
      "text/html": [
       "<div>\n",
       "<style scoped>\n",
       "    .dataframe tbody tr th:only-of-type {\n",
       "        vertical-align: middle;\n",
       "    }\n",
       "\n",
       "    .dataframe tbody tr th {\n",
       "        vertical-align: top;\n",
       "    }\n",
       "\n",
       "    .dataframe thead th {\n",
       "        text-align: right;\n",
       "    }\n",
       "</style>\n",
       "<table border=\"1\" class=\"dataframe\">\n",
       "  <thead>\n",
       "    <tr style=\"text-align: right;\">\n",
       "      <th></th>\n",
       "      <th>current_price</th>\n",
       "      <th>main_category</th>\n",
       "    </tr>\n",
       "  </thead>\n",
       "  <tbody>\n",
       "    <tr>\n",
       "      <th>12</th>\n",
       "      <td>6999.0</td>\n",
       "      <td>Home &amp; Office</td>\n",
       "    </tr>\n",
       "    <tr>\n",
       "      <th>16</th>\n",
       "      <td>8799.0</td>\n",
       "      <td>Home &amp; Office</td>\n",
       "    </tr>\n",
       "    <tr>\n",
       "      <th>36</th>\n",
       "      <td>16999.0</td>\n",
       "      <td>Home &amp; Office</td>\n",
       "    </tr>\n",
       "    <tr>\n",
       "      <th>39</th>\n",
       "      <td>17499.0</td>\n",
       "      <td>Home &amp; Office</td>\n",
       "    </tr>\n",
       "    <tr>\n",
       "      <th>55</th>\n",
       "      <td>23599.0</td>\n",
       "      <td>Home &amp; Office</td>\n",
       "    </tr>\n",
       "  </tbody>\n",
       "</table>\n",
       "</div>"
      ],
      "text/plain": [
       "    current_price  main_category\n",
       "12         6999.0  Home & Office\n",
       "16         8799.0  Home & Office\n",
       "36        16999.0  Home & Office\n",
       "39        17499.0  Home & Office\n",
       "55        23599.0  Home & Office"
      ]
     },
     "metadata": {},
     "output_type": "display_data"
    },
    {
     "name": "stdout",
     "output_type": "stream",
     "text": [
      "Category: Industrial & Scientific, Outliers: 2\n"
     ]
    },
    {
     "data": {
      "application/vnd.microsoft.datawrangler.viewer.v0+json": {
       "columns": [
        {
         "name": "index",
         "rawType": "int64",
         "type": "integer"
        },
        {
         "name": "current_price",
         "rawType": "float64",
         "type": "float"
        },
        {
         "name": "main_category",
         "rawType": "object",
         "type": "string"
        }
       ],
       "ref": "5eec5e38-f270-430d-9f78-5ef9f1b4fc7d",
       "rows": [
        [
         "239",
         "14999.0",
         "Industrial & Scientific"
        ],
        [
         "699",
         "21199.0",
         "Industrial & Scientific"
        ]
       ],
       "shape": {
        "columns": 2,
        "rows": 2
       }
      },
      "text/html": [
       "<div>\n",
       "<style scoped>\n",
       "    .dataframe tbody tr th:only-of-type {\n",
       "        vertical-align: middle;\n",
       "    }\n",
       "\n",
       "    .dataframe tbody tr th {\n",
       "        vertical-align: top;\n",
       "    }\n",
       "\n",
       "    .dataframe thead th {\n",
       "        text-align: right;\n",
       "    }\n",
       "</style>\n",
       "<table border=\"1\" class=\"dataframe\">\n",
       "  <thead>\n",
       "    <tr style=\"text-align: right;\">\n",
       "      <th></th>\n",
       "      <th>current_price</th>\n",
       "      <th>main_category</th>\n",
       "    </tr>\n",
       "  </thead>\n",
       "  <tbody>\n",
       "    <tr>\n",
       "      <th>239</th>\n",
       "      <td>14999.0</td>\n",
       "      <td>Industrial &amp; Scientific</td>\n",
       "    </tr>\n",
       "    <tr>\n",
       "      <th>699</th>\n",
       "      <td>21199.0</td>\n",
       "      <td>Industrial &amp; Scientific</td>\n",
       "    </tr>\n",
       "  </tbody>\n",
       "</table>\n",
       "</div>"
      ],
      "text/plain": [
       "     current_price            main_category\n",
       "239        14999.0  Industrial & Scientific\n",
       "699        21199.0  Industrial & Scientific"
      ]
     },
     "metadata": {},
     "output_type": "display_data"
    },
    {
     "name": "stdout",
     "output_type": "stream",
     "text": [
      "Category: Musical Instruments, Outliers: 1\n"
     ]
    },
    {
     "data": {
      "application/vnd.microsoft.datawrangler.viewer.v0+json": {
       "columns": [
        {
         "name": "index",
         "rawType": "int64",
         "type": "integer"
        },
        {
         "name": "current_price",
         "rawType": "float64",
         "type": "float"
        },
        {
         "name": "main_category",
         "rawType": "object",
         "type": "string"
        }
       ],
       "ref": "ffee3ecd-638a-4827-b6ba-34b5b139ebaf",
       "rows": [
        [
         "1066",
         "30990.0",
         "Musical Instruments"
        ]
       ],
       "shape": {
        "columns": 2,
        "rows": 1
       }
      },
      "text/html": [
       "<div>\n",
       "<style scoped>\n",
       "    .dataframe tbody tr th:only-of-type {\n",
       "        vertical-align: middle;\n",
       "    }\n",
       "\n",
       "    .dataframe tbody tr th {\n",
       "        vertical-align: top;\n",
       "    }\n",
       "\n",
       "    .dataframe thead th {\n",
       "        text-align: right;\n",
       "    }\n",
       "</style>\n",
       "<table border=\"1\" class=\"dataframe\">\n",
       "  <thead>\n",
       "    <tr style=\"text-align: right;\">\n",
       "      <th></th>\n",
       "      <th>current_price</th>\n",
       "      <th>main_category</th>\n",
       "    </tr>\n",
       "  </thead>\n",
       "  <tbody>\n",
       "    <tr>\n",
       "      <th>1066</th>\n",
       "      <td>30990.0</td>\n",
       "      <td>Musical Instruments</td>\n",
       "    </tr>\n",
       "  </tbody>\n",
       "</table>\n",
       "</div>"
      ],
      "text/plain": [
       "      current_price        main_category\n",
       "1066        30990.0  Musical Instruments"
      ]
     },
     "metadata": {},
     "output_type": "display_data"
    },
    {
     "name": "stdout",
     "output_type": "stream",
     "text": [
      "Category: Pet Supplies, Outliers: 2\n"
     ]
    },
    {
     "data": {
      "application/vnd.microsoft.datawrangler.viewer.v0+json": {
       "columns": [
        {
         "name": "index",
         "rawType": "int64",
         "type": "integer"
        },
        {
         "name": "current_price",
         "rawType": "float64",
         "type": "float"
        },
        {
         "name": "main_category",
         "rawType": "object",
         "type": "string"
        }
       ],
       "ref": "6f36c334-04ed-4cd5-b04b-df2fe84e6cd7",
       "rows": [
        [
         "915",
         "3780.0",
         "Pet Supplies"
        ],
        [
         "1680",
         "5900.0",
         "Pet Supplies"
        ]
       ],
       "shape": {
        "columns": 2,
        "rows": 2
       }
      },
      "text/html": [
       "<div>\n",
       "<style scoped>\n",
       "    .dataframe tbody tr th:only-of-type {\n",
       "        vertical-align: middle;\n",
       "    }\n",
       "\n",
       "    .dataframe tbody tr th {\n",
       "        vertical-align: top;\n",
       "    }\n",
       "\n",
       "    .dataframe thead th {\n",
       "        text-align: right;\n",
       "    }\n",
       "</style>\n",
       "<table border=\"1\" class=\"dataframe\">\n",
       "  <thead>\n",
       "    <tr style=\"text-align: right;\">\n",
       "      <th></th>\n",
       "      <th>current_price</th>\n",
       "      <th>main_category</th>\n",
       "    </tr>\n",
       "  </thead>\n",
       "  <tbody>\n",
       "    <tr>\n",
       "      <th>915</th>\n",
       "      <td>3780.0</td>\n",
       "      <td>Pet Supplies</td>\n",
       "    </tr>\n",
       "    <tr>\n",
       "      <th>1680</th>\n",
       "      <td>5900.0</td>\n",
       "      <td>Pet Supplies</td>\n",
       "    </tr>\n",
       "  </tbody>\n",
       "</table>\n",
       "</div>"
      ],
      "text/plain": [
       "      current_price main_category\n",
       "915          3780.0  Pet Supplies\n",
       "1680         5900.0  Pet Supplies"
      ]
     },
     "metadata": {},
     "output_type": "display_data"
    },
    {
     "name": "stdout",
     "output_type": "stream",
     "text": [
      "Category: Phones & Tablets, Outliers: 8\n"
     ]
    },
    {
     "data": {
      "application/vnd.microsoft.datawrangler.viewer.v0+json": {
       "columns": [
        {
         "name": "index",
         "rawType": "int64",
         "type": "integer"
        },
        {
         "name": "current_price",
         "rawType": "float64",
         "type": "float"
        },
        {
         "name": "main_category",
         "rawType": "object",
         "type": "string"
        }
       ],
       "ref": "edd2f002-a5ea-47be-92b9-854c52eb90ac",
       "rows": [
        [
         "916",
         "33190.0",
         "Phones & Tablets"
        ],
        [
         "1162",
         "32399.0",
         "Phones & Tablets"
        ],
        [
         "1228",
         "32489.0",
         "Phones & Tablets"
        ],
        [
         "1460",
         "45599.0",
         "Phones & Tablets"
        ],
        [
         "1552",
         "32585.0",
         "Phones & Tablets"
        ]
       ],
       "shape": {
        "columns": 2,
        "rows": 5
       }
      },
      "text/html": [
       "<div>\n",
       "<style scoped>\n",
       "    .dataframe tbody tr th:only-of-type {\n",
       "        vertical-align: middle;\n",
       "    }\n",
       "\n",
       "    .dataframe tbody tr th {\n",
       "        vertical-align: top;\n",
       "    }\n",
       "\n",
       "    .dataframe thead th {\n",
       "        text-align: right;\n",
       "    }\n",
       "</style>\n",
       "<table border=\"1\" class=\"dataframe\">\n",
       "  <thead>\n",
       "    <tr style=\"text-align: right;\">\n",
       "      <th></th>\n",
       "      <th>current_price</th>\n",
       "      <th>main_category</th>\n",
       "    </tr>\n",
       "  </thead>\n",
       "  <tbody>\n",
       "    <tr>\n",
       "      <th>916</th>\n",
       "      <td>33190.0</td>\n",
       "      <td>Phones &amp; Tablets</td>\n",
       "    </tr>\n",
       "    <tr>\n",
       "      <th>1162</th>\n",
       "      <td>32399.0</td>\n",
       "      <td>Phones &amp; Tablets</td>\n",
       "    </tr>\n",
       "    <tr>\n",
       "      <th>1228</th>\n",
       "      <td>32489.0</td>\n",
       "      <td>Phones &amp; Tablets</td>\n",
       "    </tr>\n",
       "    <tr>\n",
       "      <th>1460</th>\n",
       "      <td>45599.0</td>\n",
       "      <td>Phones &amp; Tablets</td>\n",
       "    </tr>\n",
       "    <tr>\n",
       "      <th>1552</th>\n",
       "      <td>32585.0</td>\n",
       "      <td>Phones &amp; Tablets</td>\n",
       "    </tr>\n",
       "  </tbody>\n",
       "</table>\n",
       "</div>"
      ],
      "text/plain": [
       "      current_price     main_category\n",
       "916         33190.0  Phones & Tablets\n",
       "1162        32399.0  Phones & Tablets\n",
       "1228        32489.0  Phones & Tablets\n",
       "1460        45599.0  Phones & Tablets\n",
       "1552        32585.0  Phones & Tablets"
      ]
     },
     "metadata": {},
     "output_type": "display_data"
    },
    {
     "name": "stdout",
     "output_type": "stream",
     "text": [
      "Category: Sporting Goods, Outliers: 4\n"
     ]
    },
    {
     "data": {
      "application/vnd.microsoft.datawrangler.viewer.v0+json": {
       "columns": [
        {
         "name": "index",
         "rawType": "int64",
         "type": "integer"
        },
        {
         "name": "current_price",
         "rawType": "float64",
         "type": "float"
        },
        {
         "name": "main_category",
         "rawType": "object",
         "type": "string"
        }
       ],
       "ref": "e1b984e8-f540-4404-b13b-009c004b7da6",
       "rows": [
        [
         "601",
         "98999.0",
         "Sporting Goods"
        ],
        [
         "659",
         "9990.0",
         "Sporting Goods"
        ],
        [
         "701",
         "11999.0",
         "Sporting Goods"
        ],
        [
         "1092",
         "12299.0",
         "Sporting Goods"
        ]
       ],
       "shape": {
        "columns": 2,
        "rows": 4
       }
      },
      "text/html": [
       "<div>\n",
       "<style scoped>\n",
       "    .dataframe tbody tr th:only-of-type {\n",
       "        vertical-align: middle;\n",
       "    }\n",
       "\n",
       "    .dataframe tbody tr th {\n",
       "        vertical-align: top;\n",
       "    }\n",
       "\n",
       "    .dataframe thead th {\n",
       "        text-align: right;\n",
       "    }\n",
       "</style>\n",
       "<table border=\"1\" class=\"dataframe\">\n",
       "  <thead>\n",
       "    <tr style=\"text-align: right;\">\n",
       "      <th></th>\n",
       "      <th>current_price</th>\n",
       "      <th>main_category</th>\n",
       "    </tr>\n",
       "  </thead>\n",
       "  <tbody>\n",
       "    <tr>\n",
       "      <th>601</th>\n",
       "      <td>98999.0</td>\n",
       "      <td>Sporting Goods</td>\n",
       "    </tr>\n",
       "    <tr>\n",
       "      <th>659</th>\n",
       "      <td>9990.0</td>\n",
       "      <td>Sporting Goods</td>\n",
       "    </tr>\n",
       "    <tr>\n",
       "      <th>701</th>\n",
       "      <td>11999.0</td>\n",
       "      <td>Sporting Goods</td>\n",
       "    </tr>\n",
       "    <tr>\n",
       "      <th>1092</th>\n",
       "      <td>12299.0</td>\n",
       "      <td>Sporting Goods</td>\n",
       "    </tr>\n",
       "  </tbody>\n",
       "</table>\n",
       "</div>"
      ],
      "text/plain": [
       "      current_price   main_category\n",
       "601         98999.0  Sporting Goods\n",
       "659          9990.0  Sporting Goods\n",
       "701         11999.0  Sporting Goods\n",
       "1092        12299.0  Sporting Goods"
      ]
     },
     "metadata": {},
     "output_type": "display_data"
    },
    {
     "name": "stdout",
     "output_type": "stream",
     "text": [
      "Category: Toys & Games, Outliers: 7\n"
     ]
    },
    {
     "data": {
      "application/vnd.microsoft.datawrangler.viewer.v0+json": {
       "columns": [
        {
         "name": "index",
         "rawType": "int64",
         "type": "integer"
        },
        {
         "name": "current_price",
         "rawType": "float64",
         "type": "float"
        },
        {
         "name": "main_category",
         "rawType": "object",
         "type": "string"
        }
       ],
       "ref": "473a9ef3-f8df-49a7-9751-4d0bb9a3d1df",
       "rows": [
        [
         "657",
         "16199.0",
         "Toys & Games"
        ],
        [
         "672",
         "8999.0",
         "Toys & Games"
        ],
        [
         "929",
         "37999.0",
         "Toys & Games"
        ],
        [
         "1360",
         "13000.0",
         "Toys & Games"
        ],
        [
         "1646",
         "6999.0",
         "Toys & Games"
        ]
       ],
       "shape": {
        "columns": 2,
        "rows": 5
       }
      },
      "text/html": [
       "<div>\n",
       "<style scoped>\n",
       "    .dataframe tbody tr th:only-of-type {\n",
       "        vertical-align: middle;\n",
       "    }\n",
       "\n",
       "    .dataframe tbody tr th {\n",
       "        vertical-align: top;\n",
       "    }\n",
       "\n",
       "    .dataframe thead th {\n",
       "        text-align: right;\n",
       "    }\n",
       "</style>\n",
       "<table border=\"1\" class=\"dataframe\">\n",
       "  <thead>\n",
       "    <tr style=\"text-align: right;\">\n",
       "      <th></th>\n",
       "      <th>current_price</th>\n",
       "      <th>main_category</th>\n",
       "    </tr>\n",
       "  </thead>\n",
       "  <tbody>\n",
       "    <tr>\n",
       "      <th>657</th>\n",
       "      <td>16199.0</td>\n",
       "      <td>Toys &amp; Games</td>\n",
       "    </tr>\n",
       "    <tr>\n",
       "      <th>672</th>\n",
       "      <td>8999.0</td>\n",
       "      <td>Toys &amp; Games</td>\n",
       "    </tr>\n",
       "    <tr>\n",
       "      <th>929</th>\n",
       "      <td>37999.0</td>\n",
       "      <td>Toys &amp; Games</td>\n",
       "    </tr>\n",
       "    <tr>\n",
       "      <th>1360</th>\n",
       "      <td>13000.0</td>\n",
       "      <td>Toys &amp; Games</td>\n",
       "    </tr>\n",
       "    <tr>\n",
       "      <th>1646</th>\n",
       "      <td>6999.0</td>\n",
       "      <td>Toys &amp; Games</td>\n",
       "    </tr>\n",
       "  </tbody>\n",
       "</table>\n",
       "</div>"
      ],
      "text/plain": [
       "      current_price main_category\n",
       "657         16199.0  Toys & Games\n",
       "672          8999.0  Toys & Games\n",
       "929         37999.0  Toys & Games\n",
       "1360        13000.0  Toys & Games\n",
       "1646         6999.0  Toys & Games"
      ]
     },
     "metadata": {},
     "output_type": "display_data"
    },
    {
     "name": "stdout",
     "output_type": "stream",
     "text": [
      "\n",
      "Checking outliers for column: original_price\n",
      "\n",
      "Category: Automobile, Outliers: 3\n"
     ]
    },
    {
     "data": {
      "application/vnd.microsoft.datawrangler.viewer.v0+json": {
       "columns": [
        {
         "name": "index",
         "rawType": "int64",
         "type": "integer"
        },
        {
         "name": "original_price",
         "rawType": "float64",
         "type": "float"
        },
        {
         "name": "main_category",
         "rawType": "object",
         "type": "string"
        }
       ],
       "ref": "e0b80c2d-d3dc-4f45-b582-867b836c9b75",
       "rows": [
        [
         "631",
         "85810.0",
         "Automobile"
        ],
        [
         "862",
         "32000.0",
         "Automobile"
        ],
        [
         "1445",
         "35000.0",
         "Automobile"
        ]
       ],
       "shape": {
        "columns": 2,
        "rows": 3
       }
      },
      "text/html": [
       "<div>\n",
       "<style scoped>\n",
       "    .dataframe tbody tr th:only-of-type {\n",
       "        vertical-align: middle;\n",
       "    }\n",
       "\n",
       "    .dataframe tbody tr th {\n",
       "        vertical-align: top;\n",
       "    }\n",
       "\n",
       "    .dataframe thead th {\n",
       "        text-align: right;\n",
       "    }\n",
       "</style>\n",
       "<table border=\"1\" class=\"dataframe\">\n",
       "  <thead>\n",
       "    <tr style=\"text-align: right;\">\n",
       "      <th></th>\n",
       "      <th>original_price</th>\n",
       "      <th>main_category</th>\n",
       "    </tr>\n",
       "  </thead>\n",
       "  <tbody>\n",
       "    <tr>\n",
       "      <th>631</th>\n",
       "      <td>85810.0</td>\n",
       "      <td>Automobile</td>\n",
       "    </tr>\n",
       "    <tr>\n",
       "      <th>862</th>\n",
       "      <td>32000.0</td>\n",
       "      <td>Automobile</td>\n",
       "    </tr>\n",
       "    <tr>\n",
       "      <th>1445</th>\n",
       "      <td>35000.0</td>\n",
       "      <td>Automobile</td>\n",
       "    </tr>\n",
       "  </tbody>\n",
       "</table>\n",
       "</div>"
      ],
      "text/plain": [
       "      original_price main_category\n",
       "631          85810.0    Automobile\n",
       "862          32000.0    Automobile\n",
       "1445         35000.0    Automobile"
      ]
     },
     "metadata": {},
     "output_type": "display_data"
    },
    {
     "name": "stdout",
     "output_type": "stream",
     "text": [
      "Category: Baby Products, Outliers: 1\n"
     ]
    },
    {
     "data": {
      "application/vnd.microsoft.datawrangler.viewer.v0+json": {
       "columns": [
        {
         "name": "index",
         "rawType": "int64",
         "type": "integer"
        },
        {
         "name": "original_price",
         "rawType": "float64",
         "type": "float"
        },
        {
         "name": "main_category",
         "rawType": "object",
         "type": "string"
        }
       ],
       "ref": "d58a0abe-88ae-4526-aa83-00685672eb39",
       "rows": [
        [
         "1005",
         "8500.0",
         "Baby Products"
        ]
       ],
       "shape": {
        "columns": 2,
        "rows": 1
       }
      },
      "text/html": [
       "<div>\n",
       "<style scoped>\n",
       "    .dataframe tbody tr th:only-of-type {\n",
       "        vertical-align: middle;\n",
       "    }\n",
       "\n",
       "    .dataframe tbody tr th {\n",
       "        vertical-align: top;\n",
       "    }\n",
       "\n",
       "    .dataframe thead th {\n",
       "        text-align: right;\n",
       "    }\n",
       "</style>\n",
       "<table border=\"1\" class=\"dataframe\">\n",
       "  <thead>\n",
       "    <tr style=\"text-align: right;\">\n",
       "      <th></th>\n",
       "      <th>original_price</th>\n",
       "      <th>main_category</th>\n",
       "    </tr>\n",
       "  </thead>\n",
       "  <tbody>\n",
       "    <tr>\n",
       "      <th>1005</th>\n",
       "      <td>8500.0</td>\n",
       "      <td>Baby Products</td>\n",
       "    </tr>\n",
       "  </tbody>\n",
       "</table>\n",
       "</div>"
      ],
      "text/plain": [
       "      original_price  main_category\n",
       "1005          8500.0  Baby Products"
      ]
     },
     "metadata": {},
     "output_type": "display_data"
    },
    {
     "name": "stdout",
     "output_type": "stream",
     "text": [
      "Category: Books, Movies and Music, Outliers: 2\n"
     ]
    },
    {
     "data": {
      "application/vnd.microsoft.datawrangler.viewer.v0+json": {
       "columns": [
        {
         "name": "index",
         "rawType": "int64",
         "type": "integer"
        },
        {
         "name": "original_price",
         "rawType": "float64",
         "type": "float"
        },
        {
         "name": "main_category",
         "rawType": "object",
         "type": "string"
        }
       ],
       "ref": "366884b8-3434-4157-aa2b-5f04ba278dd5",
       "rows": [
        [
         "934",
         "12000.0",
         "Books, Movies and Music"
        ],
        [
         "976",
         "2999.0",
         "Books, Movies and Music"
        ]
       ],
       "shape": {
        "columns": 2,
        "rows": 2
       }
      },
      "text/html": [
       "<div>\n",
       "<style scoped>\n",
       "    .dataframe tbody tr th:only-of-type {\n",
       "        vertical-align: middle;\n",
       "    }\n",
       "\n",
       "    .dataframe tbody tr th {\n",
       "        vertical-align: top;\n",
       "    }\n",
       "\n",
       "    .dataframe thead th {\n",
       "        text-align: right;\n",
       "    }\n",
       "</style>\n",
       "<table border=\"1\" class=\"dataframe\">\n",
       "  <thead>\n",
       "    <tr style=\"text-align: right;\">\n",
       "      <th></th>\n",
       "      <th>original_price</th>\n",
       "      <th>main_category</th>\n",
       "    </tr>\n",
       "  </thead>\n",
       "  <tbody>\n",
       "    <tr>\n",
       "      <th>934</th>\n",
       "      <td>12000.0</td>\n",
       "      <td>Books, Movies and Music</td>\n",
       "    </tr>\n",
       "    <tr>\n",
       "      <th>976</th>\n",
       "      <td>2999.0</td>\n",
       "      <td>Books, Movies and Music</td>\n",
       "    </tr>\n",
       "  </tbody>\n",
       "</table>\n",
       "</div>"
      ],
      "text/plain": [
       "     original_price            main_category\n",
       "934         12000.0  Books, Movies and Music\n",
       "976          2999.0  Books, Movies and Music"
      ]
     },
     "metadata": {},
     "output_type": "display_data"
    },
    {
     "name": "stdout",
     "output_type": "stream",
     "text": [
      "Category: Computing, Outliers: 20\n"
     ]
    },
    {
     "data": {
      "application/vnd.microsoft.datawrangler.viewer.v0+json": {
       "columns": [
        {
         "name": "index",
         "rawType": "int64",
         "type": "integer"
        },
        {
         "name": "original_price",
         "rawType": "float64",
         "type": "float"
        },
        {
         "name": "main_category",
         "rawType": "object",
         "type": "string"
        }
       ],
       "ref": "feb66ad4-f468-4d0b-9aaf-3253d57aac82",
       "rows": [
        [
         "121",
         "19000.0",
         "Computing"
        ],
        [
         "203",
         "45000.0",
         "Computing"
        ],
        [
         "210",
         "25000.0",
         "Computing"
        ],
        [
         "233",
         "35000.0",
         "Computing"
        ],
        [
         "615",
         "135720.0",
         "Computing"
        ]
       ],
       "shape": {
        "columns": 2,
        "rows": 5
       }
      },
      "text/html": [
       "<div>\n",
       "<style scoped>\n",
       "    .dataframe tbody tr th:only-of-type {\n",
       "        vertical-align: middle;\n",
       "    }\n",
       "\n",
       "    .dataframe tbody tr th {\n",
       "        vertical-align: top;\n",
       "    }\n",
       "\n",
       "    .dataframe thead th {\n",
       "        text-align: right;\n",
       "    }\n",
       "</style>\n",
       "<table border=\"1\" class=\"dataframe\">\n",
       "  <thead>\n",
       "    <tr style=\"text-align: right;\">\n",
       "      <th></th>\n",
       "      <th>original_price</th>\n",
       "      <th>main_category</th>\n",
       "    </tr>\n",
       "  </thead>\n",
       "  <tbody>\n",
       "    <tr>\n",
       "      <th>121</th>\n",
       "      <td>19000.0</td>\n",
       "      <td>Computing</td>\n",
       "    </tr>\n",
       "    <tr>\n",
       "      <th>203</th>\n",
       "      <td>45000.0</td>\n",
       "      <td>Computing</td>\n",
       "    </tr>\n",
       "    <tr>\n",
       "      <th>210</th>\n",
       "      <td>25000.0</td>\n",
       "      <td>Computing</td>\n",
       "    </tr>\n",
       "    <tr>\n",
       "      <th>233</th>\n",
       "      <td>35000.0</td>\n",
       "      <td>Computing</td>\n",
       "    </tr>\n",
       "    <tr>\n",
       "      <th>615</th>\n",
       "      <td>135720.0</td>\n",
       "      <td>Computing</td>\n",
       "    </tr>\n",
       "  </tbody>\n",
       "</table>\n",
       "</div>"
      ],
      "text/plain": [
       "     original_price main_category\n",
       "121         19000.0     Computing\n",
       "203         45000.0     Computing\n",
       "210         25000.0     Computing\n",
       "233         35000.0     Computing\n",
       "615        135720.0     Computing"
      ]
     },
     "metadata": {},
     "output_type": "display_data"
    },
    {
     "name": "stdout",
     "output_type": "stream",
     "text": [
      "Category: Electronics, Outliers: 9\n"
     ]
    },
    {
     "data": {
      "application/vnd.microsoft.datawrangler.viewer.v0+json": {
       "columns": [
        {
         "name": "index",
         "rawType": "int64",
         "type": "integer"
        },
        {
         "name": "original_price",
         "rawType": "float64",
         "type": "float"
        },
        {
         "name": "main_category",
         "rawType": "object",
         "type": "string"
        }
       ],
       "ref": "e1cb911d-1d84-4056-9b10-d0310f22af84",
       "rows": [
        [
         "559",
         "100000.0",
         "Electronics"
        ],
        [
         "667",
         "110000.0",
         "Electronics"
        ],
        [
         "733",
         "100000.0",
         "Electronics"
        ],
        [
         "737",
         "80000.0",
         "Electronics"
        ],
        [
         "928",
         "110000.0",
         "Electronics"
        ]
       ],
       "shape": {
        "columns": 2,
        "rows": 5
       }
      },
      "text/html": [
       "<div>\n",
       "<style scoped>\n",
       "    .dataframe tbody tr th:only-of-type {\n",
       "        vertical-align: middle;\n",
       "    }\n",
       "\n",
       "    .dataframe tbody tr th {\n",
       "        vertical-align: top;\n",
       "    }\n",
       "\n",
       "    .dataframe thead th {\n",
       "        text-align: right;\n",
       "    }\n",
       "</style>\n",
       "<table border=\"1\" class=\"dataframe\">\n",
       "  <thead>\n",
       "    <tr style=\"text-align: right;\">\n",
       "      <th></th>\n",
       "      <th>original_price</th>\n",
       "      <th>main_category</th>\n",
       "    </tr>\n",
       "  </thead>\n",
       "  <tbody>\n",
       "    <tr>\n",
       "      <th>559</th>\n",
       "      <td>100000.0</td>\n",
       "      <td>Electronics</td>\n",
       "    </tr>\n",
       "    <tr>\n",
       "      <th>667</th>\n",
       "      <td>110000.0</td>\n",
       "      <td>Electronics</td>\n",
       "    </tr>\n",
       "    <tr>\n",
       "      <th>733</th>\n",
       "      <td>100000.0</td>\n",
       "      <td>Electronics</td>\n",
       "    </tr>\n",
       "    <tr>\n",
       "      <th>737</th>\n",
       "      <td>80000.0</td>\n",
       "      <td>Electronics</td>\n",
       "    </tr>\n",
       "    <tr>\n",
       "      <th>928</th>\n",
       "      <td>110000.0</td>\n",
       "      <td>Electronics</td>\n",
       "    </tr>\n",
       "  </tbody>\n",
       "</table>\n",
       "</div>"
      ],
      "text/plain": [
       "     original_price main_category\n",
       "559        100000.0   Electronics\n",
       "667        110000.0   Electronics\n",
       "733        100000.0   Electronics\n",
       "737         80000.0   Electronics\n",
       "928        110000.0   Electronics"
      ]
     },
     "metadata": {},
     "output_type": "display_data"
    },
    {
     "name": "stdout",
     "output_type": "stream",
     "text": [
      "Category: Fashion, Outliers: 16\n"
     ]
    },
    {
     "data": {
      "application/vnd.microsoft.datawrangler.viewer.v0+json": {
       "columns": [
        {
         "name": "index",
         "rawType": "int64",
         "type": "integer"
        },
        {
         "name": "original_price",
         "rawType": "float64",
         "type": "float"
        },
        {
         "name": "main_category",
         "rawType": "object",
         "type": "string"
        }
       ],
       "ref": "6c74f172-c495-4224-bd8f-f1a82286427b",
       "rows": [
        [
         "165",
         "4449.0",
         "Fashion"
        ],
        [
         "200",
         "7500.0",
         "Fashion"
        ],
        [
         "261",
         "4124.0",
         "Fashion"
        ],
        [
         "303",
         "3600.0",
         "Fashion"
        ],
        [
         "340",
         "4849.0",
         "Fashion"
        ]
       ],
       "shape": {
        "columns": 2,
        "rows": 5
       }
      },
      "text/html": [
       "<div>\n",
       "<style scoped>\n",
       "    .dataframe tbody tr th:only-of-type {\n",
       "        vertical-align: middle;\n",
       "    }\n",
       "\n",
       "    .dataframe tbody tr th {\n",
       "        vertical-align: top;\n",
       "    }\n",
       "\n",
       "    .dataframe thead th {\n",
       "        text-align: right;\n",
       "    }\n",
       "</style>\n",
       "<table border=\"1\" class=\"dataframe\">\n",
       "  <thead>\n",
       "    <tr style=\"text-align: right;\">\n",
       "      <th></th>\n",
       "      <th>original_price</th>\n",
       "      <th>main_category</th>\n",
       "    </tr>\n",
       "  </thead>\n",
       "  <tbody>\n",
       "    <tr>\n",
       "      <th>165</th>\n",
       "      <td>4449.0</td>\n",
       "      <td>Fashion</td>\n",
       "    </tr>\n",
       "    <tr>\n",
       "      <th>200</th>\n",
       "      <td>7500.0</td>\n",
       "      <td>Fashion</td>\n",
       "    </tr>\n",
       "    <tr>\n",
       "      <th>261</th>\n",
       "      <td>4124.0</td>\n",
       "      <td>Fashion</td>\n",
       "    </tr>\n",
       "    <tr>\n",
       "      <th>303</th>\n",
       "      <td>3600.0</td>\n",
       "      <td>Fashion</td>\n",
       "    </tr>\n",
       "    <tr>\n",
       "      <th>340</th>\n",
       "      <td>4849.0</td>\n",
       "      <td>Fashion</td>\n",
       "    </tr>\n",
       "  </tbody>\n",
       "</table>\n",
       "</div>"
      ],
      "text/plain": [
       "     original_price main_category\n",
       "165          4449.0       Fashion\n",
       "200          7500.0       Fashion\n",
       "261          4124.0       Fashion\n",
       "303          3600.0       Fashion\n",
       "340          4849.0       Fashion"
      ]
     },
     "metadata": {},
     "output_type": "display_data"
    },
    {
     "name": "stdout",
     "output_type": "stream",
     "text": [
      "Category: Gaming, Outliers: 1\n"
     ]
    },
    {
     "data": {
      "application/vnd.microsoft.datawrangler.viewer.v0+json": {
       "columns": [
        {
         "name": "index",
         "rawType": "int64",
         "type": "integer"
        },
        {
         "name": "original_price",
         "rawType": "float64",
         "type": "float"
        },
        {
         "name": "main_category",
         "rawType": "object",
         "type": "string"
        }
       ],
       "ref": "84997743-3064-4d4e-be3e-9e113564297d",
       "rows": [
        [
         "949",
         "7500.0",
         "Gaming"
        ]
       ],
       "shape": {
        "columns": 2,
        "rows": 1
       }
      },
      "text/html": [
       "<div>\n",
       "<style scoped>\n",
       "    .dataframe tbody tr th:only-of-type {\n",
       "        vertical-align: middle;\n",
       "    }\n",
       "\n",
       "    .dataframe tbody tr th {\n",
       "        vertical-align: top;\n",
       "    }\n",
       "\n",
       "    .dataframe thead th {\n",
       "        text-align: right;\n",
       "    }\n",
       "</style>\n",
       "<table border=\"1\" class=\"dataframe\">\n",
       "  <thead>\n",
       "    <tr style=\"text-align: right;\">\n",
       "      <th></th>\n",
       "      <th>original_price</th>\n",
       "      <th>main_category</th>\n",
       "    </tr>\n",
       "  </thead>\n",
       "  <tbody>\n",
       "    <tr>\n",
       "      <th>949</th>\n",
       "      <td>7500.0</td>\n",
       "      <td>Gaming</td>\n",
       "    </tr>\n",
       "  </tbody>\n",
       "</table>\n",
       "</div>"
      ],
      "text/plain": [
       "     original_price main_category\n",
       "949          7500.0        Gaming"
      ]
     },
     "metadata": {},
     "output_type": "display_data"
    },
    {
     "name": "stdout",
     "output_type": "stream",
     "text": [
      "Category: Garden & Outdoors, Outliers: 1\n"
     ]
    },
    {
     "data": {
      "application/vnd.microsoft.datawrangler.viewer.v0+json": {
       "columns": [
        {
         "name": "index",
         "rawType": "int64",
         "type": "integer"
        },
        {
         "name": "original_price",
         "rawType": "float64",
         "type": "float"
        },
        {
         "name": "main_category",
         "rawType": "object",
         "type": "string"
        }
       ],
       "ref": "921917a9-aeab-4346-9641-bfaf30c6739e",
       "rows": [
        [
         "739",
         "55000.0",
         "Garden & Outdoors"
        ]
       ],
       "shape": {
        "columns": 2,
        "rows": 1
       }
      },
      "text/html": [
       "<div>\n",
       "<style scoped>\n",
       "    .dataframe tbody tr th:only-of-type {\n",
       "        vertical-align: middle;\n",
       "    }\n",
       "\n",
       "    .dataframe tbody tr th {\n",
       "        vertical-align: top;\n",
       "    }\n",
       "\n",
       "    .dataframe thead th {\n",
       "        text-align: right;\n",
       "    }\n",
       "</style>\n",
       "<table border=\"1\" class=\"dataframe\">\n",
       "  <thead>\n",
       "    <tr style=\"text-align: right;\">\n",
       "      <th></th>\n",
       "      <th>original_price</th>\n",
       "      <th>main_category</th>\n",
       "    </tr>\n",
       "  </thead>\n",
       "  <tbody>\n",
       "    <tr>\n",
       "      <th>739</th>\n",
       "      <td>55000.0</td>\n",
       "      <td>Garden &amp; Outdoors</td>\n",
       "    </tr>\n",
       "  </tbody>\n",
       "</table>\n",
       "</div>"
      ],
      "text/plain": [
       "     original_price      main_category\n",
       "739         55000.0  Garden & Outdoors"
      ]
     },
     "metadata": {},
     "output_type": "display_data"
    },
    {
     "name": "stdout",
     "output_type": "stream",
     "text": [
      "Category: Grocery, Outliers: 2\n"
     ]
    },
    {
     "data": {
      "application/vnd.microsoft.datawrangler.viewer.v0+json": {
       "columns": [
        {
         "name": "index",
         "rawType": "int64",
         "type": "integer"
        },
        {
         "name": "original_price",
         "rawType": "float64",
         "type": "float"
        },
        {
         "name": "main_category",
         "rawType": "object",
         "type": "string"
        }
       ],
       "ref": "c64679fe-ed3b-4579-a43b-0718c17c2ba7",
       "rows": [
        [
         "891",
         "2599.0",
         "Grocery"
        ],
        [
         "1875",
         "5500.0",
         "Grocery"
        ]
       ],
       "shape": {
        "columns": 2,
        "rows": 2
       }
      },
      "text/html": [
       "<div>\n",
       "<style scoped>\n",
       "    .dataframe tbody tr th:only-of-type {\n",
       "        vertical-align: middle;\n",
       "    }\n",
       "\n",
       "    .dataframe tbody tr th {\n",
       "        vertical-align: top;\n",
       "    }\n",
       "\n",
       "    .dataframe thead th {\n",
       "        text-align: right;\n",
       "    }\n",
       "</style>\n",
       "<table border=\"1\" class=\"dataframe\">\n",
       "  <thead>\n",
       "    <tr style=\"text-align: right;\">\n",
       "      <th></th>\n",
       "      <th>original_price</th>\n",
       "      <th>main_category</th>\n",
       "    </tr>\n",
       "  </thead>\n",
       "  <tbody>\n",
       "    <tr>\n",
       "      <th>891</th>\n",
       "      <td>2599.0</td>\n",
       "      <td>Grocery</td>\n",
       "    </tr>\n",
       "    <tr>\n",
       "      <th>1875</th>\n",
       "      <td>5500.0</td>\n",
       "      <td>Grocery</td>\n",
       "    </tr>\n",
       "  </tbody>\n",
       "</table>\n",
       "</div>"
      ],
      "text/plain": [
       "      original_price main_category\n",
       "891           2599.0       Grocery\n",
       "1875          5500.0       Grocery"
      ]
     },
     "metadata": {},
     "output_type": "display_data"
    },
    {
     "name": "stdout",
     "output_type": "stream",
     "text": [
      "Category: Health & Beauty, Outliers: 20\n"
     ]
    },
    {
     "data": {
      "application/vnd.microsoft.datawrangler.viewer.v0+json": {
       "columns": [
        {
         "name": "index",
         "rawType": "int64",
         "type": "integer"
        },
        {
         "name": "original_price",
         "rawType": "float64",
         "type": "float"
        },
        {
         "name": "main_category",
         "rawType": "object",
         "type": "string"
        }
       ],
       "ref": "46cff917-d7f5-4059-9590-1e5ce224e2fe",
       "rows": [
        [
         "43",
         "5610.0",
         "Health & Beauty"
        ],
        [
         "167",
         "4420.0",
         "Health & Beauty"
        ],
        [
         "217",
         "6500.0",
         "Health & Beauty"
        ],
        [
         "300",
         "4345.0",
         "Health & Beauty"
        ],
        [
         "427",
         "5500.0",
         "Health & Beauty"
        ]
       ],
       "shape": {
        "columns": 2,
        "rows": 5
       }
      },
      "text/html": [
       "<div>\n",
       "<style scoped>\n",
       "    .dataframe tbody tr th:only-of-type {\n",
       "        vertical-align: middle;\n",
       "    }\n",
       "\n",
       "    .dataframe tbody tr th {\n",
       "        vertical-align: top;\n",
       "    }\n",
       "\n",
       "    .dataframe thead th {\n",
       "        text-align: right;\n",
       "    }\n",
       "</style>\n",
       "<table border=\"1\" class=\"dataframe\">\n",
       "  <thead>\n",
       "    <tr style=\"text-align: right;\">\n",
       "      <th></th>\n",
       "      <th>original_price</th>\n",
       "      <th>main_category</th>\n",
       "    </tr>\n",
       "  </thead>\n",
       "  <tbody>\n",
       "    <tr>\n",
       "      <th>43</th>\n",
       "      <td>5610.0</td>\n",
       "      <td>Health &amp; Beauty</td>\n",
       "    </tr>\n",
       "    <tr>\n",
       "      <th>167</th>\n",
       "      <td>4420.0</td>\n",
       "      <td>Health &amp; Beauty</td>\n",
       "    </tr>\n",
       "    <tr>\n",
       "      <th>217</th>\n",
       "      <td>6500.0</td>\n",
       "      <td>Health &amp; Beauty</td>\n",
       "    </tr>\n",
       "    <tr>\n",
       "      <th>300</th>\n",
       "      <td>4345.0</td>\n",
       "      <td>Health &amp; Beauty</td>\n",
       "    </tr>\n",
       "    <tr>\n",
       "      <th>427</th>\n",
       "      <td>5500.0</td>\n",
       "      <td>Health &amp; Beauty</td>\n",
       "    </tr>\n",
       "  </tbody>\n",
       "</table>\n",
       "</div>"
      ],
      "text/plain": [
       "     original_price    main_category\n",
       "43           5610.0  Health & Beauty\n",
       "167          4420.0  Health & Beauty\n",
       "217          6500.0  Health & Beauty\n",
       "300          4345.0  Health & Beauty\n",
       "427          5500.0  Health & Beauty"
      ]
     },
     "metadata": {},
     "output_type": "display_data"
    },
    {
     "name": "stdout",
     "output_type": "stream",
     "text": [
      "Category: Home & Office, Outliers: 51\n"
     ]
    },
    {
     "data": {
      "application/vnd.microsoft.datawrangler.viewer.v0+json": {
       "columns": [
        {
         "name": "index",
         "rawType": "int64",
         "type": "integer"
        },
        {
         "name": "original_price",
         "rawType": "float64",
         "type": "float"
        },
        {
         "name": "main_category",
         "rawType": "object",
         "type": "string"
        }
       ],
       "ref": "1140d948-f0b3-43fd-8909-b09b69b28b03",
       "rows": [
        [
         "12",
         "11995.0",
         "Home & Office"
        ],
        [
         "16",
         "11800.0",
         "Home & Office"
        ],
        [
         "36",
         "26199.0",
         "Home & Office"
        ],
        [
         "39",
         "25399.0",
         "Home & Office"
        ],
        [
         "55",
         "23599.0",
         "Home & Office"
        ]
       ],
       "shape": {
        "columns": 2,
        "rows": 5
       }
      },
      "text/html": [
       "<div>\n",
       "<style scoped>\n",
       "    .dataframe tbody tr th:only-of-type {\n",
       "        vertical-align: middle;\n",
       "    }\n",
       "\n",
       "    .dataframe tbody tr th {\n",
       "        vertical-align: top;\n",
       "    }\n",
       "\n",
       "    .dataframe thead th {\n",
       "        text-align: right;\n",
       "    }\n",
       "</style>\n",
       "<table border=\"1\" class=\"dataframe\">\n",
       "  <thead>\n",
       "    <tr style=\"text-align: right;\">\n",
       "      <th></th>\n",
       "      <th>original_price</th>\n",
       "      <th>main_category</th>\n",
       "    </tr>\n",
       "  </thead>\n",
       "  <tbody>\n",
       "    <tr>\n",
       "      <th>12</th>\n",
       "      <td>11995.0</td>\n",
       "      <td>Home &amp; Office</td>\n",
       "    </tr>\n",
       "    <tr>\n",
       "      <th>16</th>\n",
       "      <td>11800.0</td>\n",
       "      <td>Home &amp; Office</td>\n",
       "    </tr>\n",
       "    <tr>\n",
       "      <th>36</th>\n",
       "      <td>26199.0</td>\n",
       "      <td>Home &amp; Office</td>\n",
       "    </tr>\n",
       "    <tr>\n",
       "      <th>39</th>\n",
       "      <td>25399.0</td>\n",
       "      <td>Home &amp; Office</td>\n",
       "    </tr>\n",
       "    <tr>\n",
       "      <th>55</th>\n",
       "      <td>23599.0</td>\n",
       "      <td>Home &amp; Office</td>\n",
       "    </tr>\n",
       "  </tbody>\n",
       "</table>\n",
       "</div>"
      ],
      "text/plain": [
       "    original_price  main_category\n",
       "12         11995.0  Home & Office\n",
       "16         11800.0  Home & Office\n",
       "36         26199.0  Home & Office\n",
       "39         25399.0  Home & Office\n",
       "55         23599.0  Home & Office"
      ]
     },
     "metadata": {},
     "output_type": "display_data"
    },
    {
     "name": "stdout",
     "output_type": "stream",
     "text": [
      "Category: Industrial & Scientific, Outliers: 3\n"
     ]
    },
    {
     "data": {
      "application/vnd.microsoft.datawrangler.viewer.v0+json": {
       "columns": [
        {
         "name": "index",
         "rawType": "int64",
         "type": "integer"
        },
        {
         "name": "original_price",
         "rawType": "float64",
         "type": "float"
        },
        {
         "name": "main_category",
         "rawType": "object",
         "type": "string"
        }
       ],
       "ref": "d1236264-f3b6-4a6a-9e51-4a0b3776c90b",
       "rows": [
        [
         "239",
         "19000.0",
         "Industrial & Scientific"
        ],
        [
         "412",
         "11790.0",
         "Industrial & Scientific"
        ],
        [
         "699",
         "23999.0",
         "Industrial & Scientific"
        ]
       ],
       "shape": {
        "columns": 2,
        "rows": 3
       }
      },
      "text/html": [
       "<div>\n",
       "<style scoped>\n",
       "    .dataframe tbody tr th:only-of-type {\n",
       "        vertical-align: middle;\n",
       "    }\n",
       "\n",
       "    .dataframe tbody tr th {\n",
       "        vertical-align: top;\n",
       "    }\n",
       "\n",
       "    .dataframe thead th {\n",
       "        text-align: right;\n",
       "    }\n",
       "</style>\n",
       "<table border=\"1\" class=\"dataframe\">\n",
       "  <thead>\n",
       "    <tr style=\"text-align: right;\">\n",
       "      <th></th>\n",
       "      <th>original_price</th>\n",
       "      <th>main_category</th>\n",
       "    </tr>\n",
       "  </thead>\n",
       "  <tbody>\n",
       "    <tr>\n",
       "      <th>239</th>\n",
       "      <td>19000.0</td>\n",
       "      <td>Industrial &amp; Scientific</td>\n",
       "    </tr>\n",
       "    <tr>\n",
       "      <th>412</th>\n",
       "      <td>11790.0</td>\n",
       "      <td>Industrial &amp; Scientific</td>\n",
       "    </tr>\n",
       "    <tr>\n",
       "      <th>699</th>\n",
       "      <td>23999.0</td>\n",
       "      <td>Industrial &amp; Scientific</td>\n",
       "    </tr>\n",
       "  </tbody>\n",
       "</table>\n",
       "</div>"
      ],
      "text/plain": [
       "     original_price            main_category\n",
       "239         19000.0  Industrial & Scientific\n",
       "412         11790.0  Industrial & Scientific\n",
       "699         23999.0  Industrial & Scientific"
      ]
     },
     "metadata": {},
     "output_type": "display_data"
    },
    {
     "name": "stdout",
     "output_type": "stream",
     "text": [
      "Category: Musical Instruments, Outliers: 1\n"
     ]
    },
    {
     "data": {
      "application/vnd.microsoft.datawrangler.viewer.v0+json": {
       "columns": [
        {
         "name": "index",
         "rawType": "int64",
         "type": "integer"
        },
        {
         "name": "original_price",
         "rawType": "float64",
         "type": "float"
        },
        {
         "name": "main_category",
         "rawType": "object",
         "type": "string"
        }
       ],
       "ref": "4b3fe6ce-7de8-4494-8a8d-e955a3356ebf",
       "rows": [
        [
         "1066",
         "70000.0",
         "Musical Instruments"
        ]
       ],
       "shape": {
        "columns": 2,
        "rows": 1
       }
      },
      "text/html": [
       "<div>\n",
       "<style scoped>\n",
       "    .dataframe tbody tr th:only-of-type {\n",
       "        vertical-align: middle;\n",
       "    }\n",
       "\n",
       "    .dataframe tbody tr th {\n",
       "        vertical-align: top;\n",
       "    }\n",
       "\n",
       "    .dataframe thead th {\n",
       "        text-align: right;\n",
       "    }\n",
       "</style>\n",
       "<table border=\"1\" class=\"dataframe\">\n",
       "  <thead>\n",
       "    <tr style=\"text-align: right;\">\n",
       "      <th></th>\n",
       "      <th>original_price</th>\n",
       "      <th>main_category</th>\n",
       "    </tr>\n",
       "  </thead>\n",
       "  <tbody>\n",
       "    <tr>\n",
       "      <th>1066</th>\n",
       "      <td>70000.0</td>\n",
       "      <td>Musical Instruments</td>\n",
       "    </tr>\n",
       "  </tbody>\n",
       "</table>\n",
       "</div>"
      ],
      "text/plain": [
       "      original_price        main_category\n",
       "1066         70000.0  Musical Instruments"
      ]
     },
     "metadata": {},
     "output_type": "display_data"
    },
    {
     "name": "stdout",
     "output_type": "stream",
     "text": [
      "Category: Pet Supplies, Outliers: 2\n"
     ]
    },
    {
     "data": {
      "application/vnd.microsoft.datawrangler.viewer.v0+json": {
       "columns": [
        {
         "name": "index",
         "rawType": "int64",
         "type": "integer"
        },
        {
         "name": "original_price",
         "rawType": "float64",
         "type": "float"
        },
        {
         "name": "main_category",
         "rawType": "object",
         "type": "string"
        }
       ],
       "ref": "97924c5b-6df4-42ee-b536-09c533d5fbba",
       "rows": [
        [
         "915",
         "3780.0",
         "Pet Supplies"
        ],
        [
         "1680",
         "5999.0",
         "Pet Supplies"
        ]
       ],
       "shape": {
        "columns": 2,
        "rows": 2
       }
      },
      "text/html": [
       "<div>\n",
       "<style scoped>\n",
       "    .dataframe tbody tr th:only-of-type {\n",
       "        vertical-align: middle;\n",
       "    }\n",
       "\n",
       "    .dataframe tbody tr th {\n",
       "        vertical-align: top;\n",
       "    }\n",
       "\n",
       "    .dataframe thead th {\n",
       "        text-align: right;\n",
       "    }\n",
       "</style>\n",
       "<table border=\"1\" class=\"dataframe\">\n",
       "  <thead>\n",
       "    <tr style=\"text-align: right;\">\n",
       "      <th></th>\n",
       "      <th>original_price</th>\n",
       "      <th>main_category</th>\n",
       "    </tr>\n",
       "  </thead>\n",
       "  <tbody>\n",
       "    <tr>\n",
       "      <th>915</th>\n",
       "      <td>3780.0</td>\n",
       "      <td>Pet Supplies</td>\n",
       "    </tr>\n",
       "    <tr>\n",
       "      <th>1680</th>\n",
       "      <td>5999.0</td>\n",
       "      <td>Pet Supplies</td>\n",
       "    </tr>\n",
       "  </tbody>\n",
       "</table>\n",
       "</div>"
      ],
      "text/plain": [
       "      original_price main_category\n",
       "915           3780.0  Pet Supplies\n",
       "1680          5999.0  Pet Supplies"
      ]
     },
     "metadata": {},
     "output_type": "display_data"
    },
    {
     "name": "stdout",
     "output_type": "stream",
     "text": [
      "Category: Phones & Tablets, Outliers: 10\n"
     ]
    },
    {
     "data": {
      "application/vnd.microsoft.datawrangler.viewer.v0+json": {
       "columns": [
        {
         "name": "index",
         "rawType": "int64",
         "type": "integer"
        },
        {
         "name": "original_price",
         "rawType": "float64",
         "type": "float"
        },
        {
         "name": "main_category",
         "rawType": "object",
         "type": "string"
        }
       ],
       "ref": "60e9326b-71d9-48a1-b30b-257898811c56",
       "rows": [
        [
         "916",
         "60000.0",
         "Phones & Tablets"
        ],
        [
         "1162",
         "50000.0",
         "Phones & Tablets"
        ],
        [
         "1434",
         "50999.0",
         "Phones & Tablets"
        ],
        [
         "1460",
         "65000.0",
         "Phones & Tablets"
        ],
        [
         "1588",
         "60999.0",
         "Phones & Tablets"
        ]
       ],
       "shape": {
        "columns": 2,
        "rows": 5
       }
      },
      "text/html": [
       "<div>\n",
       "<style scoped>\n",
       "    .dataframe tbody tr th:only-of-type {\n",
       "        vertical-align: middle;\n",
       "    }\n",
       "\n",
       "    .dataframe tbody tr th {\n",
       "        vertical-align: top;\n",
       "    }\n",
       "\n",
       "    .dataframe thead th {\n",
       "        text-align: right;\n",
       "    }\n",
       "</style>\n",
       "<table border=\"1\" class=\"dataframe\">\n",
       "  <thead>\n",
       "    <tr style=\"text-align: right;\">\n",
       "      <th></th>\n",
       "      <th>original_price</th>\n",
       "      <th>main_category</th>\n",
       "    </tr>\n",
       "  </thead>\n",
       "  <tbody>\n",
       "    <tr>\n",
       "      <th>916</th>\n",
       "      <td>60000.0</td>\n",
       "      <td>Phones &amp; Tablets</td>\n",
       "    </tr>\n",
       "    <tr>\n",
       "      <th>1162</th>\n",
       "      <td>50000.0</td>\n",
       "      <td>Phones &amp; Tablets</td>\n",
       "    </tr>\n",
       "    <tr>\n",
       "      <th>1434</th>\n",
       "      <td>50999.0</td>\n",
       "      <td>Phones &amp; Tablets</td>\n",
       "    </tr>\n",
       "    <tr>\n",
       "      <th>1460</th>\n",
       "      <td>65000.0</td>\n",
       "      <td>Phones &amp; Tablets</td>\n",
       "    </tr>\n",
       "    <tr>\n",
       "      <th>1588</th>\n",
       "      <td>60999.0</td>\n",
       "      <td>Phones &amp; Tablets</td>\n",
       "    </tr>\n",
       "  </tbody>\n",
       "</table>\n",
       "</div>"
      ],
      "text/plain": [
       "      original_price     main_category\n",
       "916          60000.0  Phones & Tablets\n",
       "1162         50000.0  Phones & Tablets\n",
       "1434         50999.0  Phones & Tablets\n",
       "1460         65000.0  Phones & Tablets\n",
       "1588         60999.0  Phones & Tablets"
      ]
     },
     "metadata": {},
     "output_type": "display_data"
    },
    {
     "name": "stdout",
     "output_type": "stream",
     "text": [
      "Category: Sporting Goods, Outliers: 4\n"
     ]
    },
    {
     "data": {
      "application/vnd.microsoft.datawrangler.viewer.v0+json": {
       "columns": [
        {
         "name": "index",
         "rawType": "int64",
         "type": "integer"
        },
        {
         "name": "original_price",
         "rawType": "float64",
         "type": "float"
        },
        {
         "name": "main_category",
         "rawType": "object",
         "type": "string"
        }
       ],
       "ref": "92c9d1e3-2465-4be3-8dea-6aeb85fdaf26",
       "rows": [
        [
         "601",
         "170000.0",
         "Sporting Goods"
        ],
        [
         "659",
         "19000.0",
         "Sporting Goods"
        ],
        [
         "701",
         "21598.0",
         "Sporting Goods"
        ],
        [
         "1092",
         "21998.0",
         "Sporting Goods"
        ]
       ],
       "shape": {
        "columns": 2,
        "rows": 4
       }
      },
      "text/html": [
       "<div>\n",
       "<style scoped>\n",
       "    .dataframe tbody tr th:only-of-type {\n",
       "        vertical-align: middle;\n",
       "    }\n",
       "\n",
       "    .dataframe tbody tr th {\n",
       "        vertical-align: top;\n",
       "    }\n",
       "\n",
       "    .dataframe thead th {\n",
       "        text-align: right;\n",
       "    }\n",
       "</style>\n",
       "<table border=\"1\" class=\"dataframe\">\n",
       "  <thead>\n",
       "    <tr style=\"text-align: right;\">\n",
       "      <th></th>\n",
       "      <th>original_price</th>\n",
       "      <th>main_category</th>\n",
       "    </tr>\n",
       "  </thead>\n",
       "  <tbody>\n",
       "    <tr>\n",
       "      <th>601</th>\n",
       "      <td>170000.0</td>\n",
       "      <td>Sporting Goods</td>\n",
       "    </tr>\n",
       "    <tr>\n",
       "      <th>659</th>\n",
       "      <td>19000.0</td>\n",
       "      <td>Sporting Goods</td>\n",
       "    </tr>\n",
       "    <tr>\n",
       "      <th>701</th>\n",
       "      <td>21598.0</td>\n",
       "      <td>Sporting Goods</td>\n",
       "    </tr>\n",
       "    <tr>\n",
       "      <th>1092</th>\n",
       "      <td>21998.0</td>\n",
       "      <td>Sporting Goods</td>\n",
       "    </tr>\n",
       "  </tbody>\n",
       "</table>\n",
       "</div>"
      ],
      "text/plain": [
       "      original_price   main_category\n",
       "601         170000.0  Sporting Goods\n",
       "659          19000.0  Sporting Goods\n",
       "701          21598.0  Sporting Goods\n",
       "1092         21998.0  Sporting Goods"
      ]
     },
     "metadata": {},
     "output_type": "display_data"
    },
    {
     "name": "stdout",
     "output_type": "stream",
     "text": [
      "Category: Toys & Games, Outliers: 7\n"
     ]
    },
    {
     "data": {
      "application/vnd.microsoft.datawrangler.viewer.v0+json": {
       "columns": [
        {
         "name": "index",
         "rawType": "int64",
         "type": "integer"
        },
        {
         "name": "original_price",
         "rawType": "float64",
         "type": "float"
        },
        {
         "name": "main_category",
         "rawType": "object",
         "type": "string"
        }
       ],
       "ref": "735035a2-4508-4c7c-8f5b-7c5b6e36a2e7",
       "rows": [
        [
         "657",
         "21999.0",
         "Toys & Games"
        ],
        [
         "672",
         "11999.0",
         "Toys & Games"
        ],
        [
         "929",
         "49999.0",
         "Toys & Games"
        ],
        [
         "1360",
         "15500.0",
         "Toys & Games"
        ],
        [
         "1646",
         "14900.0",
         "Toys & Games"
        ]
       ],
       "shape": {
        "columns": 2,
        "rows": 5
       }
      },
      "text/html": [
       "<div>\n",
       "<style scoped>\n",
       "    .dataframe tbody tr th:only-of-type {\n",
       "        vertical-align: middle;\n",
       "    }\n",
       "\n",
       "    .dataframe tbody tr th {\n",
       "        vertical-align: top;\n",
       "    }\n",
       "\n",
       "    .dataframe thead th {\n",
       "        text-align: right;\n",
       "    }\n",
       "</style>\n",
       "<table border=\"1\" class=\"dataframe\">\n",
       "  <thead>\n",
       "    <tr style=\"text-align: right;\">\n",
       "      <th></th>\n",
       "      <th>original_price</th>\n",
       "      <th>main_category</th>\n",
       "    </tr>\n",
       "  </thead>\n",
       "  <tbody>\n",
       "    <tr>\n",
       "      <th>657</th>\n",
       "      <td>21999.0</td>\n",
       "      <td>Toys &amp; Games</td>\n",
       "    </tr>\n",
       "    <tr>\n",
       "      <th>672</th>\n",
       "      <td>11999.0</td>\n",
       "      <td>Toys &amp; Games</td>\n",
       "    </tr>\n",
       "    <tr>\n",
       "      <th>929</th>\n",
       "      <td>49999.0</td>\n",
       "      <td>Toys &amp; Games</td>\n",
       "    </tr>\n",
       "    <tr>\n",
       "      <th>1360</th>\n",
       "      <td>15500.0</td>\n",
       "      <td>Toys &amp; Games</td>\n",
       "    </tr>\n",
       "    <tr>\n",
       "      <th>1646</th>\n",
       "      <td>14900.0</td>\n",
       "      <td>Toys &amp; Games</td>\n",
       "    </tr>\n",
       "  </tbody>\n",
       "</table>\n",
       "</div>"
      ],
      "text/plain": [
       "      original_price main_category\n",
       "657          21999.0  Toys & Games\n",
       "672          11999.0  Toys & Games\n",
       "929          49999.0  Toys & Games\n",
       "1360         15500.0  Toys & Games\n",
       "1646         14900.0  Toys & Games"
      ]
     },
     "metadata": {},
     "output_type": "display_data"
    },
    {
     "name": "stdout",
     "output_type": "stream",
     "text": [
      "\n",
      "Checking outliers for column: verified_ratings\n",
      "\n",
      "Category: Automobile, Outliers: 7\n"
     ]
    },
    {
     "data": {
      "application/vnd.microsoft.datawrangler.viewer.v0+json": {
       "columns": [
        {
         "name": "index",
         "rawType": "int64",
         "type": "integer"
        },
        {
         "name": "verified_ratings",
         "rawType": "float64",
         "type": "float"
        },
        {
         "name": "main_category",
         "rawType": "object",
         "type": "string"
        }
       ],
       "ref": "75b698c8-a745-4fc3-90d4-8261ccdcb2bc",
       "rows": [
        [
         "459",
         "19.0",
         "Automobile"
        ],
        [
         "473",
         "17.0",
         "Automobile"
        ],
        [
         "1083",
         "19.0",
         "Automobile"
        ],
        [
         "1264",
         "36.0",
         "Automobile"
        ],
        [
         "1299",
         "23.0",
         "Automobile"
        ]
       ],
       "shape": {
        "columns": 2,
        "rows": 5
       }
      },
      "text/html": [
       "<div>\n",
       "<style scoped>\n",
       "    .dataframe tbody tr th:only-of-type {\n",
       "        vertical-align: middle;\n",
       "    }\n",
       "\n",
       "    .dataframe tbody tr th {\n",
       "        vertical-align: top;\n",
       "    }\n",
       "\n",
       "    .dataframe thead th {\n",
       "        text-align: right;\n",
       "    }\n",
       "</style>\n",
       "<table border=\"1\" class=\"dataframe\">\n",
       "  <thead>\n",
       "    <tr style=\"text-align: right;\">\n",
       "      <th></th>\n",
       "      <th>verified_ratings</th>\n",
       "      <th>main_category</th>\n",
       "    </tr>\n",
       "  </thead>\n",
       "  <tbody>\n",
       "    <tr>\n",
       "      <th>459</th>\n",
       "      <td>19.0</td>\n",
       "      <td>Automobile</td>\n",
       "    </tr>\n",
       "    <tr>\n",
       "      <th>473</th>\n",
       "      <td>17.0</td>\n",
       "      <td>Automobile</td>\n",
       "    </tr>\n",
       "    <tr>\n",
       "      <th>1083</th>\n",
       "      <td>19.0</td>\n",
       "      <td>Automobile</td>\n",
       "    </tr>\n",
       "    <tr>\n",
       "      <th>1264</th>\n",
       "      <td>36.0</td>\n",
       "      <td>Automobile</td>\n",
       "    </tr>\n",
       "    <tr>\n",
       "      <th>1299</th>\n",
       "      <td>23.0</td>\n",
       "      <td>Automobile</td>\n",
       "    </tr>\n",
       "  </tbody>\n",
       "</table>\n",
       "</div>"
      ],
      "text/plain": [
       "      verified_ratings main_category\n",
       "459               19.0    Automobile\n",
       "473               17.0    Automobile\n",
       "1083              19.0    Automobile\n",
       "1264              36.0    Automobile\n",
       "1299              23.0    Automobile"
      ]
     },
     "metadata": {},
     "output_type": "display_data"
    },
    {
     "name": "stdout",
     "output_type": "stream",
     "text": [
      "Category: Baby Products, Outliers: 2\n"
     ]
    },
    {
     "data": {
      "application/vnd.microsoft.datawrangler.viewer.v0+json": {
       "columns": [
        {
         "name": "index",
         "rawType": "int64",
         "type": "integer"
        },
        {
         "name": "verified_ratings",
         "rawType": "float64",
         "type": "float"
        },
        {
         "name": "main_category",
         "rawType": "object",
         "type": "string"
        }
       ],
       "ref": "b6528274-d013-4f6a-b514-bcb0f4a57ba9",
       "rows": [
        [
         "59",
         "259.0",
         "Baby Products"
        ],
        [
         "1242",
         "36.0",
         "Baby Products"
        ]
       ],
       "shape": {
        "columns": 2,
        "rows": 2
       }
      },
      "text/html": [
       "<div>\n",
       "<style scoped>\n",
       "    .dataframe tbody tr th:only-of-type {\n",
       "        vertical-align: middle;\n",
       "    }\n",
       "\n",
       "    .dataframe tbody tr th {\n",
       "        vertical-align: top;\n",
       "    }\n",
       "\n",
       "    .dataframe thead th {\n",
       "        text-align: right;\n",
       "    }\n",
       "</style>\n",
       "<table border=\"1\" class=\"dataframe\">\n",
       "  <thead>\n",
       "    <tr style=\"text-align: right;\">\n",
       "      <th></th>\n",
       "      <th>verified_ratings</th>\n",
       "      <th>main_category</th>\n",
       "    </tr>\n",
       "  </thead>\n",
       "  <tbody>\n",
       "    <tr>\n",
       "      <th>59</th>\n",
       "      <td>259.0</td>\n",
       "      <td>Baby Products</td>\n",
       "    </tr>\n",
       "    <tr>\n",
       "      <th>1242</th>\n",
       "      <td>36.0</td>\n",
       "      <td>Baby Products</td>\n",
       "    </tr>\n",
       "  </tbody>\n",
       "</table>\n",
       "</div>"
      ],
      "text/plain": [
       "      verified_ratings  main_category\n",
       "59               259.0  Baby Products\n",
       "1242              36.0  Baby Products"
      ]
     },
     "metadata": {},
     "output_type": "display_data"
    },
    {
     "name": "stdout",
     "output_type": "stream",
     "text": [
      "Category: Books, Movies and Music, Outliers: 8\n"
     ]
    },
    {
     "data": {
      "application/vnd.microsoft.datawrangler.viewer.v0+json": {
       "columns": [
        {
         "name": "index",
         "rawType": "int64",
         "type": "integer"
        },
        {
         "name": "verified_ratings",
         "rawType": "float64",
         "type": "float"
        },
        {
         "name": "main_category",
         "rawType": "object",
         "type": "string"
        }
       ],
       "ref": "8ffde37d-0a91-4858-a32d-e36725226818",
       "rows": [
        [
         "514",
         "1.0",
         "Books, Movies and Music"
        ],
        [
         "649",
         "1.0",
         "Books, Movies and Music"
        ],
        [
         "749",
         "1.0",
         "Books, Movies and Music"
        ],
        [
         "885",
         "9.0",
         "Books, Movies and Music"
        ],
        [
         "946",
         "2.0",
         "Books, Movies and Music"
        ]
       ],
       "shape": {
        "columns": 2,
        "rows": 5
       }
      },
      "text/html": [
       "<div>\n",
       "<style scoped>\n",
       "    .dataframe tbody tr th:only-of-type {\n",
       "        vertical-align: middle;\n",
       "    }\n",
       "\n",
       "    .dataframe tbody tr th {\n",
       "        vertical-align: top;\n",
       "    }\n",
       "\n",
       "    .dataframe thead th {\n",
       "        text-align: right;\n",
       "    }\n",
       "</style>\n",
       "<table border=\"1\" class=\"dataframe\">\n",
       "  <thead>\n",
       "    <tr style=\"text-align: right;\">\n",
       "      <th></th>\n",
       "      <th>verified_ratings</th>\n",
       "      <th>main_category</th>\n",
       "    </tr>\n",
       "  </thead>\n",
       "  <tbody>\n",
       "    <tr>\n",
       "      <th>514</th>\n",
       "      <td>1.0</td>\n",
       "      <td>Books, Movies and Music</td>\n",
       "    </tr>\n",
       "    <tr>\n",
       "      <th>649</th>\n",
       "      <td>1.0</td>\n",
       "      <td>Books, Movies and Music</td>\n",
       "    </tr>\n",
       "    <tr>\n",
       "      <th>749</th>\n",
       "      <td>1.0</td>\n",
       "      <td>Books, Movies and Music</td>\n",
       "    </tr>\n",
       "    <tr>\n",
       "      <th>885</th>\n",
       "      <td>9.0</td>\n",
       "      <td>Books, Movies and Music</td>\n",
       "    </tr>\n",
       "    <tr>\n",
       "      <th>946</th>\n",
       "      <td>2.0</td>\n",
       "      <td>Books, Movies and Music</td>\n",
       "    </tr>\n",
       "  </tbody>\n",
       "</table>\n",
       "</div>"
      ],
      "text/plain": [
       "     verified_ratings            main_category\n",
       "514               1.0  Books, Movies and Music\n",
       "649               1.0  Books, Movies and Music\n",
       "749               1.0  Books, Movies and Music\n",
       "885               9.0  Books, Movies and Music\n",
       "946               2.0  Books, Movies and Music"
      ]
     },
     "metadata": {},
     "output_type": "display_data"
    },
    {
     "name": "stdout",
     "output_type": "stream",
     "text": [
      "Category: Computing, Outliers: 12\n"
     ]
    },
    {
     "data": {
      "application/vnd.microsoft.datawrangler.viewer.v0+json": {
       "columns": [
        {
         "name": "index",
         "rawType": "int64",
         "type": "integer"
        },
        {
         "name": "verified_ratings",
         "rawType": "float64",
         "type": "float"
        },
        {
         "name": "main_category",
         "rawType": "object",
         "type": "string"
        }
       ],
       "ref": "03da6508-8d38-40e3-984e-2e3fe034180a",
       "rows": [
        [
         "107",
         "2117.0",
         "Computing"
        ],
        [
         "120",
         "2190.0",
         "Computing"
        ],
        [
         "156",
         "631.0",
         "Computing"
        ],
        [
         "270",
         "434.0",
         "Computing"
        ],
        [
         "296",
         "373.0",
         "Computing"
        ]
       ],
       "shape": {
        "columns": 2,
        "rows": 5
       }
      },
      "text/html": [
       "<div>\n",
       "<style scoped>\n",
       "    .dataframe tbody tr th:only-of-type {\n",
       "        vertical-align: middle;\n",
       "    }\n",
       "\n",
       "    .dataframe tbody tr th {\n",
       "        vertical-align: top;\n",
       "    }\n",
       "\n",
       "    .dataframe thead th {\n",
       "        text-align: right;\n",
       "    }\n",
       "</style>\n",
       "<table border=\"1\" class=\"dataframe\">\n",
       "  <thead>\n",
       "    <tr style=\"text-align: right;\">\n",
       "      <th></th>\n",
       "      <th>verified_ratings</th>\n",
       "      <th>main_category</th>\n",
       "    </tr>\n",
       "  </thead>\n",
       "  <tbody>\n",
       "    <tr>\n",
       "      <th>107</th>\n",
       "      <td>2117.0</td>\n",
       "      <td>Computing</td>\n",
       "    </tr>\n",
       "    <tr>\n",
       "      <th>120</th>\n",
       "      <td>2190.0</td>\n",
       "      <td>Computing</td>\n",
       "    </tr>\n",
       "    <tr>\n",
       "      <th>156</th>\n",
       "      <td>631.0</td>\n",
       "      <td>Computing</td>\n",
       "    </tr>\n",
       "    <tr>\n",
       "      <th>270</th>\n",
       "      <td>434.0</td>\n",
       "      <td>Computing</td>\n",
       "    </tr>\n",
       "    <tr>\n",
       "      <th>296</th>\n",
       "      <td>373.0</td>\n",
       "      <td>Computing</td>\n",
       "    </tr>\n",
       "  </tbody>\n",
       "</table>\n",
       "</div>"
      ],
      "text/plain": [
       "     verified_ratings main_category\n",
       "107            2117.0     Computing\n",
       "120            2190.0     Computing\n",
       "156             631.0     Computing\n",
       "270             434.0     Computing\n",
       "296             373.0     Computing"
      ]
     },
     "metadata": {},
     "output_type": "display_data"
    },
    {
     "name": "stdout",
     "output_type": "stream",
     "text": [
      "Category: Electronics, Outliers: 24\n"
     ]
    },
    {
     "data": {
      "application/vnd.microsoft.datawrangler.viewer.v0+json": {
       "columns": [
        {
         "name": "index",
         "rawType": "int64",
         "type": "integer"
        },
        {
         "name": "verified_ratings",
         "rawType": "float64",
         "type": "float"
        },
        {
         "name": "main_category",
         "rawType": "object",
         "type": "string"
        }
       ],
       "ref": "93a5826b-b48c-4b2b-9f38-697f742b4e04",
       "rows": [
        [
         "8",
         "1550.0",
         "Electronics"
        ],
        [
         "14",
         "501.0",
         "Electronics"
        ],
        [
         "100",
         "3700.0",
         "Electronics"
        ],
        [
         "103",
         "839.0",
         "Electronics"
        ],
        [
         "108",
         "298.0",
         "Electronics"
        ]
       ],
       "shape": {
        "columns": 2,
        "rows": 5
       }
      },
      "text/html": [
       "<div>\n",
       "<style scoped>\n",
       "    .dataframe tbody tr th:only-of-type {\n",
       "        vertical-align: middle;\n",
       "    }\n",
       "\n",
       "    .dataframe tbody tr th {\n",
       "        vertical-align: top;\n",
       "    }\n",
       "\n",
       "    .dataframe thead th {\n",
       "        text-align: right;\n",
       "    }\n",
       "</style>\n",
       "<table border=\"1\" class=\"dataframe\">\n",
       "  <thead>\n",
       "    <tr style=\"text-align: right;\">\n",
       "      <th></th>\n",
       "      <th>verified_ratings</th>\n",
       "      <th>main_category</th>\n",
       "    </tr>\n",
       "  </thead>\n",
       "  <tbody>\n",
       "    <tr>\n",
       "      <th>8</th>\n",
       "      <td>1550.0</td>\n",
       "      <td>Electronics</td>\n",
       "    </tr>\n",
       "    <tr>\n",
       "      <th>14</th>\n",
       "      <td>501.0</td>\n",
       "      <td>Electronics</td>\n",
       "    </tr>\n",
       "    <tr>\n",
       "      <th>100</th>\n",
       "      <td>3700.0</td>\n",
       "      <td>Electronics</td>\n",
       "    </tr>\n",
       "    <tr>\n",
       "      <th>103</th>\n",
       "      <td>839.0</td>\n",
       "      <td>Electronics</td>\n",
       "    </tr>\n",
       "    <tr>\n",
       "      <th>108</th>\n",
       "      <td>298.0</td>\n",
       "      <td>Electronics</td>\n",
       "    </tr>\n",
       "  </tbody>\n",
       "</table>\n",
       "</div>"
      ],
      "text/plain": [
       "     verified_ratings main_category\n",
       "8              1550.0   Electronics\n",
       "14              501.0   Electronics\n",
       "100            3700.0   Electronics\n",
       "103             839.0   Electronics\n",
       "108             298.0   Electronics"
      ]
     },
     "metadata": {},
     "output_type": "display_data"
    },
    {
     "name": "stdout",
     "output_type": "stream",
     "text": [
      "Category: Fashion, Outliers: 39\n"
     ]
    },
    {
     "data": {
      "application/vnd.microsoft.datawrangler.viewer.v0+json": {
       "columns": [
        {
         "name": "index",
         "rawType": "int64",
         "type": "integer"
        },
        {
         "name": "verified_ratings",
         "rawType": "float64",
         "type": "float"
        },
        {
         "name": "main_category",
         "rawType": "object",
         "type": "string"
        }
       ],
       "ref": "b6ed0119-42e1-44ae-8388-3f5a231fc77a",
       "rows": [
        [
         "4",
         "734.0",
         "Fashion"
        ],
        [
         "13",
         "1679.0",
         "Fashion"
        ],
        [
         "18",
         "410.0",
         "Fashion"
        ],
        [
         "20",
         "520.0",
         "Fashion"
        ],
        [
         "21",
         "884.0",
         "Fashion"
        ]
       ],
       "shape": {
        "columns": 2,
        "rows": 5
       }
      },
      "text/html": [
       "<div>\n",
       "<style scoped>\n",
       "    .dataframe tbody tr th:only-of-type {\n",
       "        vertical-align: middle;\n",
       "    }\n",
       "\n",
       "    .dataframe tbody tr th {\n",
       "        vertical-align: top;\n",
       "    }\n",
       "\n",
       "    .dataframe thead th {\n",
       "        text-align: right;\n",
       "    }\n",
       "</style>\n",
       "<table border=\"1\" class=\"dataframe\">\n",
       "  <thead>\n",
       "    <tr style=\"text-align: right;\">\n",
       "      <th></th>\n",
       "      <th>verified_ratings</th>\n",
       "      <th>main_category</th>\n",
       "    </tr>\n",
       "  </thead>\n",
       "  <tbody>\n",
       "    <tr>\n",
       "      <th>4</th>\n",
       "      <td>734.0</td>\n",
       "      <td>Fashion</td>\n",
       "    </tr>\n",
       "    <tr>\n",
       "      <th>13</th>\n",
       "      <td>1679.0</td>\n",
       "      <td>Fashion</td>\n",
       "    </tr>\n",
       "    <tr>\n",
       "      <th>18</th>\n",
       "      <td>410.0</td>\n",
       "      <td>Fashion</td>\n",
       "    </tr>\n",
       "    <tr>\n",
       "      <th>20</th>\n",
       "      <td>520.0</td>\n",
       "      <td>Fashion</td>\n",
       "    </tr>\n",
       "    <tr>\n",
       "      <th>21</th>\n",
       "      <td>884.0</td>\n",
       "      <td>Fashion</td>\n",
       "    </tr>\n",
       "  </tbody>\n",
       "</table>\n",
       "</div>"
      ],
      "text/plain": [
       "    verified_ratings main_category\n",
       "4              734.0       Fashion\n",
       "13            1679.0       Fashion\n",
       "18             410.0       Fashion\n",
       "20             520.0       Fashion\n",
       "21             884.0       Fashion"
      ]
     },
     "metadata": {},
     "output_type": "display_data"
    },
    {
     "name": "stdout",
     "output_type": "stream",
     "text": [
      "Category: Gaming, Outliers: 1\n"
     ]
    },
    {
     "data": {
      "application/vnd.microsoft.datawrangler.viewer.v0+json": {
       "columns": [
        {
         "name": "index",
         "rawType": "int64",
         "type": "integer"
        },
        {
         "name": "verified_ratings",
         "rawType": "float64",
         "type": "float"
        },
        {
         "name": "main_category",
         "rawType": "object",
         "type": "string"
        }
       ],
       "ref": "a2a065ca-8bfa-44e5-b4b2-8a2ca89bf6ac",
       "rows": [
        [
         "1836",
         "69.0",
         "Gaming"
        ]
       ],
       "shape": {
        "columns": 2,
        "rows": 1
       }
      },
      "text/html": [
       "<div>\n",
       "<style scoped>\n",
       "    .dataframe tbody tr th:only-of-type {\n",
       "        vertical-align: middle;\n",
       "    }\n",
       "\n",
       "    .dataframe tbody tr th {\n",
       "        vertical-align: top;\n",
       "    }\n",
       "\n",
       "    .dataframe thead th {\n",
       "        text-align: right;\n",
       "    }\n",
       "</style>\n",
       "<table border=\"1\" class=\"dataframe\">\n",
       "  <thead>\n",
       "    <tr style=\"text-align: right;\">\n",
       "      <th></th>\n",
       "      <th>verified_ratings</th>\n",
       "      <th>main_category</th>\n",
       "    </tr>\n",
       "  </thead>\n",
       "  <tbody>\n",
       "    <tr>\n",
       "      <th>1836</th>\n",
       "      <td>69.0</td>\n",
       "      <td>Gaming</td>\n",
       "    </tr>\n",
       "  </tbody>\n",
       "</table>\n",
       "</div>"
      ],
      "text/plain": [
       "      verified_ratings main_category\n",
       "1836              69.0        Gaming"
      ]
     },
     "metadata": {},
     "output_type": "display_data"
    },
    {
     "name": "stdout",
     "output_type": "stream",
     "text": [
      "Category: Garden & Outdoors, Outliers: 5\n"
     ]
    },
    {
     "data": {
      "application/vnd.microsoft.datawrangler.viewer.v0+json": {
       "columns": [
        {
         "name": "index",
         "rawType": "int64",
         "type": "integer"
        },
        {
         "name": "verified_ratings",
         "rawType": "float64",
         "type": "float"
        },
        {
         "name": "main_category",
         "rawType": "object",
         "type": "string"
        }
       ],
       "ref": "4b8e58b9-c4bd-420a-b6bc-543eaf004832",
       "rows": [
        [
         "1153",
         "42.0",
         "Garden & Outdoors"
        ],
        [
         "1222",
         "35.0",
         "Garden & Outdoors"
        ],
        [
         "1542",
         "37.0",
         "Garden & Outdoors"
        ],
        [
         "1666",
         "49.0",
         "Garden & Outdoors"
        ],
        [
         "1910",
         "31.0",
         "Garden & Outdoors"
        ]
       ],
       "shape": {
        "columns": 2,
        "rows": 5
       }
      },
      "text/html": [
       "<div>\n",
       "<style scoped>\n",
       "    .dataframe tbody tr th:only-of-type {\n",
       "        vertical-align: middle;\n",
       "    }\n",
       "\n",
       "    .dataframe tbody tr th {\n",
       "        vertical-align: top;\n",
       "    }\n",
       "\n",
       "    .dataframe thead th {\n",
       "        text-align: right;\n",
       "    }\n",
       "</style>\n",
       "<table border=\"1\" class=\"dataframe\">\n",
       "  <thead>\n",
       "    <tr style=\"text-align: right;\">\n",
       "      <th></th>\n",
       "      <th>verified_ratings</th>\n",
       "      <th>main_category</th>\n",
       "    </tr>\n",
       "  </thead>\n",
       "  <tbody>\n",
       "    <tr>\n",
       "      <th>1153</th>\n",
       "      <td>42.0</td>\n",
       "      <td>Garden &amp; Outdoors</td>\n",
       "    </tr>\n",
       "    <tr>\n",
       "      <th>1222</th>\n",
       "      <td>35.0</td>\n",
       "      <td>Garden &amp; Outdoors</td>\n",
       "    </tr>\n",
       "    <tr>\n",
       "      <th>1542</th>\n",
       "      <td>37.0</td>\n",
       "      <td>Garden &amp; Outdoors</td>\n",
       "    </tr>\n",
       "    <tr>\n",
       "      <th>1666</th>\n",
       "      <td>49.0</td>\n",
       "      <td>Garden &amp; Outdoors</td>\n",
       "    </tr>\n",
       "    <tr>\n",
       "      <th>1910</th>\n",
       "      <td>31.0</td>\n",
       "      <td>Garden &amp; Outdoors</td>\n",
       "    </tr>\n",
       "  </tbody>\n",
       "</table>\n",
       "</div>"
      ],
      "text/plain": [
       "      verified_ratings      main_category\n",
       "1153              42.0  Garden & Outdoors\n",
       "1222              35.0  Garden & Outdoors\n",
       "1542              37.0  Garden & Outdoors\n",
       "1666              49.0  Garden & Outdoors\n",
       "1910              31.0  Garden & Outdoors"
      ]
     },
     "metadata": {},
     "output_type": "display_data"
    },
    {
     "name": "stdout",
     "output_type": "stream",
     "text": [
      "Category: Grocery, Outliers: 2\n"
     ]
    },
    {
     "data": {
      "application/vnd.microsoft.datawrangler.viewer.v0+json": {
       "columns": [
        {
         "name": "index",
         "rawType": "int64",
         "type": "integer"
        },
        {
         "name": "verified_ratings",
         "rawType": "float64",
         "type": "float"
        },
        {
         "name": "main_category",
         "rawType": "object",
         "type": "string"
        }
       ],
       "ref": "aa38bace-b620-45d3-870e-03e853a3011c",
       "rows": [
        [
         "198",
         "1587.0",
         "Grocery"
        ],
        [
         "1224",
         "1711.0",
         "Grocery"
        ]
       ],
       "shape": {
        "columns": 2,
        "rows": 2
       }
      },
      "text/html": [
       "<div>\n",
       "<style scoped>\n",
       "    .dataframe tbody tr th:only-of-type {\n",
       "        vertical-align: middle;\n",
       "    }\n",
       "\n",
       "    .dataframe tbody tr th {\n",
       "        vertical-align: top;\n",
       "    }\n",
       "\n",
       "    .dataframe thead th {\n",
       "        text-align: right;\n",
       "    }\n",
       "</style>\n",
       "<table border=\"1\" class=\"dataframe\">\n",
       "  <thead>\n",
       "    <tr style=\"text-align: right;\">\n",
       "      <th></th>\n",
       "      <th>verified_ratings</th>\n",
       "      <th>main_category</th>\n",
       "    </tr>\n",
       "  </thead>\n",
       "  <tbody>\n",
       "    <tr>\n",
       "      <th>198</th>\n",
       "      <td>1587.0</td>\n",
       "      <td>Grocery</td>\n",
       "    </tr>\n",
       "    <tr>\n",
       "      <th>1224</th>\n",
       "      <td>1711.0</td>\n",
       "      <td>Grocery</td>\n",
       "    </tr>\n",
       "  </tbody>\n",
       "</table>\n",
       "</div>"
      ],
      "text/plain": [
       "      verified_ratings main_category\n",
       "198             1587.0       Grocery\n",
       "1224            1711.0       Grocery"
      ]
     },
     "metadata": {},
     "output_type": "display_data"
    },
    {
     "name": "stdout",
     "output_type": "stream",
     "text": [
      "Category: Health & Beauty, Outliers: 59\n"
     ]
    },
    {
     "data": {
      "application/vnd.microsoft.datawrangler.viewer.v0+json": {
       "columns": [
        {
         "name": "index",
         "rawType": "int64",
         "type": "integer"
        },
        {
         "name": "verified_ratings",
         "rawType": "float64",
         "type": "float"
        },
        {
         "name": "main_category",
         "rawType": "object",
         "type": "string"
        }
       ],
       "ref": "ff5bfabf-1573-40bb-8d70-c4322e52dafe",
       "rows": [
        [
         "6",
         "1312.0",
         "Health & Beauty"
        ],
        [
         "10",
         "1082.0",
         "Health & Beauty"
        ],
        [
         "11",
         "2165.0",
         "Health & Beauty"
        ],
        [
         "15",
         "3255.0",
         "Health & Beauty"
        ],
        [
         "17",
         "419.0",
         "Health & Beauty"
        ]
       ],
       "shape": {
        "columns": 2,
        "rows": 5
       }
      },
      "text/html": [
       "<div>\n",
       "<style scoped>\n",
       "    .dataframe tbody tr th:only-of-type {\n",
       "        vertical-align: middle;\n",
       "    }\n",
       "\n",
       "    .dataframe tbody tr th {\n",
       "        vertical-align: top;\n",
       "    }\n",
       "\n",
       "    .dataframe thead th {\n",
       "        text-align: right;\n",
       "    }\n",
       "</style>\n",
       "<table border=\"1\" class=\"dataframe\">\n",
       "  <thead>\n",
       "    <tr style=\"text-align: right;\">\n",
       "      <th></th>\n",
       "      <th>verified_ratings</th>\n",
       "      <th>main_category</th>\n",
       "    </tr>\n",
       "  </thead>\n",
       "  <tbody>\n",
       "    <tr>\n",
       "      <th>6</th>\n",
       "      <td>1312.0</td>\n",
       "      <td>Health &amp; Beauty</td>\n",
       "    </tr>\n",
       "    <tr>\n",
       "      <th>10</th>\n",
       "      <td>1082.0</td>\n",
       "      <td>Health &amp; Beauty</td>\n",
       "    </tr>\n",
       "    <tr>\n",
       "      <th>11</th>\n",
       "      <td>2165.0</td>\n",
       "      <td>Health &amp; Beauty</td>\n",
       "    </tr>\n",
       "    <tr>\n",
       "      <th>15</th>\n",
       "      <td>3255.0</td>\n",
       "      <td>Health &amp; Beauty</td>\n",
       "    </tr>\n",
       "    <tr>\n",
       "      <th>17</th>\n",
       "      <td>419.0</td>\n",
       "      <td>Health &amp; Beauty</td>\n",
       "    </tr>\n",
       "  </tbody>\n",
       "</table>\n",
       "</div>"
      ],
      "text/plain": [
       "    verified_ratings    main_category\n",
       "6             1312.0  Health & Beauty\n",
       "10            1082.0  Health & Beauty\n",
       "11            2165.0  Health & Beauty\n",
       "15            3255.0  Health & Beauty\n",
       "17             419.0  Health & Beauty"
      ]
     },
     "metadata": {},
     "output_type": "display_data"
    },
    {
     "name": "stdout",
     "output_type": "stream",
     "text": [
      "Category: Home & Office, Outliers: 60\n"
     ]
    },
    {
     "data": {
      "application/vnd.microsoft.datawrangler.viewer.v0+json": {
       "columns": [
        {
         "name": "index",
         "rawType": "int64",
         "type": "integer"
        },
        {
         "name": "verified_ratings",
         "rawType": "float64",
         "type": "float"
        },
        {
         "name": "main_category",
         "rawType": "object",
         "type": "string"
        }
       ],
       "ref": "fb41c0a3-9f6f-4b01-a64c-dee64c04963c",
       "rows": [
        [
         "0",
         "3867.0",
         "Home & Office"
        ],
        [
         "3",
         "2092.0",
         "Home & Office"
        ],
        [
         "5",
         "3891.0",
         "Home & Office"
        ],
        [
         "7",
         "1164.0",
         "Home & Office"
        ],
        [
         "9",
         "1919.0",
         "Home & Office"
        ]
       ],
       "shape": {
        "columns": 2,
        "rows": 5
       }
      },
      "text/html": [
       "<div>\n",
       "<style scoped>\n",
       "    .dataframe tbody tr th:only-of-type {\n",
       "        vertical-align: middle;\n",
       "    }\n",
       "\n",
       "    .dataframe tbody tr th {\n",
       "        vertical-align: top;\n",
       "    }\n",
       "\n",
       "    .dataframe thead th {\n",
       "        text-align: right;\n",
       "    }\n",
       "</style>\n",
       "<table border=\"1\" class=\"dataframe\">\n",
       "  <thead>\n",
       "    <tr style=\"text-align: right;\">\n",
       "      <th></th>\n",
       "      <th>verified_ratings</th>\n",
       "      <th>main_category</th>\n",
       "    </tr>\n",
       "  </thead>\n",
       "  <tbody>\n",
       "    <tr>\n",
       "      <th>0</th>\n",
       "      <td>3867.0</td>\n",
       "      <td>Home &amp; Office</td>\n",
       "    </tr>\n",
       "    <tr>\n",
       "      <th>3</th>\n",
       "      <td>2092.0</td>\n",
       "      <td>Home &amp; Office</td>\n",
       "    </tr>\n",
       "    <tr>\n",
       "      <th>5</th>\n",
       "      <td>3891.0</td>\n",
       "      <td>Home &amp; Office</td>\n",
       "    </tr>\n",
       "    <tr>\n",
       "      <th>7</th>\n",
       "      <td>1164.0</td>\n",
       "      <td>Home &amp; Office</td>\n",
       "    </tr>\n",
       "    <tr>\n",
       "      <th>9</th>\n",
       "      <td>1919.0</td>\n",
       "      <td>Home &amp; Office</td>\n",
       "    </tr>\n",
       "  </tbody>\n",
       "</table>\n",
       "</div>"
      ],
      "text/plain": [
       "   verified_ratings  main_category\n",
       "0            3867.0  Home & Office\n",
       "3            2092.0  Home & Office\n",
       "5            3891.0  Home & Office\n",
       "7            1164.0  Home & Office\n",
       "9            1919.0  Home & Office"
      ]
     },
     "metadata": {},
     "output_type": "display_data"
    },
    {
     "name": "stdout",
     "output_type": "stream",
     "text": [
      "Category: Industrial & Scientific, Outliers: 3\n"
     ]
    },
    {
     "data": {
      "application/vnd.microsoft.datawrangler.viewer.v0+json": {
       "columns": [
        {
         "name": "index",
         "rawType": "int64",
         "type": "integer"
        },
        {
         "name": "verified_ratings",
         "rawType": "float64",
         "type": "float"
        },
        {
         "name": "main_category",
         "rawType": "object",
         "type": "string"
        }
       ],
       "ref": "ccf4303f-601e-4de5-9f48-39633a15f701",
       "rows": [
        [
         "565",
         "494.0",
         "Industrial & Scientific"
        ],
        [
         "754",
         "19.0",
         "Industrial & Scientific"
        ],
        [
         "1485",
         "64.0",
         "Industrial & Scientific"
        ]
       ],
       "shape": {
        "columns": 2,
        "rows": 3
       }
      },
      "text/html": [
       "<div>\n",
       "<style scoped>\n",
       "    .dataframe tbody tr th:only-of-type {\n",
       "        vertical-align: middle;\n",
       "    }\n",
       "\n",
       "    .dataframe tbody tr th {\n",
       "        vertical-align: top;\n",
       "    }\n",
       "\n",
       "    .dataframe thead th {\n",
       "        text-align: right;\n",
       "    }\n",
       "</style>\n",
       "<table border=\"1\" class=\"dataframe\">\n",
       "  <thead>\n",
       "    <tr style=\"text-align: right;\">\n",
       "      <th></th>\n",
       "      <th>verified_ratings</th>\n",
       "      <th>main_category</th>\n",
       "    </tr>\n",
       "  </thead>\n",
       "  <tbody>\n",
       "    <tr>\n",
       "      <th>565</th>\n",
       "      <td>494.0</td>\n",
       "      <td>Industrial &amp; Scientific</td>\n",
       "    </tr>\n",
       "    <tr>\n",
       "      <th>754</th>\n",
       "      <td>19.0</td>\n",
       "      <td>Industrial &amp; Scientific</td>\n",
       "    </tr>\n",
       "    <tr>\n",
       "      <th>1485</th>\n",
       "      <td>64.0</td>\n",
       "      <td>Industrial &amp; Scientific</td>\n",
       "    </tr>\n",
       "  </tbody>\n",
       "</table>\n",
       "</div>"
      ],
      "text/plain": [
       "      verified_ratings            main_category\n",
       "565              494.0  Industrial & Scientific\n",
       "754               19.0  Industrial & Scientific\n",
       "1485              64.0  Industrial & Scientific"
      ]
     },
     "metadata": {},
     "output_type": "display_data"
    },
    {
     "name": "stdout",
     "output_type": "stream",
     "text": [
      "Category: Musical Instruments, Outliers: 2\n"
     ]
    },
    {
     "data": {
      "application/vnd.microsoft.datawrangler.viewer.v0+json": {
       "columns": [
        {
         "name": "index",
         "rawType": "int64",
         "type": "integer"
        },
        {
         "name": "verified_ratings",
         "rawType": "float64",
         "type": "float"
        },
        {
         "name": "main_category",
         "rawType": "object",
         "type": "string"
        }
       ],
       "ref": "774b09f2-e24d-46c9-a983-7f71fd82e8ff",
       "rows": [
        [
         "1947",
         "36.0",
         "Musical Instruments"
        ],
        [
         "1986",
         "50.0",
         "Musical Instruments"
        ]
       ],
       "shape": {
        "columns": 2,
        "rows": 2
       }
      },
      "text/html": [
       "<div>\n",
       "<style scoped>\n",
       "    .dataframe tbody tr th:only-of-type {\n",
       "        vertical-align: middle;\n",
       "    }\n",
       "\n",
       "    .dataframe tbody tr th {\n",
       "        vertical-align: top;\n",
       "    }\n",
       "\n",
       "    .dataframe thead th {\n",
       "        text-align: right;\n",
       "    }\n",
       "</style>\n",
       "<table border=\"1\" class=\"dataframe\">\n",
       "  <thead>\n",
       "    <tr style=\"text-align: right;\">\n",
       "      <th></th>\n",
       "      <th>verified_ratings</th>\n",
       "      <th>main_category</th>\n",
       "    </tr>\n",
       "  </thead>\n",
       "  <tbody>\n",
       "    <tr>\n",
       "      <th>1947</th>\n",
       "      <td>36.0</td>\n",
       "      <td>Musical Instruments</td>\n",
       "    </tr>\n",
       "    <tr>\n",
       "      <th>1986</th>\n",
       "      <td>50.0</td>\n",
       "      <td>Musical Instruments</td>\n",
       "    </tr>\n",
       "  </tbody>\n",
       "</table>\n",
       "</div>"
      ],
      "text/plain": [
       "      verified_ratings        main_category\n",
       "1947              36.0  Musical Instruments\n",
       "1986              50.0  Musical Instruments"
      ]
     },
     "metadata": {},
     "output_type": "display_data"
    },
    {
     "name": "stdout",
     "output_type": "stream",
     "text": [
      "Category: Pet Supplies, Outliers: 2\n"
     ]
    },
    {
     "data": {
      "application/vnd.microsoft.datawrangler.viewer.v0+json": {
       "columns": [
        {
         "name": "index",
         "rawType": "int64",
         "type": "integer"
        },
        {
         "name": "verified_ratings",
         "rawType": "float64",
         "type": "float"
        },
        {
         "name": "main_category",
         "rawType": "object",
         "type": "string"
        }
       ],
       "ref": "769fd56b-3bb5-48d8-9e4c-f045436ab0bd",
       "rows": [
        [
         "1388",
         "27.0",
         "Pet Supplies"
        ],
        [
         "1752",
         "17.0",
         "Pet Supplies"
        ]
       ],
       "shape": {
        "columns": 2,
        "rows": 2
       }
      },
      "text/html": [
       "<div>\n",
       "<style scoped>\n",
       "    .dataframe tbody tr th:only-of-type {\n",
       "        vertical-align: middle;\n",
       "    }\n",
       "\n",
       "    .dataframe tbody tr th {\n",
       "        vertical-align: top;\n",
       "    }\n",
       "\n",
       "    .dataframe thead th {\n",
       "        text-align: right;\n",
       "    }\n",
       "</style>\n",
       "<table border=\"1\" class=\"dataframe\">\n",
       "  <thead>\n",
       "    <tr style=\"text-align: right;\">\n",
       "      <th></th>\n",
       "      <th>verified_ratings</th>\n",
       "      <th>main_category</th>\n",
       "    </tr>\n",
       "  </thead>\n",
       "  <tbody>\n",
       "    <tr>\n",
       "      <th>1388</th>\n",
       "      <td>27.0</td>\n",
       "      <td>Pet Supplies</td>\n",
       "    </tr>\n",
       "    <tr>\n",
       "      <th>1752</th>\n",
       "      <td>17.0</td>\n",
       "      <td>Pet Supplies</td>\n",
       "    </tr>\n",
       "  </tbody>\n",
       "</table>\n",
       "</div>"
      ],
      "text/plain": [
       "      verified_ratings main_category\n",
       "1388              27.0  Pet Supplies\n",
       "1752              17.0  Pet Supplies"
      ]
     },
     "metadata": {},
     "output_type": "display_data"
    },
    {
     "name": "stdout",
     "output_type": "stream",
     "text": [
      "Category: Phones & Tablets, Outliers: 48\n"
     ]
    },
    {
     "data": {
      "application/vnd.microsoft.datawrangler.viewer.v0+json": {
       "columns": [
        {
         "name": "index",
         "rawType": "int64",
         "type": "integer"
        },
        {
         "name": "verified_ratings",
         "rawType": "float64",
         "type": "float"
        },
        {
         "name": "main_category",
         "rawType": "object",
         "type": "string"
        }
       ],
       "ref": "03e10b9a-204a-4f83-8e09-b79b6d882aee",
       "rows": [
        [
         "1",
         "557.0",
         "Phones & Tablets"
        ],
        [
         "2",
         "523.0",
         "Phones & Tablets"
        ],
        [
         "99",
         "4080.0",
         "Phones & Tablets"
        ],
        [
         "101",
         "2866.0",
         "Phones & Tablets"
        ],
        [
         "104",
         "296.0",
         "Phones & Tablets"
        ]
       ],
       "shape": {
        "columns": 2,
        "rows": 5
       }
      },
      "text/html": [
       "<div>\n",
       "<style scoped>\n",
       "    .dataframe tbody tr th:only-of-type {\n",
       "        vertical-align: middle;\n",
       "    }\n",
       "\n",
       "    .dataframe tbody tr th {\n",
       "        vertical-align: top;\n",
       "    }\n",
       "\n",
       "    .dataframe thead th {\n",
       "        text-align: right;\n",
       "    }\n",
       "</style>\n",
       "<table border=\"1\" class=\"dataframe\">\n",
       "  <thead>\n",
       "    <tr style=\"text-align: right;\">\n",
       "      <th></th>\n",
       "      <th>verified_ratings</th>\n",
       "      <th>main_category</th>\n",
       "    </tr>\n",
       "  </thead>\n",
       "  <tbody>\n",
       "    <tr>\n",
       "      <th>1</th>\n",
       "      <td>557.0</td>\n",
       "      <td>Phones &amp; Tablets</td>\n",
       "    </tr>\n",
       "    <tr>\n",
       "      <th>2</th>\n",
       "      <td>523.0</td>\n",
       "      <td>Phones &amp; Tablets</td>\n",
       "    </tr>\n",
       "    <tr>\n",
       "      <th>99</th>\n",
       "      <td>4080.0</td>\n",
       "      <td>Phones &amp; Tablets</td>\n",
       "    </tr>\n",
       "    <tr>\n",
       "      <th>101</th>\n",
       "      <td>2866.0</td>\n",
       "      <td>Phones &amp; Tablets</td>\n",
       "    </tr>\n",
       "    <tr>\n",
       "      <th>104</th>\n",
       "      <td>296.0</td>\n",
       "      <td>Phones &amp; Tablets</td>\n",
       "    </tr>\n",
       "  </tbody>\n",
       "</table>\n",
       "</div>"
      ],
      "text/plain": [
       "     verified_ratings     main_category\n",
       "1               557.0  Phones & Tablets\n",
       "2               523.0  Phones & Tablets\n",
       "99             4080.0  Phones & Tablets\n",
       "101            2866.0  Phones & Tablets\n",
       "104             296.0  Phones & Tablets"
      ]
     },
     "metadata": {},
     "output_type": "display_data"
    },
    {
     "name": "stdout",
     "output_type": "stream",
     "text": [
      "Category: Sporting Goods, Outliers: 1\n"
     ]
    },
    {
     "data": {
      "application/vnd.microsoft.datawrangler.viewer.v0+json": {
       "columns": [
        {
         "name": "index",
         "rawType": "int64",
         "type": "integer"
        },
        {
         "name": "verified_ratings",
         "rawType": "float64",
         "type": "float"
        },
        {
         "name": "main_category",
         "rawType": "object",
         "type": "string"
        }
       ],
       "ref": "f63ed4c8-2ebc-44f0-92b8-a0039cb51d6f",
       "rows": [
        [
         "1209",
         "195.0",
         "Sporting Goods"
        ]
       ],
       "shape": {
        "columns": 2,
        "rows": 1
       }
      },
      "text/html": [
       "<div>\n",
       "<style scoped>\n",
       "    .dataframe tbody tr th:only-of-type {\n",
       "        vertical-align: middle;\n",
       "    }\n",
       "\n",
       "    .dataframe tbody tr th {\n",
       "        vertical-align: top;\n",
       "    }\n",
       "\n",
       "    .dataframe thead th {\n",
       "        text-align: right;\n",
       "    }\n",
       "</style>\n",
       "<table border=\"1\" class=\"dataframe\">\n",
       "  <thead>\n",
       "    <tr style=\"text-align: right;\">\n",
       "      <th></th>\n",
       "      <th>verified_ratings</th>\n",
       "      <th>main_category</th>\n",
       "    </tr>\n",
       "  </thead>\n",
       "  <tbody>\n",
       "    <tr>\n",
       "      <th>1209</th>\n",
       "      <td>195.0</td>\n",
       "      <td>Sporting Goods</td>\n",
       "    </tr>\n",
       "  </tbody>\n",
       "</table>\n",
       "</div>"
      ],
      "text/plain": [
       "      verified_ratings   main_category\n",
       "1209             195.0  Sporting Goods"
      ]
     },
     "metadata": {},
     "output_type": "display_data"
    },
    {
     "name": "stdout",
     "output_type": "stream",
     "text": [
      "Category: Toys & Games, Outliers: 4\n"
     ]
    },
    {
     "data": {
      "application/vnd.microsoft.datawrangler.viewer.v0+json": {
       "columns": [
        {
         "name": "index",
         "rawType": "int64",
         "type": "integer"
        },
        {
         "name": "verified_ratings",
         "rawType": "float64",
         "type": "float"
        },
        {
         "name": "main_category",
         "rawType": "object",
         "type": "string"
        }
       ],
       "ref": "936907f9-0496-4752-ae6a-7ffd568a2627",
       "rows": [
        [
         "58",
         "104.0",
         "Toys & Games"
        ],
        [
         "348",
         "50.0",
         "Toys & Games"
        ],
        [
         "541",
         "8.0",
         "Toys & Games"
        ],
        [
         "748",
         "8.0",
         "Toys & Games"
        ]
       ],
       "shape": {
        "columns": 2,
        "rows": 4
       }
      },
      "text/html": [
       "<div>\n",
       "<style scoped>\n",
       "    .dataframe tbody tr th:only-of-type {\n",
       "        vertical-align: middle;\n",
       "    }\n",
       "\n",
       "    .dataframe tbody tr th {\n",
       "        vertical-align: top;\n",
       "    }\n",
       "\n",
       "    .dataframe thead th {\n",
       "        text-align: right;\n",
       "    }\n",
       "</style>\n",
       "<table border=\"1\" class=\"dataframe\">\n",
       "  <thead>\n",
       "    <tr style=\"text-align: right;\">\n",
       "      <th></th>\n",
       "      <th>verified_ratings</th>\n",
       "      <th>main_category</th>\n",
       "    </tr>\n",
       "  </thead>\n",
       "  <tbody>\n",
       "    <tr>\n",
       "      <th>58</th>\n",
       "      <td>104.0</td>\n",
       "      <td>Toys &amp; Games</td>\n",
       "    </tr>\n",
       "    <tr>\n",
       "      <th>348</th>\n",
       "      <td>50.0</td>\n",
       "      <td>Toys &amp; Games</td>\n",
       "    </tr>\n",
       "    <tr>\n",
       "      <th>541</th>\n",
       "      <td>8.0</td>\n",
       "      <td>Toys &amp; Games</td>\n",
       "    </tr>\n",
       "    <tr>\n",
       "      <th>748</th>\n",
       "      <td>8.0</td>\n",
       "      <td>Toys &amp; Games</td>\n",
       "    </tr>\n",
       "  </tbody>\n",
       "</table>\n",
       "</div>"
      ],
      "text/plain": [
       "     verified_ratings main_category\n",
       "58              104.0  Toys & Games\n",
       "348              50.0  Toys & Games\n",
       "541               8.0  Toys & Games\n",
       "748               8.0  Toys & Games"
      ]
     },
     "metadata": {},
     "output_type": "display_data"
    }
   ],
   "source": [
    "numeric_cols = ['current_price', 'original_price', 'verified_ratings']\n",
    "\n",
    "# Loop through numeric columns and detect outliers within each main_category\n",
    "for col in numeric_cols:\n",
    "    print(f\"\\nChecking outliers for column: {col}\\n\")\n",
    "    for category, group in data.groupby('main_category'):\n",
    "        Q1 = group[col].quantile(0.25)\n",
    "        Q3 = group[col].quantile(0.75)\n",
    "        IQR = Q3 - Q1\n",
    "        lower = Q1 - 1.5 * IQR\n",
    "        upper = Q3 + 1.5 * IQR\n",
    "        \n",
    "        outliers = group[(group[col] < lower) | (group[col] > upper)]\n",
    "        \n",
    "        if not outliers.empty:\n",
    "            print(f\"Category: {category}, Outliers: {outliers.shape[0]}\")\n",
    "            display(outliers[[col, 'main_category']].head(5))  # show 5 sample rows\n"
   ]
  },
  {
   "cell_type": "markdown",
   "id": "f83e5986-efa2-422c-be42-fe6b4a87a09e",
   "metadata": {},
   "source": [
    "### Numeric columns & Correlations computation"
   ]
  },
  {
   "cell_type": "code",
   "execution_count": 21,
   "id": "64c595be-8dc8-4054-9673-6b95ca9422e8",
   "metadata": {},
   "outputs": [
    {
     "data": {
      "image/png": "[encoded data removed]",
      "text/plain": [
       "<Figure size 800x600 with 2 Axes>"
      ]
     },
     "metadata": {},
     "output_type": "display_data"
    }
   ],
   "source": [
    "# Select relevant numeric columns\n",
    "num_cols = ['current_price', 'original_price', 'discount', 'rating_number', 'verified_ratings']\n",
    "\n",
    "corr = data[num_cols].corr()\n",
    "\n",
    "# Heatmap\n",
    "plt.figure(figsize=(8,6))\n",
    "sns.heatmap(corr, annot=True, cmap=\"coolwarm\", center=0, fmt=\".2f\")\n",
    "plt.title(\"Correlation Between Price, Discount, Ratings, and Reviews\")\n",
    "plt.show()\n"
   ]
  },
  {
   "cell_type": "markdown",
   "id": "faddbf12-2c43-424d-87c3-77c07957fb9e",
   "metadata": {},
   "source": [
    "#### This shows which features are positively/negatively correlated with current_price.\n",
    "\n",
    "- High positive correlation with original_price : current price is usually derived from the original price (discounted).\n",
    "\n",
    "- Correlation with discount : Discounts don’t strongly drive prices. This matches what we saw in scatterplots — discounts are more about marketing than actual price level.\n",
    "\n",
    "- Correlations with ratings or reviews : More expensive products don’t necessarily get higher ratings or more reviews. In fact, popularity tends to be for cheaper items, confirming what we saw earlier.\n",
    "\n",
    "- Discount vs Ratings / Reviews : Slight tendency for discounted products to attract more ratings, but the effect is very small.\n",
    "\n",
    "- Ratings vs Reviews : Makes sense, products with many reviews tend to also have higher rating averages, though not strongly."
   ]
  },
  {
   "cell_type": "markdown",
   "id": "f0a122fc-f025-4e60-9fd1-46b8124e0ed9",
   "metadata": {},
   "source": [
    "### % of Competitive Products per Category"
   ]
  },
  {
   "cell_type": "code",
   "execution_count": 22,
   "id": "64e546fe-2057-4dc1-823b-9f3e456106eb",
   "metadata": {},
   "outputs": [],
   "source": [
    "# Compute median price per category\n",
    "category_medians = data.groupby('main_category')['current_price'].median()\n",
    "\n",
    "# Define competitive product\n",
    "data['competitive'] = data.apply(\n",
    "    lambda row: 1 if (row['current_price'] <= category_medians[row['main_category']]) \n",
    "                   and (row['rating_number'] >= 4.0) \n",
    "                else 0, axis=1\n",
    ")\n"
   ]
  },
  {
   "cell_type": "code",
   "execution_count": 23,
   "id": "6cdd3115-252c-4c78-bd79-6faddb0dc327",
   "metadata": {},
   "outputs": [
    {
     "name": "stdout",
     "output_type": "stream",
     "text": [
      "main_category\n",
      "Grocery                    47.058824\n",
      "Computing                  32.673267\n",
      "Sporting Goods             31.250000\n",
      "Automobile                 29.729730\n",
      "Gaming                     28.571429\n",
      "Home & Office              28.165375\n",
      "Health & Beauty            26.506024\n",
      "Industrial & Scientific    26.086957\n",
      "Baby Products              23.076923\n",
      "Toys & Games               19.512195\n",
      "Electronics                18.539326\n",
      "Pet Supplies               18.181818\n",
      "Garden & Outdoors          16.279070\n",
      "Fashion                    14.245014\n",
      "Phones & Tablets           13.636364\n",
      "Books, Movies and Music    12.280702\n",
      "Musical Instruments         0.000000\n",
      "Name: competitive, dtype: float64\n"
     ]
    }
   ],
   "source": [
    "competitive_summary = data.groupby('main_category')['competitive'].mean() * 100\n",
    "print(competitive_summary.sort_values(ascending=False))"
   ]
  },
  {
   "cell_type": "markdown",
   "id": "28a8db7d-c191-4bb5-9fa0-09b5847bee40",
   "metadata": {},
   "source": [
    "We needed to know how products are well priced and rated compared to others in the same category.\n",
    "- For the price, median is a good measure of a “typical” price in each category. Using category-specific medians allows us to normalize comparisons across categories.\n",
    "- For rating we choose a high rate (≥ 4.0) to count as competitive.\n",
    "This combination balances **value for money** and **customer satisfaction.**\n",
    "\n",
    "### This is what the results mean for Grocery, Phones & Tablets, and Musical Instruments:\n",
    "**Grocery (47%)**\n",
    "- Nearly half of grocery items meet the competitive criteria.\n",
    "- This reflects a price-sensitive, crowded market where many sellers offer affordable, well-rated items.\n",
    "\n",
    "**Phones & Tablets (14%)**\n",
    "- Very few products are competitive.\n",
    "- This market is premium-driven: many devices are above median price, and only a small fraction combine affordability with strong ratings.\n",
    "  \n",
    "**Musical Instruments (0%)**\n",
    "- No products met the competitive definition.\n",
    "- Likely because this is a specialized niche market with high prices and fewer ratings."
   ]
  },
  {
   "cell_type": "markdown",
   "id": "0fad7695-c6ea-4fc4-b329-6db3a0e32890",
   "metadata": {},
   "source": [
    "### Relationship Between Price and  Discount, Ratings, & Reviews Using Graph"
   ]
  },
  {
   "cell_type": "code",
   "execution_count": 24,
   "id": "9ee27864-f3f8-4f49-be80-4c85272dfd2a",
   "metadata": {},
   "outputs": [
    {
     "data": {
      "image/png": "[encoded data removed]",
      "text/plain": [
       "<Figure size 1800x500 with 3 Axes>"
      ]
     },
     "metadata": {},
     "output_type": "display_data"
    }
   ],
   "source": [
    "# Ensure numeric types\n",
    "data['discount'] = pd.to_numeric(data['discount'], errors='coerce')\n",
    "data['current_price'] = pd.to_numeric(data['current_price'], errors='coerce')\n",
    "data['verified_ratings'] = pd.to_numeric(data['verified_ratings'], errors='coerce')\n",
    "data['rating_number'] = pd.to_numeric(data['rating_number'], errors='coerce')\n",
    "\n",
    "import matplotlib.pyplot as plt\n",
    "import seaborn as sns\n",
    "\n",
    "plt.figure(figsize=(18,5))\n",
    "\n",
    "# 1. Price vs Discount\n",
    "plt.subplot(1,3,1)\n",
    "sns.scatterplot(data=data, x='discount', y='current_price', alpha=0.5)\n",
    "plt.title(\"Price vs Discount\")\n",
    "plt.xlabel(\"Discount (%)\")\n",
    "plt.ylabel(\"Current Price (KSh)\")\n",
    "\n",
    "# 2. Price vs Ratings\n",
    "plt.subplot(1,3,2)\n",
    "sns.boxplot(data=data, x='rating_number', y='current_price')\n",
    "plt.title(\"Price vs Ratings\")\n",
    "plt.xlabel(\"Rating\")\n",
    "plt.ylabel(\"Current Price (KSh)\")\n",
    "\n",
    "# 3. Price vs Reviews\n",
    "plt.subplot(1,3,3)\n",
    "sns.scatterplot(data=data, x='verified_ratings', y='current_price', alpha=0.5)\n",
    "plt.xscale(\"log\")   # reviews are often skewed\n",
    "plt.title(\"Price vs Reviews (log scale)\")\n",
    "plt.xlabel(\"Verified Ratings\")\n",
    "plt.ylabel(\"Current Price (KSh)\")\n",
    "\n",
    "plt.tight_layout()\n",
    "plt.show()\n"
   ]
  },
  {
   "cell_type": "markdown",
   "id": "609fcba1-80c5-4f6b-b42a-816eaa02281a",
   "metadata": {},
   "source": [
    "We did the visualizations because we wanted to understand the relationships between Price and other key factors:\n",
    "\n",
    "- Discount (% off from original price)\n",
    "- Ratings (quality perception from customers)\n",
    "- Reviews (Verified Ratings) (popularity or trust from customer activity)\n",
    "The relationship help us know if:\n",
    "- bigger discounts actually lower prices.\n",
    "- higher-rated products are priced differently\n",
    "- popular items with many reviews sell at higher or lower prices\n",
    "This is critical for modeling & business insights, since price is central to competitiveness.\n",
    "### Interpretation of the graphs\n",
    "- Discounts are mostly applied to low/mid-priced products; discounts don’t directly correlate with higher prices.\n",
    "- Price doesn’t strongly depend on the rating score. A highly rated product isn’t necessarily more expensive; cheap products can also get high ratings.\n",
    "- Products with many reviews are usually affordable and accessible items, not premium/high-price ones. Popularity tends to go hand-in-hand with affordability."
   ]
  },
  {
   "cell_type": "markdown",
   "id": "c0902536-4b47-4499-b95e-617b15c928fe",
   "metadata": {},
   "source": []
  }
 ],
 "metadata": {
  "kernelspec": {
   "display_name": "clean_env",
   "language": "python",
   "name": "python3"
  },
  "language_info": {
   "codemirror_mode": {
    "name": "ipython",
    "version": 3
   },
   "file_extension": ".py",
   "mimetype": "text/x-python",
   "name": "python",
   "nbconvert_exporter": "python",
   "pygments_lexer": "ipython3",
   "version": "3.11.13"
  }
 },
 "nbformat": 4,
 "nbformat_minor": 5
}
